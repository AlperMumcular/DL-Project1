{
  "nbformat": 4,
  "nbformat_minor": 0,
  "metadata": {
    "colab": {
      "provenance": [],
      "gpuType": "A100"
    },
    "kernelspec": {
      "name": "python3",
      "display_name": "Python 3"
    },
    "language_info": {
      "name": "python"
    },
    "accelerator": "GPU"
  },
  "cells": [
    {
      "cell_type": "markdown",
      "source": [
        "This is our best scoring model, which got 0.87709 in public scoring"
      ],
      "metadata": {
        "id": "X1yMB-wEN6Uw"
      }
    },
    {
      "cell_type": "code",
      "source": [
        "import torch\n",
        "import torch.nn as nn\n",
        "import torch.nn.functional as F\n",
        "\n",
        "# Pre-activation basic block with optional dropout\n",
        "class PreActBlock(nn.Module):\n",
        "    expansion = 1  # Defines the expansion factor for residual connections (not used here)\n",
        "\n",
        "    def __init__(self, in_planes, out_planes, stride=1, drop_prob=0.0):\n",
        "        super().__init__()\n",
        "        # First batch normalization before convolution\n",
        "        self.bn1 = nn.BatchNorm2d(in_planes)\n",
        "        # First convolutional layer\n",
        "        self.conv1 = nn.Conv2d(in_planes, out_planes, kernel_size=3,\n",
        "                               stride=stride, padding=1, bias=False)\n",
        "        # Second batch normalization before second convolution\n",
        "        self.bn2 = nn.BatchNorm2d(out_planes)\n",
        "        # Second convolutional layer\n",
        "        self.conv2 = nn.Conv2d(out_planes, out_planes, kernel_size=3,\n",
        "                               stride=1, padding=1, bias=False)\n",
        "        self.drop_prob = drop_prob  # Dropout probability\n",
        "\n",
        "        # Shortcut connection for residual learning\n",
        "        if stride != 1 or in_planes != out_planes:\n",
        "            # If dimensions change, apply convolution to adjust shortcut\n",
        "            self.shortcut = nn.Conv2d(in_planes, out_planes, kernel_size=1,\n",
        "                                      stride=stride, bias=False)\n",
        "        else:\n",
        "            # Otherwise, identity shortcut\n",
        "            self.shortcut = nn.Identity()\n",
        "\n",
        "    def forward(self, x):\n",
        "        # First pre-activation with ReLU\n",
        "        out = F.relu(self.bn1(x))\n",
        "        # Adjust shortcut path if needed\n",
        "        shortcut = self.shortcut(out) if not isinstance(self.shortcut, nn.Identity) else x\n",
        "        # First convolution\n",
        "        out = self.conv1(out)\n",
        "        # Second pre-activation with ReLU\n",
        "        out = F.relu(self.bn2(out))\n",
        "        # Apply dropout if specified\n",
        "        if self.drop_prob > 0:\n",
        "            out = F.dropout(out, p=self.drop_prob, training=self.training)\n",
        "        # Second convolution\n",
        "        out = self.conv2(out)\n",
        "        # Add shortcut for residual learning\n",
        "        out += shortcut\n",
        "        return out\n",
        "\n",
        "# RobustResNet64-like model for CIFAR-like images.\n",
        "# Total layers: 1 conv + 3 groups * (2 convs per block * 10 blocks) + final FC = 1 + 60 + 1 = 62 layers.\n",
        "class RobustResNet64(nn.Module):\n",
        "    def __init__(self, num_blocks=10, base_channels=32, num_classes=10, drop_prob=0.1):\n",
        "        super().__init__()\n",
        "        self.in_planes = base_channels\n",
        "        # Initial convolution for feature extraction\n",
        "        self.conv1 = nn.Conv2d(3, base_channels, kernel_size=3, stride=1,\n",
        "                               padding=1, bias=False)\n",
        "\n",
        "        # Three groups of residual blocks\n",
        "        self.layer1 = self._make_layer(base_channels, num_blocks, stride=1, drop_prob=drop_prob)\n",
        "        self.layer2 = self._make_layer(base_channels * 2, num_blocks, stride=2, drop_prob=drop_prob)\n",
        "        self.layer3 = self._make_layer(base_channels * 4, num_blocks, stride=2, drop_prob=drop_prob)\n",
        "\n",
        "        # Final batch normalization before fully connected layer\n",
        "        self.bn = nn.BatchNorm2d(base_channels * 4)\n",
        "        self.linear = nn.Linear(base_channels * 4, num_classes)\n",
        "\n",
        "        # Weight initialization following best practices\n",
        "        for m in self.modules():\n",
        "            if isinstance(m, nn.Conv2d):\n",
        "                nn.init.kaiming_normal_(m.weight, mode='fan_out', nonlinearity='relu')\n",
        "            elif isinstance(m, nn.BatchNorm2d):\n",
        "                nn.init.constant_(m.weight, 1)\n",
        "                nn.init.constant_(m.bias, 0)\n",
        "            elif isinstance(m, nn.Linear):\n",
        "                nn.init.normal_(m.weight, 0, 0.01)\n",
        "                nn.init.constant_(m.bias, 0)\n",
        "\n",
        "    # Helper function to create multiple residual blocks in each layer\n",
        "    def _make_layer(self, out_planes, blocks, stride, drop_prob):\n",
        "        layers = []\n",
        "        # First block may include downsampling\n",
        "        layers.append(PreActBlock(self.in_planes, out_planes, stride=stride, drop_prob=drop_prob))\n",
        "        self.in_planes = out_planes\n",
        "        # Remaining blocks retain the same dimensions\n",
        "        for _ in range(1, blocks):\n",
        "            layers.append(PreActBlock(self.in_planes, out_planes, stride=1, drop_prob=drop_prob))\n",
        "        return nn.Sequential(*layers)\n",
        "\n",
        "    def forward(self, x):\n",
        "        out = self.conv1(x)\n",
        "        out = self.layer1(out)\n",
        "        out = self.layer2(out)\n",
        "        out = self.layer3(out)\n",
        "        # Final batch normalization and ReLU\n",
        "        out = F.relu(self.bn(out))\n",
        "        # Global average pooling before final fully connected layer\n",
        "        out = F.adaptive_avg_pool2d(out, 1).view(out.size(0), -1)\n",
        "        out = self.linear(out)\n",
        "        return out\n",
        "\n",
        "if __name__ == \"__main__\":\n",
        "    # Create an instance of the model\n",
        "    model = RobustResNet64(num_blocks=10, base_channels=32, num_classes=10, drop_prob=0.1)\n",
        "    # Dummy input for testing (e.g., CIFAR images with size 32x32)\n",
        "    x = torch.randn(2, 3, 32, 32)\n",
        "    y = model(x)\n",
        "    print(\"Output shape:\", y.shape)\n",
        "    # Display total trainable parameters in the model\n",
        "    total_params = sum(p.numel() for p in model.parameters() if p.requires_grad)\n",
        "    print(f\"Total trainable parameters: {total_params:,} (~{total_params/1e6:.2f}M)\")"
      ],
      "metadata": {
        "colab": {
          "base_uri": "https://localhost:8080/"
        },
        "id": "X70034zUlMmV",
        "outputId": "49d27e29-e48c-41ba-8753-7c90edd7e80c"
      },
      "execution_count": null,
      "outputs": [
        {
          "output_type": "stream",
          "name": "stdout",
          "text": [
            "Output shape: torch.Size([2, 10])\n",
            "Total trainable parameters: 3,799,978 (~3.80M)\n"
          ]
        }
      ]
    },
    {
      "cell_type": "code",
      "source": [
        "# train.py\n",
        "import torch\n",
        "import torch.nn as nn\n",
        "import torch.optim as optim\n",
        "import torchvision.transforms as transforms\n",
        "from torchvision import datasets\n",
        "import numpy as np\n",
        "import pickle\n",
        "from torch.utils.data import DataLoader, Dataset\n",
        "from PIL import Image\n",
        "#from model import LightResNet18\n",
        "from tqdm import tqdm\n",
        "\n",
        "# Custom collate function for MixUp and CutMix augmentations\n",
        "def rand_bbox(size, lam):\n",
        "    # Calculate the bounding box size based on lambda\n",
        "    W = size[3]\n",
        "    H = size[2]\n",
        "    cut_rat = np.sqrt(1. - lam)\n",
        "    cut_w = int(W * cut_rat)\n",
        "    cut_h = int(H * cut_rat)\n",
        "\n",
        "    # Randomly pick the center of the bounding box\n",
        "    cx = np.random.randint(W)\n",
        "    cy = np.random.randint(H)\n",
        "\n",
        "    # Ensure bounding box is within the image bounds\n",
        "    bbx1 = np.clip(cx - cut_w // 2, 0, W)\n",
        "    bby1 = np.clip(cy - cut_h // 2, 0, H)\n",
        "    bbx2 = np.clip(cx + cut_w // 2, 0, W)\n",
        "    bby2 = np.clip(cy + cut_h // 2, 0, H)\n",
        "    return bbx1, bby1, bbx2, bby2\n",
        "\n",
        "# MixUp data augmentation: linearly interpolates between two examples\n",
        "def mixup_data(x, y, alpha=1.0):\n",
        "    lam = np.random.beta(alpha, alpha)\n",
        "    batch_size = x.size(0)\n",
        "    index = torch.randperm(batch_size)\n",
        "    mixed_x = lam * x + (1 - lam) * x[index, :]\n",
        "    y_a, y_b = y, y[index]\n",
        "    return mixed_x, y_a, y_b, lam\n",
        "\n",
        "# CutMix data augmentation: replaces a portion of one image with a portion from another\n",
        "def cutmix_data(x, y, alpha=1.0):\n",
        "    lam = np.random.beta(alpha, alpha)\n",
        "    batch_size = x.size(0)\n",
        "    index = torch.randperm(batch_size)\n",
        "    bbx1, bby1, bbx2, bby2 = rand_bbox(x.size(), lam)\n",
        "    # Swap portions of images\n",
        "    x[:, :, bby1:bby2, bbx1:bbx2] = x[index, :, bby1:bby2, bbx1:bbx2]\n",
        "    lam = 1 - ((bbx2 - bbx1) * (bby2 - bby1) / (x.size(-1) * x.size(-2)))\n",
        "    y_a, y_b = y, y[index]\n",
        "    return x, y_a, y_b, lam\n",
        "\n",
        "# Collate function for MixUp and CutMix augmentations, decides which to apply per batch\n",
        "def mixup_cutmix_collate(batch, alpha=1.0, p=0.5):\n",
        "    # Standard collate function\n",
        "    images, labels = list(zip(*batch))\n",
        "    images = torch.stack(images, 0)\n",
        "    labels = torch.tensor(labels, dtype=torch.long)\n",
        "\n",
        "    # Decide whether to apply MixUp or CutMix based on a probability\n",
        "    if np.random.rand() < p:\n",
        "        # Apply MixUp\n",
        "        mixed_x, y_a, y_b, lam = mixup_data(images, labels, alpha)\n",
        "        return mixed_x, (y_a, y_b, lam, 'mixup')\n",
        "    else:\n",
        "        # Apply CutMix\n",
        "        cutmix_x, y_a, y_b, lam = cutmix_data(images, labels, alpha)\n",
        "        return cutmix_x, (y_a, y_b, lam, 'cutmix')\n",
        "\n",
        "# Helper function to load data from a pickle file\n",
        "def unpickle(file):\n",
        "    with open(file, 'rb') as fo:\n",
        "        data_dict = pickle.load(fo, encoding='bytes')\n",
        "    return data_dict\n",
        "\n",
        "# Custom Dataset class for CIFAR-10\n",
        "class CIFARDataset(Dataset):\n",
        "    def __init__(self, data, labels, transform=None):\n",
        "        self.data = data.reshape(-1, 3, 32, 32).astype(\"float32\") / 255.0\n",
        "        self.labels = labels\n",
        "        self.transform = transform\n",
        "\n",
        "    def __len__(self):\n",
        "        return len(self.data)\n",
        "\n",
        "    def __getitem__(self, idx):\n",
        "        img = self.data[idx]*255\n",
        "        img = img.astype(\"uint8\")\n",
        "        # Convert image to PIL format\n",
        "        img = Image.fromarray(img.transpose(1,2,0))\n",
        "        label = self.labels[idx]\n",
        "        if self.transform:\n",
        "            img = self.transform(img)\n",
        "        return img, label\n",
        "\n",
        "# Helper function to load CIFAR-10 batches\n",
        "def load_cifar10_batches(root_dir):\n",
        "    data_list, labels_list = [], []\n",
        "    for i in range(1, 6):\n",
        "        batch_file = f\"{root_dir}/data_batch_{i}\"\n",
        "        batch = unpickle(batch_file)\n",
        "        data_list.append(batch[b'data'])\n",
        "        labels_list.extend(batch[b'labels'])\n",
        "    X = np.concatenate(data_list, axis=0)\n",
        "    y = np.array(labels_list)\n",
        "    return X, y\n",
        "\n",
        "# Training function\n",
        "def train():\n",
        "    # Check if GPU is available\n",
        "    device = 'cuda' if torch.cuda.is_available() else 'cpu'\n",
        "    print(f\"Using device: {device}\")\n",
        "\n",
        "    # 2) Define transformations (data augmentation)\n",
        "    transform_train = transforms.Compose([\n",
        "        transforms.RandomCrop(32, padding=4),\n",
        "        transforms.RandomHorizontalFlip(),\n",
        "        transforms.RandAugment(),  # or AutoAugment()\n",
        "        transforms.ToTensor(),\n",
        "        transforms.Normalize((0.4914, 0.4822, 0.4465),\n",
        "                             (0.2470, 0.2435, 0.2616))\n",
        "    ])\n",
        "    transform_val = transforms.Compose([\n",
        "        transforms.ToTensor(),\n",
        "        transforms.Normalize((0.4914, 0.4822, 0.4465),\n",
        "                             (0.2470, 0.2435, 0.2616))\n",
        "    ])\n",
        "\n",
        "    # CIFAR-10 datasets (using torchvision datasets)\n",
        "    train_dataset = datasets.CIFAR10(root='./data', train=True,\n",
        "                                     download=True, transform=transform_train)\n",
        "    val_dataset = datasets.CIFAR10(root='./data', train=False,\n",
        "                                   download=True, transform=transform_val)\n",
        "    # Use custom collate function with MixUp/CutMix augmentations\n",
        "    train_loader = DataLoader(train_dataset, batch_size=128,\n",
        "                              shuffle=True, num_workers=4,\n",
        "                              collate_fn=lambda b: mixup_cutmix_collate(b, alpha=1.0, p=0.5))\n",
        "    val_loader   = DataLoader(val_dataset,   batch_size=128,\n",
        "                              shuffle=False, num_workers=4)\n",
        "\n",
        "    # 3) Initialize the model\n",
        "    model = RobustResNet64(num_blocks=10, base_channels=32, num_classes=10, drop_prob=0.1).to(device)\n",
        "\n",
        "    # 4) Define loss function, optimizer, and learning rate scheduler\n",
        "    base_criterion = nn.CrossEntropyLoss(label_smoothing=0.1)\n",
        "    optimizer = optim.SGD(model.parameters(), lr=0.1, momentum=0.9, nesterov=True, weight_decay=5e-4)\n",
        "    scheduler = optim.lr_scheduler.CosineAnnealingLR(optimizer, T_max=300)\n",
        "\n",
        "    best_acc = 0.0\n",
        "    num_epochs = 300\n",
        "\n",
        "    # Training loop\n",
        "    for epoch in range(num_epochs):\n",
        "        model.train()\n",
        "        running_loss = 0.0\n",
        "        correct_approx = 0.0\n",
        "        total_approx = 0\n",
        "\n",
        "        # Training progress bar\n",
        "        train_pbar = tqdm(train_loader, desc=f\"Epoch [{epoch+1}/{num_epochs}]\", leave=False)\n",
        "        for images, label_info in train_pbar:\n",
        "            # Unpack label information for MixUp/CutMix\n",
        "            y_a, y_b, lam, method = label_info\n",
        "            images = images.to(device)\n",
        "            y_a = y_a.to(device)\n",
        "            y_b = y_b.to(device)\n",
        "\n",
        "            optimizer.zero_grad()\n",
        "            outputs = model(images)\n",
        "\n",
        "            # Compute loss using MixUp/CutMix\n",
        "            loss = lam * base_criterion(outputs, y_a) + (1 - lam) * base_criterion(outputs, y_b)\n",
        "            loss.backward()\n",
        "            optimizer.step()\n",
        "\n",
        "            running_loss += loss.item() * images.size(0)\n",
        "            _, preds = torch.max(outputs, 1)\n",
        "            # Approximate accuracy counting\n",
        "            correct_approx += (preds == y_a).sum().item() * lam + (preds == y_b).sum().item() * (1 - lam)\n",
        "            total_approx   += images.size(0)\n",
        "\n",
        "            train_pbar.set_postfix(loss=f\"{loss.item():.3f}\")\n",
        "\n",
        "        # Step the learning rate scheduler\n",
        "        scheduler.step()\n",
        "        epoch_loss = running_loss / len(train_loader.dataset)\n",
        "        epoch_acc  = 100.0 * correct_approx / total_approx\n",
        "\n",
        "        # ----- Validation -----\n",
        "        model.eval()\n",
        "        val_correct = 0\n",
        "        val_total = 0\n",
        "        with torch.no_grad():\n",
        "            for imgs, labels in val_loader:\n",
        "                imgs, labels = imgs.to(device), labels.to(device)\n",
        "                outputs = model(imgs)\n",
        "                _, pred = torch.max(outputs, 1)\n",
        "                val_correct += (pred == labels).sum().item()\n",
        "                val_total   += labels.size(0)\n",
        "        val_acc = 100.0 * val_correct / val_total\n",
        "\n",
        "        # Print training and validation stats\n",
        "        print(f\"Epoch {epoch+1}/{num_epochs} | \"\n",
        "              f\"Train Loss: {epoch_loss:.4f}, Approx Train Acc: {epoch_acc:.2f}% | \"\n",
        "              f\"Val Acc: {val_acc:.2f}%\")\n",
        "\n",
        "        # Save the best model\n",
        "        if val_acc > best_acc:\n",
        "            best_acc = val_acc\n",
        "            torch.save(model.state_dict(), \"best_model.pth\")\n",
        "            print(f\"   [*] Saved new best model: Val Acc = {val_acc:.2f}%\")\n",
        "\n",
        "    print(f\"Training complete. Best validation accuracy: {best_acc:.2f}%\")\n",
        "    print(\"Best model saved as best_model.pth\")\n",
        "\n",
        "if __name__ == \"__main__\":\n",
        "    train()\n"
      ],
      "metadata": {
        "colab": {
          "base_uri": "https://localhost:8080/"
        },
        "id": "wZcL7rFHlO95",
        "outputId": "3a61eb3e-1bf4-4ef3-c640-8b3bc91f8644"
      },
      "execution_count": null,
      "outputs": [
        {
          "metadata": {
            "tags": null
          },
          "name": "stdout",
          "output_type": "stream",
          "text": [
            "Using device: cuda\n",
            "Downloading https://www.cs.toronto.edu/~kriz/cifar-10-python.tar.gz to ./data/cifar-10-python.tar.gz\n"
          ]
        },
        {
          "metadata": {
            "tags": null
          },
          "name": "stderr",
          "output_type": "stream",
          "text": [
            "100%|██████████| 170M/170M [00:01<00:00, 98.4MB/s]\n"
          ]
        },
        {
          "metadata": {
            "tags": null
          },
          "name": "stdout",
          "output_type": "stream",
          "text": [
            "Extracting ./data/cifar-10-python.tar.gz to ./data\n",
            "Files already downloaded and verified\n"
          ]
        },
        {
          "metadata": {
            "tags": null
          },
          "name": "stderr",
          "output_type": "stream",
          "text": [
            ""
          ]
        },
        {
          "metadata": {
            "tags": null
          },
          "name": "stdout",
          "output_type": "stream",
          "text": [
            "Epoch 1/300 | Train Loss: 2.1139, Approx Train Acc: 23.37% | Val Acc: 45.63%\n",
            "   [*] Saved new best model: Val Acc = 45.63%\n"
          ]
        },
        {
          "metadata": {
            "tags": null
          },
          "name": "stderr",
          "output_type": "stream",
          "text": [
            ""
          ]
        },
        {
          "metadata": {
            "tags": null
          },
          "name": "stdout",
          "output_type": "stream",
          "text": [
            "Epoch 2/300 | Train Loss: 1.9044, Approx Train Acc: 37.30% | Val Acc: 57.41%\n",
            "   [*] Saved new best model: Val Acc = 57.41%\n"
          ]
        },
        {
          "metadata": {
            "tags": null
          },
          "name": "stderr",
          "output_type": "stream",
          "text": [
            ""
          ]
        },
        {
          "metadata": {
            "tags": null
          },
          "name": "stdout",
          "output_type": "stream",
          "text": [
            "Epoch 3/300 | Train Loss: 1.8119, Approx Train Acc: 42.90% | Val Acc: 65.17%\n",
            "   [*] Saved new best model: Val Acc = 65.17%\n"
          ]
        },
        {
          "metadata": {
            "tags": null
          },
          "name": "stderr",
          "output_type": "stream",
          "text": [
            ""
          ]
        },
        {
          "metadata": {
            "tags": null
          },
          "name": "stdout",
          "output_type": "stream",
          "text": [
            "Epoch 4/300 | Train Loss: 1.7448, Approx Train Acc: 46.55% | Val Acc: 69.55%\n",
            "   [*] Saved new best model: Val Acc = 69.55%\n"
          ]
        },
        {
          "metadata": {
            "tags": null
          },
          "name": "stderr",
          "output_type": "stream",
          "text": [
            ""
          ]
        },
        {
          "metadata": {
            "tags": null
          },
          "name": "stdout",
          "output_type": "stream",
          "text": [
            "Epoch 5/300 | Train Loss: 1.7016, Approx Train Acc: 48.86% | Val Acc: 71.21%\n",
            "   [*] Saved new best model: Val Acc = 71.21%\n"
          ]
        },
        {
          "metadata": {
            "tags": null
          },
          "name": "stderr",
          "output_type": "stream",
          "text": [
            ""
          ]
        },
        {
          "metadata": {
            "tags": null
          },
          "name": "stdout",
          "output_type": "stream",
          "text": [
            "Epoch 6/300 | Train Loss: 1.6728, Approx Train Acc: 50.41% | Val Acc: 72.54%\n",
            "   [*] Saved new best model: Val Acc = 72.54%\n"
          ]
        },
        {
          "metadata": {
            "tags": null
          },
          "name": "stderr",
          "output_type": "stream",
          "text": [
            ""
          ]
        },
        {
          "metadata": {
            "tags": null
          },
          "name": "stdout",
          "output_type": "stream",
          "text": [
            "Epoch 7/300 | Train Loss: 1.6556, Approx Train Acc: 51.52% | Val Acc: 64.32%\n"
          ]
        },
        {
          "metadata": {
            "tags": null
          },
          "name": "stderr",
          "output_type": "stream",
          "text": [
            ""
          ]
        },
        {
          "metadata": {
            "tags": null
          },
          "name": "stdout",
          "output_type": "stream",
          "text": [
            "Epoch 8/300 | Train Loss: 1.6429, Approx Train Acc: 51.82% | Val Acc: 73.95%\n",
            "   [*] Saved new best model: Val Acc = 73.95%\n"
          ]
        },
        {
          "metadata": {
            "tags": null
          },
          "name": "stderr",
          "output_type": "stream",
          "text": [
            ""
          ]
        },
        {
          "metadata": {
            "tags": null
          },
          "name": "stdout",
          "output_type": "stream",
          "text": [
            "Epoch 9/300 | Train Loss: 1.6383, Approx Train Acc: 52.30% | Val Acc: 74.42%\n",
            "   [*] Saved new best model: Val Acc = 74.42%\n"
          ]
        },
        {
          "metadata": {
            "tags": null
          },
          "name": "stderr",
          "output_type": "stream",
          "text": [
            ""
          ]
        },
        {
          "metadata": {
            "tags": null
          },
          "name": "stdout",
          "output_type": "stream",
          "text": [
            "Epoch 10/300 | Train Loss: 1.6101, Approx Train Acc: 53.59% | Val Acc: 72.60%\n"
          ]
        },
        {
          "metadata": {
            "tags": null
          },
          "name": "stderr",
          "output_type": "stream",
          "text": [
            ""
          ]
        },
        {
          "metadata": {
            "tags": null
          },
          "name": "stdout",
          "output_type": "stream",
          "text": [
            "Epoch 11/300 | Train Loss: 1.6152, Approx Train Acc: 53.31% | Val Acc: 68.57%\n"
          ]
        },
        {
          "metadata": {
            "tags": null
          },
          "name": "stderr",
          "output_type": "stream",
          "text": [
            ""
          ]
        },
        {
          "metadata": {
            "tags": null
          },
          "name": "stdout",
          "output_type": "stream",
          "text": [
            "Epoch 12/300 | Train Loss: 1.5974, Approx Train Acc: 54.13% | Val Acc: 75.67%\n",
            "   [*] Saved new best model: Val Acc = 75.67%\n"
          ]
        },
        {
          "metadata": {
            "tags": null
          },
          "name": "stderr",
          "output_type": "stream",
          "text": [
            ""
          ]
        },
        {
          "metadata": {
            "tags": null
          },
          "name": "stdout",
          "output_type": "stream",
          "text": [
            "Epoch 13/300 | Train Loss: 1.6021, Approx Train Acc: 54.01% | Val Acc: 75.04%\n"
          ]
        },
        {
          "metadata": {
            "tags": null
          },
          "name": "stderr",
          "output_type": "stream",
          "text": [
            ""
          ]
        },
        {
          "metadata": {
            "tags": null
          },
          "name": "stdout",
          "output_type": "stream",
          "text": [
            "Epoch 14/300 | Train Loss: 1.5915, Approx Train Acc: 54.55% | Val Acc: 73.43%\n"
          ]
        },
        {
          "metadata": {
            "tags": null
          },
          "name": "stderr",
          "output_type": "stream",
          "text": [
            ""
          ]
        },
        {
          "metadata": {
            "tags": null
          },
          "name": "stdout",
          "output_type": "stream",
          "text": [
            "Epoch 15/300 | Train Loss: 1.6076, Approx Train Acc: 53.83% | Val Acc: 71.60%\n"
          ]
        },
        {
          "metadata": {
            "tags": null
          },
          "name": "stderr",
          "output_type": "stream",
          "text": [
            ""
          ]
        },
        {
          "metadata": {
            "tags": null
          },
          "name": "stdout",
          "output_type": "stream",
          "text": [
            "Epoch 16/300 | Train Loss: 1.5758, Approx Train Acc: 55.31% | Val Acc: 76.43%\n",
            "   [*] Saved new best model: Val Acc = 76.43%\n"
          ]
        },
        {
          "metadata": {
            "tags": null
          },
          "name": "stderr",
          "output_type": "stream",
          "text": [
            ""
          ]
        },
        {
          "metadata": {
            "tags": null
          },
          "name": "stdout",
          "output_type": "stream",
          "text": [
            "Epoch 17/300 | Train Loss: 1.5889, Approx Train Acc: 54.41% | Val Acc: 71.81%\n"
          ]
        },
        {
          "metadata": {
            "tags": null
          },
          "name": "stderr",
          "output_type": "stream",
          "text": [
            ""
          ]
        },
        {
          "metadata": {
            "tags": null
          },
          "name": "stdout",
          "output_type": "stream",
          "text": [
            "Epoch 18/300 | Train Loss: 1.5700, Approx Train Acc: 55.78% | Val Acc: 77.60%\n",
            "   [*] Saved new best model: Val Acc = 77.60%\n"
          ]
        },
        {
          "metadata": {
            "tags": null
          },
          "name": "stderr",
          "output_type": "stream",
          "text": [
            ""
          ]
        },
        {
          "metadata": {
            "tags": null
          },
          "name": "stdout",
          "output_type": "stream",
          "text": [
            "Epoch 19/300 | Train Loss: 1.5756, Approx Train Acc: 55.48% | Val Acc: 77.64%\n",
            "   [*] Saved new best model: Val Acc = 77.64%\n"
          ]
        },
        {
          "metadata": {
            "tags": null
          },
          "name": "stderr",
          "output_type": "stream",
          "text": [
            ""
          ]
        },
        {
          "metadata": {
            "tags": null
          },
          "name": "stdout",
          "output_type": "stream",
          "text": [
            "Epoch 20/300 | Train Loss: 1.5843, Approx Train Acc: 54.73% | Val Acc: 81.66%\n",
            "   [*] Saved new best model: Val Acc = 81.66%\n"
          ]
        },
        {
          "metadata": {
            "tags": null
          },
          "name": "stderr",
          "output_type": "stream",
          "text": [
            ""
          ]
        },
        {
          "metadata": {
            "tags": null
          },
          "name": "stdout",
          "output_type": "stream",
          "text": [
            "Epoch 21/300 | Train Loss: 1.5670, Approx Train Acc: 56.00% | Val Acc: 75.22%\n"
          ]
        },
        {
          "metadata": {
            "tags": null
          },
          "name": "stderr",
          "output_type": "stream",
          "text": [
            ""
          ]
        },
        {
          "metadata": {
            "tags": null
          },
          "name": "stdout",
          "output_type": "stream",
          "text": [
            "Epoch 22/300 | Train Loss: 1.5658, Approx Train Acc: 55.72% | Val Acc: 75.90%\n"
          ]
        },
        {
          "metadata": {
            "tags": null
          },
          "name": "stderr",
          "output_type": "stream",
          "text": [
            ""
          ]
        },
        {
          "metadata": {
            "tags": null
          },
          "name": "stdout",
          "output_type": "stream",
          "text": [
            "Epoch 23/300 | Train Loss: 1.5577, Approx Train Acc: 56.31% | Val Acc: 79.37%\n"
          ]
        },
        {
          "metadata": {
            "tags": null
          },
          "name": "stderr",
          "output_type": "stream",
          "text": [
            ""
          ]
        },
        {
          "metadata": {
            "tags": null
          },
          "name": "stdout",
          "output_type": "stream",
          "text": [
            "Epoch 24/300 | Train Loss: 1.5350, Approx Train Acc: 57.48% | Val Acc: 81.62%\n"
          ]
        },
        {
          "metadata": {
            "tags": null
          },
          "name": "stderr",
          "output_type": "stream",
          "text": [
            ""
          ]
        },
        {
          "metadata": {
            "tags": null
          },
          "name": "stdout",
          "output_type": "stream",
          "text": [
            "Epoch 25/300 | Train Loss: 1.5590, Approx Train Acc: 56.15% | Val Acc: 77.61%\n"
          ]
        },
        {
          "metadata": {
            "tags": null
          },
          "name": "stderr",
          "output_type": "stream",
          "text": [
            ""
          ]
        },
        {
          "metadata": {
            "tags": null
          },
          "name": "stdout",
          "output_type": "stream",
          "text": [
            "Epoch 26/300 | Train Loss: 1.5504, Approx Train Acc: 56.95% | Val Acc: 80.48%\n"
          ]
        },
        {
          "metadata": {
            "tags": null
          },
          "name": "stderr",
          "output_type": "stream",
          "text": [
            ""
          ]
        },
        {
          "metadata": {
            "tags": null
          },
          "name": "stdout",
          "output_type": "stream",
          "text": [
            "Epoch 27/300 | Train Loss: 1.5620, Approx Train Acc: 55.98% | Val Acc: 78.32%\n"
          ]
        },
        {
          "metadata": {
            "tags": null
          },
          "name": "stderr",
          "output_type": "stream",
          "text": [
            ""
          ]
        },
        {
          "metadata": {
            "tags": null
          },
          "name": "stdout",
          "output_type": "stream",
          "text": [
            "Epoch 28/300 | Train Loss: 1.5514, Approx Train Acc: 56.43% | Val Acc: 78.31%\n"
          ]
        },
        {
          "metadata": {
            "tags": null
          },
          "name": "stderr",
          "output_type": "stream",
          "text": [
            ""
          ]
        },
        {
          "metadata": {
            "tags": null
          },
          "name": "stdout",
          "output_type": "stream",
          "text": [
            "Epoch 29/300 | Train Loss: 1.5499, Approx Train Acc: 56.62% | Val Acc: 80.67%\n"
          ]
        },
        {
          "metadata": {
            "tags": null
          },
          "name": "stderr",
          "output_type": "stream",
          "text": [
            ""
          ]
        },
        {
          "metadata": {
            "tags": null
          },
          "name": "stdout",
          "output_type": "stream",
          "text": [
            "Epoch 30/300 | Train Loss: 1.5485, Approx Train Acc: 56.80% | Val Acc: 78.11%\n"
          ]
        },
        {
          "metadata": {
            "tags": null
          },
          "name": "stderr",
          "output_type": "stream",
          "text": [
            ""
          ]
        },
        {
          "metadata": {
            "tags": null
          },
          "name": "stdout",
          "output_type": "stream",
          "text": [
            "Epoch 31/300 | Train Loss: 1.5563, Approx Train Acc: 56.25% | Val Acc: 81.65%\n"
          ]
        },
        {
          "metadata": {
            "tags": null
          },
          "name": "stderr",
          "output_type": "stream",
          "text": [
            ""
          ]
        },
        {
          "metadata": {
            "tags": null
          },
          "name": "stdout",
          "output_type": "stream",
          "text": [
            "Epoch 32/300 | Train Loss: 1.5691, Approx Train Acc: 55.64% | Val Acc: 73.92%\n"
          ]
        },
        {
          "metadata": {
            "tags": null
          },
          "name": "stderr",
          "output_type": "stream",
          "text": [
            ""
          ]
        },
        {
          "metadata": {
            "tags": null
          },
          "name": "stdout",
          "output_type": "stream",
          "text": [
            "Epoch 33/300 | Train Loss: 1.5335, Approx Train Acc: 57.44% | Val Acc: 78.99%\n"
          ]
        },
        {
          "metadata": {
            "tags": null
          },
          "name": "stderr",
          "output_type": "stream",
          "text": [
            ""
          ]
        },
        {
          "metadata": {
            "tags": null
          },
          "name": "stdout",
          "output_type": "stream",
          "text": [
            "Epoch 34/300 | Train Loss: 1.5527, Approx Train Acc: 56.63% | Val Acc: 78.88%\n"
          ]
        },
        {
          "metadata": {
            "tags": null
          },
          "name": "stderr",
          "output_type": "stream",
          "text": [
            ""
          ]
        },
        {
          "metadata": {
            "tags": null
          },
          "name": "stdout",
          "output_type": "stream",
          "text": [
            "Epoch 35/300 | Train Loss: 1.5468, Approx Train Acc: 56.65% | Val Acc: 82.53%\n",
            "   [*] Saved new best model: Val Acc = 82.53%\n"
          ]
        },
        {
          "metadata": {
            "tags": null
          },
          "name": "stderr",
          "output_type": "stream",
          "text": [
            ""
          ]
        },
        {
          "metadata": {
            "tags": null
          },
          "name": "stdout",
          "output_type": "stream",
          "text": [
            "Epoch 36/300 | Train Loss: 1.5312, Approx Train Acc: 57.57% | Val Acc: 84.18%\n",
            "   [*] Saved new best model: Val Acc = 84.18%\n"
          ]
        },
        {
          "metadata": {
            "tags": null
          },
          "name": "stderr",
          "output_type": "stream",
          "text": [
            ""
          ]
        },
        {
          "metadata": {
            "tags": null
          },
          "name": "stdout",
          "output_type": "stream",
          "text": [
            "Epoch 37/300 | Train Loss: 1.5634, Approx Train Acc: 55.86% | Val Acc: 75.98%\n"
          ]
        },
        {
          "metadata": {
            "tags": null
          },
          "name": "stderr",
          "output_type": "stream",
          "text": [
            ""
          ]
        },
        {
          "metadata": {
            "tags": null
          },
          "name": "stdout",
          "output_type": "stream",
          "text": [
            "Epoch 38/300 | Train Loss: 1.5389, Approx Train Acc: 57.05% | Val Acc: 73.59%\n"
          ]
        },
        {
          "metadata": {
            "tags": null
          },
          "name": "stderr",
          "output_type": "stream",
          "text": [
            ""
          ]
        },
        {
          "metadata": {
            "tags": null
          },
          "name": "stdout",
          "output_type": "stream",
          "text": [
            "Epoch 39/300 | Train Loss: 1.5311, Approx Train Acc: 57.28% | Val Acc: 83.29%\n"
          ]
        },
        {
          "metadata": {
            "tags": null
          },
          "name": "stderr",
          "output_type": "stream",
          "text": [
            ""
          ]
        },
        {
          "metadata": {
            "tags": null
          },
          "name": "stdout",
          "output_type": "stream",
          "text": [
            "Epoch 40/300 | Train Loss: 1.5438, Approx Train Acc: 56.76% | Val Acc: 82.64%\n"
          ]
        },
        {
          "metadata": {
            "tags": null
          },
          "name": "stderr",
          "output_type": "stream",
          "text": [
            ""
          ]
        },
        {
          "metadata": {
            "tags": null
          },
          "name": "stdout",
          "output_type": "stream",
          "text": [
            "Epoch 41/300 | Train Loss: 1.5389, Approx Train Acc: 56.94% | Val Acc: 82.07%\n"
          ]
        },
        {
          "metadata": {
            "tags": null
          },
          "name": "stderr",
          "output_type": "stream",
          "text": [
            ""
          ]
        },
        {
          "metadata": {
            "tags": null
          },
          "name": "stdout",
          "output_type": "stream",
          "text": [
            "Epoch 42/300 | Train Loss: 1.5535, Approx Train Acc: 56.37% | Val Acc: 83.42%\n"
          ]
        },
        {
          "metadata": {
            "tags": null
          },
          "name": "stderr",
          "output_type": "stream",
          "text": [
            ""
          ]
        },
        {
          "output_type": "stream",
          "name": "stdout",
          "text": [
            "Epoch 43/300 | Train Loss: 1.5328, Approx Train Acc: 57.32% | Val Acc: 79.07%\n"
          ]
        },
        {
          "output_type": "stream",
          "name": "stderr",
          "text": []
        },
        {
          "output_type": "stream",
          "name": "stdout",
          "text": [
            "Epoch 44/300 | Train Loss: 1.5270, Approx Train Acc: 57.90% | Val Acc: 82.27%\n"
          ]
        },
        {
          "output_type": "stream",
          "name": "stderr",
          "text": []
        },
        {
          "output_type": "stream",
          "name": "stdout",
          "text": [
            "Epoch 45/300 | Train Loss: 1.5210, Approx Train Acc: 58.02% | Val Acc: 81.24%\n"
          ]
        },
        {
          "output_type": "stream",
          "name": "stderr",
          "text": []
        },
        {
          "output_type": "stream",
          "name": "stdout",
          "text": [
            "Epoch 46/300 | Train Loss: 1.5641, Approx Train Acc: 55.83% | Val Acc: 78.27%\n"
          ]
        },
        {
          "output_type": "stream",
          "name": "stderr",
          "text": []
        },
        {
          "output_type": "stream",
          "name": "stdout",
          "text": [
            "Epoch 47/300 | Train Loss: 1.5299, Approx Train Acc: 57.35% | Val Acc: 81.90%\n"
          ]
        },
        {
          "output_type": "stream",
          "name": "stderr",
          "text": []
        },
        {
          "output_type": "stream",
          "name": "stdout",
          "text": [
            "Epoch 48/300 | Train Loss: 1.5272, Approx Train Acc: 57.26% | Val Acc: 83.22%\n"
          ]
        },
        {
          "output_type": "stream",
          "name": "stderr",
          "text": []
        },
        {
          "output_type": "stream",
          "name": "stdout",
          "text": [
            "Epoch 49/300 | Train Loss: 1.5348, Approx Train Acc: 57.03% | Val Acc: 82.82%\n"
          ]
        },
        {
          "output_type": "stream",
          "name": "stderr",
          "text": []
        },
        {
          "output_type": "stream",
          "name": "stdout",
          "text": [
            "Epoch 50/300 | Train Loss: 1.5214, Approx Train Acc: 57.92% | Val Acc: 81.62%\n"
          ]
        },
        {
          "output_type": "stream",
          "name": "stderr",
          "text": []
        },
        {
          "output_type": "stream",
          "name": "stdout",
          "text": [
            "Epoch 51/300 | Train Loss: 1.5017, Approx Train Acc: 58.91% | Val Acc: 81.63%\n"
          ]
        },
        {
          "output_type": "stream",
          "name": "stderr",
          "text": []
        },
        {
          "output_type": "stream",
          "name": "stdout",
          "text": [
            "Epoch 52/300 | Train Loss: 1.5565, Approx Train Acc: 56.12% | Val Acc: 81.61%\n"
          ]
        },
        {
          "output_type": "stream",
          "name": "stderr",
          "text": []
        },
        {
          "output_type": "stream",
          "name": "stdout",
          "text": [
            "Epoch 53/300 | Train Loss: 1.5202, Approx Train Acc: 57.96% | Val Acc: 77.19%\n"
          ]
        },
        {
          "output_type": "stream",
          "name": "stderr",
          "text": []
        },
        {
          "output_type": "stream",
          "name": "stdout",
          "text": [
            "Epoch 54/300 | Train Loss: 1.5297, Approx Train Acc: 57.66% | Val Acc: 82.35%\n"
          ]
        },
        {
          "output_type": "stream",
          "name": "stderr",
          "text": []
        },
        {
          "output_type": "stream",
          "name": "stdout",
          "text": [
            "Epoch 55/300 | Train Loss: 1.5264, Approx Train Acc: 57.56% | Val Acc: 82.37%\n"
          ]
        },
        {
          "output_type": "stream",
          "name": "stderr",
          "text": []
        },
        {
          "output_type": "stream",
          "name": "stdout",
          "text": [
            "Epoch 56/300 | Train Loss: 1.5262, Approx Train Acc: 57.54% | Val Acc: 81.47%\n"
          ]
        },
        {
          "output_type": "stream",
          "name": "stderr",
          "text": []
        },
        {
          "output_type": "stream",
          "name": "stdout",
          "text": [
            "Epoch 57/300 | Train Loss: 1.5083, Approx Train Acc: 58.24% | Val Acc: 79.08%\n"
          ]
        },
        {
          "output_type": "stream",
          "name": "stderr",
          "text": []
        },
        {
          "output_type": "stream",
          "name": "stdout",
          "text": [
            "Epoch 58/300 | Train Loss: 1.5047, Approx Train Acc: 58.72% | Val Acc: 79.73%\n"
          ]
        },
        {
          "output_type": "stream",
          "name": "stderr",
          "text": []
        },
        {
          "output_type": "stream",
          "name": "stdout",
          "text": [
            "Epoch 59/300 | Train Loss: 1.5081, Approx Train Acc: 58.85% | Val Acc: 82.04%\n"
          ]
        },
        {
          "output_type": "stream",
          "name": "stderr",
          "text": []
        },
        {
          "output_type": "stream",
          "name": "stdout",
          "text": [
            "Epoch 60/300 | Train Loss: 1.5023, Approx Train Acc: 58.79% | Val Acc: 71.63%\n"
          ]
        },
        {
          "output_type": "stream",
          "name": "stderr",
          "text": []
        },
        {
          "output_type": "stream",
          "name": "stdout",
          "text": [
            "Epoch 61/300 | Train Loss: 1.5204, Approx Train Acc: 57.99% | Val Acc: 78.38%\n"
          ]
        },
        {
          "output_type": "stream",
          "name": "stderr",
          "text": []
        },
        {
          "output_type": "stream",
          "name": "stdout",
          "text": [
            "Epoch 62/300 | Train Loss: 1.5272, Approx Train Acc: 57.21% | Val Acc: 79.25%\n"
          ]
        },
        {
          "output_type": "stream",
          "name": "stderr",
          "text": []
        },
        {
          "output_type": "stream",
          "name": "stdout",
          "text": [
            "Epoch 63/300 | Train Loss: 1.5047, Approx Train Acc: 58.43% | Val Acc: 81.68%\n"
          ]
        },
        {
          "output_type": "stream",
          "name": "stderr",
          "text": []
        },
        {
          "output_type": "stream",
          "name": "stdout",
          "text": [
            "Epoch 64/300 | Train Loss: 1.5315, Approx Train Acc: 57.43% | Val Acc: 84.30%\n",
            "   [*] Saved new best model: Val Acc = 84.30%\n"
          ]
        },
        {
          "output_type": "stream",
          "name": "stderr",
          "text": []
        },
        {
          "output_type": "stream",
          "name": "stdout",
          "text": [
            "Epoch 65/300 | Train Loss: 1.4967, Approx Train Acc: 59.12% | Val Acc: 79.56%\n"
          ]
        },
        {
          "output_type": "stream",
          "name": "stderr",
          "text": []
        },
        {
          "output_type": "stream",
          "name": "stdout",
          "text": [
            "Epoch 66/300 | Train Loss: 1.5357, Approx Train Acc: 57.01% | Val Acc: 84.02%\n"
          ]
        },
        {
          "output_type": "stream",
          "name": "stderr",
          "text": []
        },
        {
          "output_type": "stream",
          "name": "stdout",
          "text": [
            "Epoch 67/300 | Train Loss: 1.5052, Approx Train Acc: 58.30% | Val Acc: 84.06%\n"
          ]
        },
        {
          "output_type": "stream",
          "name": "stderr",
          "text": []
        },
        {
          "output_type": "stream",
          "name": "stdout",
          "text": [
            "Epoch 68/300 | Train Loss: 1.5318, Approx Train Acc: 57.31% | Val Acc: 81.06%\n"
          ]
        },
        {
          "output_type": "stream",
          "name": "stderr",
          "text": []
        },
        {
          "output_type": "stream",
          "name": "stdout",
          "text": [
            "Epoch 69/300 | Train Loss: 1.5111, Approx Train Acc: 58.28% | Val Acc: 84.60%\n",
            "   [*] Saved new best model: Val Acc = 84.60%\n"
          ]
        },
        {
          "output_type": "stream",
          "name": "stderr",
          "text": []
        },
        {
          "output_type": "stream",
          "name": "stdout",
          "text": [
            "Epoch 70/300 | Train Loss: 1.4971, Approx Train Acc: 58.90% | Val Acc: 83.53%\n"
          ]
        },
        {
          "output_type": "stream",
          "name": "stderr",
          "text": []
        },
        {
          "output_type": "stream",
          "name": "stdout",
          "text": [
            "Epoch 71/300 | Train Loss: 1.5199, Approx Train Acc: 57.73% | Val Acc: 82.13%\n"
          ]
        },
        {
          "output_type": "stream",
          "name": "stderr",
          "text": []
        },
        {
          "output_type": "stream",
          "name": "stdout",
          "text": [
            "Epoch 72/300 | Train Loss: 1.5109, Approx Train Acc: 58.05% | Val Acc: 85.72%\n",
            "   [*] Saved new best model: Val Acc = 85.72%\n"
          ]
        },
        {
          "output_type": "stream",
          "name": "stderr",
          "text": []
        },
        {
          "output_type": "stream",
          "name": "stdout",
          "text": [
            "Epoch 73/300 | Train Loss: 1.5165, Approx Train Acc: 57.85% | Val Acc: 83.75%\n"
          ]
        },
        {
          "output_type": "stream",
          "name": "stderr",
          "text": []
        },
        {
          "output_type": "stream",
          "name": "stdout",
          "text": [
            "Epoch 74/300 | Train Loss: 1.4847, Approx Train Acc: 59.56% | Val Acc: 81.18%\n"
          ]
        },
        {
          "output_type": "stream",
          "name": "stderr",
          "text": []
        },
        {
          "output_type": "stream",
          "name": "stdout",
          "text": [
            "Epoch 75/300 | Train Loss: 1.5265, Approx Train Acc: 57.68% | Val Acc: 83.87%\n"
          ]
        },
        {
          "output_type": "stream",
          "name": "stderr",
          "text": []
        },
        {
          "output_type": "stream",
          "name": "stdout",
          "text": [
            "Epoch 76/300 | Train Loss: 1.4889, Approx Train Acc: 59.46% | Val Acc: 82.21%\n"
          ]
        },
        {
          "output_type": "stream",
          "name": "stderr",
          "text": []
        },
        {
          "output_type": "stream",
          "name": "stdout",
          "text": [
            "Epoch 77/300 | Train Loss: 1.4876, Approx Train Acc: 59.32% | Val Acc: 83.85%\n"
          ]
        },
        {
          "output_type": "stream",
          "name": "stderr",
          "text": []
        },
        {
          "output_type": "stream",
          "name": "stdout",
          "text": [
            "Epoch 78/300 | Train Loss: 1.5009, Approx Train Acc: 58.79% | Val Acc: 79.76%\n"
          ]
        },
        {
          "output_type": "stream",
          "name": "stderr",
          "text": []
        },
        {
          "output_type": "stream",
          "name": "stdout",
          "text": [
            "Epoch 79/300 | Train Loss: 1.4890, Approx Train Acc: 59.42% | Val Acc: 85.68%\n"
          ]
        },
        {
          "output_type": "stream",
          "name": "stderr",
          "text": []
        },
        {
          "output_type": "stream",
          "name": "stdout",
          "text": [
            "Epoch 80/300 | Train Loss: 1.4947, Approx Train Acc: 58.97% | Val Acc: 84.20%\n"
          ]
        },
        {
          "output_type": "stream",
          "name": "stderr",
          "text": []
        },
        {
          "output_type": "stream",
          "name": "stdout",
          "text": [
            "Epoch 81/300 | Train Loss: 1.4836, Approx Train Acc: 59.45% | Val Acc: 85.13%\n"
          ]
        },
        {
          "output_type": "stream",
          "name": "stderr",
          "text": []
        },
        {
          "output_type": "stream",
          "name": "stdout",
          "text": [
            "Epoch 82/300 | Train Loss: 1.4926, Approx Train Acc: 59.18% | Val Acc: 85.08%\n"
          ]
        },
        {
          "output_type": "stream",
          "name": "stderr",
          "text": []
        },
        {
          "output_type": "stream",
          "name": "stdout",
          "text": [
            "Epoch 83/300 | Train Loss: 1.4981, Approx Train Acc: 58.82% | Val Acc: 80.51%\n"
          ]
        },
        {
          "output_type": "stream",
          "name": "stderr",
          "text": []
        },
        {
          "output_type": "stream",
          "name": "stdout",
          "text": [
            "Epoch 84/300 | Train Loss: 1.4988, Approx Train Acc: 58.85% | Val Acc: 81.98%\n"
          ]
        },
        {
          "output_type": "stream",
          "name": "stderr",
          "text": []
        },
        {
          "output_type": "stream",
          "name": "stdout",
          "text": [
            "Epoch 85/300 | Train Loss: 1.4815, Approx Train Acc: 59.61% | Val Acc: 84.61%\n"
          ]
        },
        {
          "output_type": "stream",
          "name": "stderr",
          "text": []
        },
        {
          "output_type": "stream",
          "name": "stdout",
          "text": [
            "Epoch 86/300 | Train Loss: 1.4855, Approx Train Acc: 59.34% | Val Acc: 84.62%\n"
          ]
        },
        {
          "output_type": "stream",
          "name": "stderr",
          "text": []
        },
        {
          "output_type": "stream",
          "name": "stdout",
          "text": [
            "Epoch 87/300 | Train Loss: 1.4968, Approx Train Acc: 59.03% | Val Acc: 83.93%\n"
          ]
        },
        {
          "output_type": "stream",
          "name": "stderr",
          "text": []
        },
        {
          "output_type": "stream",
          "name": "stdout",
          "text": [
            "Epoch 88/300 | Train Loss: 1.5074, Approx Train Acc: 58.38% | Val Acc: 79.17%\n"
          ]
        },
        {
          "output_type": "stream",
          "name": "stderr",
          "text": []
        },
        {
          "output_type": "stream",
          "name": "stdout",
          "text": [
            "Epoch 89/300 | Train Loss: 1.4868, Approx Train Acc: 59.59% | Val Acc: 83.86%\n"
          ]
        },
        {
          "output_type": "stream",
          "name": "stderr",
          "text": []
        },
        {
          "output_type": "stream",
          "name": "stdout",
          "text": [
            "Epoch 90/300 | Train Loss: 1.4900, Approx Train Acc: 59.18% | Val Acc: 84.15%\n"
          ]
        },
        {
          "output_type": "stream",
          "name": "stderr",
          "text": []
        },
        {
          "output_type": "stream",
          "name": "stdout",
          "text": [
            "Epoch 91/300 | Train Loss: 1.5016, Approx Train Acc: 58.66% | Val Acc: 82.88%\n"
          ]
        },
        {
          "output_type": "stream",
          "name": "stderr",
          "text": []
        },
        {
          "output_type": "stream",
          "name": "stdout",
          "text": [
            "Epoch 92/300 | Train Loss: 1.4884, Approx Train Acc: 59.34% | Val Acc: 84.42%\n"
          ]
        },
        {
          "output_type": "stream",
          "name": "stderr",
          "text": []
        },
        {
          "output_type": "stream",
          "name": "stdout",
          "text": [
            "Epoch 93/300 | Train Loss: 1.5286, Approx Train Acc: 57.37% | Val Acc: 85.24%\n"
          ]
        },
        {
          "output_type": "stream",
          "name": "stderr",
          "text": []
        },
        {
          "output_type": "stream",
          "name": "stdout",
          "text": [
            "Epoch 94/300 | Train Loss: 1.4694, Approx Train Acc: 60.32% | Val Acc: 84.78%\n"
          ]
        },
        {
          "output_type": "stream",
          "name": "stderr",
          "text": []
        },
        {
          "output_type": "stream",
          "name": "stdout",
          "text": [
            "Epoch 95/300 | Train Loss: 1.4850, Approx Train Acc: 59.74% | Val Acc: 75.02%\n"
          ]
        },
        {
          "output_type": "stream",
          "name": "stderr",
          "text": []
        },
        {
          "output_type": "stream",
          "name": "stdout",
          "text": [
            "Epoch 96/300 | Train Loss: 1.4486, Approx Train Acc: 61.44% | Val Acc: 85.72%\n"
          ]
        },
        {
          "output_type": "stream",
          "name": "stderr",
          "text": []
        },
        {
          "output_type": "stream",
          "name": "stdout",
          "text": [
            "Epoch 97/300 | Train Loss: 1.4898, Approx Train Acc: 59.21% | Val Acc: 84.04%\n"
          ]
        },
        {
          "output_type": "stream",
          "name": "stderr",
          "text": []
        },
        {
          "output_type": "stream",
          "name": "stdout",
          "text": [
            "Epoch 98/300 | Train Loss: 1.5022, Approx Train Acc: 58.77% | Val Acc: 86.22%\n",
            "   [*] Saved new best model: Val Acc = 86.22%\n"
          ]
        },
        {
          "output_type": "stream",
          "name": "stderr",
          "text": []
        },
        {
          "output_type": "stream",
          "name": "stdout",
          "text": [
            "Epoch 99/300 | Train Loss: 1.4756, Approx Train Acc: 59.88% | Val Acc: 85.84%\n"
          ]
        },
        {
          "output_type": "stream",
          "name": "stderr",
          "text": []
        },
        {
          "output_type": "stream",
          "name": "stdout",
          "text": [
            "Epoch 100/300 | Train Loss: 1.4888, Approx Train Acc: 59.20% | Val Acc: 84.19%\n"
          ]
        },
        {
          "output_type": "stream",
          "name": "stderr",
          "text": []
        },
        {
          "output_type": "stream",
          "name": "stdout",
          "text": [
            "Epoch 101/300 | Train Loss: 1.4881, Approx Train Acc: 59.29% | Val Acc: 84.25%\n"
          ]
        },
        {
          "output_type": "stream",
          "name": "stderr",
          "text": []
        },
        {
          "output_type": "stream",
          "name": "stdout",
          "text": [
            "Epoch 102/300 | Train Loss: 1.5066, Approx Train Acc: 58.54% | Val Acc: 85.26%\n"
          ]
        },
        {
          "output_type": "stream",
          "name": "stderr",
          "text": []
        },
        {
          "output_type": "stream",
          "name": "stdout",
          "text": [
            "Epoch 103/300 | Train Loss: 1.4772, Approx Train Acc: 59.98% | Val Acc: 82.97%\n"
          ]
        },
        {
          "output_type": "stream",
          "name": "stderr",
          "text": []
        },
        {
          "output_type": "stream",
          "name": "stdout",
          "text": [
            "Epoch 104/300 | Train Loss: 1.4448, Approx Train Acc: 61.44% | Val Acc: 79.81%\n"
          ]
        },
        {
          "output_type": "stream",
          "name": "stderr",
          "text": []
        },
        {
          "output_type": "stream",
          "name": "stdout",
          "text": [
            "Epoch 105/300 | Train Loss: 1.4944, Approx Train Acc: 59.17% | Val Acc: 83.78%\n"
          ]
        },
        {
          "output_type": "stream",
          "name": "stderr",
          "text": []
        },
        {
          "output_type": "stream",
          "name": "stdout",
          "text": [
            "Epoch 106/300 | Train Loss: 1.4702, Approx Train Acc: 59.90% | Val Acc: 85.45%\n"
          ]
        },
        {
          "output_type": "stream",
          "name": "stderr",
          "text": []
        },
        {
          "output_type": "stream",
          "name": "stdout",
          "text": [
            "Epoch 107/300 | Train Loss: 1.4717, Approx Train Acc: 60.08% | Val Acc: 84.01%\n"
          ]
        },
        {
          "output_type": "stream",
          "name": "stderr",
          "text": []
        },
        {
          "output_type": "stream",
          "name": "stdout",
          "text": [
            "Epoch 108/300 | Train Loss: 1.4651, Approx Train Acc: 60.59% | Val Acc: 86.21%\n"
          ]
        },
        {
          "output_type": "stream",
          "name": "stderr",
          "text": []
        },
        {
          "output_type": "stream",
          "name": "stdout",
          "text": [
            "Epoch 109/300 | Train Loss: 1.4942, Approx Train Acc: 59.17% | Val Acc: 83.51%\n"
          ]
        },
        {
          "output_type": "stream",
          "name": "stderr",
          "text": []
        },
        {
          "output_type": "stream",
          "name": "stdout",
          "text": [
            "Epoch 110/300 | Train Loss: 1.4702, Approx Train Acc: 60.36% | Val Acc: 85.12%\n"
          ]
        },
        {
          "output_type": "stream",
          "name": "stderr",
          "text": []
        },
        {
          "output_type": "stream",
          "name": "stdout",
          "text": [
            "Epoch 111/300 | Train Loss: 1.4728, Approx Train Acc: 60.11% | Val Acc: 85.31%\n"
          ]
        },
        {
          "output_type": "stream",
          "name": "stderr",
          "text": []
        },
        {
          "output_type": "stream",
          "name": "stdout",
          "text": [
            "Epoch 112/300 | Train Loss: 1.4771, Approx Train Acc: 59.58% | Val Acc: 84.55%\n"
          ]
        },
        {
          "output_type": "stream",
          "name": "stderr",
          "text": []
        },
        {
          "output_type": "stream",
          "name": "stdout",
          "text": [
            "Epoch 113/300 | Train Loss: 1.4890, Approx Train Acc: 59.16% | Val Acc: 84.78%\n"
          ]
        },
        {
          "output_type": "stream",
          "name": "stderr",
          "text": []
        },
        {
          "output_type": "stream",
          "name": "stdout",
          "text": [
            "Epoch 114/300 | Train Loss: 1.4883, Approx Train Acc: 59.09% | Val Acc: 85.77%\n"
          ]
        },
        {
          "output_type": "stream",
          "name": "stderr",
          "text": []
        },
        {
          "output_type": "stream",
          "name": "stdout",
          "text": [
            "Epoch 115/300 | Train Loss: 1.4732, Approx Train Acc: 59.87% | Val Acc: 83.88%\n"
          ]
        },
        {
          "output_type": "stream",
          "name": "stderr",
          "text": []
        },
        {
          "output_type": "stream",
          "name": "stdout",
          "text": [
            "Epoch 116/300 | Train Loss: 1.4714, Approx Train Acc: 59.86% | Val Acc: 82.71%\n"
          ]
        },
        {
          "output_type": "stream",
          "name": "stderr",
          "text": []
        },
        {
          "output_type": "stream",
          "name": "stdout",
          "text": [
            "Epoch 117/300 | Train Loss: 1.4854, Approx Train Acc: 59.22% | Val Acc: 85.03%\n"
          ]
        },
        {
          "output_type": "stream",
          "name": "stderr",
          "text": []
        },
        {
          "output_type": "stream",
          "name": "stdout",
          "text": [
            "Epoch 118/300 | Train Loss: 1.4725, Approx Train Acc: 59.99% | Val Acc: 87.70%\n",
            "   [*] Saved new best model: Val Acc = 87.70%\n"
          ]
        },
        {
          "output_type": "stream",
          "name": "stderr",
          "text": []
        },
        {
          "output_type": "stream",
          "name": "stdout",
          "text": [
            "Epoch 119/300 | Train Loss: 1.4719, Approx Train Acc: 60.18% | Val Acc: 86.25%\n"
          ]
        },
        {
          "output_type": "stream",
          "name": "stderr",
          "text": []
        },
        {
          "output_type": "stream",
          "name": "stdout",
          "text": [
            "Epoch 120/300 | Train Loss: 1.4582, Approx Train Acc: 60.89% | Val Acc: 85.93%\n"
          ]
        },
        {
          "output_type": "stream",
          "name": "stderr",
          "text": []
        },
        {
          "output_type": "stream",
          "name": "stdout",
          "text": [
            "Epoch 121/300 | Train Loss: 1.4600, Approx Train Acc: 60.55% | Val Acc: 86.07%\n"
          ]
        },
        {
          "output_type": "stream",
          "name": "stderr",
          "text": []
        },
        {
          "output_type": "stream",
          "name": "stdout",
          "text": [
            "Epoch 122/300 | Train Loss: 1.4619, Approx Train Acc: 60.58% | Val Acc: 86.68%\n"
          ]
        },
        {
          "output_type": "stream",
          "name": "stderr",
          "text": []
        },
        {
          "output_type": "stream",
          "name": "stdout",
          "text": [
            "Epoch 123/300 | Train Loss: 1.4697, Approx Train Acc: 60.21% | Val Acc: 85.32%\n"
          ]
        },
        {
          "output_type": "stream",
          "name": "stderr",
          "text": []
        },
        {
          "output_type": "stream",
          "name": "stdout",
          "text": [
            "Epoch 124/300 | Train Loss: 1.4776, Approx Train Acc: 59.84% | Val Acc: 86.14%\n"
          ]
        },
        {
          "output_type": "stream",
          "name": "stderr",
          "text": []
        },
        {
          "output_type": "stream",
          "name": "stdout",
          "text": [
            "Epoch 125/300 | Train Loss: 1.4714, Approx Train Acc: 60.21% | Val Acc: 85.69%\n"
          ]
        },
        {
          "output_type": "stream",
          "name": "stderr",
          "text": []
        },
        {
          "output_type": "stream",
          "name": "stdout",
          "text": [
            "Epoch 126/300 | Train Loss: 1.4655, Approx Train Acc: 60.14% | Val Acc: 85.03%\n"
          ]
        },
        {
          "output_type": "stream",
          "name": "stderr",
          "text": []
        },
        {
          "output_type": "stream",
          "name": "stdout",
          "text": [
            "Epoch 127/300 | Train Loss: 1.4792, Approx Train Acc: 59.71% | Val Acc: 85.32%\n"
          ]
        },
        {
          "output_type": "stream",
          "name": "stderr",
          "text": []
        },
        {
          "output_type": "stream",
          "name": "stdout",
          "text": [
            "Epoch 128/300 | Train Loss: 1.4573, Approx Train Acc: 60.79% | Val Acc: 77.74%\n"
          ]
        },
        {
          "output_type": "stream",
          "name": "stderr",
          "text": []
        },
        {
          "output_type": "stream",
          "name": "stdout",
          "text": [
            "Epoch 129/300 | Train Loss: 1.4646, Approx Train Acc: 60.09% | Val Acc: 85.98%\n"
          ]
        },
        {
          "output_type": "stream",
          "name": "stderr",
          "text": []
        },
        {
          "output_type": "stream",
          "name": "stdout",
          "text": [
            "Epoch 130/300 | Train Loss: 1.4672, Approx Train Acc: 60.03% | Val Acc: 86.38%\n"
          ]
        },
        {
          "output_type": "stream",
          "name": "stderr",
          "text": []
        },
        {
          "output_type": "stream",
          "name": "stdout",
          "text": [
            "Epoch 131/300 | Train Loss: 1.4600, Approx Train Acc: 60.53% | Val Acc: 86.28%\n"
          ]
        },
        {
          "output_type": "stream",
          "name": "stderr",
          "text": []
        },
        {
          "output_type": "stream",
          "name": "stdout",
          "text": [
            "Epoch 132/300 | Train Loss: 1.4446, Approx Train Acc: 61.45% | Val Acc: 87.17%\n"
          ]
        },
        {
          "output_type": "stream",
          "name": "stderr",
          "text": []
        },
        {
          "output_type": "stream",
          "name": "stdout",
          "text": [
            "Epoch 133/300 | Train Loss: 1.4664, Approx Train Acc: 60.17% | Val Acc: 86.20%\n"
          ]
        },
        {
          "output_type": "stream",
          "name": "stderr",
          "text": []
        },
        {
          "output_type": "stream",
          "name": "stdout",
          "text": [
            "Epoch 134/300 | Train Loss: 1.4427, Approx Train Acc: 61.27% | Val Acc: 85.54%\n"
          ]
        },
        {
          "output_type": "stream",
          "name": "stderr",
          "text": []
        },
        {
          "output_type": "stream",
          "name": "stdout",
          "text": [
            "Epoch 135/300 | Train Loss: 1.4496, Approx Train Acc: 61.16% | Val Acc: 86.69%\n"
          ]
        },
        {
          "output_type": "stream",
          "name": "stderr",
          "text": []
        },
        {
          "output_type": "stream",
          "name": "stdout",
          "text": [
            "Epoch 136/300 | Train Loss: 1.4344, Approx Train Acc: 61.77% | Val Acc: 87.90%\n",
            "   [*] Saved new best model: Val Acc = 87.90%\n"
          ]
        },
        {
          "output_type": "stream",
          "name": "stderr",
          "text": []
        },
        {
          "output_type": "stream",
          "name": "stdout",
          "text": [
            "Epoch 137/300 | Train Loss: 1.4514, Approx Train Acc: 61.30% | Val Acc: 84.16%\n"
          ]
        },
        {
          "output_type": "stream",
          "name": "stderr",
          "text": []
        },
        {
          "output_type": "stream",
          "name": "stdout",
          "text": [
            "Epoch 138/300 | Train Loss: 1.4451, Approx Train Acc: 60.89% | Val Acc: 87.85%\n"
          ]
        },
        {
          "output_type": "stream",
          "name": "stderr",
          "text": []
        },
        {
          "output_type": "stream",
          "name": "stdout",
          "text": [
            "Epoch 139/300 | Train Loss: 1.4521, Approx Train Acc: 60.83% | Val Acc: 89.27%\n",
            "   [*] Saved new best model: Val Acc = 89.27%\n"
          ]
        },
        {
          "output_type": "stream",
          "name": "stderr",
          "text": []
        },
        {
          "output_type": "stream",
          "name": "stdout",
          "text": [
            "Epoch 140/300 | Train Loss: 1.4430, Approx Train Acc: 61.11% | Val Acc: 85.27%\n"
          ]
        },
        {
          "output_type": "stream",
          "name": "stderr",
          "text": []
        },
        {
          "output_type": "stream",
          "name": "stdout",
          "text": [
            "Epoch 141/300 | Train Loss: 1.4483, Approx Train Acc: 61.21% | Val Acc: 87.76%\n"
          ]
        },
        {
          "output_type": "stream",
          "name": "stderr",
          "text": []
        },
        {
          "output_type": "stream",
          "name": "stdout",
          "text": [
            "Epoch 142/300 | Train Loss: 1.4457, Approx Train Acc: 61.12% | Val Acc: 87.96%\n"
          ]
        },
        {
          "output_type": "stream",
          "name": "stderr",
          "text": []
        },
        {
          "output_type": "stream",
          "name": "stdout",
          "text": [
            "Epoch 143/300 | Train Loss: 1.4401, Approx Train Acc: 61.34% | Val Acc: 87.86%\n"
          ]
        },
        {
          "output_type": "stream",
          "name": "stderr",
          "text": []
        },
        {
          "output_type": "stream",
          "name": "stdout",
          "text": [
            "Epoch 144/300 | Train Loss: 1.4297, Approx Train Acc: 61.91% | Val Acc: 88.25%\n"
          ]
        },
        {
          "output_type": "stream",
          "name": "stderr",
          "text": []
        },
        {
          "output_type": "stream",
          "name": "stdout",
          "text": [
            "Epoch 145/300 | Train Loss: 1.4516, Approx Train Acc: 60.75% | Val Acc: 86.34%\n"
          ]
        },
        {
          "output_type": "stream",
          "name": "stderr",
          "text": []
        },
        {
          "output_type": "stream",
          "name": "stdout",
          "text": [
            "Epoch 146/300 | Train Loss: 1.4485, Approx Train Acc: 60.80% | Val Acc: 88.76%\n"
          ]
        },
        {
          "output_type": "stream",
          "name": "stderr",
          "text": []
        },
        {
          "output_type": "stream",
          "name": "stdout",
          "text": [
            "Epoch 147/300 | Train Loss: 1.4363, Approx Train Acc: 61.47% | Val Acc: 85.20%\n"
          ]
        },
        {
          "output_type": "stream",
          "name": "stderr",
          "text": []
        },
        {
          "output_type": "stream",
          "name": "stdout",
          "text": [
            "Epoch 148/300 | Train Loss: 1.4439, Approx Train Acc: 61.39% | Val Acc: 86.05%\n"
          ]
        },
        {
          "output_type": "stream",
          "name": "stderr",
          "text": []
        },
        {
          "output_type": "stream",
          "name": "stdout",
          "text": [
            "Epoch 149/300 | Train Loss: 1.4365, Approx Train Acc: 61.64% | Val Acc: 88.66%\n"
          ]
        },
        {
          "output_type": "stream",
          "name": "stderr",
          "text": []
        },
        {
          "output_type": "stream",
          "name": "stdout",
          "text": [
            "Epoch 150/300 | Train Loss: 1.4428, Approx Train Acc: 61.09% | Val Acc: 85.29%\n"
          ]
        },
        {
          "output_type": "stream",
          "name": "stderr",
          "text": []
        },
        {
          "output_type": "stream",
          "name": "stdout",
          "text": [
            "Epoch 151/300 | Train Loss: 1.4275, Approx Train Acc: 61.85% | Val Acc: 87.64%\n"
          ]
        },
        {
          "output_type": "stream",
          "name": "stderr",
          "text": []
        },
        {
          "output_type": "stream",
          "name": "stdout",
          "text": [
            "Epoch 152/300 | Train Loss: 1.4227, Approx Train Acc: 62.26% | Val Acc: 85.18%\n"
          ]
        },
        {
          "output_type": "stream",
          "name": "stderr",
          "text": []
        },
        {
          "output_type": "stream",
          "name": "stdout",
          "text": [
            "Epoch 153/300 | Train Loss: 1.4390, Approx Train Acc: 61.37% | Val Acc: 89.00%\n"
          ]
        },
        {
          "output_type": "stream",
          "name": "stderr",
          "text": []
        },
        {
          "output_type": "stream",
          "name": "stdout",
          "text": [
            "Epoch 154/300 | Train Loss: 1.4337, Approx Train Acc: 61.87% | Val Acc: 89.29%\n",
            "   [*] Saved new best model: Val Acc = 89.29%\n"
          ]
        },
        {
          "output_type": "stream",
          "name": "stderr",
          "text": []
        },
        {
          "output_type": "stream",
          "name": "stdout",
          "text": [
            "Epoch 155/300 | Train Loss: 1.4257, Approx Train Acc: 62.04% | Val Acc: 89.37%\n",
            "   [*] Saved new best model: Val Acc = 89.37%\n"
          ]
        },
        {
          "output_type": "stream",
          "name": "stderr",
          "text": []
        },
        {
          "output_type": "stream",
          "name": "stdout",
          "text": [
            "Epoch 156/300 | Train Loss: 1.4431, Approx Train Acc: 61.37% | Val Acc: 87.85%\n"
          ]
        },
        {
          "output_type": "stream",
          "name": "stderr",
          "text": []
        },
        {
          "output_type": "stream",
          "name": "stdout",
          "text": [
            "Epoch 157/300 | Train Loss: 1.4343, Approx Train Acc: 61.56% | Val Acc: 89.19%\n"
          ]
        },
        {
          "output_type": "stream",
          "name": "stderr",
          "text": []
        },
        {
          "output_type": "stream",
          "name": "stdout",
          "text": [
            "Epoch 158/300 | Train Loss: 1.4355, Approx Train Acc: 61.30% | Val Acc: 90.05%\n",
            "   [*] Saved new best model: Val Acc = 90.05%\n"
          ]
        },
        {
          "output_type": "stream",
          "name": "stderr",
          "text": []
        },
        {
          "output_type": "stream",
          "name": "stdout",
          "text": [
            "Epoch 159/300 | Train Loss: 1.4266, Approx Train Acc: 61.95% | Val Acc: 87.72%\n"
          ]
        },
        {
          "output_type": "stream",
          "name": "stderr",
          "text": []
        },
        {
          "output_type": "stream",
          "name": "stdout",
          "text": [
            "Epoch 160/300 | Train Loss: 1.4208, Approx Train Acc: 62.21% | Val Acc: 89.64%\n"
          ]
        },
        {
          "output_type": "stream",
          "name": "stderr",
          "text": []
        },
        {
          "output_type": "stream",
          "name": "stdout",
          "text": [
            "Epoch 161/300 | Train Loss: 1.4206, Approx Train Acc: 61.97% | Val Acc: 88.48%\n"
          ]
        },
        {
          "output_type": "stream",
          "name": "stderr",
          "text": []
        },
        {
          "output_type": "stream",
          "name": "stdout",
          "text": [
            "Epoch 162/300 | Train Loss: 1.4247, Approx Train Acc: 62.05% | Val Acc: 86.64%\n"
          ]
        },
        {
          "output_type": "stream",
          "name": "stderr",
          "text": []
        },
        {
          "output_type": "stream",
          "name": "stdout",
          "text": [
            "Epoch 163/300 | Train Loss: 1.4239, Approx Train Acc: 62.12% | Val Acc: 86.65%\n"
          ]
        },
        {
          "output_type": "stream",
          "name": "stderr",
          "text": []
        },
        {
          "output_type": "stream",
          "name": "stdout",
          "text": [
            "Epoch 164/300 | Train Loss: 1.4282, Approx Train Acc: 61.70% | Val Acc: 87.11%\n"
          ]
        },
        {
          "output_type": "stream",
          "name": "stderr",
          "text": []
        },
        {
          "output_type": "stream",
          "name": "stdout",
          "text": [
            "Epoch 165/300 | Train Loss: 1.4249, Approx Train Acc: 61.55% | Val Acc: 88.17%\n"
          ]
        },
        {
          "output_type": "stream",
          "name": "stderr",
          "text": []
        },
        {
          "output_type": "stream",
          "name": "stdout",
          "text": [
            "Epoch 166/300 | Train Loss: 1.4359, Approx Train Acc: 61.53% | Val Acc: 88.63%\n"
          ]
        },
        {
          "output_type": "stream",
          "name": "stderr",
          "text": []
        },
        {
          "output_type": "stream",
          "name": "stdout",
          "text": [
            "Epoch 167/300 | Train Loss: 1.4218, Approx Train Acc: 62.12% | Val Acc: 88.35%\n"
          ]
        },
        {
          "output_type": "stream",
          "name": "stderr",
          "text": []
        },
        {
          "output_type": "stream",
          "name": "stdout",
          "text": [
            "Epoch 168/300 | Train Loss: 1.4062, Approx Train Acc: 63.09% | Val Acc: 89.35%\n"
          ]
        },
        {
          "output_type": "stream",
          "name": "stderr",
          "text": []
        },
        {
          "output_type": "stream",
          "name": "stdout",
          "text": [
            "Epoch 169/300 | Train Loss: 1.4094, Approx Train Acc: 62.57% | Val Acc: 88.03%\n"
          ]
        },
        {
          "output_type": "stream",
          "name": "stderr",
          "text": []
        },
        {
          "output_type": "stream",
          "name": "stdout",
          "text": [
            "Epoch 170/300 | Train Loss: 1.4323, Approx Train Acc: 61.69% | Val Acc: 89.78%\n"
          ]
        },
        {
          "output_type": "stream",
          "name": "stderr",
          "text": []
        },
        {
          "output_type": "stream",
          "name": "stdout",
          "text": [
            "Epoch 171/300 | Train Loss: 1.4168, Approx Train Acc: 62.17% | Val Acc: 88.75%\n"
          ]
        },
        {
          "output_type": "stream",
          "name": "stderr",
          "text": []
        },
        {
          "output_type": "stream",
          "name": "stdout",
          "text": [
            "Epoch 172/300 | Train Loss: 1.3957, Approx Train Acc: 63.73% | Val Acc: 90.44%\n",
            "   [*] Saved new best model: Val Acc = 90.44%\n"
          ]
        },
        {
          "output_type": "stream",
          "name": "stderr",
          "text": []
        },
        {
          "output_type": "stream",
          "name": "stdout",
          "text": [
            "Epoch 173/300 | Train Loss: 1.4152, Approx Train Acc: 62.03% | Val Acc: 86.60%\n"
          ]
        },
        {
          "output_type": "stream",
          "name": "stderr",
          "text": []
        },
        {
          "output_type": "stream",
          "name": "stdout",
          "text": [
            "Epoch 174/300 | Train Loss: 1.3969, Approx Train Acc: 62.99% | Val Acc: 89.79%\n"
          ]
        },
        {
          "output_type": "stream",
          "name": "stderr",
          "text": []
        },
        {
          "output_type": "stream",
          "name": "stdout",
          "text": [
            "Epoch 175/300 | Train Loss: 1.3971, Approx Train Acc: 63.05% | Val Acc: 89.11%\n"
          ]
        },
        {
          "output_type": "stream",
          "name": "stderr",
          "text": []
        },
        {
          "output_type": "stream",
          "name": "stdout",
          "text": [
            "Epoch 176/300 | Train Loss: 1.3843, Approx Train Acc: 63.62% | Val Acc: 89.01%\n"
          ]
        },
        {
          "output_type": "stream",
          "name": "stderr",
          "text": []
        },
        {
          "output_type": "stream",
          "name": "stdout",
          "text": [
            "Epoch 177/300 | Train Loss: 1.4023, Approx Train Acc: 62.93% | Val Acc: 89.89%\n"
          ]
        },
        {
          "output_type": "stream",
          "name": "stderr",
          "text": []
        },
        {
          "output_type": "stream",
          "name": "stdout",
          "text": [
            "Epoch 178/300 | Train Loss: 1.4143, Approx Train Acc: 62.42% | Val Acc: 89.46%\n"
          ]
        },
        {
          "output_type": "stream",
          "name": "stderr",
          "text": []
        },
        {
          "output_type": "stream",
          "name": "stdout",
          "text": [
            "Epoch 179/300 | Train Loss: 1.3853, Approx Train Acc: 63.76% | Val Acc: 90.26%\n"
          ]
        },
        {
          "output_type": "stream",
          "name": "stderr",
          "text": []
        },
        {
          "output_type": "stream",
          "name": "stdout",
          "text": [
            "Epoch 180/300 | Train Loss: 1.3945, Approx Train Acc: 63.27% | Val Acc: 89.49%\n"
          ]
        },
        {
          "output_type": "stream",
          "name": "stderr",
          "text": []
        },
        {
          "output_type": "stream",
          "name": "stdout",
          "text": [
            "Epoch 181/300 | Train Loss: 1.3980, Approx Train Acc: 62.87% | Val Acc: 88.77%\n"
          ]
        },
        {
          "output_type": "stream",
          "name": "stderr",
          "text": []
        },
        {
          "output_type": "stream",
          "name": "stdout",
          "text": [
            "Epoch 182/300 | Train Loss: 1.4113, Approx Train Acc: 62.61% | Val Acc: 91.30%\n",
            "   [*] Saved new best model: Val Acc = 91.30%\n"
          ]
        },
        {
          "output_type": "stream",
          "name": "stderr",
          "text": []
        },
        {
          "output_type": "stream",
          "name": "stdout",
          "text": [
            "Epoch 183/300 | Train Loss: 1.3901, Approx Train Acc: 63.54% | Val Acc: 89.24%\n"
          ]
        },
        {
          "output_type": "stream",
          "name": "stderr",
          "text": []
        },
        {
          "output_type": "stream",
          "name": "stdout",
          "text": [
            "Epoch 184/300 | Train Loss: 1.3864, Approx Train Acc: 63.73% | Val Acc: 91.07%\n"
          ]
        },
        {
          "output_type": "stream",
          "name": "stderr",
          "text": []
        },
        {
          "output_type": "stream",
          "name": "stdout",
          "text": [
            "Epoch 185/300 | Train Loss: 1.3667, Approx Train Acc: 64.62% | Val Acc: 89.64%\n"
          ]
        },
        {
          "output_type": "stream",
          "name": "stderr",
          "text": []
        },
        {
          "output_type": "stream",
          "name": "stdout",
          "text": [
            "Epoch 186/300 | Train Loss: 1.3846, Approx Train Acc: 63.90% | Val Acc: 87.36%\n"
          ]
        },
        {
          "output_type": "stream",
          "name": "stderr",
          "text": []
        },
        {
          "output_type": "stream",
          "name": "stdout",
          "text": [
            "Epoch 187/300 | Train Loss: 1.3816, Approx Train Acc: 63.67% | Val Acc: 89.83%\n"
          ]
        },
        {
          "output_type": "stream",
          "name": "stderr",
          "text": []
        },
        {
          "output_type": "stream",
          "name": "stdout",
          "text": [
            "Epoch 188/300 | Train Loss: 1.3952, Approx Train Acc: 63.30% | Val Acc: 90.83%\n"
          ]
        },
        {
          "output_type": "stream",
          "name": "stderr",
          "text": []
        },
        {
          "output_type": "stream",
          "name": "stdout",
          "text": [
            "Epoch 189/300 | Train Loss: 1.3990, Approx Train Acc: 62.68% | Val Acc: 89.62%\n"
          ]
        },
        {
          "output_type": "stream",
          "name": "stderr",
          "text": []
        },
        {
          "output_type": "stream",
          "name": "stdout",
          "text": [
            "Epoch 190/300 | Train Loss: 1.3760, Approx Train Acc: 64.06% | Val Acc: 88.75%\n"
          ]
        },
        {
          "output_type": "stream",
          "name": "stderr",
          "text": []
        },
        {
          "output_type": "stream",
          "name": "stdout",
          "text": [
            "Epoch 191/300 | Train Loss: 1.3736, Approx Train Acc: 64.28% | Val Acc: 87.73%\n"
          ]
        },
        {
          "output_type": "stream",
          "name": "stderr",
          "text": []
        },
        {
          "output_type": "stream",
          "name": "stdout",
          "text": [
            "Epoch 192/300 | Train Loss: 1.3742, Approx Train Acc: 63.97% | Val Acc: 91.12%\n"
          ]
        },
        {
          "output_type": "stream",
          "name": "stderr",
          "text": []
        },
        {
          "output_type": "stream",
          "name": "stdout",
          "text": [
            "Epoch 193/300 | Train Loss: 1.3814, Approx Train Acc: 63.68% | Val Acc: 91.33%\n",
            "   [*] Saved new best model: Val Acc = 91.33%\n"
          ]
        },
        {
          "output_type": "stream",
          "name": "stderr",
          "text": []
        },
        {
          "output_type": "stream",
          "name": "stdout",
          "text": [
            "Epoch 194/300 | Train Loss: 1.3699, Approx Train Acc: 64.42% | Val Acc: 91.15%\n"
          ]
        },
        {
          "output_type": "stream",
          "name": "stderr",
          "text": []
        },
        {
          "output_type": "stream",
          "name": "stdout",
          "text": [
            "Epoch 195/300 | Train Loss: 1.3805, Approx Train Acc: 63.72% | Val Acc: 89.98%\n"
          ]
        },
        {
          "output_type": "stream",
          "name": "stderr",
          "text": []
        },
        {
          "output_type": "stream",
          "name": "stdout",
          "text": [
            "Epoch 196/300 | Train Loss: 1.3867, Approx Train Acc: 63.65% | Val Acc: 90.56%\n"
          ]
        },
        {
          "output_type": "stream",
          "name": "stderr",
          "text": []
        },
        {
          "output_type": "stream",
          "name": "stdout",
          "text": [
            "Epoch 197/300 | Train Loss: 1.3771, Approx Train Acc: 63.63% | Val Acc: 88.48%\n"
          ]
        },
        {
          "output_type": "stream",
          "name": "stderr",
          "text": []
        },
        {
          "output_type": "stream",
          "name": "stdout",
          "text": [
            "Epoch 198/300 | Train Loss: 1.3905, Approx Train Acc: 63.07% | Val Acc: 90.57%\n"
          ]
        },
        {
          "output_type": "stream",
          "name": "stderr",
          "text": []
        },
        {
          "output_type": "stream",
          "name": "stdout",
          "text": [
            "Epoch 199/300 | Train Loss: 1.3646, Approx Train Acc: 64.55% | Val Acc: 90.45%\n"
          ]
        },
        {
          "output_type": "stream",
          "name": "stderr",
          "text": []
        },
        {
          "output_type": "stream",
          "name": "stdout",
          "text": [
            "Epoch 200/300 | Train Loss: 1.3543, Approx Train Acc: 64.91% | Val Acc: 91.94%\n",
            "   [*] Saved new best model: Val Acc = 91.94%\n"
          ]
        },
        {
          "output_type": "stream",
          "name": "stderr",
          "text": []
        },
        {
          "output_type": "stream",
          "name": "stdout",
          "text": [
            "Epoch 201/300 | Train Loss: 1.3764, Approx Train Acc: 64.04% | Val Acc: 90.89%\n"
          ]
        },
        {
          "output_type": "stream",
          "name": "stderr",
          "text": []
        },
        {
          "output_type": "stream",
          "name": "stdout",
          "text": [
            "Epoch 202/300 | Train Loss: 1.3791, Approx Train Acc: 63.61% | Val Acc: 91.45%\n"
          ]
        },
        {
          "output_type": "stream",
          "name": "stderr",
          "text": []
        },
        {
          "output_type": "stream",
          "name": "stdout",
          "text": [
            "Epoch 203/300 | Train Loss: 1.3724, Approx Train Acc: 64.04% | Val Acc: 91.44%\n"
          ]
        },
        {
          "output_type": "stream",
          "name": "stderr",
          "text": []
        },
        {
          "output_type": "stream",
          "name": "stdout",
          "text": [
            "Epoch 204/300 | Train Loss: 1.3624, Approx Train Acc: 64.23% | Val Acc: 90.23%\n"
          ]
        },
        {
          "output_type": "stream",
          "name": "stderr",
          "text": []
        },
        {
          "output_type": "stream",
          "name": "stdout",
          "text": [
            "Epoch 205/300 | Train Loss: 1.3401, Approx Train Acc: 65.58% | Val Acc: 91.48%\n"
          ]
        },
        {
          "output_type": "stream",
          "name": "stderr",
          "text": []
        },
        {
          "output_type": "stream",
          "name": "stdout",
          "text": [
            "Epoch 206/300 | Train Loss: 1.3541, Approx Train Acc: 65.01% | Val Acc: 92.34%\n",
            "   [*] Saved new best model: Val Acc = 92.34%\n"
          ]
        },
        {
          "output_type": "stream",
          "name": "stderr",
          "text": []
        },
        {
          "output_type": "stream",
          "name": "stdout",
          "text": [
            "Epoch 207/300 | Train Loss: 1.3230, Approx Train Acc: 66.48% | Val Acc: 91.06%\n"
          ]
        },
        {
          "output_type": "stream",
          "name": "stderr",
          "text": []
        },
        {
          "output_type": "stream",
          "name": "stdout",
          "text": [
            "Epoch 208/300 | Train Loss: 1.3414, Approx Train Acc: 65.59% | Val Acc: 91.62%\n"
          ]
        },
        {
          "output_type": "stream",
          "name": "stderr",
          "text": []
        },
        {
          "output_type": "stream",
          "name": "stdout",
          "text": [
            "Epoch 209/300 | Train Loss: 1.3591, Approx Train Acc: 64.32% | Val Acc: 90.07%\n"
          ]
        },
        {
          "output_type": "stream",
          "name": "stderr",
          "text": []
        },
        {
          "output_type": "stream",
          "name": "stdout",
          "text": [
            "Epoch 210/300 | Train Loss: 1.3437, Approx Train Acc: 64.84% | Val Acc: 92.22%\n"
          ]
        },
        {
          "output_type": "stream",
          "name": "stderr",
          "text": []
        },
        {
          "output_type": "stream",
          "name": "stdout",
          "text": [
            "Epoch 211/300 | Train Loss: 1.3469, Approx Train Acc: 65.15% | Val Acc: 90.08%\n"
          ]
        },
        {
          "output_type": "stream",
          "name": "stderr",
          "text": []
        },
        {
          "output_type": "stream",
          "name": "stdout",
          "text": [
            "Epoch 212/300 | Train Loss: 1.3289, Approx Train Acc: 65.97% | Val Acc: 92.47%\n",
            "   [*] Saved new best model: Val Acc = 92.47%\n"
          ]
        },
        {
          "output_type": "stream",
          "name": "stderr",
          "text": []
        },
        {
          "output_type": "stream",
          "name": "stdout",
          "text": [
            "Epoch 213/300 | Train Loss: 1.3224, Approx Train Acc: 66.18% | Val Acc: 91.41%\n"
          ]
        },
        {
          "output_type": "stream",
          "name": "stderr",
          "text": []
        },
        {
          "output_type": "stream",
          "name": "stdout",
          "text": [
            "Epoch 214/300 | Train Loss: 1.3647, Approx Train Acc: 63.89% | Val Acc: 91.08%\n"
          ]
        },
        {
          "output_type": "stream",
          "name": "stderr",
          "text": []
        },
        {
          "output_type": "stream",
          "name": "stdout",
          "text": [
            "Epoch 215/300 | Train Loss: 1.3093, Approx Train Acc: 66.84% | Val Acc: 92.25%\n"
          ]
        },
        {
          "output_type": "stream",
          "name": "stderr",
          "text": []
        },
        {
          "output_type": "stream",
          "name": "stdout",
          "text": [
            "Epoch 216/300 | Train Loss: 1.3523, Approx Train Acc: 64.95% | Val Acc: 92.85%\n",
            "   [*] Saved new best model: Val Acc = 92.85%\n"
          ]
        },
        {
          "output_type": "stream",
          "name": "stderr",
          "text": []
        },
        {
          "output_type": "stream",
          "name": "stdout",
          "text": [
            "Epoch 217/300 | Train Loss: 1.3185, Approx Train Acc: 66.13% | Val Acc: 92.20%\n"
          ]
        },
        {
          "output_type": "stream",
          "name": "stderr",
          "text": []
        },
        {
          "output_type": "stream",
          "name": "stdout",
          "text": [
            "Epoch 218/300 | Train Loss: 1.3538, Approx Train Acc: 64.69% | Val Acc: 93.22%\n",
            "   [*] Saved new best model: Val Acc = 93.22%\n"
          ]
        },
        {
          "output_type": "stream",
          "name": "stderr",
          "text": []
        },
        {
          "output_type": "stream",
          "name": "stdout",
          "text": [
            "Epoch 219/300 | Train Loss: 1.3183, Approx Train Acc: 66.37% | Val Acc: 92.34%\n"
          ]
        },
        {
          "output_type": "stream",
          "name": "stderr",
          "text": []
        },
        {
          "output_type": "stream",
          "name": "stdout",
          "text": [
            "Epoch 220/300 | Train Loss: 1.3326, Approx Train Acc: 65.48% | Val Acc: 92.99%\n"
          ]
        },
        {
          "output_type": "stream",
          "name": "stderr",
          "text": []
        },
        {
          "output_type": "stream",
          "name": "stdout",
          "text": [
            "Epoch 221/300 | Train Loss: 1.3463, Approx Train Acc: 64.79% | Val Acc: 93.18%\n"
          ]
        },
        {
          "output_type": "stream",
          "name": "stderr",
          "text": []
        },
        {
          "output_type": "stream",
          "name": "stdout",
          "text": [
            "Epoch 222/300 | Train Loss: 1.3195, Approx Train Acc: 66.10% | Val Acc: 92.92%\n"
          ]
        },
        {
          "output_type": "stream",
          "name": "stderr",
          "text": []
        },
        {
          "output_type": "stream",
          "name": "stdout",
          "text": [
            "Epoch 223/300 | Train Loss: 1.3430, Approx Train Acc: 64.90% | Val Acc: 93.83%\n",
            "   [*] Saved new best model: Val Acc = 93.83%\n"
          ]
        },
        {
          "output_type": "stream",
          "name": "stderr",
          "text": []
        },
        {
          "output_type": "stream",
          "name": "stdout",
          "text": [
            "Epoch 224/300 | Train Loss: 1.3375, Approx Train Acc: 65.06% | Val Acc: 92.30%\n"
          ]
        },
        {
          "output_type": "stream",
          "name": "stderr",
          "text": []
        },
        {
          "output_type": "stream",
          "name": "stdout",
          "text": [
            "Epoch 225/300 | Train Loss: 1.3333, Approx Train Acc: 65.46% | Val Acc: 93.56%\n"
          ]
        },
        {
          "output_type": "stream",
          "name": "stderr",
          "text": []
        },
        {
          "output_type": "stream",
          "name": "stdout",
          "text": [
            "Epoch 226/300 | Train Loss: 1.3410, Approx Train Acc: 65.15% | Val Acc: 93.01%\n"
          ]
        },
        {
          "output_type": "stream",
          "name": "stderr",
          "text": []
        },
        {
          "output_type": "stream",
          "name": "stdout",
          "text": [
            "Epoch 227/300 | Train Loss: 1.3171, Approx Train Acc: 66.41% | Val Acc: 92.75%\n"
          ]
        },
        {
          "output_type": "stream",
          "name": "stderr",
          "text": []
        },
        {
          "output_type": "stream",
          "name": "stdout",
          "text": [
            "Epoch 228/300 | Train Loss: 1.3101, Approx Train Acc: 66.50% | Val Acc: 93.61%\n"
          ]
        },
        {
          "output_type": "stream",
          "name": "stderr",
          "text": []
        },
        {
          "output_type": "stream",
          "name": "stdout",
          "text": [
            "Epoch 229/300 | Train Loss: 1.3009, Approx Train Acc: 67.18% | Val Acc: 93.46%\n"
          ]
        },
        {
          "output_type": "stream",
          "name": "stderr",
          "text": []
        },
        {
          "output_type": "stream",
          "name": "stdout",
          "text": [
            "Epoch 230/300 | Train Loss: 1.3000, Approx Train Acc: 66.87% | Val Acc: 93.59%\n"
          ]
        },
        {
          "output_type": "stream",
          "name": "stderr",
          "text": []
        },
        {
          "output_type": "stream",
          "name": "stdout",
          "text": [
            "Epoch 231/300 | Train Loss: 1.3154, Approx Train Acc: 66.06% | Val Acc: 93.45%\n"
          ]
        },
        {
          "output_type": "stream",
          "name": "stderr",
          "text": []
        },
        {
          "output_type": "stream",
          "name": "stdout",
          "text": [
            "Epoch 232/300 | Train Loss: 1.3258, Approx Train Acc: 65.72% | Val Acc: 93.61%\n"
          ]
        },
        {
          "output_type": "stream",
          "name": "stderr",
          "text": []
        },
        {
          "output_type": "stream",
          "name": "stdout",
          "text": [
            "Epoch 233/300 | Train Loss: 1.2812, Approx Train Acc: 67.71% | Val Acc: 93.08%\n"
          ]
        },
        {
          "output_type": "stream",
          "name": "stderr",
          "text": []
        },
        {
          "output_type": "stream",
          "name": "stdout",
          "text": [
            "Epoch 234/300 | Train Loss: 1.3031, Approx Train Acc: 66.98% | Val Acc: 93.85%\n",
            "   [*] Saved new best model: Val Acc = 93.85%\n"
          ]
        },
        {
          "output_type": "stream",
          "name": "stderr",
          "text": []
        },
        {
          "output_type": "stream",
          "name": "stdout",
          "text": [
            "Epoch 235/300 | Train Loss: 1.2776, Approx Train Acc: 67.91% | Val Acc: 93.54%\n"
          ]
        },
        {
          "output_type": "stream",
          "name": "stderr",
          "text": []
        },
        {
          "output_type": "stream",
          "name": "stdout",
          "text": [
            "Epoch 236/300 | Train Loss: 1.2944, Approx Train Acc: 67.05% | Val Acc: 93.36%\n"
          ]
        },
        {
          "output_type": "stream",
          "name": "stderr",
          "text": []
        },
        {
          "output_type": "stream",
          "name": "stdout",
          "text": [
            "Epoch 237/300 | Train Loss: 1.2786, Approx Train Acc: 68.04% | Val Acc: 93.61%\n"
          ]
        },
        {
          "output_type": "stream",
          "name": "stderr",
          "text": []
        },
        {
          "output_type": "stream",
          "name": "stdout",
          "text": [
            "Epoch 238/300 | Train Loss: 1.3107, Approx Train Acc: 66.51% | Val Acc: 93.99%\n",
            "   [*] Saved new best model: Val Acc = 93.99%\n"
          ]
        },
        {
          "output_type": "stream",
          "name": "stderr",
          "text": []
        },
        {
          "output_type": "stream",
          "name": "stdout",
          "text": [
            "Epoch 239/300 | Train Loss: 1.3039, Approx Train Acc: 66.80% | Val Acc: 94.16%\n",
            "   [*] Saved new best model: Val Acc = 94.16%\n"
          ]
        },
        {
          "output_type": "stream",
          "name": "stderr",
          "text": []
        },
        {
          "output_type": "stream",
          "name": "stdout",
          "text": [
            "Epoch 240/300 | Train Loss: 1.3017, Approx Train Acc: 66.66% | Val Acc: 93.75%\n"
          ]
        },
        {
          "output_type": "stream",
          "name": "stderr",
          "text": []
        },
        {
          "output_type": "stream",
          "name": "stdout",
          "text": [
            "Epoch 241/300 | Train Loss: 1.2812, Approx Train Acc: 67.60% | Val Acc: 92.79%\n"
          ]
        },
        {
          "output_type": "stream",
          "name": "stderr",
          "text": []
        },
        {
          "output_type": "stream",
          "name": "stdout",
          "text": [
            "Epoch 242/300 | Train Loss: 1.2874, Approx Train Acc: 67.19% | Val Acc: 94.66%\n",
            "   [*] Saved new best model: Val Acc = 94.66%\n"
          ]
        },
        {
          "output_type": "stream",
          "name": "stderr",
          "text": []
        },
        {
          "output_type": "stream",
          "name": "stdout",
          "text": [
            "Epoch 243/300 | Train Loss: 1.2947, Approx Train Acc: 66.74% | Val Acc: 94.16%\n"
          ]
        },
        {
          "output_type": "stream",
          "name": "stderr",
          "text": []
        },
        {
          "output_type": "stream",
          "name": "stdout",
          "text": [
            "Epoch 244/300 | Train Loss: 1.2541, Approx Train Acc: 68.99% | Val Acc: 94.65%\n"
          ]
        },
        {
          "output_type": "stream",
          "name": "stderr",
          "text": []
        },
        {
          "output_type": "stream",
          "name": "stdout",
          "text": [
            "Epoch 245/300 | Train Loss: 1.2933, Approx Train Acc: 66.72% | Val Acc: 94.27%\n"
          ]
        },
        {
          "output_type": "stream",
          "name": "stderr",
          "text": []
        },
        {
          "output_type": "stream",
          "name": "stdout",
          "text": [
            "Epoch 246/300 | Train Loss: 1.2656, Approx Train Acc: 68.26% | Val Acc: 94.36%\n"
          ]
        },
        {
          "output_type": "stream",
          "name": "stderr",
          "text": []
        },
        {
          "output_type": "stream",
          "name": "stdout",
          "text": [
            "Epoch 247/300 | Train Loss: 1.2701, Approx Train Acc: 68.13% | Val Acc: 94.50%\n"
          ]
        },
        {
          "output_type": "stream",
          "name": "stderr",
          "text": []
        },
        {
          "output_type": "stream",
          "name": "stdout",
          "text": [
            "Epoch 248/300 | Train Loss: 1.2503, Approx Train Acc: 68.85% | Val Acc: 94.92%\n",
            "   [*] Saved new best model: Val Acc = 94.92%\n"
          ]
        },
        {
          "output_type": "stream",
          "name": "stderr",
          "text": []
        },
        {
          "output_type": "stream",
          "name": "stdout",
          "text": [
            "Epoch 249/300 | Train Loss: 1.2592, Approx Train Acc: 68.41% | Val Acc: 95.14%\n",
            "   [*] Saved new best model: Val Acc = 95.14%\n"
          ]
        },
        {
          "output_type": "stream",
          "name": "stderr",
          "text": []
        },
        {
          "output_type": "stream",
          "name": "stdout",
          "text": [
            "Epoch 250/300 | Train Loss: 1.2753, Approx Train Acc: 67.47% | Val Acc: 94.84%\n"
          ]
        },
        {
          "output_type": "stream",
          "name": "stderr",
          "text": []
        },
        {
          "output_type": "stream",
          "name": "stdout",
          "text": [
            "Epoch 251/300 | Train Loss: 1.2432, Approx Train Acc: 69.54% | Val Acc: 95.16%\n",
            "   [*] Saved new best model: Val Acc = 95.16%\n"
          ]
        },
        {
          "output_type": "stream",
          "name": "stderr",
          "text": []
        },
        {
          "output_type": "stream",
          "name": "stdout",
          "text": [
            "Epoch 252/300 | Train Loss: 1.2811, Approx Train Acc: 66.91% | Val Acc: 94.71%\n"
          ]
        },
        {
          "output_type": "stream",
          "name": "stderr",
          "text": []
        },
        {
          "output_type": "stream",
          "name": "stdout",
          "text": [
            "Epoch 253/300 | Train Loss: 1.2610, Approx Train Acc: 68.36% | Val Acc: 94.52%\n"
          ]
        },
        {
          "output_type": "stream",
          "name": "stderr",
          "text": []
        },
        {
          "output_type": "stream",
          "name": "stdout",
          "text": [
            "Epoch 254/300 | Train Loss: 1.2255, Approx Train Acc: 70.45% | Val Acc: 95.33%\n",
            "   [*] Saved new best model: Val Acc = 95.33%\n"
          ]
        },
        {
          "output_type": "stream",
          "name": "stderr",
          "text": []
        },
        {
          "output_type": "stream",
          "name": "stdout",
          "text": [
            "Epoch 255/300 | Train Loss: 1.2564, Approx Train Acc: 68.38% | Val Acc: 94.75%\n"
          ]
        },
        {
          "output_type": "stream",
          "name": "stderr",
          "text": []
        },
        {
          "output_type": "stream",
          "name": "stdout",
          "text": [
            "Epoch 256/300 | Train Loss: 1.2665, Approx Train Acc: 67.65% | Val Acc: 95.36%\n",
            "   [*] Saved new best model: Val Acc = 95.36%\n"
          ]
        },
        {
          "output_type": "stream",
          "name": "stderr",
          "text": []
        },
        {
          "output_type": "stream",
          "name": "stdout",
          "text": [
            "Epoch 257/300 | Train Loss: 1.2355, Approx Train Acc: 69.25% | Val Acc: 95.33%\n"
          ]
        },
        {
          "output_type": "stream",
          "name": "stderr",
          "text": []
        },
        {
          "output_type": "stream",
          "name": "stdout",
          "text": [
            "Epoch 258/300 | Train Loss: 1.2322, Approx Train Acc: 69.55% | Val Acc: 95.32%\n"
          ]
        },
        {
          "output_type": "stream",
          "name": "stderr",
          "text": []
        },
        {
          "output_type": "stream",
          "name": "stdout",
          "text": [
            "Epoch 259/300 | Train Loss: 1.2533, Approx Train Acc: 68.08% | Val Acc: 95.32%\n"
          ]
        },
        {
          "output_type": "stream",
          "name": "stderr",
          "text": []
        },
        {
          "output_type": "stream",
          "name": "stdout",
          "text": [
            "Epoch 260/300 | Train Loss: 1.2369, Approx Train Acc: 69.30% | Val Acc: 95.61%\n",
            "   [*] Saved new best model: Val Acc = 95.61%\n"
          ]
        },
        {
          "output_type": "stream",
          "name": "stderr",
          "text": []
        },
        {
          "output_type": "stream",
          "name": "stdout",
          "text": [
            "Epoch 261/300 | Train Loss: 1.2158, Approx Train Acc: 69.96% | Val Acc: 95.52%\n"
          ]
        },
        {
          "output_type": "stream",
          "name": "stderr",
          "text": []
        },
        {
          "output_type": "stream",
          "name": "stdout",
          "text": [
            "Epoch 262/300 | Train Loss: 1.2282, Approx Train Acc: 69.45% | Val Acc: 95.51%\n"
          ]
        },
        {
          "output_type": "stream",
          "name": "stderr",
          "text": []
        },
        {
          "output_type": "stream",
          "name": "stdout",
          "text": [
            "Epoch 263/300 | Train Loss: 1.2177, Approx Train Acc: 70.05% | Val Acc: 95.79%\n",
            "   [*] Saved new best model: Val Acc = 95.79%\n"
          ]
        },
        {
          "output_type": "stream",
          "name": "stderr",
          "text": []
        },
        {
          "output_type": "stream",
          "name": "stdout",
          "text": [
            "Epoch 264/300 | Train Loss: 1.2276, Approx Train Acc: 69.54% | Val Acc: 95.55%\n"
          ]
        },
        {
          "output_type": "stream",
          "name": "stderr",
          "text": []
        },
        {
          "output_type": "stream",
          "name": "stdout",
          "text": [
            "Epoch 265/300 | Train Loss: 1.2423, Approx Train Acc: 68.73% | Val Acc: 95.67%\n"
          ]
        },
        {
          "output_type": "stream",
          "name": "stderr",
          "text": []
        },
        {
          "output_type": "stream",
          "name": "stdout",
          "text": [
            "Epoch 266/300 | Train Loss: 1.2323, Approx Train Acc: 69.04% | Val Acc: 95.40%\n"
          ]
        },
        {
          "output_type": "stream",
          "name": "stderr",
          "text": []
        },
        {
          "output_type": "stream",
          "name": "stdout",
          "text": [
            "Epoch 267/300 | Train Loss: 1.2368, Approx Train Acc: 68.89% | Val Acc: 95.77%\n"
          ]
        },
        {
          "output_type": "stream",
          "name": "stderr",
          "text": []
        },
        {
          "output_type": "stream",
          "name": "stdout",
          "text": [
            "Epoch 268/300 | Train Loss: 1.1993, Approx Train Acc: 70.78% | Val Acc: 95.72%\n"
          ]
        },
        {
          "output_type": "stream",
          "name": "stderr",
          "text": []
        },
        {
          "output_type": "stream",
          "name": "stdout",
          "text": [
            "Epoch 269/300 | Train Loss: 1.2155, Approx Train Acc: 70.01% | Val Acc: 95.98%\n",
            "   [*] Saved new best model: Val Acc = 95.98%\n"
          ]
        },
        {
          "output_type": "stream",
          "name": "stderr",
          "text": []
        },
        {
          "output_type": "stream",
          "name": "stdout",
          "text": [
            "Epoch 270/300 | Train Loss: 1.1917, Approx Train Acc: 71.22% | Val Acc: 95.95%\n"
          ]
        },
        {
          "output_type": "stream",
          "name": "stderr",
          "text": []
        },
        {
          "output_type": "stream",
          "name": "stdout",
          "text": [
            "Epoch 271/300 | Train Loss: 1.1734, Approx Train Acc: 71.73% | Val Acc: 96.12%\n",
            "   [*] Saved new best model: Val Acc = 96.12%\n"
          ]
        },
        {
          "output_type": "stream",
          "name": "stderr",
          "text": []
        },
        {
          "output_type": "stream",
          "name": "stdout",
          "text": [
            "Epoch 272/300 | Train Loss: 1.1846, Approx Train Acc: 71.53% | Val Acc: 96.08%\n"
          ]
        },
        {
          "output_type": "stream",
          "name": "stderr",
          "text": []
        },
        {
          "output_type": "stream",
          "name": "stdout",
          "text": [
            "Epoch 273/300 | Train Loss: 1.1971, Approx Train Acc: 70.61% | Val Acc: 96.12%\n"
          ]
        },
        {
          "output_type": "stream",
          "name": "stderr",
          "text": []
        },
        {
          "output_type": "stream",
          "name": "stdout",
          "text": [
            "Epoch 274/300 | Train Loss: 1.2049, Approx Train Acc: 70.46% | Val Acc: 96.38%\n",
            "   [*] Saved new best model: Val Acc = 96.38%\n"
          ]
        },
        {
          "output_type": "stream",
          "name": "stderr",
          "text": []
        },
        {
          "output_type": "stream",
          "name": "stdout",
          "text": [
            "Epoch 275/300 | Train Loss: 1.1893, Approx Train Acc: 71.16% | Val Acc: 95.80%\n"
          ]
        },
        {
          "output_type": "stream",
          "name": "stderr",
          "text": []
        },
        {
          "output_type": "stream",
          "name": "stdout",
          "text": [
            "Epoch 276/300 | Train Loss: 1.2080, Approx Train Acc: 70.11% | Val Acc: 96.43%\n",
            "   [*] Saved new best model: Val Acc = 96.43%\n"
          ]
        },
        {
          "output_type": "stream",
          "name": "stderr",
          "text": []
        },
        {
          "output_type": "stream",
          "name": "stdout",
          "text": [
            "Epoch 277/300 | Train Loss: 1.1900, Approx Train Acc: 70.95% | Val Acc: 96.36%\n"
          ]
        },
        {
          "output_type": "stream",
          "name": "stderr",
          "text": []
        },
        {
          "output_type": "stream",
          "name": "stdout",
          "text": [
            "Epoch 278/300 | Train Loss: 1.2022, Approx Train Acc: 70.01% | Val Acc: 96.50%\n",
            "   [*] Saved new best model: Val Acc = 96.50%\n"
          ]
        },
        {
          "output_type": "stream",
          "name": "stderr",
          "text": []
        },
        {
          "output_type": "stream",
          "name": "stdout",
          "text": [
            "Epoch 279/300 | Train Loss: 1.2024, Approx Train Acc: 70.50% | Val Acc: 96.54%\n",
            "   [*] Saved new best model: Val Acc = 96.54%\n"
          ]
        },
        {
          "output_type": "stream",
          "name": "stderr",
          "text": []
        },
        {
          "output_type": "stream",
          "name": "stdout",
          "text": [
            "Epoch 280/300 | Train Loss: 1.1861, Approx Train Acc: 71.41% | Val Acc: 96.48%\n"
          ]
        },
        {
          "output_type": "stream",
          "name": "stderr",
          "text": []
        },
        {
          "output_type": "stream",
          "name": "stdout",
          "text": [
            "Epoch 281/300 | Train Loss: 1.1955, Approx Train Acc: 70.46% | Val Acc: 96.57%\n",
            "   [*] Saved new best model: Val Acc = 96.57%\n"
          ]
        },
        {
          "output_type": "stream",
          "name": "stderr",
          "text": []
        },
        {
          "output_type": "stream",
          "name": "stdout",
          "text": [
            "Epoch 282/300 | Train Loss: 1.1748, Approx Train Acc: 71.65% | Val Acc: 96.45%\n"
          ]
        },
        {
          "output_type": "stream",
          "name": "stderr",
          "text": []
        },
        {
          "output_type": "stream",
          "name": "stdout",
          "text": [
            "Epoch 283/300 | Train Loss: 1.1648, Approx Train Acc: 71.91% | Val Acc: 96.55%\n"
          ]
        },
        {
          "output_type": "stream",
          "name": "stderr",
          "text": []
        },
        {
          "output_type": "stream",
          "name": "stdout",
          "text": [
            "Epoch 284/300 | Train Loss: 1.1972, Approx Train Acc: 70.17% | Val Acc: 96.49%\n"
          ]
        },
        {
          "output_type": "stream",
          "name": "stderr",
          "text": []
        },
        {
          "output_type": "stream",
          "name": "stdout",
          "text": [
            "Epoch 285/300 | Train Loss: 1.1764, Approx Train Acc: 71.10% | Val Acc: 96.50%\n"
          ]
        },
        {
          "output_type": "stream",
          "name": "stderr",
          "text": []
        },
        {
          "output_type": "stream",
          "name": "stdout",
          "text": [
            "Epoch 286/300 | Train Loss: 1.1649, Approx Train Acc: 72.06% | Val Acc: 96.75%\n",
            "   [*] Saved new best model: Val Acc = 96.75%\n"
          ]
        },
        {
          "output_type": "stream",
          "name": "stderr",
          "text": []
        },
        {
          "output_type": "stream",
          "name": "stdout",
          "text": [
            "Epoch 287/300 | Train Loss: 1.1834, Approx Train Acc: 71.03% | Val Acc: 96.56%\n"
          ]
        },
        {
          "output_type": "stream",
          "name": "stderr",
          "text": []
        },
        {
          "output_type": "stream",
          "name": "stdout",
          "text": [
            "Epoch 288/300 | Train Loss: 1.1755, Approx Train Acc: 71.21% | Val Acc: 96.67%\n"
          ]
        },
        {
          "output_type": "stream",
          "name": "stderr",
          "text": []
        },
        {
          "output_type": "stream",
          "name": "stdout",
          "text": [
            "Epoch 289/300 | Train Loss: 1.1702, Approx Train Acc: 71.29% | Val Acc: 96.73%\n"
          ]
        },
        {
          "output_type": "stream",
          "name": "stderr",
          "text": []
        },
        {
          "output_type": "stream",
          "name": "stdout",
          "text": [
            "Epoch 290/300 | Train Loss: 1.1517, Approx Train Acc: 72.29% | Val Acc: 96.79%\n",
            "   [*] Saved new best model: Val Acc = 96.79%\n"
          ]
        },
        {
          "output_type": "stream",
          "name": "stderr",
          "text": []
        },
        {
          "output_type": "stream",
          "name": "stdout",
          "text": [
            "Epoch 291/300 | Train Loss: 1.1842, Approx Train Acc: 70.61% | Val Acc: 96.78%\n"
          ]
        },
        {
          "output_type": "stream",
          "name": "stderr",
          "text": []
        },
        {
          "output_type": "stream",
          "name": "stdout",
          "text": [
            "Epoch 292/300 | Train Loss: 1.1582, Approx Train Acc: 72.14% | Val Acc: 96.93%\n",
            "   [*] Saved new best model: Val Acc = 96.93%\n"
          ]
        },
        {
          "output_type": "stream",
          "name": "stderr",
          "text": []
        },
        {
          "output_type": "stream",
          "name": "stdout",
          "text": [
            "Epoch 293/300 | Train Loss: 1.1956, Approx Train Acc: 69.93% | Val Acc: 96.80%\n"
          ]
        },
        {
          "output_type": "stream",
          "name": "stderr",
          "text": []
        },
        {
          "output_type": "stream",
          "name": "stdout",
          "text": [
            "Epoch 294/300 | Train Loss: 1.1717, Approx Train Acc: 71.25% | Val Acc: 96.86%\n"
          ]
        },
        {
          "output_type": "stream",
          "name": "stderr",
          "text": []
        },
        {
          "output_type": "stream",
          "name": "stdout",
          "text": [
            "Epoch 295/300 | Train Loss: 1.1912, Approx Train Acc: 70.39% | Val Acc: 96.84%\n"
          ]
        },
        {
          "output_type": "stream",
          "name": "stderr",
          "text": []
        },
        {
          "output_type": "stream",
          "name": "stdout",
          "text": [
            "Epoch 296/300 | Train Loss: 1.1488, Approx Train Acc: 72.80% | Val Acc: 96.82%\n"
          ]
        },
        {
          "output_type": "stream",
          "name": "stderr",
          "text": []
        },
        {
          "output_type": "stream",
          "name": "stdout",
          "text": [
            "Epoch 297/300 | Train Loss: 1.1769, Approx Train Acc: 70.97% | Val Acc: 96.83%\n"
          ]
        },
        {
          "output_type": "stream",
          "name": "stderr",
          "text": []
        },
        {
          "output_type": "stream",
          "name": "stdout",
          "text": [
            "Epoch 298/300 | Train Loss: 1.1854, Approx Train Acc: 70.24% | Val Acc: 96.82%\n"
          ]
        },
        {
          "output_type": "stream",
          "name": "stderr",
          "text": []
        },
        {
          "output_type": "stream",
          "name": "stdout",
          "text": [
            "Epoch 299/300 | Train Loss: 1.1531, Approx Train Acc: 72.25% | Val Acc: 96.87%\n"
          ]
        },
        {
          "output_type": "stream",
          "name": "stderr",
          "text": []
        },
        {
          "output_type": "stream",
          "name": "stdout",
          "text": [
            "Epoch 300/300 | Train Loss: 1.1613, Approx Train Acc: 71.88% | Val Acc: 96.86%\n",
            "Training complete. Best validation accuracy: 96.93%\n",
            "Best model saved as best_model.pth\n"
          ]
        }
      ]
    },
    {
      "cell_type": "code",
      "source": [
        "# inference.py\n",
        "import torch\n",
        "import torchvision.transforms as transforms\n",
        "import pandas as pd\n",
        "import pickle\n",
        "import numpy as np\n",
        "from torch.utils.data import DataLoader, Dataset\n",
        "#from model import LightResNet18\n",
        "import torch.nn.functional as F\n",
        "\n",
        "def unpickle(file):\n",
        "    with open(file, 'rb') as fo:\n",
        "        data_dict = pickle.load(fo, encoding='bytes')\n",
        "    return data_dict\n",
        "\n",
        "class CIFARTestDataset(Dataset):\n",
        "    def __init__(self, data, ids, transform=None):\n",
        "        \"\"\"\n",
        "        data: shape (N, 32, 32, 3)\n",
        "        ids: array/list of image IDs\n",
        "        transform: transforms to apply\n",
        "        \"\"\"\n",
        "        self.data = data\n",
        "        self.ids = ids\n",
        "        self.transform = transform\n",
        "\n",
        "    def __len__(self):\n",
        "        return len(self.data)\n",
        "\n",
        "    def __getitem__(self, idx):\n",
        "        img = self.data[idx].astype(\"uint8\")  # ensure 0..255\n",
        "        img_id = self.ids[idx]\n",
        "        if self.transform:\n",
        "            img = self.transform(img)\n",
        "        return img, img_id\n",
        "\n",
        "def inference():\n",
        "    device = 'cuda' if torch.cuda.is_available() else 'cpu'\n",
        "    print(f\"Using device: {device}\")\n",
        "\n",
        "    # 1) Load the best model\n",
        "    model = RobustResNet64(num_blocks=10, base_channels=32, num_classes=10, drop_prob=0.1).to(device)\n",
        "    model.load_state_dict(torch.load(\"best_model.pth\", map_location=device))\n",
        "    model.eval()\n",
        "\n",
        "    # 2) Load custom test set .pkl\n",
        "    test_file = \"/content/cifar_test_nolabel.pkl\"\n",
        "    test_dict = unpickle(test_file)\n",
        "    print(\"Keys in test_dict:\", test_dict.keys())\n",
        "\n",
        "    # Reshape if it's (N, 3072). If it's already (N, 32,32,3), remove reshape\n",
        "    test_images = test_dict[b'data'].reshape(-1, 32, 32, 3)\n",
        "    test_ids = [str(i) for i in range(len(test_images))]\n",
        "\n",
        "    # 3) Define test transforms\n",
        "    transform_test = transforms.Compose([\n",
        "        transforms.ToPILImage(),\n",
        "        transforms.ToTensor(),\n",
        "        transforms.Normalize((0.4914, 0.4822, 0.4465),\n",
        "                             (0.2470, 0.2435, 0.2616))\n",
        "    ])\n",
        "\n",
        "    test_dataset = CIFARTestDataset(test_images, test_ids, transform=transform_test)\n",
        "    test_loader = DataLoader(test_dataset, batch_size=128, shuffle=False, num_workers=4)\n",
        "\n",
        "    # 4) Inference with 2-pass TTA\n",
        "    predictions = []\n",
        "    image_ids = []\n",
        "    with torch.no_grad():\n",
        "        for imgs, ids in test_loader:\n",
        "            imgs = imgs.to(device)\n",
        "\n",
        "            # Pass 1: Normal\n",
        "            out_normal = model(imgs)\n",
        "            probs_normal = F.softmax(out_normal, dim=1)\n",
        "\n",
        "            # Pass 2: Horizontal flip\n",
        "            imgs_flipped = torch.flip(imgs, dims=[3])  # flip W dimension\n",
        "            out_flipped = model(imgs_flipped)\n",
        "            probs_flipped = F.softmax(out_flipped, dim=1)\n",
        "\n",
        "            # Average probabilities\n",
        "            final_probs = (probs_normal + probs_flipped) / 2.0\n",
        "            _, predicted = torch.max(final_probs, 1)\n",
        "\n",
        "            predictions.extend(predicted.cpu().numpy().tolist())\n",
        "            image_ids.extend(ids)\n",
        "\n",
        "    # 5) Save submission\n",
        "    submission_df = pd.DataFrame({\"ID\": image_ids, \"Labels\": predictions})\n",
        "    submission_df.to_csv(\"submission.csv\", index=False)\n",
        "    print(\"Submission file saved as submission.csv\")\n",
        "\n",
        "if __name__ == \"__main__\":\n",
        "    inference()\n"
      ],
      "metadata": {
        "id": "jQ7SyXrHlT9f",
        "colab": {
          "base_uri": "https://localhost:8080/"
        },
        "outputId": "9f1d2e20-e260-4459-ac02-d991d1d82384"
      },
      "execution_count": null,
      "outputs": [
        {
          "output_type": "stream",
          "name": "stdout",
          "text": [
            "Using device: cuda\n",
            "Keys in test_dict: dict_keys([b'data', b'ids'])\n"
          ]
        },
        {
          "output_type": "stream",
          "name": "stderr",
          "text": [
            "<ipython-input-3-cb92c8e8b434>:43: FutureWarning: You are using `torch.load` with `weights_only=False` (the current default value), which uses the default pickle module implicitly. It is possible to construct malicious pickle data which will execute arbitrary code during unpickling (See https://github.com/pytorch/pytorch/blob/main/SECURITY.md#untrusted-models for more details). In a future release, the default value for `weights_only` will be flipped to `True`. This limits the functions that could be executed during unpickling. Arbitrary objects will no longer be allowed to be loaded via this mode unless they are explicitly allowlisted by the user via `torch.serialization.add_safe_globals`. We recommend you start setting `weights_only=True` for any use case where you don't have full control of the loaded file. Please open an issue on GitHub for any issues related to this experimental feature.\n",
            "  model.load_state_dict(torch.load(\"best_model.pth\", map_location=device))\n"
          ]
        },
        {
          "output_type": "stream",
          "name": "stdout",
          "text": [
            "Submission file saved as submission.csv\n"
          ]
        }
      ]
    },
    {
      "cell_type": "code",
      "source": [
        "import pandas as pd\n",
        "\n",
        "# Load and inspect submission file\n",
        "submission_df = pd.read_csv(\"submission.csv\")\n",
        "print(submission_df.head())  # Show first few rows\n",
        "print(submission_df[\"Labels\"].value_counts())  # Show label distribution\n"
      ],
      "metadata": {
        "id": "p9KKCKOR1g1Z",
        "colab": {
          "base_uri": "https://localhost:8080/"
        },
        "outputId": "7a5b0be8-8af5-414d-a321-6b483b0c2743"
      },
      "execution_count": null,
      "outputs": [
        {
          "output_type": "stream",
          "name": "stdout",
          "text": [
            "   ID  Labels\n",
            "0   0       6\n",
            "1   1       1\n",
            "2   2       8\n",
            "3   3       6\n",
            "4   4       9\n",
            "Labels\n",
            "3    1061\n",
            "1    1046\n",
            "5    1046\n",
            "8    1036\n",
            "7    1025\n",
            "9    1007\n",
            "2     993\n",
            "4     959\n",
            "6     926\n",
            "0     901\n",
            "Name: count, dtype: int64\n"
          ]
        }
      ]
    },
    {
      "cell_type": "markdown",
      "source": [
        "![WhatsApp Görsel 2025-03-14 saat 20.42.01_4889d7b6.jpg](data:image/jpeg;base64,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)"
      ],
      "metadata": {
        "id": "IRBlCnQBQ7qB"
      }
    },
    {
      "cell_type": "markdown",
      "source": [
        "![WhatsApp Görsel 2025-03-14 saat 18.22.48_9a5b3ddf.jpg](data:image/jpeg;base64,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)"
      ],
      "metadata": {
        "id": "RDSFjDhkQ72q"
      }
    }
  ]
}