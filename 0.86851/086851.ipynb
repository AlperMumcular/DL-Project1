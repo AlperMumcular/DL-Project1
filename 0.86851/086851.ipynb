{
  "nbformat": 4,
  "nbformat_minor": 0,
  "metadata": {
    "colab": {
      "provenance": [],
      "gpuType": "T4"
    },
    "kernelspec": {
      "name": "python3",
      "display_name": "Python 3"
    },
    "language_info": {
      "name": "python"
    },
    "accelerator": "GPU"
  },
  "cells": [
    {
      "cell_type": "markdown",
      "source": [
        "This model got 0.86851"
      ],
      "metadata": {
        "id": "eGc6ZjrGdkTs"
      }
    },
    {
      "cell_type": "code",
      "source": [
        "# model.py\n",
        "import torch\n",
        "import torch.nn as nn\n",
        "import torch.nn.functional as F\n",
        "import math\n",
        "\n",
        "# ------------------------------------------------------------------------\n",
        "#                       Squeeze-and-Excitation (SE) Block\n",
        "# ------------------------------------------------------------------------\n",
        "class SEBlock(nn.Module):\n",
        "    \"\"\"\n",
        "    A Squeeze-and-Excitation Block to recalibrate channel-wise feature responses.\n",
        "    \"\"\"\n",
        "    def __init__(self, channels, reduction=16):\n",
        "        super().__init__()\n",
        "        # First fully connected layer to reduce the dimensionality\n",
        "        self.fc1 = nn.Linear(channels, channels // reduction)\n",
        "        # Second fully connected layer to restore the dimensionality\n",
        "        self.fc2 = nn.Linear(channels // reduction, channels)\n",
        "\n",
        "    def forward(self, x):\n",
        "        b, c, _, _ = x.size()  # Batch size, channels, height, width\n",
        "        # Squeeze: global spatial average pooling\n",
        "        squeeze = x.view(b, c, -1).mean(dim=2)\n",
        "        # Excitation: two fully connected layers with ReLU and Sigmoid activations\n",
        "        excitation = F.relu(self.fc1(squeeze))\n",
        "        excitation = torch.sigmoid(self.fc2(excitation)).view(b, c, 1, 1)\n",
        "        # Apply the excitation to the input (recalibrate the features)\n",
        "        return x * excitation\n",
        "\n",
        "# ------------------------------------------------------------------------\n",
        "#                       Stochastic Depth\n",
        "# ------------------------------------------------------------------------\n",
        "class StochasticDepth(nn.Module):\n",
        "    \"\"\"\n",
        "    Implements stochastic depth, randomly dropping residual connections.\n",
        "    \"\"\"\n",
        "    def __init__(self, p: float = 0.1):\n",
        "        super().__init__()\n",
        "        self.p = p  # Probability of dropping the residual branch\n",
        "\n",
        "    def forward(self, x, residual):\n",
        "        # If not training or if probability is 0, return the sum of x and residual\n",
        "        if not self.training or self.p == 0.0:\n",
        "            return x + residual\n",
        "        # With probability p, drop the residual connection\n",
        "        if torch.rand(1).item() < self.p:\n",
        "            return x\n",
        "        else:\n",
        "            return x + residual\n",
        "\n",
        "# ------------------------------------------------------------------------\n",
        "#       PreAct Residual Block with SE and Stochastic Depth\n",
        "# ------------------------------------------------------------------------\n",
        "class PreActBlock(nn.Module):\n",
        "    \"\"\"\n",
        "    A Pre-Activation Residual Block with Squeeze-and-Excitation and Stochastic Depth.\n",
        "    \"\"\"\n",
        "    def __init__(self, in_planes, out_planes, stride=1, drop_prob=0.0):\n",
        "        super().__init__()\n",
        "        # Batch Normalization layer for input\n",
        "        self.bn1 = nn.BatchNorm2d(in_planes)\n",
        "        # Squeeze-and-Excitation Block\n",
        "        self.se = SEBlock(in_planes)\n",
        "        # First convolution layer with batch normalization\n",
        "        self.conv1 = nn.Conv2d(in_planes, out_planes, kernel_size=3,\n",
        "                               stride=stride, padding=1, bias=False)\n",
        "        # Second convolution layer with batch normalization\n",
        "        self.bn2 = nn.BatchNorm2d(out_planes)\n",
        "        self.conv2 = nn.Conv2d(out_planes, out_planes, kernel_size=3,\n",
        "                               stride=1, padding=1, bias=False)\n",
        "\n",
        "        # Shortcut path for the residual connection\n",
        "        self.shortcut = None\n",
        "        # If stride is not 1 or in_planes is not equal to out_planes, apply a 1x1 convolution\n",
        "        if stride != 1 or in_planes != out_planes:\n",
        "            self.shortcut = nn.Conv2d(in_planes, out_planes, kernel_size=1,\n",
        "                                      stride=stride, padding=0, bias=False)\n",
        "\n",
        "        # Stochastic Depth probability\n",
        "        self.sd = StochasticDepth(p=drop_prob)\n",
        "\n",
        "    def forward(self, x):\n",
        "        # Apply batch normalization and ReLU activation to input\n",
        "        out = F.relu(self.bn1(x))\n",
        "        # Apply Squeeze-and-Excitation on pre-activated features\n",
        "        out = self.se(out)\n",
        "        # Compute the shortcut connection (residual)\n",
        "        shortcut = x if self.shortcut is None else self.shortcut(out)\n",
        "        # First convolution operation\n",
        "        out = self.conv1(out)\n",
        "        # Apply batch normalization and ReLU activation\n",
        "        out = F.relu(self.bn2(out))\n",
        "        # Second convolution operation\n",
        "        out = self.conv2(out)\n",
        "        # Apply Stochastic Depth to the output\n",
        "        return self.sd(shortcut, out)\n",
        "\n",
        "# ------------------------------------------------------------------------\n",
        "#       Modified LightResNet for CIFAR-10 with ~4.4M parameters\n",
        "#       (Channels: 40, 80, 160, 320)\n",
        "# ------------------------------------------------------------------------\n",
        "class LightResNet18_v2(nn.Module):\n",
        "    \"\"\"\n",
        "    A modified version of ResNet18 tailored for CIFAR-10 with lightweight design\n",
        "    and squeeze-and-excitation (SE) blocks, stochastic depth, and batch normalization.\n",
        "    \"\"\"\n",
        "    def __init__(self, num_classes=10, drop_prob=0.1):\n",
        "        super().__init__()\n",
        "        # Increase the base channel width to 40 (instead of 32)\n",
        "        self.in_planes = 40\n",
        "        # Initial convolution layer with 40 channels\n",
        "        self.conv1 = nn.Conv2d(3, 40, kernel_size=3, stride=1,\n",
        "                               padding=1, bias=False)\n",
        "\n",
        "        # Four layers with 2 blocks each; channels increase as 40 -> 80 -> 160 -> 320.\n",
        "        # Drop probability increases across layers\n",
        "        self.layer1 = self._make_layer(40, 2, stride=1, base_p=drop_prob * 1/4)\n",
        "        self.layer2 = self._make_layer(80, 2, stride=2, base_p=drop_prob * 2/4)\n",
        "        self.layer3 = self._make_layer(160, 2, stride=2, base_p=drop_prob * 3/4)\n",
        "        self.layer4 = self._make_layer(320, 2, stride=2, base_p=drop_prob * 4/4)\n",
        "\n",
        "        # Batch normalization layer for final output\n",
        "        self.bn = nn.BatchNorm2d(320)\n",
        "        # Fully connected layer for classification\n",
        "        self.linear = nn.Linear(320, num_classes)\n",
        "\n",
        "        # Weight initialization for better convergence\n",
        "        for m in self.modules():\n",
        "            if isinstance(m, nn.Conv2d):\n",
        "                nn.init.kaiming_normal_(m.weight, mode='fan_out')\n",
        "            elif isinstance(m, nn.BatchNorm2d):\n",
        "                nn.init.constant_(m.weight, 1)\n",
        "                nn.init.constant_(m.bias, 0)\n",
        "            elif isinstance(m, nn.Linear):\n",
        "                nn.init.normal_(m.weight, 0, 0.01)\n",
        "                nn.init.constant_(m.bias, 0)\n",
        "\n",
        "    def _make_layer(self, out_planes, blocks, stride, base_p):\n",
        "        \"\"\"\n",
        "        Helper function to create a sequential layer of PreActBlocks.\n",
        "        \"\"\"\n",
        "        strides = [stride] + [1] * (blocks - 1)  # Adjust stride for the first block\n",
        "        layers = []\n",
        "        for i in range(blocks):\n",
        "            # Increase dropout probability linearly across blocks\n",
        "            block_p = base_p * (i + 1) / blocks\n",
        "            # Append PreActBlock to layers\n",
        "            layers.append(PreActBlock(self.in_planes, out_planes,\n",
        "                                      stride=strides[i],\n",
        "                                      drop_prob=block_p))\n",
        "            self.in_planes = out_planes  # Update the in_planes for the next block\n",
        "        return nn.Sequential(*layers)\n",
        "\n",
        "    def forward(self, x):\n",
        "        \"\"\"\n",
        "        Forward pass through the network.\n",
        "        \"\"\"\n",
        "        out = self.conv1(x)  # Initial convolution\n",
        "        out = self.layer1(out)  # First layer block\n",
        "        out = self.layer2(out)  # Second layer block\n",
        "        out = self.layer3(out)  # Third layer block\n",
        "        out = self.layer4(out)  # Fourth layer block\n",
        "        out = F.relu(self.bn(out))  # Apply batch normalization and ReLU\n",
        "        out = F.adaptive_avg_pool2d(out, 1).view(out.size(0), -1)  # Adaptive average pooling\n",
        "        out = self.linear(out)  # Final fully connected layer\n",
        "        return out\n",
        "\n",
        "# Quick parameter check\n",
        "if __name__ == \"__main__\":\n",
        "    model = LightResNet18_v2(num_classes=10, drop_prob=0.1)\n",
        "    # Sample input tensor with batch size of 2 and 32x32 image\n",
        "    x = torch.randn(2, 3, 32, 32)\n",
        "    y = model(x)\n",
        "    print(\"Output shape:\", y.shape)  # Print the output shape\n",
        "    # Calculate total number of trainable parameters\n",
        "    total_params = sum(p.numel() for p in model.parameters() if p.requires_grad)\n",
        "    print(f\"Total trainable parameters: {total_params:,} (~{total_params/1e6:.2f}M)\")\n"
      ],
      "metadata": {
        "colab": {
          "base_uri": "https://localhost:8080/"
        },
        "id": "X70034zUlMmV",
        "outputId": "14b5052a-e5b1-4d83-a294-9e979a60049b"
      },
      "execution_count": null,
      "outputs": [
        {
          "output_type": "stream",
          "name": "stdout",
          "text": [
            "Output shape: torch.Size([2, 10])\n",
            "Total trainable parameters: 4,389,826 (~4.39M)\n"
          ]
        }
      ]
    },
    {
      "cell_type": "code",
      "source": [
        "\"\"\"\n",
        "Training script for LightResNet18 model on CIFAR-10 with MixUp and CutMix augmentation techniques.\n",
        "Includes custom data loading, advanced augmentation strategies, and cosine learning rate scheduling.\n",
        "\"\"\"\n",
        "\n",
        "# train.py\n",
        "import torch\n",
        "import torch.nn as nn\n",
        "import torch.optim as optim\n",
        "import torchvision.transforms as transforms\n",
        "from torchvision import datasets\n",
        "import numpy as np\n",
        "import pickle\n",
        "from torch.utils.data import DataLoader, Dataset\n",
        "from PIL import Image\n",
        "# from model import LightResNet18  # Uncomment when actual model is available\n",
        "from tqdm import tqdm\n",
        "\n",
        "# Custom collate function for MixUp/CutMix data augmentation\n",
        "def rand_bbox(size, lam):\n",
        "    \"\"\"Generate random bounding box coordinates for CutMix\"\"\"\n",
        "    W = size[3]  # Image width\n",
        "    H = size[2]  # Image height\n",
        "    cut_rat = np.sqrt(1. - lam)  # Calculate cut ratio from lambda\n",
        "    cut_w = int(W * cut_rat)     # Calculate cut width\n",
        "    cut_h = int(H * cut_rat)     # Calculate cut height\n",
        "\n",
        "    # Center coordinates for the cut region\n",
        "    cx = np.random.randint(W)\n",
        "    cy = np.random.randint(H)\n",
        "\n",
        "    # Calculate bounding box coordinates with clipping to image dimensions\n",
        "    bbx1 = np.clip(cx - cut_w // 2, 0, W)\n",
        "    bby1 = np.clip(cy - cut_h // 2, 0, H)\n",
        "    bbx2 = np.clip(cx + cut_w // 2, 0, W)\n",
        "    bby2 = np.clip(cy + cut_h // 2, 0, H)\n",
        "    return bbx1, bby1, bbx2, bby2\n",
        "\n",
        "def mixup_data(x, y, alpha=1.0):\n",
        "    \"\"\"Applies MixUp augmentation to batch of images and labels\"\"\"\n",
        "    lam = np.random.beta(alpha, alpha)  # Mix ratio from Beta distribution\n",
        "    batch_size = x.size(0)\n",
        "    index = torch.randperm(batch_size)  # Random permutation of indices\n",
        "    mixed_x = lam * x + (1 - lam) * x[index, :]  # Mix images\n",
        "    y_a, y_b = y, y[index]  # Get corresponding labels\n",
        "    return mixed_x, y_a, y_b, lam\n",
        "\n",
        "def cutmix_data(x, y, alpha=1.0):\n",
        "    \"\"\"Applies CutMix augmentation to batch of images and labels\"\"\"\n",
        "    lam = np.random.beta(alpha, alpha)\n",
        "    batch_size = x.size(0)\n",
        "    index = torch.randperm(batch_size)\n",
        "    # Get bounding box coordinates\n",
        "    bbx1, bby1, bbx2, bby2 = rand_bbox(x.size(), lam)\n",
        "    # Replace selected region with another image's region\n",
        "    x[:, :, bby1:bby2, bbx1:bbx2] = x[index, :, bby1:bby2, bbx1:bbx2]\n",
        "    # Adjust lambda to match exact area ratio\n",
        "    lam = 1 - ((bbx2 - bbx1) * (bby2 - bby1) / (x.size(-1) * x.size(-2)))\n",
        "    y_a, y_b = y, y[index]\n",
        "    return x, y_a, y_b, lam\n",
        "\n",
        "def mixup_cutmix_collate(batch, alpha=1.0, p=0.5):\n",
        "    \"\"\"Custom collate function that randomly applies MixUp or CutMix\"\"\"\n",
        "    # Unpack batch and convert to tensors\n",
        "    images, labels = list(zip(*batch))\n",
        "    images = torch.stack(images, 0)\n",
        "    labels = torch.tensor(labels, dtype=torch.long)\n",
        "\n",
        "    # Randomly choose between MixUp and CutMix based on probability p\n",
        "    if np.random.rand() < p:\n",
        "        # Apply MixUp augmentation\n",
        "        mixed_x, y_a, y_b, lam = mixup_data(images, labels, alpha)\n",
        "        return mixed_x, (y_a, y_b, lam, 'mixup')\n",
        "    else:\n",
        "        # Apply CutMix augmentation\n",
        "        cutmix_x, y_a, y_b, lam = cutmix_data(images, labels, alpha)\n",
        "        return cutmix_x, (y_a, y_b, lam, 'cutmix')\n",
        "\n",
        "def unpickle(file):\n",
        "    \"\"\"Helper function to load CIFAR-10 pickled data\"\"\"\n",
        "    with open(file, 'rb') as fo:\n",
        "        data_dict = pickle.load(fo, encoding='bytes')\n",
        "    return data_dict\n",
        "\n",
        "class CIFARDataset(Dataset):\n",
        "    \"\"\"Custom Dataset class for CIFAR-10 with preprocessing support\"\"\"\n",
        "    def __init__(self, data, labels, transform=None):\n",
        "        self.data = data.reshape(-1, 3, 32, 32).astype(\"float32\") / 255.0\n",
        "        self.labels = labels\n",
        "        self.transform = transform\n",
        "\n",
        "    def __len__(self):\n",
        "        return len(self.data)\n",
        "\n",
        "    def __getitem__(self, idx):\n",
        "        # Convert numpy array to PIL Image with proper shape and scaling\n",
        "        img = self.data[idx]*255\n",
        "        img = img.astype(\"uint8\")\n",
        "        img = Image.fromarray(img.transpose(1, 2, 0))  # Change from CHW to HWC\n",
        "        label = self.labels[idx]\n",
        "        if self.transform:\n",
        "            img = self.transform(img)\n",
        "        return img, label\n",
        "\n",
        "def load_cifar10_batches(root_dir):\n",
        "    \"\"\"Loads and concatenates all CIFAR-10 training batches\"\"\"\n",
        "    data_list, labels_list = [], []\n",
        "    for i in range(1, 6):\n",
        "        batch_file = f\"{root_dir}/data_batch_{i}\"\n",
        "        batch = unpickle(batch_file)\n",
        "        data_list.append(batch[b'data'])\n",
        "        labels_list.extend(batch[b'labels'])\n",
        "    X = np.concatenate(data_list, axis=0)\n",
        "    y = np.array(labels_list)\n",
        "    return X, y\n",
        "\n",
        "def train():\n",
        "    \"\"\"Main training function with all training components\"\"\"\n",
        "    # Set device configuration\n",
        "    device = 'cuda' if torch.cuda.is_available() else 'cpu'\n",
        "    print(f\"Using device: {device}\")\n",
        "\n",
        "    # Data loading and preprocessing\n",
        "    # Note: Original custom loading code is commented out in favor of torchvision's implementation\n",
        "    transform_train = transforms.Compose([\n",
        "        transforms.RandomCrop(32, padding=4),\n",
        "        transforms.RandomHorizontalFlip(),\n",
        "        transforms.RandAugment(),  # Using RandAugment for strong data augmentation\n",
        "        transforms.ToTensor(),\n",
        "        transforms.Normalize((0.4914, 0.4822, 0.4465),  # CIFAR-10 mean/std\n",
        "                             (0.2470, 0.2435, 0.2616))\n",
        "    ])\n",
        "\n",
        "    transform_val = transforms.Compose([\n",
        "        transforms.ToTensor(),\n",
        "        transforms.Normalize((0.4914, 0.4822, 0.4465),\n",
        "                             (0.2470, 0.2435, 0.2616))\n",
        "    ])\n",
        "\n",
        "    # Using torchvision's built-in CIFAR-10 dataset instead of custom loader\n",
        "    train_dataset = datasets.CIFAR10(root='./data', train=True,\n",
        "                                   download=True, transform=transform_train)\n",
        "    val_dataset = datasets.CIFAR10(root='./data', train=False,\n",
        "                                  download=True, transform=transform_val)\n",
        "\n",
        "    # Create data loaders with mixed augmentation for training\n",
        "    train_loader = DataLoader(\n",
        "        train_dataset,\n",
        "        batch_size=128,\n",
        "        shuffle=True,\n",
        "        num_workers=4,\n",
        "        collate_fn=lambda b: mixup_cutmix_collate(b, alpha=1.0, p=0.5)  # 50% chance for MixUp/CutMix\n",
        "    )\n",
        "    val_loader = DataLoader(\n",
        "        val_dataset,\n",
        "        batch_size=128,\n",
        "        shuffle=False,\n",
        "        num_workers=4\n",
        "    )\n",
        "\n",
        "    # Model initialization\n",
        "    model = LightResNet18_v2(num_classes=10, drop_prob=0.1).to(device)  # Assuming model definition exists\n",
        "\n",
        "    # Training configuration\n",
        "    base_criterion = nn.CrossEntropyLoss(label_smoothing=0.1)  # Regularization through label smoothing\n",
        "    optimizer = optim.SGD(\n",
        "        model.parameters(),\n",
        "        lr=0.1,\n",
        "        momentum=0.9,\n",
        "        nesterov=True,\n",
        "        weight_decay=5e-4  # L2 regularization\n",
        "    )\n",
        "    scheduler = optim.lr_scheduler.CosineAnnealingLR(optimizer, T_max=300)  # Cosine learning rate decay\n",
        "\n",
        "    best_acc = 0.0\n",
        "    num_epochs = 300  # Total training epochs\n",
        "\n",
        "    # Training loop\n",
        "    for epoch in range(num_epochs):\n",
        "        model.train()\n",
        "        running_loss = 0.0\n",
        "        correct_approx = 0.0\n",
        "        total_approx = 0\n",
        "\n",
        "        train_pbar = tqdm(train_loader, desc=f\"Epoch [{epoch+1}/{num_epochs}]\", leave=False)\n",
        "        for images, label_info in train_pbar:\n",
        "            # Unpack augmentation information\n",
        "            y_a, y_b, lam, method = label_info\n",
        "            images = images.to(device)\n",
        "            y_a, y_b = y_a.to(device), y_b.to(device)\n",
        "\n",
        "            # Forward pass and loss calculation\n",
        "            optimizer.zero_grad()\n",
        "            outputs = model(images)\n",
        "\n",
        "            # Mixed loss calculation based on augmentation method\n",
        "            loss = lam * base_criterion(outputs, y_a) + (1 - lam) * base_criterion(outputs, y_b)\n",
        "            loss.backward()\n",
        "            optimizer.step()\n",
        "\n",
        "            # Track metrics\n",
        "            running_loss += loss.item() * images.size(0)\n",
        "            _, preds = torch.max(outputs, 1)\n",
        "            # Approximate accuracy accounting for mixed labels\n",
        "            correct_approx += (preds == y_a).sum().item() * lam + (preds == y_b).sum().item() * (1 - lam)\n",
        "            total_approx += images.size(0)\n",
        "\n",
        "            train_pbar.set_postfix(loss=f\"{loss.item():.3f}\")\n",
        "\n",
        "        # Update learning rate\n",
        "        scheduler.step()\n",
        "\n",
        "        # Calculate epoch metrics\n",
        "        epoch_loss = running_loss / len(train_loader.dataset)\n",
        "        epoch_acc = 100.0 * correct_approx / total_approx\n",
        "\n",
        "        # Validation phase\n",
        "        model.eval()\n",
        "        val_correct = 0\n",
        "        val_total = 0\n",
        "        with torch.no_grad():\n",
        "            for imgs, labels in val_loader:\n",
        "                imgs, labels = imgs.to(device), labels.to(device)\n",
        "                outputs = model(imgs)\n",
        "                _, pred = torch.max(outputs, 1)\n",
        "                val_correct += (pred == labels).sum().item()\n",
        "                val_total += labels.size(0)\n",
        "        val_acc = 100.0 * val_correct / val_total\n",
        "\n",
        "        # Print epoch summary\n",
        "        print(f\"Epoch {epoch+1}/{num_epochs} | \"\n",
        "              f\"Train Loss: {epoch_loss:.4f}, Approx Train Acc: {epoch_acc:.2f}% | \"\n",
        "              f\"Val Acc: {val_acc:.2f}%\")\n",
        "\n",
        "        # Save best model\n",
        "        if val_acc > best_acc:\n",
        "            best_acc = val_acc\n",
        "            torch.save(model.state_dict(), \"best_model.pth\")\n",
        "            print(f\"   [*] Saved new best model: Val Acc = {val_acc:.2f}%\")\n",
        "\n",
        "    print(f\"Training complete. Best validation accuracy: {best_acc:.2f}%\")\n",
        "    print(\"Best model saved as best_model.pth\")\n",
        "\n",
        "if __name__ == \"__main__\":\n",
        "    train()"
      ],
      "metadata": {
        "colab": {
          "base_uri": "https://localhost:8080/"
        },
        "id": "wZcL7rFHlO95",
        "outputId": "ac895b6b-8e7f-4f46-9b60-cea640ffc20d"
      },
      "execution_count": null,
      "outputs": [
        {
          "output_type": "stream",
          "name": "stdout",
          "text": [
            "Using device: cuda\n",
            "Downloading https://www.cs.toronto.edu/~kriz/cifar-10-python.tar.gz to ./data/cifar-10-python.tar.gz\n"
          ]
        },
        {
          "output_type": "stream",
          "name": "stderr",
          "text": [
            "100%|██████████| 170M/170M [00:18<00:00, 9.17MB/s]\n"
          ]
        },
        {
          "output_type": "stream",
          "name": "stdout",
          "text": [
            "Extracting ./data/cifar-10-python.tar.gz to ./data\n",
            "Files already downloaded and verified\n"
          ]
        },
        {
          "output_type": "stream",
          "name": "stderr",
          "text": [
            "/usr/local/lib/python3.11/dist-packages/torch/utils/data/dataloader.py:617: UserWarning: This DataLoader will create 4 worker processes in total. Our suggested max number of worker in current system is 2, which is smaller than what this DataLoader is going to create. Please be aware that excessive worker creation might get DataLoader running slow or even freeze, lower the worker number to avoid potential slowness/freeze if necessary.\n",
            "  warnings.warn(\n"
          ]
        },
        {
          "output_type": "stream",
          "name": "stdout",
          "text": [
            "Epoch 1/300 | Train Loss: 2.0815, Approx Train Acc: 26.68% | Val Acc: 47.50%\n",
            "   [*] Saved new best model: Val Acc = 47.50%\n"
          ]
        },
        {
          "output_type": "stream",
          "name": "stderr",
          "text": []
        },
        {
          "output_type": "stream",
          "name": "stdout",
          "text": [
            "Epoch 2/300 | Train Loss: 1.8909, Approx Train Acc: 38.38% | Val Acc: 58.55%\n",
            "   [*] Saved new best model: Val Acc = 58.55%\n"
          ]
        },
        {
          "output_type": "stream",
          "name": "stderr",
          "text": []
        },
        {
          "output_type": "stream",
          "name": "stdout",
          "text": [
            "Epoch 3/300 | Train Loss: 1.8000, Approx Train Acc: 43.69% | Val Acc: 65.01%\n",
            "   [*] Saved new best model: Val Acc = 65.01%\n"
          ]
        },
        {
          "output_type": "stream",
          "name": "stderr",
          "text": []
        },
        {
          "output_type": "stream",
          "name": "stdout",
          "text": [
            "Epoch 4/300 | Train Loss: 1.7335, Approx Train Acc: 47.48% | Val Acc: 63.09%\n"
          ]
        },
        {
          "output_type": "stream",
          "name": "stderr",
          "text": []
        },
        {
          "output_type": "stream",
          "name": "stdout",
          "text": [
            "Epoch 5/300 | Train Loss: 1.6937, Approx Train Acc: 49.51% | Val Acc: 73.21%\n",
            "   [*] Saved new best model: Val Acc = 73.21%\n"
          ]
        },
        {
          "output_type": "stream",
          "name": "stderr",
          "text": []
        },
        {
          "output_type": "stream",
          "name": "stdout",
          "text": [
            "Epoch 6/300 | Train Loss: 1.6966, Approx Train Acc: 49.44% | Val Acc: 73.01%\n"
          ]
        },
        {
          "output_type": "stream",
          "name": "stderr",
          "text": []
        },
        {
          "output_type": "stream",
          "name": "stdout",
          "text": [
            "Epoch 7/300 | Train Loss: 1.6556, Approx Train Acc: 51.53% | Val Acc: 67.80%\n"
          ]
        },
        {
          "output_type": "stream",
          "name": "stderr",
          "text": []
        },
        {
          "output_type": "stream",
          "name": "stdout",
          "text": [
            "Epoch 8/300 | Train Loss: 1.6611, Approx Train Acc: 51.33% | Val Acc: 75.21%\n",
            "   [*] Saved new best model: Val Acc = 75.21%\n"
          ]
        },
        {
          "output_type": "stream",
          "name": "stderr",
          "text": []
        },
        {
          "output_type": "stream",
          "name": "stdout",
          "text": [
            "Epoch 9/300 | Train Loss: 1.6617, Approx Train Acc: 51.34% | Val Acc: 75.57%\n",
            "   [*] Saved new best model: Val Acc = 75.57%\n"
          ]
        },
        {
          "output_type": "stream",
          "name": "stderr",
          "text": []
        },
        {
          "output_type": "stream",
          "name": "stdout",
          "text": [
            "Epoch 10/300 | Train Loss: 1.6628, Approx Train Acc: 51.16% | Val Acc: 68.57%\n"
          ]
        },
        {
          "output_type": "stream",
          "name": "stderr",
          "text": []
        },
        {
          "output_type": "stream",
          "name": "stdout",
          "text": [
            "Epoch 11/300 | Train Loss: 1.6243, Approx Train Acc: 53.23% | Val Acc: 74.52%\n"
          ]
        },
        {
          "output_type": "stream",
          "name": "stderr",
          "text": []
        },
        {
          "output_type": "stream",
          "name": "stdout",
          "text": [
            "Epoch 12/300 | Train Loss: 1.6171, Approx Train Acc: 53.61% | Val Acc: 75.34%\n"
          ]
        },
        {
          "output_type": "stream",
          "name": "stderr",
          "text": []
        },
        {
          "output_type": "stream",
          "name": "stdout",
          "text": [
            "Epoch 13/300 | Train Loss: 1.6194, Approx Train Acc: 53.32% | Val Acc: 78.15%\n",
            "   [*] Saved new best model: Val Acc = 78.15%\n"
          ]
        },
        {
          "output_type": "stream",
          "name": "stderr",
          "text": []
        },
        {
          "output_type": "stream",
          "name": "stdout",
          "text": [
            "Epoch 14/300 | Train Loss: 1.5990, Approx Train Acc: 54.47% | Val Acc: 79.45%\n",
            "   [*] Saved new best model: Val Acc = 79.45%\n"
          ]
        },
        {
          "output_type": "stream",
          "name": "stderr",
          "text": []
        },
        {
          "output_type": "stream",
          "name": "stdout",
          "text": [
            "Epoch 15/300 | Train Loss: 1.5842, Approx Train Acc: 55.05% | Val Acc: 77.78%\n"
          ]
        },
        {
          "output_type": "stream",
          "name": "stderr",
          "text": []
        },
        {
          "output_type": "stream",
          "name": "stdout",
          "text": [
            "Epoch 16/300 | Train Loss: 1.6106, Approx Train Acc: 53.65% | Val Acc: 77.85%\n"
          ]
        },
        {
          "output_type": "stream",
          "name": "stderr",
          "text": []
        },
        {
          "output_type": "stream",
          "name": "stdout",
          "text": [
            "Epoch 17/300 | Train Loss: 1.6014, Approx Train Acc: 54.01% | Val Acc: 74.70%\n"
          ]
        },
        {
          "output_type": "stream",
          "name": "stderr",
          "text": []
        },
        {
          "output_type": "stream",
          "name": "stdout",
          "text": [
            "Epoch 18/300 | Train Loss: 1.5722, Approx Train Acc: 55.56% | Val Acc: 77.23%\n"
          ]
        },
        {
          "output_type": "stream",
          "name": "stderr",
          "text": []
        },
        {
          "output_type": "stream",
          "name": "stdout",
          "text": [
            "Epoch 19/300 | Train Loss: 1.6029, Approx Train Acc: 54.14% | Val Acc: 81.35%\n",
            "   [*] Saved new best model: Val Acc = 81.35%\n"
          ]
        },
        {
          "output_type": "stream",
          "name": "stderr",
          "text": []
        },
        {
          "output_type": "stream",
          "name": "stdout",
          "text": [
            "Epoch 20/300 | Train Loss: 1.5753, Approx Train Acc: 55.39% | Val Acc: 72.71%\n"
          ]
        },
        {
          "output_type": "stream",
          "name": "stderr",
          "text": []
        },
        {
          "output_type": "stream",
          "name": "stdout",
          "text": [
            "Epoch 21/300 | Train Loss: 1.6071, Approx Train Acc: 54.01% | Val Acc: 78.78%\n"
          ]
        },
        {
          "output_type": "stream",
          "name": "stderr",
          "text": []
        },
        {
          "output_type": "stream",
          "name": "stdout",
          "text": [
            "Epoch 22/300 | Train Loss: 1.5705, Approx Train Acc: 56.10% | Val Acc: 77.03%\n"
          ]
        },
        {
          "output_type": "stream",
          "name": "stderr",
          "text": []
        },
        {
          "output_type": "stream",
          "name": "stdout",
          "text": [
            "Epoch 23/300 | Train Loss: 1.5692, Approx Train Acc: 55.94% | Val Acc: 76.99%\n"
          ]
        },
        {
          "output_type": "stream",
          "name": "stderr",
          "text": []
        },
        {
          "output_type": "stream",
          "name": "stdout",
          "text": [
            "Epoch 24/300 | Train Loss: 1.5765, Approx Train Acc: 55.58% | Val Acc: 79.66%\n"
          ]
        },
        {
          "output_type": "stream",
          "name": "stderr",
          "text": []
        },
        {
          "output_type": "stream",
          "name": "stdout",
          "text": [
            "Epoch 25/300 | Train Loss: 1.5799, Approx Train Acc: 55.44% | Val Acc: 81.25%\n"
          ]
        },
        {
          "output_type": "stream",
          "name": "stderr",
          "text": []
        },
        {
          "output_type": "stream",
          "name": "stdout",
          "text": [
            "Epoch 26/300 | Train Loss: 1.5852, Approx Train Acc: 55.03% | Val Acc: 80.05%\n"
          ]
        },
        {
          "output_type": "stream",
          "name": "stderr",
          "text": []
        },
        {
          "output_type": "stream",
          "name": "stdout",
          "text": [
            "Epoch 27/300 | Train Loss: 1.5840, Approx Train Acc: 54.94% | Val Acc: 83.84%\n",
            "   [*] Saved new best model: Val Acc = 83.84%\n"
          ]
        },
        {
          "output_type": "stream",
          "name": "stderr",
          "text": []
        },
        {
          "output_type": "stream",
          "name": "stdout",
          "text": [
            "Epoch 28/300 | Train Loss: 1.5630, Approx Train Acc: 56.07% | Val Acc: 77.88%\n"
          ]
        },
        {
          "output_type": "stream",
          "name": "stderr",
          "text": []
        },
        {
          "output_type": "stream",
          "name": "stdout",
          "text": [
            "Epoch 29/300 | Train Loss: 1.5814, Approx Train Acc: 55.01% | Val Acc: 78.58%\n"
          ]
        },
        {
          "output_type": "stream",
          "name": "stderr",
          "text": []
        },
        {
          "output_type": "stream",
          "name": "stdout",
          "text": [
            "Epoch 30/300 | Train Loss: 1.5677, Approx Train Acc: 55.94% | Val Acc: 77.51%\n"
          ]
        },
        {
          "output_type": "stream",
          "name": "stderr",
          "text": []
        },
        {
          "output_type": "stream",
          "name": "stdout",
          "text": [
            "Epoch 31/300 | Train Loss: 1.5814, Approx Train Acc: 55.66% | Val Acc: 79.28%\n"
          ]
        },
        {
          "output_type": "stream",
          "name": "stderr",
          "text": []
        },
        {
          "output_type": "stream",
          "name": "stdout",
          "text": [
            "Epoch 32/300 | Train Loss: 1.5881, Approx Train Acc: 55.06% | Val Acc: 78.82%\n"
          ]
        },
        {
          "output_type": "stream",
          "name": "stderr",
          "text": []
        },
        {
          "output_type": "stream",
          "name": "stdout",
          "text": [
            "Epoch 33/300 | Train Loss: 1.5936, Approx Train Acc: 54.66% | Val Acc: 78.48%\n"
          ]
        },
        {
          "output_type": "stream",
          "name": "stderr",
          "text": []
        },
        {
          "output_type": "stream",
          "name": "stdout",
          "text": [
            "Epoch 34/300 | Train Loss: 1.5905, Approx Train Acc: 54.72% | Val Acc: 80.18%\n"
          ]
        },
        {
          "output_type": "stream",
          "name": "stderr",
          "text": []
        },
        {
          "output_type": "stream",
          "name": "stdout",
          "text": [
            "Epoch 35/300 | Train Loss: 1.5723, Approx Train Acc: 55.78% | Val Acc: 77.26%\n"
          ]
        },
        {
          "output_type": "stream",
          "name": "stderr",
          "text": []
        },
        {
          "output_type": "stream",
          "name": "stdout",
          "text": [
            "Epoch 36/300 | Train Loss: 1.5669, Approx Train Acc: 56.06% | Val Acc: 78.30%\n"
          ]
        },
        {
          "output_type": "stream",
          "name": "stderr",
          "text": []
        },
        {
          "output_type": "stream",
          "name": "stdout",
          "text": [
            "Epoch 37/300 | Train Loss: 1.5645, Approx Train Acc: 55.88% | Val Acc: 80.23%\n"
          ]
        },
        {
          "output_type": "stream",
          "name": "stderr",
          "text": []
        },
        {
          "output_type": "stream",
          "name": "stdout",
          "text": [
            "Epoch 38/300 | Train Loss: 1.5563, Approx Train Acc: 56.20% | Val Acc: 77.62%\n"
          ]
        },
        {
          "output_type": "stream",
          "name": "stderr",
          "text": []
        },
        {
          "output_type": "stream",
          "name": "stdout",
          "text": [
            "Epoch 39/300 | Train Loss: 1.5665, Approx Train Acc: 56.04% | Val Acc: 80.97%\n"
          ]
        },
        {
          "output_type": "stream",
          "name": "stderr",
          "text": []
        },
        {
          "output_type": "stream",
          "name": "stdout",
          "text": [
            "Epoch 40/300 | Train Loss: 1.5493, Approx Train Acc: 56.85% | Val Acc: 80.78%\n"
          ]
        },
        {
          "output_type": "stream",
          "name": "stderr",
          "text": []
        },
        {
          "output_type": "stream",
          "name": "stdout",
          "text": [
            "Epoch 41/300 | Train Loss: 1.5468, Approx Train Acc: 57.02% | Val Acc: 82.95%\n"
          ]
        },
        {
          "output_type": "stream",
          "name": "stderr",
          "text": []
        },
        {
          "output_type": "stream",
          "name": "stdout",
          "text": [
            "Epoch 42/300 | Train Loss: 1.5629, Approx Train Acc: 55.95% | Val Acc: 82.76%\n"
          ]
        },
        {
          "output_type": "stream",
          "name": "stderr",
          "text": []
        },
        {
          "output_type": "stream",
          "name": "stdout",
          "text": [
            "Epoch 43/300 | Train Loss: 1.5668, Approx Train Acc: 56.06% | Val Acc: 79.27%\n"
          ]
        },
        {
          "output_type": "stream",
          "name": "stderr",
          "text": []
        },
        {
          "output_type": "stream",
          "name": "stdout",
          "text": [
            "Epoch 44/300 | Train Loss: 1.5628, Approx Train Acc: 55.98% | Val Acc: 81.07%\n"
          ]
        },
        {
          "output_type": "stream",
          "name": "stderr",
          "text": []
        },
        {
          "output_type": "stream",
          "name": "stdout",
          "text": [
            "Epoch 45/300 | Train Loss: 1.5496, Approx Train Acc: 56.74% | Val Acc: 82.73%\n"
          ]
        },
        {
          "output_type": "stream",
          "name": "stderr",
          "text": []
        },
        {
          "output_type": "stream",
          "name": "stdout",
          "text": [
            "Epoch 46/300 | Train Loss: 1.5562, Approx Train Acc: 56.68% | Val Acc: 77.82%\n"
          ]
        },
        {
          "output_type": "stream",
          "name": "stderr",
          "text": []
        },
        {
          "output_type": "stream",
          "name": "stdout",
          "text": [
            "Epoch 47/300 | Train Loss: 1.5492, Approx Train Acc: 56.96% | Val Acc: 78.07%\n"
          ]
        },
        {
          "output_type": "stream",
          "name": "stderr",
          "text": []
        },
        {
          "output_type": "stream",
          "name": "stdout",
          "text": [
            "Epoch 48/300 | Train Loss: 1.5401, Approx Train Acc: 57.20% | Val Acc: 82.10%\n"
          ]
        },
        {
          "output_type": "stream",
          "name": "stderr",
          "text": []
        },
        {
          "output_type": "stream",
          "name": "stdout",
          "text": [
            "Epoch 49/300 | Train Loss: 1.5455, Approx Train Acc: 56.97% | Val Acc: 81.52%\n"
          ]
        },
        {
          "output_type": "stream",
          "name": "stderr",
          "text": []
        },
        {
          "output_type": "stream",
          "name": "stdout",
          "text": [
            "Epoch 50/300 | Train Loss: 1.5629, Approx Train Acc: 55.89% | Val Acc: 81.46%\n"
          ]
        },
        {
          "output_type": "stream",
          "name": "stderr",
          "text": []
        },
        {
          "output_type": "stream",
          "name": "stdout",
          "text": [
            "Epoch 51/300 | Train Loss: 1.5462, Approx Train Acc: 56.85% | Val Acc: 80.88%\n"
          ]
        },
        {
          "output_type": "stream",
          "name": "stderr",
          "text": []
        },
        {
          "output_type": "stream",
          "name": "stdout",
          "text": [
            "Epoch 52/300 | Train Loss: 1.5295, Approx Train Acc: 57.69% | Val Acc: 70.61%\n"
          ]
        },
        {
          "output_type": "stream",
          "name": "stderr",
          "text": []
        },
        {
          "output_type": "stream",
          "name": "stdout",
          "text": [
            "Epoch 53/300 | Train Loss: 1.5307, Approx Train Acc: 57.43% | Val Acc: 81.67%\n"
          ]
        },
        {
          "output_type": "stream",
          "name": "stderr",
          "text": []
        },
        {
          "output_type": "stream",
          "name": "stdout",
          "text": [
            "Epoch 54/300 | Train Loss: 1.5447, Approx Train Acc: 56.87% | Val Acc: 82.62%\n"
          ]
        },
        {
          "output_type": "stream",
          "name": "stderr",
          "text": []
        },
        {
          "output_type": "stream",
          "name": "stdout",
          "text": [
            "Epoch 55/300 | Train Loss: 1.5338, Approx Train Acc: 57.57% | Val Acc: 81.60%\n"
          ]
        },
        {
          "output_type": "stream",
          "name": "stderr",
          "text": []
        },
        {
          "output_type": "stream",
          "name": "stdout",
          "text": [
            "Epoch 56/300 | Train Loss: 1.5186, Approx Train Acc: 58.19% | Val Acc: 83.23%\n"
          ]
        },
        {
          "output_type": "stream",
          "name": "stderr",
          "text": []
        },
        {
          "output_type": "stream",
          "name": "stdout",
          "text": [
            "Epoch 57/300 | Train Loss: 1.5727, Approx Train Acc: 55.50% | Val Acc: 80.46%\n"
          ]
        },
        {
          "output_type": "stream",
          "name": "stderr",
          "text": []
        },
        {
          "output_type": "stream",
          "name": "stdout",
          "text": [
            "Epoch 58/300 | Train Loss: 1.5309, Approx Train Acc: 57.46% | Val Acc: 78.75%\n"
          ]
        },
        {
          "output_type": "stream",
          "name": "stderr",
          "text": []
        },
        {
          "output_type": "stream",
          "name": "stdout",
          "text": [
            "Epoch 59/300 | Train Loss: 1.5330, Approx Train Acc: 57.36% | Val Acc: 78.74%\n"
          ]
        },
        {
          "output_type": "stream",
          "name": "stderr",
          "text": []
        },
        {
          "output_type": "stream",
          "name": "stdout",
          "text": [
            "Epoch 60/300 | Train Loss: 1.5198, Approx Train Acc: 58.25% | Val Acc: 81.61%\n"
          ]
        },
        {
          "output_type": "stream",
          "name": "stderr",
          "text": []
        },
        {
          "output_type": "stream",
          "name": "stdout",
          "text": [
            "Epoch 61/300 | Train Loss: 1.5610, Approx Train Acc: 56.31% | Val Acc: 84.52%\n",
            "   [*] Saved new best model: Val Acc = 84.52%\n"
          ]
        },
        {
          "output_type": "stream",
          "name": "stderr",
          "text": []
        },
        {
          "output_type": "stream",
          "name": "stdout",
          "text": [
            "Epoch 62/300 | Train Loss: 1.5554, Approx Train Acc: 56.48% | Val Acc: 80.25%\n"
          ]
        },
        {
          "output_type": "stream",
          "name": "stderr",
          "text": []
        },
        {
          "output_type": "stream",
          "name": "stdout",
          "text": [
            "Epoch 63/300 | Train Loss: 1.5458, Approx Train Acc: 57.03% | Val Acc: 81.79%\n"
          ]
        },
        {
          "output_type": "stream",
          "name": "stderr",
          "text": []
        },
        {
          "output_type": "stream",
          "name": "stdout",
          "text": [
            "Epoch 64/300 | Train Loss: 1.5316, Approx Train Acc: 57.75% | Val Acc: 83.73%\n"
          ]
        },
        {
          "output_type": "stream",
          "name": "stderr",
          "text": []
        },
        {
          "output_type": "stream",
          "name": "stdout",
          "text": [
            "Epoch 65/300 | Train Loss: 1.5586, Approx Train Acc: 56.31% | Val Acc: 83.29%\n"
          ]
        },
        {
          "output_type": "stream",
          "name": "stderr",
          "text": []
        },
        {
          "output_type": "stream",
          "name": "stdout",
          "text": [
            "Epoch 66/300 | Train Loss: 1.5360, Approx Train Acc: 57.44% | Val Acc: 79.87%\n"
          ]
        },
        {
          "output_type": "stream",
          "name": "stderr",
          "text": []
        },
        {
          "output_type": "stream",
          "name": "stdout",
          "text": [
            "Epoch 67/300 | Train Loss: 1.5585, Approx Train Acc: 56.35% | Val Acc: 78.75%\n"
          ]
        },
        {
          "output_type": "stream",
          "name": "stderr",
          "text": []
        },
        {
          "output_type": "stream",
          "name": "stdout",
          "text": [
            "Epoch 68/300 | Train Loss: 1.5742, Approx Train Acc: 55.25% | Val Acc: 81.14%\n"
          ]
        },
        {
          "output_type": "stream",
          "name": "stderr",
          "text": []
        },
        {
          "output_type": "stream",
          "name": "stdout",
          "text": [
            "Epoch 69/300 | Train Loss: 1.5539, Approx Train Acc: 56.17% | Val Acc: 82.05%\n"
          ]
        },
        {
          "output_type": "stream",
          "name": "stderr",
          "text": []
        },
        {
          "output_type": "stream",
          "name": "stdout",
          "text": [
            "Epoch 70/300 | Train Loss: 1.5401, Approx Train Acc: 57.08% | Val Acc: 83.31%\n"
          ]
        },
        {
          "output_type": "stream",
          "name": "stderr",
          "text": []
        },
        {
          "output_type": "stream",
          "name": "stdout",
          "text": [
            "Epoch 71/300 | Train Loss: 1.5198, Approx Train Acc: 57.76% | Val Acc: 81.57%\n"
          ]
        },
        {
          "output_type": "stream",
          "name": "stderr",
          "text": []
        },
        {
          "output_type": "stream",
          "name": "stdout",
          "text": [
            "Epoch 72/300 | Train Loss: 1.5292, Approx Train Acc: 57.63% | Val Acc: 83.27%\n"
          ]
        },
        {
          "output_type": "stream",
          "name": "stderr",
          "text": []
        },
        {
          "output_type": "stream",
          "name": "stdout",
          "text": [
            "Epoch 73/300 | Train Loss: 1.5314, Approx Train Acc: 57.38% | Val Acc: 83.93%\n"
          ]
        },
        {
          "output_type": "stream",
          "name": "stderr",
          "text": []
        },
        {
          "output_type": "stream",
          "name": "stdout",
          "text": [
            "Epoch 74/300 | Train Loss: 1.5242, Approx Train Acc: 58.17% | Val Acc: 81.29%\n"
          ]
        },
        {
          "output_type": "stream",
          "name": "stderr",
          "text": []
        },
        {
          "output_type": "stream",
          "name": "stdout",
          "text": [
            "Epoch 75/300 | Train Loss: 1.5208, Approx Train Acc: 58.12% | Val Acc: 78.34%\n"
          ]
        },
        {
          "output_type": "stream",
          "name": "stderr",
          "text": []
        },
        {
          "output_type": "stream",
          "name": "stdout",
          "text": [
            "Epoch 76/300 | Train Loss: 1.5133, Approx Train Acc: 58.60% | Val Acc: 83.34%\n"
          ]
        },
        {
          "output_type": "stream",
          "name": "stderr",
          "text": []
        },
        {
          "output_type": "stream",
          "name": "stdout",
          "text": [
            "Epoch 77/300 | Train Loss: 1.5276, Approx Train Acc: 57.77% | Val Acc: 79.97%\n"
          ]
        },
        {
          "output_type": "stream",
          "name": "stderr",
          "text": []
        },
        {
          "output_type": "stream",
          "name": "stdout",
          "text": [
            "Epoch 78/300 | Train Loss: 1.5108, Approx Train Acc: 58.52% | Val Acc: 81.51%\n"
          ]
        },
        {
          "output_type": "stream",
          "name": "stderr",
          "text": []
        },
        {
          "output_type": "stream",
          "name": "stdout",
          "text": [
            "Epoch 79/300 | Train Loss: 1.5543, Approx Train Acc: 56.10% | Val Acc: 81.17%\n"
          ]
        },
        {
          "output_type": "stream",
          "name": "stderr",
          "text": []
        },
        {
          "output_type": "stream",
          "name": "stdout",
          "text": [
            "Epoch 80/300 | Train Loss: 1.5317, Approx Train Acc: 57.52% | Val Acc: 85.14%\n",
            "   [*] Saved new best model: Val Acc = 85.14%\n"
          ]
        },
        {
          "output_type": "stream",
          "name": "stderr",
          "text": []
        },
        {
          "output_type": "stream",
          "name": "stdout",
          "text": [
            "Epoch 81/300 | Train Loss: 1.5298, Approx Train Acc: 57.65% | Val Acc: 79.26%\n"
          ]
        },
        {
          "output_type": "stream",
          "name": "stderr",
          "text": []
        },
        {
          "output_type": "stream",
          "name": "stdout",
          "text": [
            "Epoch 82/300 | Train Loss: 1.5197, Approx Train Acc: 58.37% | Val Acc: 84.49%\n"
          ]
        },
        {
          "output_type": "stream",
          "name": "stderr",
          "text": []
        },
        {
          "output_type": "stream",
          "name": "stdout",
          "text": [
            "Epoch 83/300 | Train Loss: 1.5531, Approx Train Acc: 56.20% | Val Acc: 84.11%\n"
          ]
        },
        {
          "output_type": "stream",
          "name": "stderr",
          "text": []
        },
        {
          "output_type": "stream",
          "name": "stdout",
          "text": [
            "Epoch 84/300 | Train Loss: 1.5075, Approx Train Acc: 58.73% | Val Acc: 80.83%\n"
          ]
        },
        {
          "output_type": "stream",
          "name": "stderr",
          "text": []
        },
        {
          "output_type": "stream",
          "name": "stdout",
          "text": [
            "Epoch 85/300 | Train Loss: 1.5302, Approx Train Acc: 57.37% | Val Acc: 82.62%\n"
          ]
        },
        {
          "output_type": "stream",
          "name": "stderr",
          "text": []
        },
        {
          "output_type": "stream",
          "name": "stdout",
          "text": [
            "Epoch 86/300 | Train Loss: 1.5149, Approx Train Acc: 58.23% | Val Acc: 79.37%\n"
          ]
        },
        {
          "output_type": "stream",
          "name": "stderr",
          "text": []
        },
        {
          "output_type": "stream",
          "name": "stdout",
          "text": [
            "Epoch 87/300 | Train Loss: 1.5067, Approx Train Acc: 58.81% | Val Acc: 78.40%\n"
          ]
        },
        {
          "output_type": "stream",
          "name": "stderr",
          "text": []
        },
        {
          "output_type": "stream",
          "name": "stdout",
          "text": [
            "Epoch 88/300 | Train Loss: 1.5041, Approx Train Acc: 58.93% | Val Acc: 83.46%\n"
          ]
        },
        {
          "output_type": "stream",
          "name": "stderr",
          "text": []
        },
        {
          "output_type": "stream",
          "name": "stdout",
          "text": [
            "Epoch 89/300 | Train Loss: 1.4942, Approx Train Acc: 59.34% | Val Acc: 84.50%\n"
          ]
        },
        {
          "output_type": "stream",
          "name": "stderr",
          "text": []
        },
        {
          "output_type": "stream",
          "name": "stdout",
          "text": [
            "Epoch 90/300 | Train Loss: 1.5183, Approx Train Acc: 58.20% | Val Acc: 80.10%\n"
          ]
        },
        {
          "output_type": "stream",
          "name": "stderr",
          "text": []
        },
        {
          "output_type": "stream",
          "name": "stdout",
          "text": [
            "Epoch 91/300 | Train Loss: 1.5134, Approx Train Acc: 58.20% | Val Acc: 84.68%\n"
          ]
        },
        {
          "output_type": "stream",
          "name": "stderr",
          "text": []
        },
        {
          "output_type": "stream",
          "name": "stdout",
          "text": [
            "Epoch 92/300 | Train Loss: 1.5213, Approx Train Acc: 57.89% | Val Acc: 84.31%\n"
          ]
        },
        {
          "output_type": "stream",
          "name": "stderr",
          "text": []
        },
        {
          "output_type": "stream",
          "name": "stdout",
          "text": [
            "Epoch 93/300 | Train Loss: 1.5064, Approx Train Acc: 58.56% | Val Acc: 84.73%\n"
          ]
        },
        {
          "output_type": "stream",
          "name": "stderr",
          "text": []
        },
        {
          "output_type": "stream",
          "name": "stdout",
          "text": [
            "Epoch 94/300 | Train Loss: 1.5233, Approx Train Acc: 58.05% | Val Acc: 82.86%\n"
          ]
        },
        {
          "output_type": "stream",
          "name": "stderr",
          "text": []
        },
        {
          "output_type": "stream",
          "name": "stdout",
          "text": [
            "Epoch 95/300 | Train Loss: 1.5098, Approx Train Acc: 58.45% | Val Acc: 83.28%\n"
          ]
        },
        {
          "output_type": "stream",
          "name": "stderr",
          "text": []
        },
        {
          "output_type": "stream",
          "name": "stdout",
          "text": [
            "Epoch 96/300 | Train Loss: 1.5246, Approx Train Acc: 57.77% | Val Acc: 83.18%\n"
          ]
        },
        {
          "output_type": "stream",
          "name": "stderr",
          "text": []
        },
        {
          "output_type": "stream",
          "name": "stdout",
          "text": [
            "Epoch 97/300 | Train Loss: 1.5195, Approx Train Acc: 57.90% | Val Acc: 84.47%\n"
          ]
        },
        {
          "output_type": "stream",
          "name": "stderr",
          "text": []
        },
        {
          "output_type": "stream",
          "name": "stdout",
          "text": [
            "Epoch 98/300 | Train Loss: 1.5239, Approx Train Acc: 57.88% | Val Acc: 83.74%\n"
          ]
        },
        {
          "output_type": "stream",
          "name": "stderr",
          "text": []
        },
        {
          "output_type": "stream",
          "name": "stdout",
          "text": [
            "Epoch 99/300 | Train Loss: 1.5147, Approx Train Acc: 58.05% | Val Acc: 80.86%\n"
          ]
        },
        {
          "output_type": "stream",
          "name": "stderr",
          "text": []
        },
        {
          "output_type": "stream",
          "name": "stdout",
          "text": [
            "Epoch 100/300 | Train Loss: 1.5237, Approx Train Acc: 57.69% | Val Acc: 83.88%\n"
          ]
        },
        {
          "output_type": "stream",
          "name": "stderr",
          "text": []
        },
        {
          "output_type": "stream",
          "name": "stdout",
          "text": [
            "Epoch 101/300 | Train Loss: 1.5077, Approx Train Acc: 58.51% | Val Acc: 84.25%\n"
          ]
        },
        {
          "output_type": "stream",
          "name": "stderr",
          "text": []
        },
        {
          "output_type": "stream",
          "name": "stdout",
          "text": [
            "Epoch 102/300 | Train Loss: 1.5236, Approx Train Acc: 57.90% | Val Acc: 81.47%\n"
          ]
        },
        {
          "output_type": "stream",
          "name": "stderr",
          "text": []
        },
        {
          "output_type": "stream",
          "name": "stdout",
          "text": [
            "Epoch 103/300 | Train Loss: 1.5088, Approx Train Acc: 58.62% | Val Acc: 84.51%\n"
          ]
        },
        {
          "output_type": "stream",
          "name": "stderr",
          "text": []
        },
        {
          "output_type": "stream",
          "name": "stdout",
          "text": [
            "Epoch 104/300 | Train Loss: 1.4905, Approx Train Acc: 59.37% | Val Acc: 84.03%\n"
          ]
        },
        {
          "output_type": "stream",
          "name": "stderr",
          "text": []
        },
        {
          "output_type": "stream",
          "name": "stdout",
          "text": [
            "Epoch 105/300 | Train Loss: 1.5159, Approx Train Acc: 58.07% | Val Acc: 82.76%\n"
          ]
        },
        {
          "output_type": "stream",
          "name": "stderr",
          "text": []
        },
        {
          "output_type": "stream",
          "name": "stdout",
          "text": [
            "Epoch 106/300 | Train Loss: 1.4916, Approx Train Acc: 59.45% | Val Acc: 81.69%\n"
          ]
        },
        {
          "output_type": "stream",
          "name": "stderr",
          "text": []
        },
        {
          "output_type": "stream",
          "name": "stdout",
          "text": [
            "Epoch 107/300 | Train Loss: 1.4818, Approx Train Acc: 59.77% | Val Acc: 84.74%\n"
          ]
        },
        {
          "output_type": "stream",
          "name": "stderr",
          "text": []
        },
        {
          "output_type": "stream",
          "name": "stdout",
          "text": [
            "Epoch 108/300 | Train Loss: 1.5043, Approx Train Acc: 58.68% | Val Acc: 83.67%\n"
          ]
        },
        {
          "output_type": "stream",
          "name": "stderr",
          "text": []
        },
        {
          "output_type": "stream",
          "name": "stdout",
          "text": [
            "Epoch 109/300 | Train Loss: 1.4992, Approx Train Acc: 59.23% | Val Acc: 82.01%\n"
          ]
        },
        {
          "output_type": "stream",
          "name": "stderr",
          "text": []
        },
        {
          "output_type": "stream",
          "name": "stdout",
          "text": [
            "Epoch 110/300 | Train Loss: 1.5084, Approx Train Acc: 58.27% | Val Acc: 85.75%\n",
            "   [*] Saved new best model: Val Acc = 85.75%\n"
          ]
        },
        {
          "output_type": "stream",
          "name": "stderr",
          "text": []
        },
        {
          "output_type": "stream",
          "name": "stdout",
          "text": [
            "Epoch 111/300 | Train Loss: 1.5003, Approx Train Acc: 58.98% | Val Acc: 84.07%\n"
          ]
        },
        {
          "output_type": "stream",
          "name": "stderr",
          "text": []
        },
        {
          "output_type": "stream",
          "name": "stdout",
          "text": [
            "Epoch 112/300 | Train Loss: 1.5083, Approx Train Acc: 58.53% | Val Acc: 85.08%\n"
          ]
        },
        {
          "output_type": "stream",
          "name": "stderr",
          "text": []
        },
        {
          "output_type": "stream",
          "name": "stdout",
          "text": [
            "Epoch 113/300 | Train Loss: 1.5130, Approx Train Acc: 58.29% | Val Acc: 86.24%\n",
            "   [*] Saved new best model: Val Acc = 86.24%\n"
          ]
        },
        {
          "output_type": "stream",
          "name": "stderr",
          "text": []
        },
        {
          "output_type": "stream",
          "name": "stdout",
          "text": [
            "Epoch 114/300 | Train Loss: 1.5085, Approx Train Acc: 58.62% | Val Acc: 86.36%\n",
            "   [*] Saved new best model: Val Acc = 86.36%\n"
          ]
        },
        {
          "output_type": "stream",
          "name": "stderr",
          "text": []
        },
        {
          "output_type": "stream",
          "name": "stdout",
          "text": [
            "Epoch 115/300 | Train Loss: 1.4949, Approx Train Acc: 59.00% | Val Acc: 81.01%\n"
          ]
        },
        {
          "output_type": "stream",
          "name": "stderr",
          "text": []
        },
        {
          "output_type": "stream",
          "name": "stdout",
          "text": [
            "Epoch 116/300 | Train Loss: 1.5072, Approx Train Acc: 58.63% | Val Acc: 85.59%\n"
          ]
        },
        {
          "output_type": "stream",
          "name": "stderr",
          "text": []
        },
        {
          "output_type": "stream",
          "name": "stdout",
          "text": [
            "Epoch 117/300 | Train Loss: 1.5179, Approx Train Acc: 58.02% | Val Acc: 86.04%\n"
          ]
        },
        {
          "output_type": "stream",
          "name": "stderr",
          "text": []
        },
        {
          "output_type": "stream",
          "name": "stdout",
          "text": [
            "Epoch 118/300 | Train Loss: 1.4732, Approx Train Acc: 60.15% | Val Acc: 82.17%\n"
          ]
        },
        {
          "output_type": "stream",
          "name": "stderr",
          "text": []
        },
        {
          "output_type": "stream",
          "name": "stdout",
          "text": [
            "Epoch 119/300 | Train Loss: 1.5117, Approx Train Acc: 58.26% | Val Acc: 84.47%\n"
          ]
        },
        {
          "output_type": "stream",
          "name": "stderr",
          "text": []
        },
        {
          "output_type": "stream",
          "name": "stdout",
          "text": [
            "Epoch 120/300 | Train Loss: 1.5114, Approx Train Acc: 58.52% | Val Acc: 83.87%\n"
          ]
        },
        {
          "output_type": "stream",
          "name": "stderr",
          "text": []
        },
        {
          "output_type": "stream",
          "name": "stdout",
          "text": [
            "Epoch 121/300 | Train Loss: 1.5028, Approx Train Acc: 58.71% | Val Acc: 83.91%\n"
          ]
        },
        {
          "output_type": "stream",
          "name": "stderr",
          "text": []
        },
        {
          "output_type": "stream",
          "name": "stdout",
          "text": [
            "Epoch 122/300 | Train Loss: 1.4889, Approx Train Acc: 59.33% | Val Acc: 85.92%\n"
          ]
        },
        {
          "output_type": "stream",
          "name": "stderr",
          "text": []
        },
        {
          "output_type": "stream",
          "name": "stdout",
          "text": [
            "Epoch 123/300 | Train Loss: 1.5170, Approx Train Acc: 58.10% | Val Acc: 83.98%\n"
          ]
        },
        {
          "output_type": "stream",
          "name": "stderr",
          "text": []
        },
        {
          "output_type": "stream",
          "name": "stdout",
          "text": [
            "Epoch 124/300 | Train Loss: 1.5014, Approx Train Acc: 58.81% | Val Acc: 86.43%\n",
            "   [*] Saved new best model: Val Acc = 86.43%\n"
          ]
        },
        {
          "output_type": "stream",
          "name": "stderr",
          "text": []
        },
        {
          "output_type": "stream",
          "name": "stdout",
          "text": [
            "Epoch 125/300 | Train Loss: 1.4927, Approx Train Acc: 59.18% | Val Acc: 85.18%\n"
          ]
        },
        {
          "output_type": "stream",
          "name": "stderr",
          "text": []
        },
        {
          "output_type": "stream",
          "name": "stdout",
          "text": [
            "Epoch 126/300 | Train Loss: 1.4952, Approx Train Acc: 59.15% | Val Acc: 87.32%\n",
            "   [*] Saved new best model: Val Acc = 87.32%\n"
          ]
        },
        {
          "output_type": "stream",
          "name": "stderr",
          "text": []
        },
        {
          "output_type": "stream",
          "name": "stdout",
          "text": [
            "Epoch 127/300 | Train Loss: 1.5054, Approx Train Acc: 58.46% | Val Acc: 81.61%\n"
          ]
        },
        {
          "output_type": "stream",
          "name": "stderr",
          "text": []
        },
        {
          "output_type": "stream",
          "name": "stdout",
          "text": [
            "Epoch 128/300 | Train Loss: 1.4885, Approx Train Acc: 59.61% | Val Acc: 87.41%\n",
            "   [*] Saved new best model: Val Acc = 87.41%\n"
          ]
        },
        {
          "output_type": "stream",
          "name": "stderr",
          "text": []
        },
        {
          "output_type": "stream",
          "name": "stdout",
          "text": [
            "Epoch 129/300 | Train Loss: 1.5044, Approx Train Acc: 58.71% | Val Acc: 85.34%\n"
          ]
        },
        {
          "output_type": "stream",
          "name": "stderr",
          "text": []
        },
        {
          "output_type": "stream",
          "name": "stdout",
          "text": [
            "Epoch 130/300 | Train Loss: 1.4795, Approx Train Acc: 59.61% | Val Acc: 87.37%\n"
          ]
        },
        {
          "output_type": "stream",
          "name": "stderr",
          "text": []
        },
        {
          "output_type": "stream",
          "name": "stdout",
          "text": [
            "Epoch 131/300 | Train Loss: 1.5008, Approx Train Acc: 58.89% | Val Acc: 85.25%\n"
          ]
        },
        {
          "output_type": "stream",
          "name": "stderr",
          "text": []
        },
        {
          "output_type": "stream",
          "name": "stdout",
          "text": [
            "Epoch 132/300 | Train Loss: 1.4682, Approx Train Acc: 60.47% | Val Acc: 85.45%\n"
          ]
        },
        {
          "output_type": "stream",
          "name": "stderr",
          "text": []
        },
        {
          "output_type": "stream",
          "name": "stdout",
          "text": [
            "Epoch 133/300 | Train Loss: 1.4666, Approx Train Acc: 60.41% | Val Acc: 85.94%\n"
          ]
        },
        {
          "output_type": "stream",
          "name": "stderr",
          "text": []
        },
        {
          "output_type": "stream",
          "name": "stdout",
          "text": [
            "Epoch 134/300 | Train Loss: 1.4834, Approx Train Acc: 59.74% | Val Acc: 79.67%\n"
          ]
        },
        {
          "output_type": "stream",
          "name": "stderr",
          "text": []
        },
        {
          "output_type": "stream",
          "name": "stdout",
          "text": [
            "Epoch 135/300 | Train Loss: 1.4950, Approx Train Acc: 59.11% | Val Acc: 87.00%\n"
          ]
        },
        {
          "output_type": "stream",
          "name": "stderr",
          "text": []
        },
        {
          "output_type": "stream",
          "name": "stdout",
          "text": [
            "Epoch 136/300 | Train Loss: 1.4819, Approx Train Acc: 59.53% | Val Acc: 85.65%\n"
          ]
        },
        {
          "output_type": "stream",
          "name": "stderr",
          "text": []
        },
        {
          "output_type": "stream",
          "name": "stdout",
          "text": [
            "Epoch 137/300 | Train Loss: 1.4602, Approx Train Acc: 60.80% | Val Acc: 81.42%\n"
          ]
        },
        {
          "output_type": "stream",
          "name": "stderr",
          "text": []
        },
        {
          "output_type": "stream",
          "name": "stdout",
          "text": [
            "Epoch 138/300 | Train Loss: 1.4776, Approx Train Acc: 59.96% | Val Acc: 83.33%\n"
          ]
        },
        {
          "output_type": "stream",
          "name": "stderr",
          "text": []
        },
        {
          "output_type": "stream",
          "name": "stdout",
          "text": [
            "Epoch 139/300 | Train Loss: 1.4817, Approx Train Acc: 59.70% | Val Acc: 87.94%\n",
            "   [*] Saved new best model: Val Acc = 87.94%\n"
          ]
        },
        {
          "output_type": "stream",
          "name": "stderr",
          "text": []
        },
        {
          "output_type": "stream",
          "name": "stdout",
          "text": [
            "Epoch 140/300 | Train Loss: 1.4780, Approx Train Acc: 59.66% | Val Acc: 87.11%\n"
          ]
        },
        {
          "output_type": "stream",
          "name": "stderr",
          "text": []
        },
        {
          "output_type": "stream",
          "name": "stdout",
          "text": [
            "Epoch 141/300 | Train Loss: 1.4846, Approx Train Acc: 59.52% | Val Acc: 87.05%\n"
          ]
        },
        {
          "output_type": "stream",
          "name": "stderr",
          "text": []
        },
        {
          "output_type": "stream",
          "name": "stdout",
          "text": [
            "Epoch 142/300 | Train Loss: 1.4777, Approx Train Acc: 59.60% | Val Acc: 83.63%\n"
          ]
        },
        {
          "output_type": "stream",
          "name": "stderr",
          "text": []
        },
        {
          "output_type": "stream",
          "name": "stdout",
          "text": [
            "Epoch 143/300 | Train Loss: 1.4939, Approx Train Acc: 59.01% | Val Acc: 87.97%\n",
            "   [*] Saved new best model: Val Acc = 87.97%\n"
          ]
        },
        {
          "output_type": "stream",
          "name": "stderr",
          "text": []
        },
        {
          "output_type": "stream",
          "name": "stdout",
          "text": [
            "Epoch 144/300 | Train Loss: 1.4632, Approx Train Acc: 60.51% | Val Acc: 84.54%\n"
          ]
        },
        {
          "output_type": "stream",
          "name": "stderr",
          "text": []
        },
        {
          "output_type": "stream",
          "name": "stdout",
          "text": [
            "Epoch 145/300 | Train Loss: 1.4592, Approx Train Acc: 60.46% | Val Acc: 86.73%\n"
          ]
        },
        {
          "output_type": "stream",
          "name": "stderr",
          "text": []
        },
        {
          "output_type": "stream",
          "name": "stdout",
          "text": [
            "Epoch 146/300 | Train Loss: 1.4609, Approx Train Acc: 60.80% | Val Acc: 86.85%\n"
          ]
        },
        {
          "output_type": "stream",
          "name": "stderr",
          "text": []
        },
        {
          "output_type": "stream",
          "name": "stdout",
          "text": [
            "Epoch 147/300 | Train Loss: 1.4667, Approx Train Acc: 60.39% | Val Acc: 85.46%\n"
          ]
        },
        {
          "output_type": "stream",
          "name": "stderr",
          "text": []
        },
        {
          "output_type": "stream",
          "name": "stdout",
          "text": [
            "Epoch 148/300 | Train Loss: 1.4636, Approx Train Acc: 60.56% | Val Acc: 86.08%\n"
          ]
        },
        {
          "output_type": "stream",
          "name": "stderr",
          "text": []
        },
        {
          "output_type": "stream",
          "name": "stdout",
          "text": [
            "Epoch 149/300 | Train Loss: 1.4494, Approx Train Acc: 61.25% | Val Acc: 85.17%\n"
          ]
        },
        {
          "output_type": "stream",
          "name": "stderr",
          "text": []
        },
        {
          "output_type": "stream",
          "name": "stdout",
          "text": [
            "Epoch 150/300 | Train Loss: 1.4708, Approx Train Acc: 60.15% | Val Acc: 85.26%\n"
          ]
        },
        {
          "output_type": "stream",
          "name": "stderr",
          "text": []
        },
        {
          "output_type": "stream",
          "name": "stdout",
          "text": [
            "Epoch 151/300 | Train Loss: 1.4804, Approx Train Acc: 59.89% | Val Acc: 85.38%\n"
          ]
        },
        {
          "output_type": "stream",
          "name": "stderr",
          "text": []
        },
        {
          "output_type": "stream",
          "name": "stdout",
          "text": [
            "Epoch 152/300 | Train Loss: 1.4582, Approx Train Acc: 60.89% | Val Acc: 87.82%\n"
          ]
        },
        {
          "output_type": "stream",
          "name": "stderr",
          "text": []
        },
        {
          "output_type": "stream",
          "name": "stdout",
          "text": [
            "Epoch 153/300 | Train Loss: 1.4516, Approx Train Acc: 61.06% | Val Acc: 86.61%\n"
          ]
        },
        {
          "output_type": "stream",
          "name": "stderr",
          "text": []
        },
        {
          "output_type": "stream",
          "name": "stdout",
          "text": [
            "Epoch 154/300 | Train Loss: 1.4506, Approx Train Acc: 61.16% | Val Acc: 88.35%\n",
            "   [*] Saved new best model: Val Acc = 88.35%\n"
          ]
        },
        {
          "output_type": "stream",
          "name": "stderr",
          "text": []
        },
        {
          "output_type": "stream",
          "name": "stdout",
          "text": [
            "Epoch 155/300 | Train Loss: 1.4331, Approx Train Acc: 61.89% | Val Acc: 86.73%\n"
          ]
        },
        {
          "output_type": "stream",
          "name": "stderr",
          "text": []
        },
        {
          "output_type": "stream",
          "name": "stdout",
          "text": [
            "Epoch 156/300 | Train Loss: 1.4440, Approx Train Acc: 61.71% | Val Acc: 86.84%\n"
          ]
        },
        {
          "output_type": "stream",
          "name": "stderr",
          "text": []
        },
        {
          "output_type": "stream",
          "name": "stdout",
          "text": [
            "Epoch 157/300 | Train Loss: 1.4529, Approx Train Acc: 61.06% | Val Acc: 87.28%\n"
          ]
        },
        {
          "output_type": "stream",
          "name": "stderr",
          "text": []
        },
        {
          "output_type": "stream",
          "name": "stdout",
          "text": [
            "Epoch 158/300 | Train Loss: 1.4524, Approx Train Acc: 60.80% | Val Acc: 87.09%\n"
          ]
        },
        {
          "output_type": "stream",
          "name": "stderr",
          "text": []
        },
        {
          "output_type": "stream",
          "name": "stdout",
          "text": [
            "Epoch 159/300 | Train Loss: 1.4803, Approx Train Acc: 59.69% | Val Acc: 86.26%\n"
          ]
        },
        {
          "output_type": "stream",
          "name": "stderr",
          "text": []
        },
        {
          "output_type": "stream",
          "name": "stdout",
          "text": [
            "Epoch 160/300 | Train Loss: 1.4404, Approx Train Acc: 61.62% | Val Acc: 87.58%\n"
          ]
        },
        {
          "output_type": "stream",
          "name": "stderr",
          "text": []
        },
        {
          "output_type": "stream",
          "name": "stdout",
          "text": [
            "Epoch 161/300 | Train Loss: 1.4275, Approx Train Acc: 62.05% | Val Acc: 86.89%\n"
          ]
        },
        {
          "output_type": "stream",
          "name": "stderr",
          "text": []
        },
        {
          "output_type": "stream",
          "name": "stdout",
          "text": [
            "Epoch 162/300 | Train Loss: 1.4644, Approx Train Acc: 60.59% | Val Acc: 87.13%\n"
          ]
        },
        {
          "output_type": "stream",
          "name": "stderr",
          "text": []
        },
        {
          "output_type": "stream",
          "name": "stdout",
          "text": [
            "Epoch 163/300 | Train Loss: 1.4516, Approx Train Acc: 60.84% | Val Acc: 88.24%\n"
          ]
        },
        {
          "output_type": "stream",
          "name": "stderr",
          "text": []
        },
        {
          "output_type": "stream",
          "name": "stdout",
          "text": [
            "Epoch 164/300 | Train Loss: 1.4293, Approx Train Acc: 62.33% | Val Acc: 88.86%\n",
            "   [*] Saved new best model: Val Acc = 88.86%\n"
          ]
        },
        {
          "output_type": "stream",
          "name": "stderr",
          "text": []
        },
        {
          "output_type": "stream",
          "name": "stdout",
          "text": [
            "Epoch 165/300 | Train Loss: 1.4876, Approx Train Acc: 59.24% | Val Acc: 88.52%\n"
          ]
        },
        {
          "output_type": "stream",
          "name": "stderr",
          "text": []
        },
        {
          "output_type": "stream",
          "name": "stdout",
          "text": [
            "Epoch 166/300 | Train Loss: 1.4435, Approx Train Acc: 61.42% | Val Acc: 86.71%\n"
          ]
        },
        {
          "output_type": "stream",
          "name": "stderr",
          "text": []
        },
        {
          "output_type": "stream",
          "name": "stdout",
          "text": [
            "Epoch 167/300 | Train Loss: 1.4314, Approx Train Acc: 62.05% | Val Acc: 87.96%\n"
          ]
        },
        {
          "output_type": "stream",
          "name": "stderr",
          "text": []
        },
        {
          "output_type": "stream",
          "name": "stdout",
          "text": [
            "Epoch 168/300 | Train Loss: 1.4501, Approx Train Acc: 61.06% | Val Acc: 88.37%\n"
          ]
        },
        {
          "output_type": "stream",
          "name": "stderr",
          "text": []
        },
        {
          "output_type": "stream",
          "name": "stdout",
          "text": [
            "Epoch 169/300 | Train Loss: 1.4469, Approx Train Acc: 61.28% | Val Acc: 87.18%\n"
          ]
        },
        {
          "output_type": "stream",
          "name": "stderr",
          "text": []
        },
        {
          "output_type": "stream",
          "name": "stdout",
          "text": [
            "Epoch 170/300 | Train Loss: 1.4328, Approx Train Acc: 61.77% | Val Acc: 88.13%\n"
          ]
        },
        {
          "output_type": "stream",
          "name": "stderr",
          "text": []
        },
        {
          "output_type": "stream",
          "name": "stdout",
          "text": [
            "Epoch 171/300 | Train Loss: 1.4249, Approx Train Acc: 62.16% | Val Acc: 87.63%\n"
          ]
        },
        {
          "output_type": "stream",
          "name": "stderr",
          "text": []
        },
        {
          "output_type": "stream",
          "name": "stdout",
          "text": [
            "Epoch 172/300 | Train Loss: 1.4552, Approx Train Acc: 60.68% | Val Acc: 88.52%\n"
          ]
        },
        {
          "output_type": "stream",
          "name": "stderr",
          "text": []
        },
        {
          "output_type": "stream",
          "name": "stdout",
          "text": [
            "Epoch 173/300 | Train Loss: 1.4250, Approx Train Acc: 62.27% | Val Acc: 83.53%\n"
          ]
        },
        {
          "output_type": "stream",
          "name": "stderr",
          "text": []
        },
        {
          "output_type": "stream",
          "name": "stdout",
          "text": [
            "Epoch 174/300 | Train Loss: 1.4519, Approx Train Acc: 60.97% | Val Acc: 89.04%\n",
            "   [*] Saved new best model: Val Acc = 89.04%\n"
          ]
        },
        {
          "output_type": "stream",
          "name": "stderr",
          "text": []
        },
        {
          "output_type": "stream",
          "name": "stdout",
          "text": [
            "Epoch 175/300 | Train Loss: 1.4189, Approx Train Acc: 62.58% | Val Acc: 86.77%\n"
          ]
        },
        {
          "output_type": "stream",
          "name": "stderr",
          "text": []
        },
        {
          "output_type": "stream",
          "name": "stdout",
          "text": [
            "Epoch 176/300 | Train Loss: 1.4198, Approx Train Acc: 62.30% | Val Acc: 89.18%\n",
            "   [*] Saved new best model: Val Acc = 89.18%\n"
          ]
        },
        {
          "output_type": "stream",
          "name": "stderr",
          "text": []
        },
        {
          "output_type": "stream",
          "name": "stdout",
          "text": [
            "Epoch 177/300 | Train Loss: 1.4308, Approx Train Acc: 62.06% | Val Acc: 86.93%\n"
          ]
        },
        {
          "output_type": "stream",
          "name": "stderr",
          "text": []
        },
        {
          "output_type": "stream",
          "name": "stdout",
          "text": [
            "Epoch 178/300 | Train Loss: 1.4296, Approx Train Acc: 62.28% | Val Acc: 87.65%\n"
          ]
        },
        {
          "output_type": "stream",
          "name": "stderr",
          "text": []
        },
        {
          "output_type": "stream",
          "name": "stdout",
          "text": [
            "Epoch 179/300 | Train Loss: 1.4320, Approx Train Acc: 61.59% | Val Acc: 88.15%\n"
          ]
        },
        {
          "output_type": "stream",
          "name": "stderr",
          "text": []
        },
        {
          "output_type": "stream",
          "name": "stdout",
          "text": [
            "Epoch 180/300 | Train Loss: 1.4077, Approx Train Acc: 63.07% | Val Acc: 86.62%\n"
          ]
        },
        {
          "output_type": "stream",
          "name": "stderr",
          "text": []
        },
        {
          "output_type": "stream",
          "name": "stdout",
          "text": [
            "Epoch 181/300 | Train Loss: 1.4451, Approx Train Acc: 61.21% | Val Acc: 86.05%\n"
          ]
        },
        {
          "output_type": "stream",
          "name": "stderr",
          "text": []
        },
        {
          "output_type": "stream",
          "name": "stdout",
          "text": [
            "Epoch 182/300 | Train Loss: 1.4457, Approx Train Acc: 61.09% | Val Acc: 89.26%\n",
            "   [*] Saved new best model: Val Acc = 89.26%\n"
          ]
        },
        {
          "output_type": "stream",
          "name": "stderr",
          "text": []
        },
        {
          "output_type": "stream",
          "name": "stdout",
          "text": [
            "Epoch 183/300 | Train Loss: 1.4448, Approx Train Acc: 60.98% | Val Acc: 88.71%\n"
          ]
        },
        {
          "output_type": "stream",
          "name": "stderr",
          "text": []
        },
        {
          "output_type": "stream",
          "name": "stdout",
          "text": [
            "Epoch 184/300 | Train Loss: 1.4477, Approx Train Acc: 60.78% | Val Acc: 89.92%\n",
            "   [*] Saved new best model: Val Acc = 89.92%\n"
          ]
        },
        {
          "output_type": "stream",
          "name": "stderr",
          "text": []
        },
        {
          "output_type": "stream",
          "name": "stdout",
          "text": [
            "Epoch 185/300 | Train Loss: 1.4369, Approx Train Acc: 61.63% | Val Acc: 89.46%\n"
          ]
        },
        {
          "output_type": "stream",
          "name": "stderr",
          "text": []
        },
        {
          "output_type": "stream",
          "name": "stdout",
          "text": [
            "Epoch 186/300 | Train Loss: 1.4220, Approx Train Acc: 62.28% | Val Acc: 88.51%\n"
          ]
        },
        {
          "output_type": "stream",
          "name": "stderr",
          "text": []
        },
        {
          "output_type": "stream",
          "name": "stdout",
          "text": [
            "Epoch 187/300 | Train Loss: 1.4380, Approx Train Acc: 61.25% | Val Acc: 88.82%\n"
          ]
        },
        {
          "output_type": "stream",
          "name": "stderr",
          "text": []
        },
        {
          "output_type": "stream",
          "name": "stdout",
          "text": [
            "Epoch 188/300 | Train Loss: 1.4211, Approx Train Acc: 62.54% | Val Acc: 89.18%\n"
          ]
        },
        {
          "output_type": "stream",
          "name": "stderr",
          "text": []
        },
        {
          "output_type": "stream",
          "name": "stdout",
          "text": [
            "Epoch 189/300 | Train Loss: 1.4129, Approx Train Acc: 62.86% | Val Acc: 86.04%\n"
          ]
        },
        {
          "output_type": "stream",
          "name": "stderr",
          "text": []
        },
        {
          "output_type": "stream",
          "name": "stdout",
          "text": [
            "Epoch 190/300 | Train Loss: 1.3890, Approx Train Acc: 63.86% | Val Acc: 88.77%\n"
          ]
        },
        {
          "output_type": "stream",
          "name": "stderr",
          "text": []
        },
        {
          "output_type": "stream",
          "name": "stdout",
          "text": [
            "Epoch 191/300 | Train Loss: 1.4253, Approx Train Acc: 62.29% | Val Acc: 88.27%\n"
          ]
        },
        {
          "output_type": "stream",
          "name": "stderr",
          "text": []
        },
        {
          "output_type": "stream",
          "name": "stdout",
          "text": [
            "Epoch 192/300 | Train Loss: 1.4421, Approx Train Acc: 61.21% | Val Acc: 88.96%\n"
          ]
        },
        {
          "output_type": "stream",
          "name": "stderr",
          "text": []
        },
        {
          "output_type": "stream",
          "name": "stdout",
          "text": [
            "Epoch 193/300 | Train Loss: 1.4038, Approx Train Acc: 63.15% | Val Acc: 90.05%\n",
            "   [*] Saved new best model: Val Acc = 90.05%\n"
          ]
        },
        {
          "output_type": "stream",
          "name": "stderr",
          "text": []
        },
        {
          "output_type": "stream",
          "name": "stdout",
          "text": [
            "Epoch 194/300 | Train Loss: 1.3832, Approx Train Acc: 64.08% | Val Acc: 90.44%\n",
            "   [*] Saved new best model: Val Acc = 90.44%\n"
          ]
        },
        {
          "output_type": "stream",
          "name": "stderr",
          "text": []
        },
        {
          "output_type": "stream",
          "name": "stdout",
          "text": [
            "Epoch 195/300 | Train Loss: 1.4287, Approx Train Acc: 61.69% | Val Acc: 90.57%\n",
            "   [*] Saved new best model: Val Acc = 90.57%\n"
          ]
        },
        {
          "output_type": "stream",
          "name": "stderr",
          "text": []
        },
        {
          "output_type": "stream",
          "name": "stdout",
          "text": [
            "Epoch 196/300 | Train Loss: 1.4159, Approx Train Acc: 62.56% | Val Acc: 90.12%\n"
          ]
        },
        {
          "output_type": "stream",
          "name": "stderr",
          "text": []
        },
        {
          "output_type": "stream",
          "name": "stdout",
          "text": [
            "Epoch 197/300 | Train Loss: 1.3848, Approx Train Acc: 63.86% | Val Acc: 89.80%\n"
          ]
        },
        {
          "output_type": "stream",
          "name": "stderr",
          "text": []
        },
        {
          "output_type": "stream",
          "name": "stdout",
          "text": [
            "Epoch 198/300 | Train Loss: 1.4087, Approx Train Acc: 62.90% | Val Acc: 89.95%\n"
          ]
        },
        {
          "output_type": "stream",
          "name": "stderr",
          "text": []
        },
        {
          "output_type": "stream",
          "name": "stdout",
          "text": [
            "Epoch 199/300 | Train Loss: 1.4201, Approx Train Acc: 62.04% | Val Acc: 89.12%\n"
          ]
        },
        {
          "output_type": "stream",
          "name": "stderr",
          "text": []
        },
        {
          "output_type": "stream",
          "name": "stdout",
          "text": [
            "Epoch 200/300 | Train Loss: 1.4045, Approx Train Acc: 62.83% | Val Acc: 90.19%\n"
          ]
        },
        {
          "output_type": "stream",
          "name": "stderr",
          "text": []
        },
        {
          "output_type": "stream",
          "name": "stdout",
          "text": [
            "Epoch 201/300 | Train Loss: 1.3864, Approx Train Acc: 63.90% | Val Acc: 91.41%\n",
            "   [*] Saved new best model: Val Acc = 91.41%\n"
          ]
        },
        {
          "output_type": "stream",
          "name": "stderr",
          "text": []
        },
        {
          "output_type": "stream",
          "name": "stdout",
          "text": [
            "Epoch 202/300 | Train Loss: 1.3979, Approx Train Acc: 63.27% | Val Acc: 88.60%\n"
          ]
        },
        {
          "output_type": "stream",
          "name": "stderr",
          "text": []
        },
        {
          "output_type": "stream",
          "name": "stdout",
          "text": [
            "Epoch 203/300 | Train Loss: 1.4166, Approx Train Acc: 62.16% | Val Acc: 91.09%\n"
          ]
        },
        {
          "output_type": "stream",
          "name": "stderr",
          "text": []
        },
        {
          "output_type": "stream",
          "name": "stdout",
          "text": [
            "Epoch 204/300 | Train Loss: 1.3874, Approx Train Acc: 63.54% | Val Acc: 88.60%\n"
          ]
        },
        {
          "output_type": "stream",
          "name": "stderr",
          "text": []
        },
        {
          "output_type": "stream",
          "name": "stdout",
          "text": [
            "Epoch 205/300 | Train Loss: 1.4134, Approx Train Acc: 62.40% | Val Acc: 91.01%\n"
          ]
        },
        {
          "output_type": "stream",
          "name": "stderr",
          "text": []
        },
        {
          "output_type": "stream",
          "name": "stdout",
          "text": [
            "Epoch 206/300 | Train Loss: 1.3998, Approx Train Acc: 63.23% | Val Acc: 90.27%\n"
          ]
        },
        {
          "output_type": "stream",
          "name": "stderr",
          "text": []
        },
        {
          "output_type": "stream",
          "name": "stdout",
          "text": [
            "Epoch 207/300 | Train Loss: 1.3926, Approx Train Acc: 63.18% | Val Acc: 91.37%\n"
          ]
        },
        {
          "output_type": "stream",
          "name": "stderr",
          "text": []
        },
        {
          "output_type": "stream",
          "name": "stdout",
          "text": [
            "Epoch 208/300 | Train Loss: 1.3923, Approx Train Acc: 63.47% | Val Acc: 91.40%\n"
          ]
        },
        {
          "output_type": "stream",
          "name": "stderr",
          "text": []
        },
        {
          "output_type": "stream",
          "name": "stdout",
          "text": [
            "Epoch 209/300 | Train Loss: 1.3872, Approx Train Acc: 63.52% | Val Acc: 90.82%\n"
          ]
        },
        {
          "output_type": "stream",
          "name": "stderr",
          "text": []
        },
        {
          "output_type": "stream",
          "name": "stdout",
          "text": [
            "Epoch 210/300 | Train Loss: 1.3930, Approx Train Acc: 63.26% | Val Acc: 90.99%\n"
          ]
        },
        {
          "output_type": "stream",
          "name": "stderr",
          "text": []
        },
        {
          "output_type": "stream",
          "name": "stdout",
          "text": [
            "Epoch 211/300 | Train Loss: 1.3935, Approx Train Acc: 63.28% | Val Acc: 90.74%\n"
          ]
        },
        {
          "output_type": "stream",
          "name": "stderr",
          "text": []
        },
        {
          "output_type": "stream",
          "name": "stdout",
          "text": [
            "Epoch 212/300 | Train Loss: 1.3807, Approx Train Acc: 63.78% | Val Acc: 89.16%\n"
          ]
        },
        {
          "output_type": "stream",
          "name": "stderr",
          "text": []
        },
        {
          "output_type": "stream",
          "name": "stdout",
          "text": [
            "Epoch 213/300 | Train Loss: 1.3868, Approx Train Acc: 63.47% | Val Acc: 88.63%\n"
          ]
        },
        {
          "output_type": "stream",
          "name": "stderr",
          "text": []
        },
        {
          "output_type": "stream",
          "name": "stdout",
          "text": [
            "Epoch 214/300 | Train Loss: 1.3614, Approx Train Acc: 64.67% | Val Acc: 88.83%\n"
          ]
        },
        {
          "output_type": "stream",
          "name": "stderr",
          "text": []
        },
        {
          "output_type": "stream",
          "name": "stdout",
          "text": [
            "Epoch 215/300 | Train Loss: 1.3773, Approx Train Acc: 64.23% | Val Acc: 91.10%\n"
          ]
        },
        {
          "output_type": "stream",
          "name": "stderr",
          "text": []
        },
        {
          "output_type": "stream",
          "name": "stdout",
          "text": [
            "Epoch 216/300 | Train Loss: 1.3793, Approx Train Acc: 63.84% | Val Acc: 90.45%\n"
          ]
        },
        {
          "output_type": "stream",
          "name": "stderr",
          "text": []
        },
        {
          "output_type": "stream",
          "name": "stdout",
          "text": [
            "Epoch 217/300 | Train Loss: 1.3852, Approx Train Acc: 63.88% | Val Acc: 91.05%\n"
          ]
        },
        {
          "output_type": "stream",
          "name": "stderr",
          "text": []
        },
        {
          "output_type": "stream",
          "name": "stdout",
          "text": [
            "Epoch 218/300 | Train Loss: 1.3679, Approx Train Acc: 64.56% | Val Acc: 92.17%\n",
            "   [*] Saved new best model: Val Acc = 92.17%\n"
          ]
        },
        {
          "output_type": "stream",
          "name": "stderr",
          "text": []
        },
        {
          "output_type": "stream",
          "name": "stdout",
          "text": [
            "Epoch 219/300 | Train Loss: 1.3681, Approx Train Acc: 64.44% | Val Acc: 90.90%\n"
          ]
        },
        {
          "output_type": "stream",
          "name": "stderr",
          "text": []
        },
        {
          "output_type": "stream",
          "name": "stdout",
          "text": [
            "Epoch 220/300 | Train Loss: 1.3795, Approx Train Acc: 64.13% | Val Acc: 92.02%\n"
          ]
        },
        {
          "output_type": "stream",
          "name": "stderr",
          "text": []
        },
        {
          "output_type": "stream",
          "name": "stdout",
          "text": [
            "Epoch 221/300 | Train Loss: 1.3539, Approx Train Acc: 65.26% | Val Acc: 90.44%\n"
          ]
        },
        {
          "output_type": "stream",
          "name": "stderr",
          "text": []
        },
        {
          "output_type": "stream",
          "name": "stdout",
          "text": [
            "Epoch 222/300 | Train Loss: 1.3599, Approx Train Acc: 64.57% | Val Acc: 90.85%\n"
          ]
        },
        {
          "output_type": "stream",
          "name": "stderr",
          "text": []
        },
        {
          "output_type": "stream",
          "name": "stdout",
          "text": [
            "Epoch 223/300 | Train Loss: 1.3496, Approx Train Acc: 65.40% | Val Acc: 92.51%\n",
            "   [*] Saved new best model: Val Acc = 92.51%\n"
          ]
        },
        {
          "output_type": "stream",
          "name": "stderr",
          "text": []
        },
        {
          "output_type": "stream",
          "name": "stdout",
          "text": [
            "Epoch 224/300 | Train Loss: 1.3619, Approx Train Acc: 64.81% | Val Acc: 92.18%\n"
          ]
        },
        {
          "output_type": "stream",
          "name": "stderr",
          "text": []
        },
        {
          "output_type": "stream",
          "name": "stdout",
          "text": [
            "Epoch 225/300 | Train Loss: 1.3467, Approx Train Acc: 65.52% | Val Acc: 90.06%\n"
          ]
        },
        {
          "output_type": "stream",
          "name": "stderr",
          "text": []
        },
        {
          "output_type": "stream",
          "name": "stdout",
          "text": [
            "Epoch 226/300 | Train Loss: 1.3678, Approx Train Acc: 64.14% | Val Acc: 92.31%\n"
          ]
        },
        {
          "output_type": "stream",
          "name": "stderr",
          "text": []
        },
        {
          "output_type": "stream",
          "name": "stdout",
          "text": [
            "Epoch 227/300 | Train Loss: 1.3519, Approx Train Acc: 64.98% | Val Acc: 92.07%\n"
          ]
        },
        {
          "output_type": "stream",
          "name": "stderr",
          "text": []
        },
        {
          "output_type": "stream",
          "name": "stdout",
          "text": [
            "Epoch 228/300 | Train Loss: 1.3627, Approx Train Acc: 64.87% | Val Acc: 91.24%\n"
          ]
        },
        {
          "output_type": "stream",
          "name": "stderr",
          "text": []
        },
        {
          "output_type": "stream",
          "name": "stdout",
          "text": [
            "Epoch 229/300 | Train Loss: 1.3538, Approx Train Acc: 64.67% | Val Acc: 91.56%\n"
          ]
        },
        {
          "output_type": "stream",
          "name": "stderr",
          "text": []
        },
        {
          "output_type": "stream",
          "name": "stdout",
          "text": [
            "Epoch 230/300 | Train Loss: 1.3382, Approx Train Acc: 66.21% | Val Acc: 92.16%\n"
          ]
        },
        {
          "output_type": "stream",
          "name": "stderr",
          "text": []
        },
        {
          "output_type": "stream",
          "name": "stdout",
          "text": [
            "Epoch 231/300 | Train Loss: 1.3399, Approx Train Acc: 65.55% | Val Acc: 92.44%\n"
          ]
        },
        {
          "output_type": "stream",
          "name": "stderr",
          "text": []
        },
        {
          "output_type": "stream",
          "name": "stdout",
          "text": [
            "Epoch 232/300 | Train Loss: 1.3218, Approx Train Acc: 66.77% | Val Acc: 92.95%\n",
            "   [*] Saved new best model: Val Acc = 92.95%\n"
          ]
        },
        {
          "output_type": "stream",
          "name": "stderr",
          "text": []
        },
        {
          "output_type": "stream",
          "name": "stdout",
          "text": [
            "Epoch 233/300 | Train Loss: 1.3386, Approx Train Acc: 65.60% | Val Acc: 93.28%\n",
            "   [*] Saved new best model: Val Acc = 93.28%\n"
          ]
        },
        {
          "output_type": "stream",
          "name": "stderr",
          "text": []
        },
        {
          "output_type": "stream",
          "name": "stdout",
          "text": [
            "Epoch 234/300 | Train Loss: 1.3436, Approx Train Acc: 65.40% | Val Acc: 92.58%\n"
          ]
        },
        {
          "output_type": "stream",
          "name": "stderr",
          "text": []
        },
        {
          "output_type": "stream",
          "name": "stdout",
          "text": [
            "Epoch 235/300 | Train Loss: 1.3577, Approx Train Acc: 64.47% | Val Acc: 92.34%\n"
          ]
        },
        {
          "output_type": "stream",
          "name": "stderr",
          "text": []
        },
        {
          "output_type": "stream",
          "name": "stdout",
          "text": [
            "Epoch 236/300 | Train Loss: 1.3293, Approx Train Acc: 65.90% | Val Acc: 92.74%\n"
          ]
        },
        {
          "output_type": "stream",
          "name": "stderr",
          "text": []
        },
        {
          "output_type": "stream",
          "name": "stdout",
          "text": [
            "Epoch 237/300 | Train Loss: 1.3539, Approx Train Acc: 64.59% | Val Acc: 91.98%\n"
          ]
        },
        {
          "output_type": "stream",
          "name": "stderr",
          "text": []
        },
        {
          "output_type": "stream",
          "name": "stdout",
          "text": [
            "Epoch 238/300 | Train Loss: 1.3175, Approx Train Acc: 66.71% | Val Acc: 92.69%\n"
          ]
        },
        {
          "output_type": "stream",
          "name": "stderr",
          "text": []
        },
        {
          "output_type": "stream",
          "name": "stdout",
          "text": [
            "Epoch 239/300 | Train Loss: 1.3264, Approx Train Acc: 65.95% | Val Acc: 92.24%\n"
          ]
        },
        {
          "output_type": "stream",
          "name": "stderr",
          "text": []
        },
        {
          "output_type": "stream",
          "name": "stdout",
          "text": [
            "Epoch 240/300 | Train Loss: 1.3356, Approx Train Acc: 65.53% | Val Acc: 93.15%\n"
          ]
        },
        {
          "output_type": "stream",
          "name": "stderr",
          "text": []
        },
        {
          "output_type": "stream",
          "name": "stdout",
          "text": [
            "Epoch 241/300 | Train Loss: 1.3354, Approx Train Acc: 65.48% | Val Acc: 92.95%\n"
          ]
        },
        {
          "output_type": "stream",
          "name": "stderr",
          "text": []
        },
        {
          "output_type": "stream",
          "name": "stdout",
          "text": [
            "Epoch 242/300 | Train Loss: 1.3193, Approx Train Acc: 66.10% | Val Acc: 93.67%\n",
            "   [*] Saved new best model: Val Acc = 93.67%\n"
          ]
        },
        {
          "output_type": "stream",
          "name": "stderr",
          "text": []
        },
        {
          "output_type": "stream",
          "name": "stdout",
          "text": [
            "Epoch 243/300 | Train Loss: 1.3217, Approx Train Acc: 66.02% | Val Acc: 93.29%\n"
          ]
        },
        {
          "output_type": "stream",
          "name": "stderr",
          "text": []
        },
        {
          "output_type": "stream",
          "name": "stdout",
          "text": [
            "Epoch 244/300 | Train Loss: 1.3400, Approx Train Acc: 65.02% | Val Acc: 93.01%\n"
          ]
        },
        {
          "output_type": "stream",
          "name": "stderr",
          "text": []
        },
        {
          "output_type": "stream",
          "name": "stdout",
          "text": [
            "Epoch 245/300 | Train Loss: 1.3252, Approx Train Acc: 65.81% | Val Acc: 93.57%\n"
          ]
        },
        {
          "output_type": "stream",
          "name": "stderr",
          "text": []
        },
        {
          "output_type": "stream",
          "name": "stdout",
          "text": [
            "Epoch 246/300 | Train Loss: 1.3257, Approx Train Acc: 66.15% | Val Acc: 93.33%\n"
          ]
        },
        {
          "output_type": "stream",
          "name": "stderr",
          "text": []
        },
        {
          "output_type": "stream",
          "name": "stdout",
          "text": [
            "Epoch 247/300 | Train Loss: 1.2798, Approx Train Acc: 68.41% | Val Acc: 93.55%\n"
          ]
        },
        {
          "output_type": "stream",
          "name": "stderr",
          "text": []
        },
        {
          "output_type": "stream",
          "name": "stdout",
          "text": [
            "Epoch 248/300 | Train Loss: 1.3253, Approx Train Acc: 65.86% | Val Acc: 93.48%\n"
          ]
        },
        {
          "output_type": "stream",
          "name": "stderr",
          "text": []
        },
        {
          "output_type": "stream",
          "name": "stdout",
          "text": [
            "Epoch 249/300 | Train Loss: 1.3380, Approx Train Acc: 65.25% | Val Acc: 93.71%\n",
            "   [*] Saved new best model: Val Acc = 93.71%\n"
          ]
        },
        {
          "output_type": "stream",
          "name": "stderr",
          "text": []
        },
        {
          "output_type": "stream",
          "name": "stdout",
          "text": [
            "Epoch 250/300 | Train Loss: 1.3269, Approx Train Acc: 65.66% | Val Acc: 93.99%\n",
            "   [*] Saved new best model: Val Acc = 93.99%\n"
          ]
        },
        {
          "output_type": "stream",
          "name": "stderr",
          "text": []
        },
        {
          "output_type": "stream",
          "name": "stdout",
          "text": [
            "Epoch 251/300 | Train Loss: 1.3038, Approx Train Acc: 67.12% | Val Acc: 93.59%\n"
          ]
        },
        {
          "output_type": "stream",
          "name": "stderr",
          "text": []
        },
        {
          "output_type": "stream",
          "name": "stdout",
          "text": [
            "Epoch 252/300 | Train Loss: 1.3295, Approx Train Acc: 65.43% | Val Acc: 94.07%\n",
            "   [*] Saved new best model: Val Acc = 94.07%\n"
          ]
        },
        {
          "output_type": "stream",
          "name": "stderr",
          "text": []
        },
        {
          "output_type": "stream",
          "name": "stdout",
          "text": [
            "Epoch 253/300 | Train Loss: 1.2967, Approx Train Acc: 67.46% | Val Acc: 94.05%\n"
          ]
        },
        {
          "output_type": "stream",
          "name": "stderr",
          "text": []
        },
        {
          "output_type": "stream",
          "name": "stdout",
          "text": [
            "Epoch 254/300 | Train Loss: 1.2965, Approx Train Acc: 67.27% | Val Acc: 93.08%\n"
          ]
        },
        {
          "output_type": "stream",
          "name": "stderr",
          "text": []
        },
        {
          "output_type": "stream",
          "name": "stdout",
          "text": [
            "Epoch 255/300 | Train Loss: 1.2751, Approx Train Acc: 68.33% | Val Acc: 94.15%\n",
            "   [*] Saved new best model: Val Acc = 94.15%\n"
          ]
        },
        {
          "output_type": "stream",
          "name": "stderr",
          "text": []
        },
        {
          "output_type": "stream",
          "name": "stdout",
          "text": [
            "Epoch 256/300 | Train Loss: 1.2845, Approx Train Acc: 68.08% | Val Acc: 94.00%\n"
          ]
        },
        {
          "output_type": "stream",
          "name": "stderr",
          "text": []
        },
        {
          "output_type": "stream",
          "name": "stdout",
          "text": [
            "Epoch 257/300 | Train Loss: 1.2977, Approx Train Acc: 67.20% | Val Acc: 94.15%\n"
          ]
        },
        {
          "output_type": "stream",
          "name": "stderr",
          "text": []
        },
        {
          "output_type": "stream",
          "name": "stdout",
          "text": [
            "Epoch 258/300 | Train Loss: 1.3007, Approx Train Acc: 66.85% | Val Acc: 94.07%\n"
          ]
        },
        {
          "output_type": "stream",
          "name": "stderr",
          "text": []
        },
        {
          "output_type": "stream",
          "name": "stdout",
          "text": [
            "Epoch 259/300 | Train Loss: 1.2695, Approx Train Acc: 68.33% | Val Acc: 94.33%\n",
            "   [*] Saved new best model: Val Acc = 94.33%\n"
          ]
        },
        {
          "output_type": "stream",
          "name": "stderr",
          "text": []
        },
        {
          "output_type": "stream",
          "name": "stdout",
          "text": [
            "Epoch 260/300 | Train Loss: 1.2884, Approx Train Acc: 67.43% | Val Acc: 94.51%\n",
            "   [*] Saved new best model: Val Acc = 94.51%\n"
          ]
        },
        {
          "output_type": "stream",
          "name": "stderr",
          "text": []
        },
        {
          "output_type": "stream",
          "name": "stdout",
          "text": [
            "Epoch 261/300 | Train Loss: 1.2627, Approx Train Acc: 68.87% | Val Acc: 94.19%\n"
          ]
        },
        {
          "output_type": "stream",
          "name": "stderr",
          "text": []
        },
        {
          "output_type": "stream",
          "name": "stdout",
          "text": [
            "Epoch 262/300 | Train Loss: 1.2597, Approx Train Acc: 68.59% | Val Acc: 94.31%\n"
          ]
        },
        {
          "output_type": "stream",
          "name": "stderr",
          "text": []
        },
        {
          "output_type": "stream",
          "name": "stdout",
          "text": [
            "Epoch 263/300 | Train Loss: 1.2729, Approx Train Acc: 67.91% | Val Acc: 94.43%\n"
          ]
        },
        {
          "output_type": "stream",
          "name": "stderr",
          "text": []
        },
        {
          "output_type": "stream",
          "name": "stdout",
          "text": [
            "Epoch 264/300 | Train Loss: 1.2877, Approx Train Acc: 67.46% | Val Acc: 95.05%\n",
            "   [*] Saved new best model: Val Acc = 95.05%\n"
          ]
        },
        {
          "output_type": "stream",
          "name": "stderr",
          "text": []
        },
        {
          "output_type": "stream",
          "name": "stdout",
          "text": [
            "Epoch 265/300 | Train Loss: 1.2878, Approx Train Acc: 67.43% | Val Acc: 94.73%\n"
          ]
        },
        {
          "output_type": "stream",
          "name": "stderr",
          "text": []
        },
        {
          "output_type": "stream",
          "name": "stdout",
          "text": [
            "Epoch 266/300 | Train Loss: 1.2667, Approx Train Acc: 68.13% | Val Acc: 95.15%\n",
            "   [*] Saved new best model: Val Acc = 95.15%\n"
          ]
        },
        {
          "output_type": "stream",
          "name": "stderr",
          "text": []
        },
        {
          "output_type": "stream",
          "name": "stdout",
          "text": [
            "Epoch 267/300 | Train Loss: 1.2575, Approx Train Acc: 68.92% | Val Acc: 94.49%\n"
          ]
        },
        {
          "output_type": "stream",
          "name": "stderr",
          "text": []
        },
        {
          "output_type": "stream",
          "name": "stdout",
          "text": [
            "Epoch 268/300 | Train Loss: 1.2641, Approx Train Acc: 68.40% | Val Acc: 94.72%\n"
          ]
        },
        {
          "output_type": "stream",
          "name": "stderr",
          "text": []
        },
        {
          "output_type": "stream",
          "name": "stdout",
          "text": [
            "Epoch 269/300 | Train Loss: 1.2782, Approx Train Acc: 67.59% | Val Acc: 94.63%\n"
          ]
        },
        {
          "output_type": "stream",
          "name": "stderr",
          "text": []
        },
        {
          "output_type": "stream",
          "name": "stdout",
          "text": [
            "Epoch 270/300 | Train Loss: 1.2381, Approx Train Acc: 69.42% | Val Acc: 95.19%\n",
            "   [*] Saved new best model: Val Acc = 95.19%\n"
          ]
        },
        {
          "output_type": "stream",
          "name": "stderr",
          "text": []
        },
        {
          "output_type": "stream",
          "name": "stdout",
          "text": [
            "Epoch 271/300 | Train Loss: 1.2540, Approx Train Acc: 69.09% | Val Acc: 95.07%\n"
          ]
        },
        {
          "output_type": "stream",
          "name": "stderr",
          "text": []
        },
        {
          "output_type": "stream",
          "name": "stdout",
          "text": [
            "Epoch 272/300 | Train Loss: 1.2515, Approx Train Acc: 68.92% | Val Acc: 95.39%\n",
            "   [*] Saved new best model: Val Acc = 95.39%\n"
          ]
        },
        {
          "output_type": "stream",
          "name": "stderr",
          "text": []
        },
        {
          "output_type": "stream",
          "name": "stdout",
          "text": [
            "Epoch 273/300 | Train Loss: 1.2710, Approx Train Acc: 67.93% | Val Acc: 95.18%\n"
          ]
        },
        {
          "output_type": "stream",
          "name": "stderr",
          "text": []
        },
        {
          "output_type": "stream",
          "name": "stdout",
          "text": [
            "Epoch 274/300 | Train Loss: 1.2484, Approx Train Acc: 68.66% | Val Acc: 95.55%\n",
            "   [*] Saved new best model: Val Acc = 95.55%\n"
          ]
        },
        {
          "output_type": "stream",
          "name": "stderr",
          "text": []
        },
        {
          "output_type": "stream",
          "name": "stdout",
          "text": [
            "Epoch 275/300 | Train Loss: 1.2455, Approx Train Acc: 69.29% | Val Acc: 95.27%\n"
          ]
        },
        {
          "output_type": "stream",
          "name": "stderr",
          "text": []
        },
        {
          "output_type": "stream",
          "name": "stdout",
          "text": [
            "Epoch 276/300 | Train Loss: 1.2471, Approx Train Acc: 68.82% | Val Acc: 95.42%\n"
          ]
        },
        {
          "output_type": "stream",
          "name": "stderr",
          "text": []
        },
        {
          "output_type": "stream",
          "name": "stdout",
          "text": [
            "Epoch 277/300 | Train Loss: 1.2314, Approx Train Acc: 69.76% | Val Acc: 95.40%\n"
          ]
        },
        {
          "output_type": "stream",
          "name": "stderr",
          "text": []
        },
        {
          "output_type": "stream",
          "name": "stdout",
          "text": [
            "Epoch 278/300 | Train Loss: 1.2411, Approx Train Acc: 69.20% | Val Acc: 95.33%\n"
          ]
        },
        {
          "output_type": "stream",
          "name": "stderr",
          "text": []
        },
        {
          "output_type": "stream",
          "name": "stdout",
          "text": [
            "Epoch 279/300 | Train Loss: 1.2421, Approx Train Acc: 69.34% | Val Acc: 95.64%\n",
            "   [*] Saved new best model: Val Acc = 95.64%\n"
          ]
        },
        {
          "output_type": "stream",
          "name": "stderr",
          "text": []
        },
        {
          "output_type": "stream",
          "name": "stdout",
          "text": [
            "Epoch 280/300 | Train Loss: 1.2173, Approx Train Acc: 70.27% | Val Acc: 95.62%\n"
          ]
        },
        {
          "output_type": "stream",
          "name": "stderr",
          "text": []
        },
        {
          "output_type": "stream",
          "name": "stdout",
          "text": [
            "Epoch 281/300 | Train Loss: 1.2455, Approx Train Acc: 68.83% | Val Acc: 95.54%\n"
          ]
        },
        {
          "output_type": "stream",
          "name": "stderr",
          "text": []
        },
        {
          "output_type": "stream",
          "name": "stdout",
          "text": [
            "Epoch 282/300 | Train Loss: 1.2147, Approx Train Acc: 70.68% | Val Acc: 95.40%\n"
          ]
        },
        {
          "output_type": "stream",
          "name": "stderr",
          "text": []
        },
        {
          "output_type": "stream",
          "name": "stdout",
          "text": [
            "Epoch 283/300 | Train Loss: 1.2407, Approx Train Acc: 68.91% | Val Acc: 95.68%\n",
            "   [*] Saved new best model: Val Acc = 95.68%\n"
          ]
        },
        {
          "output_type": "stream",
          "name": "stderr",
          "text": []
        },
        {
          "output_type": "stream",
          "name": "stdout",
          "text": [
            "Epoch 284/300 | Train Loss: 1.2549, Approx Train Acc: 68.26% | Val Acc: 95.58%\n"
          ]
        },
        {
          "output_type": "stream",
          "name": "stderr",
          "text": []
        },
        {
          "output_type": "stream",
          "name": "stdout",
          "text": [
            "Epoch 285/300 | Train Loss: 1.2111, Approx Train Acc: 70.80% | Val Acc: 95.78%\n",
            "   [*] Saved new best model: Val Acc = 95.78%\n"
          ]
        },
        {
          "output_type": "stream",
          "name": "stderr",
          "text": []
        },
        {
          "output_type": "stream",
          "name": "stdout",
          "text": [
            "Epoch 286/300 | Train Loss: 1.2308, Approx Train Acc: 69.47% | Val Acc: 95.56%\n"
          ]
        },
        {
          "output_type": "stream",
          "name": "stderr",
          "text": []
        },
        {
          "output_type": "stream",
          "name": "stdout",
          "text": [
            "Epoch 287/300 | Train Loss: 1.2166, Approx Train Acc: 70.23% | Val Acc: 95.62%\n"
          ]
        },
        {
          "output_type": "stream",
          "name": "stderr",
          "text": []
        },
        {
          "output_type": "stream",
          "name": "stdout",
          "text": [
            "Epoch 288/300 | Train Loss: 1.2361, Approx Train Acc: 69.58% | Val Acc: 95.88%\n",
            "   [*] Saved new best model: Val Acc = 95.88%\n"
          ]
        },
        {
          "output_type": "stream",
          "name": "stderr",
          "text": []
        },
        {
          "output_type": "stream",
          "name": "stdout",
          "text": [
            "Epoch 289/300 | Train Loss: 1.2435, Approx Train Acc: 68.87% | Val Acc: 95.74%\n"
          ]
        },
        {
          "output_type": "stream",
          "name": "stderr",
          "text": []
        },
        {
          "output_type": "stream",
          "name": "stdout",
          "text": [
            "Epoch 290/300 | Train Loss: 1.2251, Approx Train Acc: 69.77% | Val Acc: 95.70%\n"
          ]
        },
        {
          "output_type": "stream",
          "name": "stderr",
          "text": []
        },
        {
          "output_type": "stream",
          "name": "stdout",
          "text": [
            "Epoch 291/300 | Train Loss: 1.2254, Approx Train Acc: 70.13% | Val Acc: 95.74%\n"
          ]
        },
        {
          "output_type": "stream",
          "name": "stderr",
          "text": []
        },
        {
          "output_type": "stream",
          "name": "stdout",
          "text": [
            "Epoch 292/300 | Train Loss: 1.2117, Approx Train Acc: 70.21% | Val Acc: 95.90%\n",
            "   [*] Saved new best model: Val Acc = 95.90%\n"
          ]
        },
        {
          "output_type": "stream",
          "name": "stderr",
          "text": []
        },
        {
          "output_type": "stream",
          "name": "stdout",
          "text": [
            "Epoch 293/300 | Train Loss: 1.2163, Approx Train Acc: 70.52% | Val Acc: 96.03%\n",
            "   [*] Saved new best model: Val Acc = 96.03%\n"
          ]
        },
        {
          "output_type": "stream",
          "name": "stderr",
          "text": []
        },
        {
          "output_type": "stream",
          "name": "stdout",
          "text": [
            "Epoch 294/300 | Train Loss: 1.2086, Approx Train Acc: 70.49% | Val Acc: 96.08%\n",
            "   [*] Saved new best model: Val Acc = 96.08%\n"
          ]
        },
        {
          "output_type": "stream",
          "name": "stderr",
          "text": []
        },
        {
          "output_type": "stream",
          "name": "stdout",
          "text": [
            "Epoch 295/300 | Train Loss: 1.2264, Approx Train Acc: 69.90% | Val Acc: 96.06%\n"
          ]
        },
        {
          "output_type": "stream",
          "name": "stderr",
          "text": []
        },
        {
          "output_type": "stream",
          "name": "stdout",
          "text": [
            "Epoch 296/300 | Train Loss: 1.2306, Approx Train Acc: 69.55% | Val Acc: 96.01%\n"
          ]
        },
        {
          "output_type": "stream",
          "name": "stderr",
          "text": []
        },
        {
          "output_type": "stream",
          "name": "stdout",
          "text": [
            "Epoch 297/300 | Train Loss: 1.2342, Approx Train Acc: 69.25% | Val Acc: 95.88%\n"
          ]
        },
        {
          "output_type": "stream",
          "name": "stderr",
          "text": []
        },
        {
          "output_type": "stream",
          "name": "stdout",
          "text": [
            "Epoch 298/300 | Train Loss: 1.2306, Approx Train Acc: 69.69% | Val Acc: 96.11%\n",
            "   [*] Saved new best model: Val Acc = 96.11%\n"
          ]
        },
        {
          "output_type": "stream",
          "name": "stderr",
          "text": []
        },
        {
          "output_type": "stream",
          "name": "stdout",
          "text": [
            "Epoch 299/300 | Train Loss: 1.2150, Approx Train Acc: 70.00% | Val Acc: 95.87%\n"
          ]
        },
        {
          "output_type": "stream",
          "name": "stderr",
          "text": []
        },
        {
          "output_type": "stream",
          "name": "stdout",
          "text": [
            "Epoch 300/300 | Train Loss: 1.2110, Approx Train Acc: 70.83% | Val Acc: 95.75%\n",
            "Training complete. Best validation accuracy: 96.11%\n",
            "Best model saved as best_model.pth\n"
          ]
        }
      ]
    },
    {
      "cell_type": "code",
      "source": [
        "# inference.py\n",
        "import torch\n",
        "import torchvision.transforms as transforms\n",
        "import pandas as pd\n",
        "import pickle\n",
        "import numpy as np\n",
        "from torch.utils.data import DataLoader, Dataset\n",
        "#from model import LightResNet18\n",
        "import torch.nn.functional as F\n",
        "\n",
        "def unpickle(file):\n",
        "    with open(file, 'rb') as fo:\n",
        "        data_dict = pickle.load(fo, encoding='bytes')\n",
        "    return data_dict\n",
        "\n",
        "class CIFARTestDataset(Dataset):\n",
        "    def __init__(self, data, ids, transform=None):\n",
        "        \"\"\"\n",
        "        data: shape (N, 32, 32, 3)\n",
        "        ids: array/list of image IDs\n",
        "        transform: transforms to apply\n",
        "        \"\"\"\n",
        "        self.data = data\n",
        "        self.ids = ids\n",
        "        self.transform = transform\n",
        "\n",
        "    def __len__(self):\n",
        "        return len(self.data)\n",
        "\n",
        "    def __getitem__(self, idx):\n",
        "        img = self.data[idx].astype(\"uint8\")  # ensure 0..255\n",
        "        img_id = self.ids[idx]\n",
        "        if self.transform:\n",
        "            img = self.transform(img)\n",
        "        return img, img_id\n",
        "\n",
        "def inference():\n",
        "    device = 'cuda' if torch.cuda.is_available() else 'cpu'\n",
        "    print(f\"Using device: {device}\")\n",
        "\n",
        "    # 1) Load the best model\n",
        "    model = LightResNet18_v2(num_classes=10, drop_prob=0.1).to(device)\n",
        "    model.load_state_dict(torch.load(\"best_model.pth\", map_location=device))\n",
        "    model.eval()\n",
        "\n",
        "    # 2) Load custom test set .pkl\n",
        "    test_file = \"/content/cifar_test_nolabel.pkl\"\n",
        "    test_dict = unpickle(test_file)\n",
        "    print(\"Keys in test_dict:\", test_dict.keys())\n",
        "\n",
        "    # Reshape if it's (N, 3072). If it's already (N, 32,32,3), remove reshape\n",
        "    test_images = test_dict[b'data'].reshape(-1, 32, 32, 3)\n",
        "    test_ids = [str(i) for i in range(len(test_images))]\n",
        "\n",
        "    # 3) Define test transforms\n",
        "    transform_test = transforms.Compose([\n",
        "        transforms.ToPILImage(),\n",
        "        transforms.ToTensor(),\n",
        "        transforms.Normalize((0.4914, 0.4822, 0.4465),\n",
        "                             (0.2470, 0.2435, 0.2616))\n",
        "    ])\n",
        "\n",
        "    test_dataset = CIFARTestDataset(test_images, test_ids, transform=transform_test)\n",
        "    test_loader = DataLoader(test_dataset, batch_size=128, shuffle=False, num_workers=4)\n",
        "\n",
        "    # 4) Inference with 2-pass TTA\n",
        "    predictions = []\n",
        "    image_ids = []\n",
        "    with torch.no_grad():\n",
        "        for imgs, ids in test_loader:\n",
        "            imgs = imgs.to(device)\n",
        "\n",
        "            # Pass 1: Normal\n",
        "            out_normal = model(imgs)\n",
        "            probs_normal = F.softmax(out_normal, dim=1)\n",
        "\n",
        "            # Pass 2: Horizontal flip\n",
        "            imgs_flipped = torch.flip(imgs, dims=[3])  # flip W dimension\n",
        "            out_flipped = model(imgs_flipped)\n",
        "            probs_flipped = F.softmax(out_flipped, dim=1)\n",
        "\n",
        "            # Average probabilities\n",
        "            final_probs = (probs_normal + probs_flipped) / 2.0\n",
        "            _, predicted = torch.max(final_probs, 1)\n",
        "\n",
        "            predictions.extend(predicted.cpu().numpy().tolist())\n",
        "            image_ids.extend(ids)\n",
        "\n",
        "    # 5) Save submission\n",
        "    submission_df = pd.DataFrame({\"ID\": image_ids, \"Labels\": predictions})\n",
        "    submission_df.to_csv(\"submission.csv\", index=False)\n",
        "    print(\"Submission file saved as submission.csv\")\n",
        "\n",
        "if __name__ == \"__main__\":\n",
        "    inference()\n"
      ],
      "metadata": {
        "id": "jQ7SyXrHlT9f",
        "colab": {
          "base_uri": "https://localhost:8080/"
        },
        "outputId": "f961c9f0-2155-4250-df21-abc92a919c6f"
      },
      "execution_count": null,
      "outputs": [
        {
          "output_type": "stream",
          "name": "stdout",
          "text": [
            "Using device: cuda\n",
            "Keys in test_dict: dict_keys([b'data', b'ids'])\n"
          ]
        },
        {
          "output_type": "stream",
          "name": "stderr",
          "text": [
            "<ipython-input-3-15bfa4ed092b>:43: FutureWarning: You are using `torch.load` with `weights_only=False` (the current default value), which uses the default pickle module implicitly. It is possible to construct malicious pickle data which will execute arbitrary code during unpickling (See https://github.com/pytorch/pytorch/blob/main/SECURITY.md#untrusted-models for more details). In a future release, the default value for `weights_only` will be flipped to `True`. This limits the functions that could be executed during unpickling. Arbitrary objects will no longer be allowed to be loaded via this mode unless they are explicitly allowlisted by the user via `torch.serialization.add_safe_globals`. We recommend you start setting `weights_only=True` for any use case where you don't have full control of the loaded file. Please open an issue on GitHub for any issues related to this experimental feature.\n",
            "  model.load_state_dict(torch.load(\"best_model.pth\", map_location=device))\n",
            "/usr/local/lib/python3.11/dist-packages/torch/utils/data/dataloader.py:617: UserWarning: This DataLoader will create 4 worker processes in total. Our suggested max number of worker in current system is 2, which is smaller than what this DataLoader is going to create. Please be aware that excessive worker creation might get DataLoader running slow or even freeze, lower the worker number to avoid potential slowness/freeze if necessary.\n",
            "  warnings.warn(\n"
          ]
        },
        {
          "output_type": "stream",
          "name": "stdout",
          "text": [
            "Submission file saved as submission.csv\n"
          ]
        }
      ]
    },
    {
      "cell_type": "code",
      "source": [
        "import pandas as pd\n",
        "\n",
        "# Load and inspect submission file\n",
        "submission_df = pd.read_csv(\"submission.csv\")\n",
        "print(submission_df.head())  # Show first few rows\n",
        "print(submission_df[\"Labels\"].value_counts())  # Show label distribution\n"
      ],
      "metadata": {
        "id": "p9KKCKOR1g1Z",
        "colab": {
          "base_uri": "https://localhost:8080/"
        },
        "outputId": "c33d9d88-92e4-4c60-ed1e-91d0ea1bb668"
      },
      "execution_count": null,
      "outputs": [
        {
          "output_type": "stream",
          "name": "stdout",
          "text": [
            "   ID  Labels\n",
            "0   0       6\n",
            "1   1       1\n",
            "2   2       8\n",
            "3   3       6\n",
            "4   4       9\n",
            "Labels\n",
            "3    1119\n",
            "1    1066\n",
            "8    1053\n",
            "5    1040\n",
            "7    1006\n",
            "2     983\n",
            "9     980\n",
            "4     949\n",
            "6     918\n",
            "0     886\n",
            "Name: count, dtype: int64\n"
          ]
        }
      ]
    }
  ]
}