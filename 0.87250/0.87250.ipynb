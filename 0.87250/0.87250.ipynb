{
  "nbformat": 4,
  "nbformat_minor": 0,
  "metadata": {
    "colab": {
      "provenance": [],
      "gpuType": "T4"
    },
    "kernelspec": {
      "name": "python3",
      "display_name": "Python 3"
    },
    "language_info": {
      "name": "python"
    },
    "accelerator": "GPU"
  },
  "cells": [
    {
      "cell_type": "markdown",
      "source": [
        "This is after we got a 0.78 in the last run on 8th march.\n",
        "MODEL"
      ],
      "metadata": {
        "id": "X1yMB-wEN6Uw"
      }
    },
    {
      "cell_type": "markdown",
      "source": [
        "This model got 0.84517"
      ],
      "metadata": {
        "id": "eGc6ZjrGdkTs"
      }
    },
    {
      "cell_type": "code",
      "source": [
        "import torch\n",
        "import torch.nn as nn\n",
        "import torch.nn.functional as F\n",
        "\n",
        "# Pre-activation basic block with optional dropout\n",
        "class PreActBlock(nn.Module):\n",
        "    expansion = 1\n",
        "\n",
        "    def __init__(self, in_planes, out_planes, stride=1, drop_prob=0.0):\n",
        "        super().__init__()\n",
        "        self.bn1 = nn.BatchNorm2d(in_planes)\n",
        "        self.conv1 = nn.Conv2d(in_planes, out_planes, kernel_size=3,\n",
        "                               stride=stride, padding=1, bias=False)\n",
        "        self.bn2 = nn.BatchNorm2d(out_planes)\n",
        "        self.conv2 = nn.Conv2d(out_planes, out_planes, kernel_size=3,\n",
        "                               stride=1, padding=1, bias=False)\n",
        "        self.drop_prob = drop_prob\n",
        "\n",
        "        # If dimensions change, use a projection for the shortcut.\n",
        "        if stride != 1 or in_planes != out_planes:\n",
        "            self.shortcut = nn.Conv2d(in_planes, out_planes, kernel_size=1,\n",
        "                                      stride=stride, bias=False)\n",
        "        else:\n",
        "            self.shortcut = nn.Identity()\n",
        "\n",
        "    def forward(self, x):\n",
        "        out = F.relu(self.bn1(x))\n",
        "        shortcut = self.shortcut(out) if not isinstance(self.shortcut, nn.Identity) else x\n",
        "        out = self.conv1(out)\n",
        "        out = F.relu(self.bn2(out))\n",
        "        if self.drop_prob > 0:\n",
        "            out = F.dropout(out, p=self.drop_prob, training=self.training)\n",
        "        out = self.conv2(out)\n",
        "        out += shortcut\n",
        "        return out\n",
        "\n",
        "# RobustResNet64-like model for CIFAR-like images.\n",
        "# Total layers: 1 conv + 3 groups * (2 convs per block * 10 blocks) + final FC = 1 + 60 + 1 = 62 layers.\n",
        "class RobustResNet64(nn.Module):\n",
        "    def __init__(self, num_blocks=10, base_channels=32, num_classes=10, drop_prob=0.1):\n",
        "        super().__init__()\n",
        "        self.in_planes = base_channels\n",
        "        # Initial convolution\n",
        "        self.conv1 = nn.Conv2d(3, base_channels, kernel_size=3, stride=1,\n",
        "                               padding=1, bias=False)\n",
        "\n",
        "        # Three groups (for CIFAR, the convention is 3 groups)\n",
        "        self.layer1 = self._make_layer(base_channels, num_blocks, stride=1, drop_prob=drop_prob)\n",
        "        self.layer2 = self._make_layer(base_channels * 2, num_blocks, stride=2, drop_prob=drop_prob)\n",
        "        self.layer3 = self._make_layer(base_channels * 4, num_blocks, stride=2, drop_prob=drop_prob)\n",
        "\n",
        "        self.bn = nn.BatchNorm2d(base_channels * 4)\n",
        "        self.linear = nn.Linear(base_channels * 4, num_classes)\n",
        "\n",
        "        # Initialize weights\n",
        "        for m in self.modules():\n",
        "            if isinstance(m, nn.Conv2d):\n",
        "                nn.init.kaiming_normal_(m.weight, mode='fan_out', nonlinearity='relu')\n",
        "            elif isinstance(m, nn.BatchNorm2d):\n",
        "                nn.init.constant_(m.weight, 1)\n",
        "                nn.init.constant_(m.bias, 0)\n",
        "            elif isinstance(m, nn.Linear):\n",
        "                nn.init.normal_(m.weight, 0, 0.01)\n",
        "                nn.init.constant_(m.bias, 0)\n",
        "\n",
        "    def _make_layer(self, out_planes, blocks, stride, drop_prob):\n",
        "        layers = []\n",
        "        # First block in the layer may downsample\n",
        "        layers.append(PreActBlock(self.in_planes, out_planes, stride=stride, drop_prob=drop_prob))\n",
        "        self.in_planes = out_planes\n",
        "        for _ in range(1, blocks):\n",
        "            layers.append(PreActBlock(self.in_planes, out_planes, stride=1, drop_prob=drop_prob))\n",
        "        return nn.Sequential(*layers)\n",
        "\n",
        "    def forward(self, x):\n",
        "        out = self.conv1(x)\n",
        "        out = self.layer1(out)\n",
        "        out = self.layer2(out)\n",
        "        out = self.layer3(out)\n",
        "        out = F.relu(self.bn(out))\n",
        "        # Global average pooling over spatial dimensions\n",
        "        out = F.adaptive_avg_pool2d(out, 1).view(out.size(0), -1)\n",
        "        out = self.linear(out)\n",
        "        return out\n",
        "\n",
        "if __name__ == \"__main__\":\n",
        "    # Create an instance of the model\n",
        "    model = RobustResNet64(num_blocks=10, base_channels=32, num_classes=10, drop_prob=0.1)\n",
        "    # Dummy input (e.g. CIFAR: 32x32 images)\n",
        "    x = torch.randn(2, 3, 32, 32)\n",
        "    y = model(x)\n",
        "    print(\"Output shape:\", y.shape)\n",
        "    total_params = sum(p.numel() for p in model.parameters() if p.requires_grad)\n",
        "    print(f\"Total trainable parameters: {total_params:,} (~{total_params/1e6:.2f}M)\")\n"
      ],
      "metadata": {
        "colab": {
          "base_uri": "https://localhost:8080/"
        },
        "id": "X70034zUlMmV",
        "outputId": "2a65650c-7c2e-4658-b41b-2d1feabdf81a"
      },
      "execution_count": 1,
      "outputs": [
        {
          "output_type": "stream",
          "name": "stdout",
          "text": [
            "Output shape: torch.Size([2, 10])\n",
            "Total trainable parameters: 3,799,978 (~3.80M)\n"
          ]
        }
      ]
    },
    {
      "cell_type": "code",
      "source": [
        "# train.py\n",
        "import torch\n",
        "import torch.nn as nn\n",
        "import torch.optim as optim\n",
        "import torchvision.transforms as transforms\n",
        "from torchvision import datasets\n",
        "import numpy as np\n",
        "import pickle\n",
        "from torch.utils.data import DataLoader, Dataset\n",
        "from PIL import Image\n",
        "#from model import LightResNet18\n",
        "from tqdm import tqdm\n",
        "\n",
        "# We'll define a custom collate function for MixUp/CutMix\n",
        "# randomly picks one method for each batch\n",
        "def rand_bbox(size, lam):\n",
        "    W = size[3]\n",
        "    H = size[2]\n",
        "    cut_rat = np.sqrt(1. - lam)\n",
        "    cut_w = int(W * cut_rat)\n",
        "    cut_h = int(H * cut_rat)\n",
        "\n",
        "    cx = np.random.randint(W)\n",
        "    cy = np.random.randint(H)\n",
        "\n",
        "    bbx1 = np.clip(cx - cut_w // 2, 0, W)\n",
        "    bby1 = np.clip(cy - cut_h // 2, 0, H)\n",
        "    bbx2 = np.clip(cx + cut_w // 2, 0, W)\n",
        "    bby2 = np.clip(cy + cut_h // 2, 0, H)\n",
        "    return bbx1, bby1, bbx2, bby2\n",
        "\n",
        "def mixup_data(x, y, alpha=1.0):\n",
        "    lam = np.random.beta(alpha, alpha)\n",
        "    batch_size = x.size(0)\n",
        "    index = torch.randperm(batch_size)\n",
        "    mixed_x = lam * x + (1 - lam) * x[index, :]\n",
        "    y_a, y_b = y, y[index]\n",
        "    return mixed_x, y_a, y_b, lam\n",
        "\n",
        "def cutmix_data(x, y, alpha=1.0):\n",
        "    lam = np.random.beta(alpha, alpha)\n",
        "    batch_size = x.size(0)\n",
        "    index = torch.randperm(batch_size)\n",
        "    bbx1, bby1, bbx2, bby2 = rand_bbox(x.size(), lam)\n",
        "    x[:, :, bby1:bby2, bbx1:bbx2] = x[index, :, bby1:bby2, bbx1:bbx2]\n",
        "    lam = 1 - ((bbx2 - bbx1) * (bby2 - bby1) / (x.size(-1) * x.size(-2)))\n",
        "    y_a, y_b = y, y[index]\n",
        "    return x, y_a, y_b, lam\n",
        "\n",
        "def mixup_cutmix_collate(batch, alpha=1.0, p=0.5):\n",
        "    # Standard collate\n",
        "    images, labels = list(zip(*batch))\n",
        "    images = torch.stack(images, 0)\n",
        "    labels = torch.tensor(labels, dtype=torch.long)\n",
        "\n",
        "    # Flip a coin to choose MixUp or CutMix\n",
        "    if np.random.rand() < p:\n",
        "        # MixUp\n",
        "        mixed_x, y_a, y_b, lam = mixup_data(images, labels, alpha)\n",
        "        return mixed_x, (y_a, y_b, lam, 'mixup')\n",
        "    else:\n",
        "        # CutMix\n",
        "        cutmix_x, y_a, y_b, lam = cutmix_data(images, labels, alpha)\n",
        "        return cutmix_x, (y_a, y_b, lam, 'cutmix')\n",
        "\n",
        "def unpickle(file):\n",
        "    with open(file, 'rb') as fo:\n",
        "        data_dict = pickle.load(fo, encoding='bytes')\n",
        "    return data_dict\n",
        "\n",
        "class CIFARDataset(Dataset):\n",
        "    def __init__(self, data, labels, transform=None):\n",
        "        self.data = data.reshape(-1, 3, 32, 32).astype(\"float32\") / 255.0\n",
        "        self.labels = labels\n",
        "        self.transform = transform\n",
        "\n",
        "    def __len__(self):\n",
        "        return len(self.data)\n",
        "\n",
        "    def __getitem__(self, idx):\n",
        "        img = self.data[idx]*255\n",
        "        img = img.astype(\"uint8\")\n",
        "        # shape: (3,32,32) => for PIL => (32,32,3)\n",
        "        img = Image.fromarray(img.transpose(1,2,0))\n",
        "        label = self.labels[idx]\n",
        "        if self.transform:\n",
        "            img = self.transform(img)\n",
        "        return img, label\n",
        "\n",
        "def load_cifar10_batches(root_dir):\n",
        "    data_list, labels_list = [], []\n",
        "    for i in range(1, 6):\n",
        "        batch_file = f\"{root_dir}/data_batch_{i}\"\n",
        "        batch = unpickle(batch_file)\n",
        "        data_list.append(batch[b'data'])\n",
        "        labels_list.extend(batch[b'labels'])\n",
        "    X = np.concatenate(data_list, axis=0)\n",
        "    y = np.array(labels_list)\n",
        "    return X, y\n",
        "\n",
        "def train():\n",
        "    device = 'cuda' if torch.cuda.is_available() else 'cpu'\n",
        "    print(f\"Using device: {device}\")\n",
        "\n",
        "    # 1) Load CIFAR-10\n",
        "    xxxx = \"\"\"    root_dir = \"/content/cifar-10-python/cifar-10-batches-py\"\n",
        "    X, y = load_cifar10_batches(root_dir)\n",
        "    total_size = len(X)  # 50000\n",
        "    val_size = 5000\n",
        "    train_size = total_size - val_size\n",
        "    indices = np.arange(total_size)\n",
        "    np.random.shuffle(indices)\n",
        "    train_idx = indices[:train_size]\n",
        "    val_idx   = indices[train_size:]\n",
        "\n",
        "    X_train, y_train = X[train_idx], y[train_idx]\n",
        "    X_val,   y_val   = X[val_idx],   y[val_idx]\"\"\"\n",
        "\n",
        "    # 2) Transforms: RandAugment or AutoAugment\n",
        "    transform_train = transforms.Compose([\n",
        "        transforms.RandomCrop(32, padding=4),\n",
        "        transforms.RandomHorizontalFlip(),\n",
        "        transforms.RandAugment(),  # or AutoAugment()\n",
        "        transforms.ToTensor(),\n",
        "        transforms.Normalize((0.4914, 0.4822, 0.4465),\n",
        "                             (0.2470, 0.2435, 0.2616))\n",
        "    ])\n",
        "    transform_val = transforms.Compose([\n",
        "        transforms.ToTensor(),\n",
        "        transforms.Normalize((0.4914, 0.4822, 0.4465),\n",
        "                             (0.2470, 0.2435, 0.2616))\n",
        "    ])\n",
        "\n",
        "    #train_dataset = CIFARDataset(X_train, y_train, transform=transform_train)\n",
        "    #val_dataset   = CIFARDataset(X_val,   y_val,   transform=transform_val)\n",
        "    train_dataset = datasets.CIFAR10(root='./data', train=True,\n",
        "                                 download=True, transform=transform_train)\n",
        "    val_dataset = datasets.CIFAR10(root='./data', train=False,\n",
        "                                download=True, transform=transform_val)\n",
        "    # Collate with MixUp & CutMix\n",
        "    train_loader = DataLoader(train_dataset, batch_size=128,\n",
        "                              shuffle=True, num_workers=4,\n",
        "                              collate_fn=lambda b: mixup_cutmix_collate(b, alpha=1.0, p=0.5))\n",
        "    val_loader   = DataLoader(val_dataset,   batch_size=128,\n",
        "                              shuffle=False, num_workers=4)\n",
        "\n",
        "    # 3) Initialize model\n",
        "    model = RobustResNet64(num_blocks=10, base_channels=32, num_classes=10, drop_prob=0.1).to(device)\n",
        "\n",
        "    # 4) Loss, Optimizer, Scheduler\n",
        "    # We'll handle MixUp/CutMix label logic manually, but also do label_smoothing\n",
        "    base_criterion = nn.CrossEntropyLoss(label_smoothing=0.1)\n",
        "    optimizer = optim.SGD(model.parameters(), lr=0.1, momentum=0.9, nesterov=True, weight_decay=5e-4)\n",
        "    scheduler = optim.lr_scheduler.CosineAnnealingLR(optimizer, T_max=300)\n",
        "\n",
        "    best_acc = 0.0\n",
        "    num_epochs = 300\n",
        "\n",
        "    for epoch in range(num_epochs):\n",
        "        model.train()\n",
        "        running_loss = 0.0\n",
        "        correct_approx = 0.0\n",
        "        total_approx = 0\n",
        "\n",
        "        train_pbar = tqdm(train_loader, desc=f\"Epoch [{epoch+1}/{num_epochs}]\", leave=False)\n",
        "        for images, label_info in train_pbar:\n",
        "            # label_info = (y_a, y_b, lam, method)\n",
        "            y_a, y_b, lam, method = label_info\n",
        "            images = images.to(device)\n",
        "            y_a = y_a.to(device)\n",
        "            y_b = y_b.to(device)\n",
        "\n",
        "            optimizer.zero_grad()\n",
        "            outputs = model(images)\n",
        "\n",
        "            # MixUp/CutMix combined loss\n",
        "            loss = lam * base_criterion(outputs, y_a) + (1 - lam) * base_criterion(outputs, y_b)\n",
        "            loss.backward()\n",
        "            optimizer.step()\n",
        "\n",
        "            running_loss += loss.item() * images.size(0)\n",
        "            _, preds = torch.max(outputs, 1)\n",
        "            # approximate accuracy counting\n",
        "            correct_approx += (preds == y_a).sum().item() * lam + (preds == y_b).sum().item() * (1 - lam)\n",
        "            total_approx   += images.size(0)\n",
        "\n",
        "            train_pbar.set_postfix(loss=f\"{loss.item():.3f}\")\n",
        "\n",
        "        scheduler.step()\n",
        "        epoch_loss = running_loss / len(train_loader.dataset)\n",
        "        epoch_acc  = 100.0 * correct_approx / total_approx\n",
        "\n",
        "        # ----- Validation -----\n",
        "        model.eval()\n",
        "        val_correct = 0\n",
        "        val_total = 0\n",
        "        with torch.no_grad():\n",
        "            for imgs, labels in val_loader:\n",
        "                imgs, labels = imgs.to(device), labels.to(device)\n",
        "                outputs = model(imgs)\n",
        "                _, pred = torch.max(outputs, 1)\n",
        "                val_correct += (pred == labels).sum().item()\n",
        "                val_total   += labels.size(0)\n",
        "        val_acc = 100.0 * val_correct / val_total\n",
        "\n",
        "        print(f\"Epoch {epoch+1}/{num_epochs} | \"\n",
        "              f\"Train Loss: {epoch_loss:.4f}, Approx Train Acc: {epoch_acc:.2f}% | \"\n",
        "              f\"Val Acc: {val_acc:.2f}%\")\n",
        "\n",
        "        if val_acc > best_acc:\n",
        "            best_acc = val_acc\n",
        "            torch.save(model.state_dict(), \"best_model.pth\")\n",
        "            print(f\"   [*] Saved new best model: Val Acc = {val_acc:.2f}%\")\n",
        "\n",
        "    print(f\"Training complete. Best validation accuracy: {best_acc:.2f}%\")\n",
        "    print(\"Best model saved as best_model.pth\")\n",
        "\n",
        "if __name__ == \"__main__\":\n",
        "    train()\n"
      ],
      "metadata": {
        "colab": {
          "base_uri": "https://localhost:8080/"
        },
        "id": "wZcL7rFHlO95",
        "outputId": "3a61eb3e-1bf4-4ef3-c640-8b3bc91f8644"
      },
      "execution_count": null,
      "outputs": [
        {
          "metadata": {
            "tags": null
          },
          "name": "stdout",
          "output_type": "stream",
          "text": [
            "Using device: cuda\n",
            "Downloading https://www.cs.toronto.edu/~kriz/cifar-10-python.tar.gz to ./data/cifar-10-python.tar.gz\n"
          ]
        },
        {
          "metadata": {
            "tags": null
          },
          "name": "stderr",
          "output_type": "stream",
          "text": [
            "100%|██████████| 170M/170M [00:01<00:00, 98.4MB/s]\n"
          ]
        },
        {
          "metadata": {
            "tags": null
          },
          "name": "stdout",
          "output_type": "stream",
          "text": [
            "Extracting ./data/cifar-10-python.tar.gz to ./data\n",
            "Files already downloaded and verified\n"
          ]
        },
        {
          "metadata": {
            "tags": null
          },
          "name": "stderr",
          "output_type": "stream",
          "text": [
            ""
          ]
        },
        {
          "metadata": {
            "tags": null
          },
          "name": "stdout",
          "output_type": "stream",
          "text": [
            "Epoch 1/300 | Train Loss: 2.1139, Approx Train Acc: 23.37% | Val Acc: 45.63%\n",
            "   [*] Saved new best model: Val Acc = 45.63%\n"
          ]
        },
        {
          "metadata": {
            "tags": null
          },
          "name": "stderr",
          "output_type": "stream",
          "text": [
            ""
          ]
        },
        {
          "metadata": {
            "tags": null
          },
          "name": "stdout",
          "output_type": "stream",
          "text": [
            "Epoch 2/300 | Train Loss: 1.9044, Approx Train Acc: 37.30% | Val Acc: 57.41%\n",
            "   [*] Saved new best model: Val Acc = 57.41%\n"
          ]
        },
        {
          "metadata": {
            "tags": null
          },
          "name": "stderr",
          "output_type": "stream",
          "text": [
            ""
          ]
        },
        {
          "metadata": {
            "tags": null
          },
          "name": "stdout",
          "output_type": "stream",
          "text": [
            "Epoch 3/300 | Train Loss: 1.8119, Approx Train Acc: 42.90% | Val Acc: 65.17%\n",
            "   [*] Saved new best model: Val Acc = 65.17%\n"
          ]
        },
        {
          "metadata": {
            "tags": null
          },
          "name": "stderr",
          "output_type": "stream",
          "text": [
            ""
          ]
        },
        {
          "metadata": {
            "tags": null
          },
          "name": "stdout",
          "output_type": "stream",
          "text": [
            "Epoch 4/300 | Train Loss: 1.7448, Approx Train Acc: 46.55% | Val Acc: 69.55%\n",
            "   [*] Saved new best model: Val Acc = 69.55%\n"
          ]
        },
        {
          "metadata": {
            "tags": null
          },
          "name": "stderr",
          "output_type": "stream",
          "text": [
            ""
          ]
        },
        {
          "metadata": {
            "tags": null
          },
          "name": "stdout",
          "output_type": "stream",
          "text": [
            "Epoch 5/300 | Train Loss: 1.7016, Approx Train Acc: 48.86% | Val Acc: 71.21%\n",
            "   [*] Saved new best model: Val Acc = 71.21%\n"
          ]
        },
        {
          "metadata": {
            "tags": null
          },
          "name": "stderr",
          "output_type": "stream",
          "text": [
            ""
          ]
        },
        {
          "metadata": {
            "tags": null
          },
          "name": "stdout",
          "output_type": "stream",
          "text": [
            "Epoch 6/300 | Train Loss: 1.6728, Approx Train Acc: 50.41% | Val Acc: 72.54%\n",
            "   [*] Saved new best model: Val Acc = 72.54%\n"
          ]
        },
        {
          "metadata": {
            "tags": null
          },
          "name": "stderr",
          "output_type": "stream",
          "text": [
            ""
          ]
        },
        {
          "metadata": {
            "tags": null
          },
          "name": "stdout",
          "output_type": "stream",
          "text": [
            "Epoch 7/300 | Train Loss: 1.6556, Approx Train Acc: 51.52% | Val Acc: 64.32%\n"
          ]
        },
        {
          "metadata": {
            "tags": null
          },
          "name": "stderr",
          "output_type": "stream",
          "text": [
            ""
          ]
        },
        {
          "metadata": {
            "tags": null
          },
          "name": "stdout",
          "output_type": "stream",
          "text": [
            "Epoch 8/300 | Train Loss: 1.6429, Approx Train Acc: 51.82% | Val Acc: 73.95%\n",
            "   [*] Saved new best model: Val Acc = 73.95%\n"
          ]
        },
        {
          "metadata": {
            "tags": null
          },
          "name": "stderr",
          "output_type": "stream",
          "text": [
            ""
          ]
        },
        {
          "metadata": {
            "tags": null
          },
          "name": "stdout",
          "output_type": "stream",
          "text": [
            "Epoch 9/300 | Train Loss: 1.6383, Approx Train Acc: 52.30% | Val Acc: 74.42%\n",
            "   [*] Saved new best model: Val Acc = 74.42%\n"
          ]
        },
        {
          "metadata": {
            "tags": null
          },
          "name": "stderr",
          "output_type": "stream",
          "text": [
            ""
          ]
        },
        {
          "metadata": {
            "tags": null
          },
          "name": "stdout",
          "output_type": "stream",
          "text": [
            "Epoch 10/300 | Train Loss: 1.6101, Approx Train Acc: 53.59% | Val Acc: 72.60%\n"
          ]
        },
        {
          "metadata": {
            "tags": null
          },
          "name": "stderr",
          "output_type": "stream",
          "text": [
            ""
          ]
        },
        {
          "metadata": {
            "tags": null
          },
          "name": "stdout",
          "output_type": "stream",
          "text": [
            "Epoch 11/300 | Train Loss: 1.6152, Approx Train Acc: 53.31% | Val Acc: 68.57%\n"
          ]
        },
        {
          "metadata": {
            "tags": null
          },
          "name": "stderr",
          "output_type": "stream",
          "text": [
            ""
          ]
        },
        {
          "metadata": {
            "tags": null
          },
          "name": "stdout",
          "output_type": "stream",
          "text": [
            "Epoch 12/300 | Train Loss: 1.5974, Approx Train Acc: 54.13% | Val Acc: 75.67%\n",
            "   [*] Saved new best model: Val Acc = 75.67%\n"
          ]
        },
        {
          "metadata": {
            "tags": null
          },
          "name": "stderr",
          "output_type": "stream",
          "text": [
            ""
          ]
        },
        {
          "metadata": {
            "tags": null
          },
          "name": "stdout",
          "output_type": "stream",
          "text": [
            "Epoch 13/300 | Train Loss: 1.6021, Approx Train Acc: 54.01% | Val Acc: 75.04%\n"
          ]
        },
        {
          "metadata": {
            "tags": null
          },
          "name": "stderr",
          "output_type": "stream",
          "text": [
            ""
          ]
        },
        {
          "metadata": {
            "tags": null
          },
          "name": "stdout",
          "output_type": "stream",
          "text": [
            "Epoch 14/300 | Train Loss: 1.5915, Approx Train Acc: 54.55% | Val Acc: 73.43%\n"
          ]
        },
        {
          "metadata": {
            "tags": null
          },
          "name": "stderr",
          "output_type": "stream",
          "text": [
            ""
          ]
        },
        {
          "metadata": {
            "tags": null
          },
          "name": "stdout",
          "output_type": "stream",
          "text": [
            "Epoch 15/300 | Train Loss: 1.6076, Approx Train Acc: 53.83% | Val Acc: 71.60%\n"
          ]
        },
        {
          "metadata": {
            "tags": null
          },
          "name": "stderr",
          "output_type": "stream",
          "text": [
            ""
          ]
        },
        {
          "metadata": {
            "tags": null
          },
          "name": "stdout",
          "output_type": "stream",
          "text": [
            "Epoch 16/300 | Train Loss: 1.5758, Approx Train Acc: 55.31% | Val Acc: 76.43%\n",
            "   [*] Saved new best model: Val Acc = 76.43%\n"
          ]
        },
        {
          "metadata": {
            "tags": null
          },
          "name": "stderr",
          "output_type": "stream",
          "text": [
            ""
          ]
        },
        {
          "metadata": {
            "tags": null
          },
          "name": "stdout",
          "output_type": "stream",
          "text": [
            "Epoch 17/300 | Train Loss: 1.5889, Approx Train Acc: 54.41% | Val Acc: 71.81%\n"
          ]
        },
        {
          "metadata": {
            "tags": null
          },
          "name": "stderr",
          "output_type": "stream",
          "text": [
            ""
          ]
        },
        {
          "metadata": {
            "tags": null
          },
          "name": "stdout",
          "output_type": "stream",
          "text": [
            "Epoch 18/300 | Train Loss: 1.5700, Approx Train Acc: 55.78% | Val Acc: 77.60%\n",
            "   [*] Saved new best model: Val Acc = 77.60%\n"
          ]
        },
        {
          "metadata": {
            "tags": null
          },
          "name": "stderr",
          "output_type": "stream",
          "text": [
            ""
          ]
        },
        {
          "metadata": {
            "tags": null
          },
          "name": "stdout",
          "output_type": "stream",
          "text": [
            "Epoch 19/300 | Train Loss: 1.5756, Approx Train Acc: 55.48% | Val Acc: 77.64%\n",
            "   [*] Saved new best model: Val Acc = 77.64%\n"
          ]
        },
        {
          "metadata": {
            "tags": null
          },
          "name": "stderr",
          "output_type": "stream",
          "text": [
            ""
          ]
        },
        {
          "metadata": {
            "tags": null
          },
          "name": "stdout",
          "output_type": "stream",
          "text": [
            "Epoch 20/300 | Train Loss: 1.5843, Approx Train Acc: 54.73% | Val Acc: 81.66%\n",
            "   [*] Saved new best model: Val Acc = 81.66%\n"
          ]
        },
        {
          "metadata": {
            "tags": null
          },
          "name": "stderr",
          "output_type": "stream",
          "text": [
            ""
          ]
        },
        {
          "metadata": {
            "tags": null
          },
          "name": "stdout",
          "output_type": "stream",
          "text": [
            "Epoch 21/300 | Train Loss: 1.5670, Approx Train Acc: 56.00% | Val Acc: 75.22%\n"
          ]
        },
        {
          "metadata": {
            "tags": null
          },
          "name": "stderr",
          "output_type": "stream",
          "text": [
            ""
          ]
        },
        {
          "metadata": {
            "tags": null
          },
          "name": "stdout",
          "output_type": "stream",
          "text": [
            "Epoch 22/300 | Train Loss: 1.5658, Approx Train Acc: 55.72% | Val Acc: 75.90%\n"
          ]
        },
        {
          "metadata": {
            "tags": null
          },
          "name": "stderr",
          "output_type": "stream",
          "text": [
            ""
          ]
        },
        {
          "metadata": {
            "tags": null
          },
          "name": "stdout",
          "output_type": "stream",
          "text": [
            "Epoch 23/300 | Train Loss: 1.5577, Approx Train Acc: 56.31% | Val Acc: 79.37%\n"
          ]
        },
        {
          "metadata": {
            "tags": null
          },
          "name": "stderr",
          "output_type": "stream",
          "text": [
            ""
          ]
        },
        {
          "metadata": {
            "tags": null
          },
          "name": "stdout",
          "output_type": "stream",
          "text": [
            "Epoch 24/300 | Train Loss: 1.5350, Approx Train Acc: 57.48% | Val Acc: 81.62%\n"
          ]
        },
        {
          "metadata": {
            "tags": null
          },
          "name": "stderr",
          "output_type": "stream",
          "text": [
            ""
          ]
        },
        {
          "metadata": {
            "tags": null
          },
          "name": "stdout",
          "output_type": "stream",
          "text": [
            "Epoch 25/300 | Train Loss: 1.5590, Approx Train Acc: 56.15% | Val Acc: 77.61%\n"
          ]
        },
        {
          "metadata": {
            "tags": null
          },
          "name": "stderr",
          "output_type": "stream",
          "text": [
            ""
          ]
        },
        {
          "metadata": {
            "tags": null
          },
          "name": "stdout",
          "output_type": "stream",
          "text": [
            "Epoch 26/300 | Train Loss: 1.5504, Approx Train Acc: 56.95% | Val Acc: 80.48%\n"
          ]
        },
        {
          "metadata": {
            "tags": null
          },
          "name": "stderr",
          "output_type": "stream",
          "text": [
            ""
          ]
        },
        {
          "metadata": {
            "tags": null
          },
          "name": "stdout",
          "output_type": "stream",
          "text": [
            "Epoch 27/300 | Train Loss: 1.5620, Approx Train Acc: 55.98% | Val Acc: 78.32%\n"
          ]
        },
        {
          "metadata": {
            "tags": null
          },
          "name": "stderr",
          "output_type": "stream",
          "text": [
            ""
          ]
        },
        {
          "metadata": {
            "tags": null
          },
          "name": "stdout",
          "output_type": "stream",
          "text": [
            "Epoch 28/300 | Train Loss: 1.5514, Approx Train Acc: 56.43% | Val Acc: 78.31%\n"
          ]
        },
        {
          "metadata": {
            "tags": null
          },
          "name": "stderr",
          "output_type": "stream",
          "text": [
            ""
          ]
        },
        {
          "metadata": {
            "tags": null
          },
          "name": "stdout",
          "output_type": "stream",
          "text": [
            "Epoch 29/300 | Train Loss: 1.5499, Approx Train Acc: 56.62% | Val Acc: 80.67%\n"
          ]
        },
        {
          "metadata": {
            "tags": null
          },
          "name": "stderr",
          "output_type": "stream",
          "text": [
            ""
          ]
        },
        {
          "metadata": {
            "tags": null
          },
          "name": "stdout",
          "output_type": "stream",
          "text": [
            "Epoch 30/300 | Train Loss: 1.5485, Approx Train Acc: 56.80% | Val Acc: 78.11%\n"
          ]
        },
        {
          "metadata": {
            "tags": null
          },
          "name": "stderr",
          "output_type": "stream",
          "text": [
            ""
          ]
        },
        {
          "metadata": {
            "tags": null
          },
          "name": "stdout",
          "output_type": "stream",
          "text": [
            "Epoch 31/300 | Train Loss: 1.5563, Approx Train Acc: 56.25% | Val Acc: 81.65%\n"
          ]
        },
        {
          "metadata": {
            "tags": null
          },
          "name": "stderr",
          "output_type": "stream",
          "text": [
            ""
          ]
        },
        {
          "metadata": {
            "tags": null
          },
          "name": "stdout",
          "output_type": "stream",
          "text": [
            "Epoch 32/300 | Train Loss: 1.5691, Approx Train Acc: 55.64% | Val Acc: 73.92%\n"
          ]
        },
        {
          "metadata": {
            "tags": null
          },
          "name": "stderr",
          "output_type": "stream",
          "text": [
            ""
          ]
        },
        {
          "metadata": {
            "tags": null
          },
          "name": "stdout",
          "output_type": "stream",
          "text": [
            "Epoch 33/300 | Train Loss: 1.5335, Approx Train Acc: 57.44% | Val Acc: 78.99%\n"
          ]
        },
        {
          "metadata": {
            "tags": null
          },
          "name": "stderr",
          "output_type": "stream",
          "text": [
            ""
          ]
        },
        {
          "metadata": {
            "tags": null
          },
          "name": "stdout",
          "output_type": "stream",
          "text": [
            "Epoch 34/300 | Train Loss: 1.5527, Approx Train Acc: 56.63% | Val Acc: 78.88%\n"
          ]
        },
        {
          "metadata": {
            "tags": null
          },
          "name": "stderr",
          "output_type": "stream",
          "text": [
            ""
          ]
        },
        {
          "metadata": {
            "tags": null
          },
          "name": "stdout",
          "output_type": "stream",
          "text": [
            "Epoch 35/300 | Train Loss: 1.5468, Approx Train Acc: 56.65% | Val Acc: 82.53%\n",
            "   [*] Saved new best model: Val Acc = 82.53%\n"
          ]
        },
        {
          "metadata": {
            "tags": null
          },
          "name": "stderr",
          "output_type": "stream",
          "text": [
            ""
          ]
        },
        {
          "metadata": {
            "tags": null
          },
          "name": "stdout",
          "output_type": "stream",
          "text": [
            "Epoch 36/300 | Train Loss: 1.5312, Approx Train Acc: 57.57% | Val Acc: 84.18%\n",
            "   [*] Saved new best model: Val Acc = 84.18%\n"
          ]
        },
        {
          "metadata": {
            "tags": null
          },
          "name": "stderr",
          "output_type": "stream",
          "text": [
            ""
          ]
        },
        {
          "metadata": {
            "tags": null
          },
          "name": "stdout",
          "output_type": "stream",
          "text": [
            "Epoch 37/300 | Train Loss: 1.5634, Approx Train Acc: 55.86% | Val Acc: 75.98%\n"
          ]
        },
        {
          "metadata": {
            "tags": null
          },
          "name": "stderr",
          "output_type": "stream",
          "text": [
            ""
          ]
        },
        {
          "metadata": {
            "tags": null
          },
          "name": "stdout",
          "output_type": "stream",
          "text": [
            "Epoch 38/300 | Train Loss: 1.5389, Approx Train Acc: 57.05% | Val Acc: 73.59%\n"
          ]
        },
        {
          "metadata": {
            "tags": null
          },
          "name": "stderr",
          "output_type": "stream",
          "text": [
            ""
          ]
        },
        {
          "metadata": {
            "tags": null
          },
          "name": "stdout",
          "output_type": "stream",
          "text": [
            "Epoch 39/300 | Train Loss: 1.5311, Approx Train Acc: 57.28% | Val Acc: 83.29%\n"
          ]
        },
        {
          "metadata": {
            "tags": null
          },
          "name": "stderr",
          "output_type": "stream",
          "text": [
            ""
          ]
        },
        {
          "metadata": {
            "tags": null
          },
          "name": "stdout",
          "output_type": "stream",
          "text": [
            "Epoch 40/300 | Train Loss: 1.5438, Approx Train Acc: 56.76% | Val Acc: 82.64%\n"
          ]
        },
        {
          "metadata": {
            "tags": null
          },
          "name": "stderr",
          "output_type": "stream",
          "text": [
            ""
          ]
        },
        {
          "metadata": {
            "tags": null
          },
          "name": "stdout",
          "output_type": "stream",
          "text": [
            "Epoch 41/300 | Train Loss: 1.5389, Approx Train Acc: 56.94% | Val Acc: 82.07%\n"
          ]
        },
        {
          "metadata": {
            "tags": null
          },
          "name": "stderr",
          "output_type": "stream",
          "text": [
            ""
          ]
        },
        {
          "metadata": {
            "tags": null
          },
          "name": "stdout",
          "output_type": "stream",
          "text": [
            "Epoch 42/300 | Train Loss: 1.5535, Approx Train Acc: 56.37% | Val Acc: 83.42%\n"
          ]
        },
        {
          "metadata": {
            "tags": null
          },
          "name": "stderr",
          "output_type": "stream",
          "text": [
            ""
          ]
        },
        {
          "output_type": "stream",
          "name": "stdout",
          "text": [
            "Epoch 43/300 | Train Loss: 1.5328, Approx Train Acc: 57.32% | Val Acc: 79.07%\n"
          ]
        },
        {
          "output_type": "stream",
          "name": "stderr",
          "text": []
        },
        {
          "output_type": "stream",
          "name": "stdout",
          "text": [
            "Epoch 44/300 | Train Loss: 1.5270, Approx Train Acc: 57.90% | Val Acc: 82.27%\n"
          ]
        },
        {
          "output_type": "stream",
          "name": "stderr",
          "text": []
        },
        {
          "output_type": "stream",
          "name": "stdout",
          "text": [
            "Epoch 45/300 | Train Loss: 1.5210, Approx Train Acc: 58.02% | Val Acc: 81.24%\n"
          ]
        },
        {
          "output_type": "stream",
          "name": "stderr",
          "text": []
        },
        {
          "output_type": "stream",
          "name": "stdout",
          "text": [
            "Epoch 46/300 | Train Loss: 1.5641, Approx Train Acc: 55.83% | Val Acc: 78.27%\n"
          ]
        },
        {
          "output_type": "stream",
          "name": "stderr",
          "text": []
        },
        {
          "output_type": "stream",
          "name": "stdout",
          "text": [
            "Epoch 47/300 | Train Loss: 1.5299, Approx Train Acc: 57.35% | Val Acc: 81.90%\n"
          ]
        },
        {
          "output_type": "stream",
          "name": "stderr",
          "text": []
        },
        {
          "output_type": "stream",
          "name": "stdout",
          "text": [
            "Epoch 48/300 | Train Loss: 1.5272, Approx Train Acc: 57.26% | Val Acc: 83.22%\n"
          ]
        },
        {
          "output_type": "stream",
          "name": "stderr",
          "text": []
        },
        {
          "output_type": "stream",
          "name": "stdout",
          "text": [
            "Epoch 49/300 | Train Loss: 1.5348, Approx Train Acc: 57.03% | Val Acc: 82.82%\n"
          ]
        },
        {
          "output_type": "stream",
          "name": "stderr",
          "text": []
        },
        {
          "output_type": "stream",
          "name": "stdout",
          "text": [
            "Epoch 50/300 | Train Loss: 1.5214, Approx Train Acc: 57.92% | Val Acc: 81.62%\n"
          ]
        },
        {
          "output_type": "stream",
          "name": "stderr",
          "text": []
        },
        {
          "output_type": "stream",
          "name": "stdout",
          "text": [
            "Epoch 51/300 | Train Loss: 1.5017, Approx Train Acc: 58.91% | Val Acc: 81.63%\n"
          ]
        },
        {
          "output_type": "stream",
          "name": "stderr",
          "text": []
        },
        {
          "output_type": "stream",
          "name": "stdout",
          "text": [
            "Epoch 52/300 | Train Loss: 1.5565, Approx Train Acc: 56.12% | Val Acc: 81.61%\n"
          ]
        },
        {
          "output_type": "stream",
          "name": "stderr",
          "text": []
        },
        {
          "output_type": "stream",
          "name": "stdout",
          "text": [
            "Epoch 53/300 | Train Loss: 1.5202, Approx Train Acc: 57.96% | Val Acc: 77.19%\n"
          ]
        },
        {
          "output_type": "stream",
          "name": "stderr",
          "text": []
        },
        {
          "output_type": "stream",
          "name": "stdout",
          "text": [
            "Epoch 54/300 | Train Loss: 1.5297, Approx Train Acc: 57.66% | Val Acc: 82.35%\n"
          ]
        },
        {
          "output_type": "stream",
          "name": "stderr",
          "text": []
        },
        {
          "output_type": "stream",
          "name": "stdout",
          "text": [
            "Epoch 55/300 | Train Loss: 1.5264, Approx Train Acc: 57.56% | Val Acc: 82.37%\n"
          ]
        },
        {
          "output_type": "stream",
          "name": "stderr",
          "text": []
        },
        {
          "output_type": "stream",
          "name": "stdout",
          "text": [
            "Epoch 56/300 | Train Loss: 1.5262, Approx Train Acc: 57.54% | Val Acc: 81.47%\n"
          ]
        },
        {
          "output_type": "stream",
          "name": "stderr",
          "text": []
        },
        {
          "output_type": "stream",
          "name": "stdout",
          "text": [
            "Epoch 57/300 | Train Loss: 1.5083, Approx Train Acc: 58.24% | Val Acc: 79.08%\n"
          ]
        },
        {
          "output_type": "stream",
          "name": "stderr",
          "text": []
        },
        {
          "output_type": "stream",
          "name": "stdout",
          "text": [
            "Epoch 58/300 | Train Loss: 1.5047, Approx Train Acc: 58.72% | Val Acc: 79.73%\n"
          ]
        },
        {
          "output_type": "stream",
          "name": "stderr",
          "text": []
        },
        {
          "output_type": "stream",
          "name": "stdout",
          "text": [
            "Epoch 59/300 | Train Loss: 1.5081, Approx Train Acc: 58.85% | Val Acc: 82.04%\n"
          ]
        },
        {
          "output_type": "stream",
          "name": "stderr",
          "text": []
        },
        {
          "output_type": "stream",
          "name": "stdout",
          "text": [
            "Epoch 60/300 | Train Loss: 1.5023, Approx Train Acc: 58.79% | Val Acc: 71.63%\n"
          ]
        },
        {
          "output_type": "stream",
          "name": "stderr",
          "text": []
        },
        {
          "output_type": "stream",
          "name": "stdout",
          "text": [
            "Epoch 61/300 | Train Loss: 1.5204, Approx Train Acc: 57.99% | Val Acc: 78.38%\n"
          ]
        },
        {
          "output_type": "stream",
          "name": "stderr",
          "text": []
        },
        {
          "output_type": "stream",
          "name": "stdout",
          "text": [
            "Epoch 62/300 | Train Loss: 1.5272, Approx Train Acc: 57.21% | Val Acc: 79.25%\n"
          ]
        },
        {
          "output_type": "stream",
          "name": "stderr",
          "text": []
        },
        {
          "output_type": "stream",
          "name": "stdout",
          "text": [
            "Epoch 63/300 | Train Loss: 1.5047, Approx Train Acc: 58.43% | Val Acc: 81.68%\n"
          ]
        },
        {
          "output_type": "stream",
          "name": "stderr",
          "text": []
        },
        {
          "output_type": "stream",
          "name": "stdout",
          "text": [
            "Epoch 64/300 | Train Loss: 1.5315, Approx Train Acc: 57.43% | Val Acc: 84.30%\n",
            "   [*] Saved new best model: Val Acc = 84.30%\n"
          ]
        },
        {
          "output_type": "stream",
          "name": "stderr",
          "text": []
        },
        {
          "output_type": "stream",
          "name": "stdout",
          "text": [
            "Epoch 65/300 | Train Loss: 1.4967, Approx Train Acc: 59.12% | Val Acc: 79.56%\n"
          ]
        },
        {
          "output_type": "stream",
          "name": "stderr",
          "text": []
        },
        {
          "output_type": "stream",
          "name": "stdout",
          "text": [
            "Epoch 66/300 | Train Loss: 1.5357, Approx Train Acc: 57.01% | Val Acc: 84.02%\n"
          ]
        },
        {
          "output_type": "stream",
          "name": "stderr",
          "text": []
        },
        {
          "output_type": "stream",
          "name": "stdout",
          "text": [
            "Epoch 67/300 | Train Loss: 1.5052, Approx Train Acc: 58.30% | Val Acc: 84.06%\n"
          ]
        },
        {
          "output_type": "stream",
          "name": "stderr",
          "text": []
        },
        {
          "output_type": "stream",
          "name": "stdout",
          "text": [
            "Epoch 68/300 | Train Loss: 1.5318, Approx Train Acc: 57.31% | Val Acc: 81.06%\n"
          ]
        },
        {
          "output_type": "stream",
          "name": "stderr",
          "text": []
        },
        {
          "output_type": "stream",
          "name": "stdout",
          "text": [
            "Epoch 69/300 | Train Loss: 1.5111, Approx Train Acc: 58.28% | Val Acc: 84.60%\n",
            "   [*] Saved new best model: Val Acc = 84.60%\n"
          ]
        },
        {
          "output_type": "stream",
          "name": "stderr",
          "text": []
        },
        {
          "output_type": "stream",
          "name": "stdout",
          "text": [
            "Epoch 70/300 | Train Loss: 1.4971, Approx Train Acc: 58.90% | Val Acc: 83.53%\n"
          ]
        },
        {
          "output_type": "stream",
          "name": "stderr",
          "text": []
        },
        {
          "output_type": "stream",
          "name": "stdout",
          "text": [
            "Epoch 71/300 | Train Loss: 1.5199, Approx Train Acc: 57.73% | Val Acc: 82.13%\n"
          ]
        },
        {
          "output_type": "stream",
          "name": "stderr",
          "text": []
        },
        {
          "output_type": "stream",
          "name": "stdout",
          "text": [
            "Epoch 72/300 | Train Loss: 1.5109, Approx Train Acc: 58.05% | Val Acc: 85.72%\n",
            "   [*] Saved new best model: Val Acc = 85.72%\n"
          ]
        },
        {
          "output_type": "stream",
          "name": "stderr",
          "text": []
        },
        {
          "output_type": "stream",
          "name": "stdout",
          "text": [
            "Epoch 73/300 | Train Loss: 1.5165, Approx Train Acc: 57.85% | Val Acc: 83.75%\n"
          ]
        },
        {
          "output_type": "stream",
          "name": "stderr",
          "text": []
        },
        {
          "output_type": "stream",
          "name": "stdout",
          "text": [
            "Epoch 74/300 | Train Loss: 1.4847, Approx Train Acc: 59.56% | Val Acc: 81.18%\n"
          ]
        },
        {
          "output_type": "stream",
          "name": "stderr",
          "text": []
        },
        {
          "output_type": "stream",
          "name": "stdout",
          "text": [
            "Epoch 75/300 | Train Loss: 1.5265, Approx Train Acc: 57.68% | Val Acc: 83.87%\n"
          ]
        },
        {
          "output_type": "stream",
          "name": "stderr",
          "text": []
        },
        {
          "output_type": "stream",
          "name": "stdout",
          "text": [
            "Epoch 76/300 | Train Loss: 1.4889, Approx Train Acc: 59.46% | Val Acc: 82.21%\n"
          ]
        },
        {
          "output_type": "stream",
          "name": "stderr",
          "text": []
        },
        {
          "output_type": "stream",
          "name": "stdout",
          "text": [
            "Epoch 77/300 | Train Loss: 1.4876, Approx Train Acc: 59.32% | Val Acc: 83.85%\n"
          ]
        },
        {
          "output_type": "stream",
          "name": "stderr",
          "text": []
        },
        {
          "output_type": "stream",
          "name": "stdout",
          "text": [
            "Epoch 78/300 | Train Loss: 1.5009, Approx Train Acc: 58.79% | Val Acc: 79.76%\n"
          ]
        },
        {
          "output_type": "stream",
          "name": "stderr",
          "text": []
        },
        {
          "output_type": "stream",
          "name": "stdout",
          "text": [
            "Epoch 79/300 | Train Loss: 1.4890, Approx Train Acc: 59.42% | Val Acc: 85.68%\n"
          ]
        },
        {
          "output_type": "stream",
          "name": "stderr",
          "text": []
        },
        {
          "output_type": "stream",
          "name": "stdout",
          "text": [
            "Epoch 80/300 | Train Loss: 1.4947, Approx Train Acc: 58.97% | Val Acc: 84.20%\n"
          ]
        },
        {
          "output_type": "stream",
          "name": "stderr",
          "text": []
        },
        {
          "output_type": "stream",
          "name": "stdout",
          "text": [
            "Epoch 81/300 | Train Loss: 1.4836, Approx Train Acc: 59.45% | Val Acc: 85.13%\n"
          ]
        },
        {
          "output_type": "stream",
          "name": "stderr",
          "text": []
        },
        {
          "output_type": "stream",
          "name": "stdout",
          "text": [
            "Epoch 82/300 | Train Loss: 1.4926, Approx Train Acc: 59.18% | Val Acc: 85.08%\n"
          ]
        },
        {
          "output_type": "stream",
          "name": "stderr",
          "text": []
        },
        {
          "output_type": "stream",
          "name": "stdout",
          "text": [
            "Epoch 83/300 | Train Loss: 1.4981, Approx Train Acc: 58.82% | Val Acc: 80.51%\n"
          ]
        },
        {
          "output_type": "stream",
          "name": "stderr",
          "text": []
        },
        {
          "output_type": "stream",
          "name": "stdout",
          "text": [
            "Epoch 84/300 | Train Loss: 1.4988, Approx Train Acc: 58.85% | Val Acc: 81.98%\n"
          ]
        },
        {
          "output_type": "stream",
          "name": "stderr",
          "text": []
        },
        {
          "output_type": "stream",
          "name": "stdout",
          "text": [
            "Epoch 85/300 | Train Loss: 1.4815, Approx Train Acc: 59.61% | Val Acc: 84.61%\n"
          ]
        },
        {
          "output_type": "stream",
          "name": "stderr",
          "text": []
        },
        {
          "output_type": "stream",
          "name": "stdout",
          "text": [
            "Epoch 86/300 | Train Loss: 1.4855, Approx Train Acc: 59.34% | Val Acc: 84.62%\n"
          ]
        },
        {
          "output_type": "stream",
          "name": "stderr",
          "text": []
        },
        {
          "output_type": "stream",
          "name": "stdout",
          "text": [
            "Epoch 87/300 | Train Loss: 1.4968, Approx Train Acc: 59.03% | Val Acc: 83.93%\n"
          ]
        },
        {
          "output_type": "stream",
          "name": "stderr",
          "text": []
        },
        {
          "output_type": "stream",
          "name": "stdout",
          "text": [
            "Epoch 88/300 | Train Loss: 1.5074, Approx Train Acc: 58.38% | Val Acc: 79.17%\n"
          ]
        },
        {
          "output_type": "stream",
          "name": "stderr",
          "text": []
        },
        {
          "output_type": "stream",
          "name": "stdout",
          "text": [
            "Epoch 89/300 | Train Loss: 1.4868, Approx Train Acc: 59.59% | Val Acc: 83.86%\n"
          ]
        },
        {
          "output_type": "stream",
          "name": "stderr",
          "text": []
        },
        {
          "output_type": "stream",
          "name": "stdout",
          "text": [
            "Epoch 90/300 | Train Loss: 1.4900, Approx Train Acc: 59.18% | Val Acc: 84.15%\n"
          ]
        },
        {
          "output_type": "stream",
          "name": "stderr",
          "text": []
        },
        {
          "output_type": "stream",
          "name": "stdout",
          "text": [
            "Epoch 91/300 | Train Loss: 1.5016, Approx Train Acc: 58.66% | Val Acc: 82.88%\n"
          ]
        },
        {
          "output_type": "stream",
          "name": "stderr",
          "text": []
        },
        {
          "output_type": "stream",
          "name": "stdout",
          "text": [
            "Epoch 92/300 | Train Loss: 1.4884, Approx Train Acc: 59.34% | Val Acc: 84.42%\n"
          ]
        },
        {
          "output_type": "stream",
          "name": "stderr",
          "text": []
        },
        {
          "output_type": "stream",
          "name": "stdout",
          "text": [
            "Epoch 93/300 | Train Loss: 1.5286, Approx Train Acc: 57.37% | Val Acc: 85.24%\n"
          ]
        },
        {
          "output_type": "stream",
          "name": "stderr",
          "text": []
        },
        {
          "output_type": "stream",
          "name": "stdout",
          "text": [
            "Epoch 94/300 | Train Loss: 1.4694, Approx Train Acc: 60.32% | Val Acc: 84.78%\n"
          ]
        },
        {
          "output_type": "stream",
          "name": "stderr",
          "text": []
        },
        {
          "output_type": "stream",
          "name": "stdout",
          "text": [
            "Epoch 95/300 | Train Loss: 1.4850, Approx Train Acc: 59.74% | Val Acc: 75.02%\n"
          ]
        },
        {
          "output_type": "stream",
          "name": "stderr",
          "text": []
        },
        {
          "output_type": "stream",
          "name": "stdout",
          "text": [
            "Epoch 96/300 | Train Loss: 1.4486, Approx Train Acc: 61.44% | Val Acc: 85.72%\n"
          ]
        },
        {
          "output_type": "stream",
          "name": "stderr",
          "text": []
        },
        {
          "output_type": "stream",
          "name": "stdout",
          "text": [
            "Epoch 97/300 | Train Loss: 1.4898, Approx Train Acc: 59.21% | Val Acc: 84.04%\n"
          ]
        },
        {
          "output_type": "stream",
          "name": "stderr",
          "text": []
        },
        {
          "output_type": "stream",
          "name": "stdout",
          "text": [
            "Epoch 98/300 | Train Loss: 1.5022, Approx Train Acc: 58.77% | Val Acc: 86.22%\n",
            "   [*] Saved new best model: Val Acc = 86.22%\n"
          ]
        },
        {
          "output_type": "stream",
          "name": "stderr",
          "text": []
        },
        {
          "output_type": "stream",
          "name": "stdout",
          "text": [
            "Epoch 99/300 | Train Loss: 1.4756, Approx Train Acc: 59.88% | Val Acc: 85.84%\n"
          ]
        },
        {
          "output_type": "stream",
          "name": "stderr",
          "text": []
        },
        {
          "output_type": "stream",
          "name": "stdout",
          "text": [
            "Epoch 100/300 | Train Loss: 1.4888, Approx Train Acc: 59.20% | Val Acc: 84.19%\n"
          ]
        },
        {
          "output_type": "stream",
          "name": "stderr",
          "text": []
        },
        {
          "output_type": "stream",
          "name": "stdout",
          "text": [
            "Epoch 101/300 | Train Loss: 1.4881, Approx Train Acc: 59.29% | Val Acc: 84.25%\n"
          ]
        },
        {
          "output_type": "stream",
          "name": "stderr",
          "text": []
        },
        {
          "output_type": "stream",
          "name": "stdout",
          "text": [
            "Epoch 102/300 | Train Loss: 1.5066, Approx Train Acc: 58.54% | Val Acc: 85.26%\n"
          ]
        },
        {
          "output_type": "stream",
          "name": "stderr",
          "text": []
        },
        {
          "output_type": "stream",
          "name": "stdout",
          "text": [
            "Epoch 103/300 | Train Loss: 1.4772, Approx Train Acc: 59.98% | Val Acc: 82.97%\n"
          ]
        },
        {
          "output_type": "stream",
          "name": "stderr",
          "text": []
        },
        {
          "output_type": "stream",
          "name": "stdout",
          "text": [
            "Epoch 104/300 | Train Loss: 1.4448, Approx Train Acc: 61.44% | Val Acc: 79.81%\n"
          ]
        },
        {
          "output_type": "stream",
          "name": "stderr",
          "text": []
        },
        {
          "output_type": "stream",
          "name": "stdout",
          "text": [
            "Epoch 105/300 | Train Loss: 1.4944, Approx Train Acc: 59.17% | Val Acc: 83.78%\n"
          ]
        },
        {
          "output_type": "stream",
          "name": "stderr",
          "text": []
        },
        {
          "output_type": "stream",
          "name": "stdout",
          "text": [
            "Epoch 106/300 | Train Loss: 1.4702, Approx Train Acc: 59.90% | Val Acc: 85.45%\n"
          ]
        },
        {
          "output_type": "stream",
          "name": "stderr",
          "text": []
        },
        {
          "output_type": "stream",
          "name": "stdout",
          "text": [
            "Epoch 107/300 | Train Loss: 1.4717, Approx Train Acc: 60.08% | Val Acc: 84.01%\n"
          ]
        },
        {
          "output_type": "stream",
          "name": "stderr",
          "text": []
        },
        {
          "output_type": "stream",
          "name": "stdout",
          "text": [
            "Epoch 108/300 | Train Loss: 1.4651, Approx Train Acc: 60.59% | Val Acc: 86.21%\n"
          ]
        },
        {
          "output_type": "stream",
          "name": "stderr",
          "text": []
        },
        {
          "output_type": "stream",
          "name": "stdout",
          "text": [
            "Epoch 109/300 | Train Loss: 1.4942, Approx Train Acc: 59.17% | Val Acc: 83.51%\n"
          ]
        },
        {
          "output_type": "stream",
          "name": "stderr",
          "text": []
        },
        {
          "output_type": "stream",
          "name": "stdout",
          "text": [
            "Epoch 110/300 | Train Loss: 1.4702, Approx Train Acc: 60.36% | Val Acc: 85.12%\n"
          ]
        },
        {
          "output_type": "stream",
          "name": "stderr",
          "text": []
        },
        {
          "output_type": "stream",
          "name": "stdout",
          "text": [
            "Epoch 111/300 | Train Loss: 1.4728, Approx Train Acc: 60.11% | Val Acc: 85.31%\n"
          ]
        },
        {
          "output_type": "stream",
          "name": "stderr",
          "text": []
        },
        {
          "output_type": "stream",
          "name": "stdout",
          "text": [
            "Epoch 112/300 | Train Loss: 1.4771, Approx Train Acc: 59.58% | Val Acc: 84.55%\n"
          ]
        },
        {
          "output_type": "stream",
          "name": "stderr",
          "text": []
        },
        {
          "output_type": "stream",
          "name": "stdout",
          "text": [
            "Epoch 113/300 | Train Loss: 1.4890, Approx Train Acc: 59.16% | Val Acc: 84.78%\n"
          ]
        },
        {
          "output_type": "stream",
          "name": "stderr",
          "text": []
        },
        {
          "output_type": "stream",
          "name": "stdout",
          "text": [
            "Epoch 114/300 | Train Loss: 1.4883, Approx Train Acc: 59.09% | Val Acc: 85.77%\n"
          ]
        },
        {
          "output_type": "stream",
          "name": "stderr",
          "text": []
        },
        {
          "output_type": "stream",
          "name": "stdout",
          "text": [
            "Epoch 115/300 | Train Loss: 1.4732, Approx Train Acc: 59.87% | Val Acc: 83.88%\n"
          ]
        },
        {
          "output_type": "stream",
          "name": "stderr",
          "text": []
        },
        {
          "output_type": "stream",
          "name": "stdout",
          "text": [
            "Epoch 116/300 | Train Loss: 1.4714, Approx Train Acc: 59.86% | Val Acc: 82.71%\n"
          ]
        },
        {
          "output_type": "stream",
          "name": "stderr",
          "text": []
        },
        {
          "output_type": "stream",
          "name": "stdout",
          "text": [
            "Epoch 117/300 | Train Loss: 1.4854, Approx Train Acc: 59.22% | Val Acc: 85.03%\n"
          ]
        },
        {
          "output_type": "stream",
          "name": "stderr",
          "text": []
        },
        {
          "output_type": "stream",
          "name": "stdout",
          "text": [
            "Epoch 118/300 | Train Loss: 1.4725, Approx Train Acc: 59.99% | Val Acc: 87.70%\n",
            "   [*] Saved new best model: Val Acc = 87.70%\n"
          ]
        },
        {
          "output_type": "stream",
          "name": "stderr",
          "text": []
        },
        {
          "output_type": "stream",
          "name": "stdout",
          "text": [
            "Epoch 119/300 | Train Loss: 1.4719, Approx Train Acc: 60.18% | Val Acc: 86.25%\n"
          ]
        },
        {
          "output_type": "stream",
          "name": "stderr",
          "text": []
        },
        {
          "output_type": "stream",
          "name": "stdout",
          "text": [
            "Epoch 120/300 | Train Loss: 1.4582, Approx Train Acc: 60.89% | Val Acc: 85.93%\n"
          ]
        },
        {
          "output_type": "stream",
          "name": "stderr",
          "text": []
        },
        {
          "output_type": "stream",
          "name": "stdout",
          "text": [
            "Epoch 121/300 | Train Loss: 1.4600, Approx Train Acc: 60.55% | Val Acc: 86.07%\n"
          ]
        },
        {
          "output_type": "stream",
          "name": "stderr",
          "text": []
        },
        {
          "output_type": "stream",
          "name": "stdout",
          "text": [
            "Epoch 122/300 | Train Loss: 1.4619, Approx Train Acc: 60.58% | Val Acc: 86.68%\n"
          ]
        },
        {
          "output_type": "stream",
          "name": "stderr",
          "text": []
        },
        {
          "output_type": "stream",
          "name": "stdout",
          "text": [
            "Epoch 123/300 | Train Loss: 1.4697, Approx Train Acc: 60.21% | Val Acc: 85.32%\n"
          ]
        },
        {
          "output_type": "stream",
          "name": "stderr",
          "text": []
        },
        {
          "output_type": "stream",
          "name": "stdout",
          "text": [
            "Epoch 124/300 | Train Loss: 1.4776, Approx Train Acc: 59.84% | Val Acc: 86.14%\n"
          ]
        },
        {
          "output_type": "stream",
          "name": "stderr",
          "text": []
        },
        {
          "output_type": "stream",
          "name": "stdout",
          "text": [
            "Epoch 125/300 | Train Loss: 1.4714, Approx Train Acc: 60.21% | Val Acc: 85.69%\n"
          ]
        },
        {
          "output_type": "stream",
          "name": "stderr",
          "text": []
        },
        {
          "output_type": "stream",
          "name": "stdout",
          "text": [
            "Epoch 126/300 | Train Loss: 1.4655, Approx Train Acc: 60.14% | Val Acc: 85.03%\n"
          ]
        },
        {
          "output_type": "stream",
          "name": "stderr",
          "text": []
        },
        {
          "output_type": "stream",
          "name": "stdout",
          "text": [
            "Epoch 127/300 | Train Loss: 1.4792, Approx Train Acc: 59.71% | Val Acc: 85.32%\n"
          ]
        },
        {
          "output_type": "stream",
          "name": "stderr",
          "text": []
        },
        {
          "output_type": "stream",
          "name": "stdout",
          "text": [
            "Epoch 128/300 | Train Loss: 1.4573, Approx Train Acc: 60.79% | Val Acc: 77.74%\n"
          ]
        },
        {
          "output_type": "stream",
          "name": "stderr",
          "text": []
        },
        {
          "output_type": "stream",
          "name": "stdout",
          "text": [
            "Epoch 129/300 | Train Loss: 1.4646, Approx Train Acc: 60.09% | Val Acc: 85.98%\n"
          ]
        },
        {
          "output_type": "stream",
          "name": "stderr",
          "text": []
        },
        {
          "output_type": "stream",
          "name": "stdout",
          "text": [
            "Epoch 130/300 | Train Loss: 1.4672, Approx Train Acc: 60.03% | Val Acc: 86.38%\n"
          ]
        },
        {
          "output_type": "stream",
          "name": "stderr",
          "text": []
        },
        {
          "output_type": "stream",
          "name": "stdout",
          "text": [
            "Epoch 131/300 | Train Loss: 1.4600, Approx Train Acc: 60.53% | Val Acc: 86.28%\n"
          ]
        },
        {
          "output_type": "stream",
          "name": "stderr",
          "text": []
        },
        {
          "output_type": "stream",
          "name": "stdout",
          "text": [
            "Epoch 132/300 | Train Loss: 1.4446, Approx Train Acc: 61.45% | Val Acc: 87.17%\n"
          ]
        },
        {
          "output_type": "stream",
          "name": "stderr",
          "text": []
        },
        {
          "output_type": "stream",
          "name": "stdout",
          "text": [
            "Epoch 133/300 | Train Loss: 1.4664, Approx Train Acc: 60.17% | Val Acc: 86.20%\n"
          ]
        },
        {
          "output_type": "stream",
          "name": "stderr",
          "text": []
        },
        {
          "output_type": "stream",
          "name": "stdout",
          "text": [
            "Epoch 134/300 | Train Loss: 1.4427, Approx Train Acc: 61.27% | Val Acc: 85.54%\n"
          ]
        },
        {
          "output_type": "stream",
          "name": "stderr",
          "text": []
        },
        {
          "output_type": "stream",
          "name": "stdout",
          "text": [
            "Epoch 135/300 | Train Loss: 1.4496, Approx Train Acc: 61.16% | Val Acc: 86.69%\n"
          ]
        },
        {
          "output_type": "stream",
          "name": "stderr",
          "text": []
        },
        {
          "output_type": "stream",
          "name": "stdout",
          "text": [
            "Epoch 136/300 | Train Loss: 1.4344, Approx Train Acc: 61.77% | Val Acc: 87.90%\n",
            "   [*] Saved new best model: Val Acc = 87.90%\n"
          ]
        },
        {
          "output_type": "stream",
          "name": "stderr",
          "text": []
        },
        {
          "output_type": "stream",
          "name": "stdout",
          "text": [
            "Epoch 137/300 | Train Loss: 1.4514, Approx Train Acc: 61.30% | Val Acc: 84.16%\n"
          ]
        },
        {
          "output_type": "stream",
          "name": "stderr",
          "text": []
        },
        {
          "output_type": "stream",
          "name": "stdout",
          "text": [
            "Epoch 138/300 | Train Loss: 1.4451, Approx Train Acc: 60.89% | Val Acc: 87.85%\n"
          ]
        },
        {
          "output_type": "stream",
          "name": "stderr",
          "text": []
        },
        {
          "output_type": "stream",
          "name": "stdout",
          "text": [
            "Epoch 139/300 | Train Loss: 1.4521, Approx Train Acc: 60.83% | Val Acc: 89.27%\n",
            "   [*] Saved new best model: Val Acc = 89.27%\n"
          ]
        },
        {
          "output_type": "stream",
          "name": "stderr",
          "text": []
        },
        {
          "output_type": "stream",
          "name": "stdout",
          "text": [
            "Epoch 140/300 | Train Loss: 1.4430, Approx Train Acc: 61.11% | Val Acc: 85.27%\n"
          ]
        },
        {
          "output_type": "stream",
          "name": "stderr",
          "text": []
        },
        {
          "output_type": "stream",
          "name": "stdout",
          "text": [
            "Epoch 141/300 | Train Loss: 1.4483, Approx Train Acc: 61.21% | Val Acc: 87.76%\n"
          ]
        },
        {
          "output_type": "stream",
          "name": "stderr",
          "text": []
        },
        {
          "output_type": "stream",
          "name": "stdout",
          "text": [
            "Epoch 142/300 | Train Loss: 1.4457, Approx Train Acc: 61.12% | Val Acc: 87.96%\n"
          ]
        },
        {
          "output_type": "stream",
          "name": "stderr",
          "text": []
        },
        {
          "output_type": "stream",
          "name": "stdout",
          "text": [
            "Epoch 143/300 | Train Loss: 1.4401, Approx Train Acc: 61.34% | Val Acc: 87.86%\n"
          ]
        },
        {
          "output_type": "stream",
          "name": "stderr",
          "text": []
        },
        {
          "output_type": "stream",
          "name": "stdout",
          "text": [
            "Epoch 144/300 | Train Loss: 1.4297, Approx Train Acc: 61.91% | Val Acc: 88.25%\n"
          ]
        },
        {
          "output_type": "stream",
          "name": "stderr",
          "text": []
        },
        {
          "output_type": "stream",
          "name": "stdout",
          "text": [
            "Epoch 145/300 | Train Loss: 1.4516, Approx Train Acc: 60.75% | Val Acc: 86.34%\n"
          ]
        },
        {
          "output_type": "stream",
          "name": "stderr",
          "text": []
        },
        {
          "output_type": "stream",
          "name": "stdout",
          "text": [
            "Epoch 146/300 | Train Loss: 1.4485, Approx Train Acc: 60.80% | Val Acc: 88.76%\n"
          ]
        },
        {
          "output_type": "stream",
          "name": "stderr",
          "text": []
        },
        {
          "output_type": "stream",
          "name": "stdout",
          "text": [
            "Epoch 147/300 | Train Loss: 1.4363, Approx Train Acc: 61.47% | Val Acc: 85.20%\n"
          ]
        },
        {
          "output_type": "stream",
          "name": "stderr",
          "text": []
        },
        {
          "output_type": "stream",
          "name": "stdout",
          "text": [
            "Epoch 148/300 | Train Loss: 1.4439, Approx Train Acc: 61.39% | Val Acc: 86.05%\n"
          ]
        },
        {
          "output_type": "stream",
          "name": "stderr",
          "text": []
        },
        {
          "output_type": "stream",
          "name": "stdout",
          "text": [
            "Epoch 149/300 | Train Loss: 1.4365, Approx Train Acc: 61.64% | Val Acc: 88.66%\n"
          ]
        },
        {
          "output_type": "stream",
          "name": "stderr",
          "text": []
        },
        {
          "output_type": "stream",
          "name": "stdout",
          "text": [
            "Epoch 150/300 | Train Loss: 1.4428, Approx Train Acc: 61.09% | Val Acc: 85.29%\n"
          ]
        },
        {
          "output_type": "stream",
          "name": "stderr",
          "text": []
        },
        {
          "output_type": "stream",
          "name": "stdout",
          "text": [
            "Epoch 151/300 | Train Loss: 1.4275, Approx Train Acc: 61.85% | Val Acc: 87.64%\n"
          ]
        },
        {
          "output_type": "stream",
          "name": "stderr",
          "text": []
        },
        {
          "output_type": "stream",
          "name": "stdout",
          "text": [
            "Epoch 152/300 | Train Loss: 1.4227, Approx Train Acc: 62.26% | Val Acc: 85.18%\n"
          ]
        },
        {
          "output_type": "stream",
          "name": "stderr",
          "text": []
        },
        {
          "output_type": "stream",
          "name": "stdout",
          "text": [
            "Epoch 153/300 | Train Loss: 1.4390, Approx Train Acc: 61.37% | Val Acc: 89.00%\n"
          ]
        },
        {
          "output_type": "stream",
          "name": "stderr",
          "text": []
        },
        {
          "output_type": "stream",
          "name": "stdout",
          "text": [
            "Epoch 154/300 | Train Loss: 1.4337, Approx Train Acc: 61.87% | Val Acc: 89.29%\n",
            "   [*] Saved new best model: Val Acc = 89.29%\n"
          ]
        },
        {
          "output_type": "stream",
          "name": "stderr",
          "text": []
        },
        {
          "output_type": "stream",
          "name": "stdout",
          "text": [
            "Epoch 155/300 | Train Loss: 1.4257, Approx Train Acc: 62.04% | Val Acc: 89.37%\n",
            "   [*] Saved new best model: Val Acc = 89.37%\n"
          ]
        },
        {
          "output_type": "stream",
          "name": "stderr",
          "text": []
        },
        {
          "output_type": "stream",
          "name": "stdout",
          "text": [
            "Epoch 156/300 | Train Loss: 1.4431, Approx Train Acc: 61.37% | Val Acc: 87.85%\n"
          ]
        },
        {
          "output_type": "stream",
          "name": "stderr",
          "text": []
        },
        {
          "output_type": "stream",
          "name": "stdout",
          "text": [
            "Epoch 157/300 | Train Loss: 1.4343, Approx Train Acc: 61.56% | Val Acc: 89.19%\n"
          ]
        },
        {
          "output_type": "stream",
          "name": "stderr",
          "text": []
        },
        {
          "output_type": "stream",
          "name": "stdout",
          "text": [
            "Epoch 158/300 | Train Loss: 1.4355, Approx Train Acc: 61.30% | Val Acc: 90.05%\n",
            "   [*] Saved new best model: Val Acc = 90.05%\n"
          ]
        },
        {
          "output_type": "stream",
          "name": "stderr",
          "text": []
        },
        {
          "output_type": "stream",
          "name": "stdout",
          "text": [
            "Epoch 159/300 | Train Loss: 1.4266, Approx Train Acc: 61.95% | Val Acc: 87.72%\n"
          ]
        },
        {
          "output_type": "stream",
          "name": "stderr",
          "text": []
        },
        {
          "output_type": "stream",
          "name": "stdout",
          "text": [
            "Epoch 160/300 | Train Loss: 1.4208, Approx Train Acc: 62.21% | Val Acc: 89.64%\n"
          ]
        },
        {
          "output_type": "stream",
          "name": "stderr",
          "text": []
        },
        {
          "output_type": "stream",
          "name": "stdout",
          "text": [
            "Epoch 161/300 | Train Loss: 1.4206, Approx Train Acc: 61.97% | Val Acc: 88.48%\n"
          ]
        },
        {
          "output_type": "stream",
          "name": "stderr",
          "text": []
        },
        {
          "output_type": "stream",
          "name": "stdout",
          "text": [
            "Epoch 162/300 | Train Loss: 1.4247, Approx Train Acc: 62.05% | Val Acc: 86.64%\n"
          ]
        },
        {
          "output_type": "stream",
          "name": "stderr",
          "text": []
        },
        {
          "output_type": "stream",
          "name": "stdout",
          "text": [
            "Epoch 163/300 | Train Loss: 1.4239, Approx Train Acc: 62.12% | Val Acc: 86.65%\n"
          ]
        },
        {
          "output_type": "stream",
          "name": "stderr",
          "text": []
        },
        {
          "output_type": "stream",
          "name": "stdout",
          "text": [
            "Epoch 164/300 | Train Loss: 1.4282, Approx Train Acc: 61.70% | Val Acc: 87.11%\n"
          ]
        },
        {
          "output_type": "stream",
          "name": "stderr",
          "text": []
        },
        {
          "output_type": "stream",
          "name": "stdout",
          "text": [
            "Epoch 165/300 | Train Loss: 1.4249, Approx Train Acc: 61.55% | Val Acc: 88.17%\n"
          ]
        },
        {
          "output_type": "stream",
          "name": "stderr",
          "text": []
        },
        {
          "output_type": "stream",
          "name": "stdout",
          "text": [
            "Epoch 166/300 | Train Loss: 1.4359, Approx Train Acc: 61.53% | Val Acc: 88.63%\n"
          ]
        },
        {
          "output_type": "stream",
          "name": "stderr",
          "text": []
        },
        {
          "output_type": "stream",
          "name": "stdout",
          "text": [
            "Epoch 167/300 | Train Loss: 1.4218, Approx Train Acc: 62.12% | Val Acc: 88.35%\n"
          ]
        },
        {
          "output_type": "stream",
          "name": "stderr",
          "text": []
        },
        {
          "output_type": "stream",
          "name": "stdout",
          "text": [
            "Epoch 168/300 | Train Loss: 1.4062, Approx Train Acc: 63.09% | Val Acc: 89.35%\n"
          ]
        },
        {
          "output_type": "stream",
          "name": "stderr",
          "text": []
        },
        {
          "output_type": "stream",
          "name": "stdout",
          "text": [
            "Epoch 169/300 | Train Loss: 1.4094, Approx Train Acc: 62.57% | Val Acc: 88.03%\n"
          ]
        },
        {
          "output_type": "stream",
          "name": "stderr",
          "text": []
        },
        {
          "output_type": "stream",
          "name": "stdout",
          "text": [
            "Epoch 170/300 | Train Loss: 1.4323, Approx Train Acc: 61.69% | Val Acc: 89.78%\n"
          ]
        },
        {
          "output_type": "stream",
          "name": "stderr",
          "text": []
        },
        {
          "output_type": "stream",
          "name": "stdout",
          "text": [
            "Epoch 171/300 | Train Loss: 1.4168, Approx Train Acc: 62.17% | Val Acc: 88.75%\n"
          ]
        },
        {
          "output_type": "stream",
          "name": "stderr",
          "text": []
        },
        {
          "output_type": "stream",
          "name": "stdout",
          "text": [
            "Epoch 172/300 | Train Loss: 1.3957, Approx Train Acc: 63.73% | Val Acc: 90.44%\n",
            "   [*] Saved new best model: Val Acc = 90.44%\n"
          ]
        },
        {
          "output_type": "stream",
          "name": "stderr",
          "text": []
        },
        {
          "output_type": "stream",
          "name": "stdout",
          "text": [
            "Epoch 173/300 | Train Loss: 1.4152, Approx Train Acc: 62.03% | Val Acc: 86.60%\n"
          ]
        },
        {
          "output_type": "stream",
          "name": "stderr",
          "text": []
        },
        {
          "output_type": "stream",
          "name": "stdout",
          "text": [
            "Epoch 174/300 | Train Loss: 1.3969, Approx Train Acc: 62.99% | Val Acc: 89.79%\n"
          ]
        },
        {
          "output_type": "stream",
          "name": "stderr",
          "text": []
        },
        {
          "output_type": "stream",
          "name": "stdout",
          "text": [
            "Epoch 175/300 | Train Loss: 1.3971, Approx Train Acc: 63.05% | Val Acc: 89.11%\n"
          ]
        },
        {
          "output_type": "stream",
          "name": "stderr",
          "text": []
        },
        {
          "output_type": "stream",
          "name": "stdout",
          "text": [
            "Epoch 176/300 | Train Loss: 1.3843, Approx Train Acc: 63.62% | Val Acc: 89.01%\n"
          ]
        },
        {
          "output_type": "stream",
          "name": "stderr",
          "text": []
        },
        {
          "output_type": "stream",
          "name": "stdout",
          "text": [
            "Epoch 177/300 | Train Loss: 1.4023, Approx Train Acc: 62.93% | Val Acc: 89.89%\n"
          ]
        },
        {
          "output_type": "stream",
          "name": "stderr",
          "text": []
        },
        {
          "output_type": "stream",
          "name": "stdout",
          "text": [
            "Epoch 178/300 | Train Loss: 1.4143, Approx Train Acc: 62.42% | Val Acc: 89.46%\n"
          ]
        },
        {
          "output_type": "stream",
          "name": "stderr",
          "text": []
        },
        {
          "output_type": "stream",
          "name": "stdout",
          "text": [
            "Epoch 179/300 | Train Loss: 1.3853, Approx Train Acc: 63.76% | Val Acc: 90.26%\n"
          ]
        },
        {
          "output_type": "stream",
          "name": "stderr",
          "text": []
        },
        {
          "output_type": "stream",
          "name": "stdout",
          "text": [
            "Epoch 180/300 | Train Loss: 1.3945, Approx Train Acc: 63.27% | Val Acc: 89.49%\n"
          ]
        },
        {
          "output_type": "stream",
          "name": "stderr",
          "text": []
        },
        {
          "output_type": "stream",
          "name": "stdout",
          "text": [
            "Epoch 181/300 | Train Loss: 1.3980, Approx Train Acc: 62.87% | Val Acc: 88.77%\n"
          ]
        },
        {
          "output_type": "stream",
          "name": "stderr",
          "text": []
        },
        {
          "output_type": "stream",
          "name": "stdout",
          "text": [
            "Epoch 182/300 | Train Loss: 1.4113, Approx Train Acc: 62.61% | Val Acc: 91.30%\n",
            "   [*] Saved new best model: Val Acc = 91.30%\n"
          ]
        },
        {
          "output_type": "stream",
          "name": "stderr",
          "text": []
        },
        {
          "output_type": "stream",
          "name": "stdout",
          "text": [
            "Epoch 183/300 | Train Loss: 1.3901, Approx Train Acc: 63.54% | Val Acc: 89.24%\n"
          ]
        },
        {
          "output_type": "stream",
          "name": "stderr",
          "text": []
        },
        {
          "output_type": "stream",
          "name": "stdout",
          "text": [
            "Epoch 184/300 | Train Loss: 1.3864, Approx Train Acc: 63.73% | Val Acc: 91.07%\n"
          ]
        },
        {
          "output_type": "stream",
          "name": "stderr",
          "text": []
        },
        {
          "output_type": "stream",
          "name": "stdout",
          "text": [
            "Epoch 185/300 | Train Loss: 1.3667, Approx Train Acc: 64.62% | Val Acc: 89.64%\n"
          ]
        },
        {
          "output_type": "stream",
          "name": "stderr",
          "text": []
        },
        {
          "output_type": "stream",
          "name": "stdout",
          "text": [
            "Epoch 186/300 | Train Loss: 1.3846, Approx Train Acc: 63.90% | Val Acc: 87.36%\n"
          ]
        },
        {
          "output_type": "stream",
          "name": "stderr",
          "text": []
        },
        {
          "output_type": "stream",
          "name": "stdout",
          "text": [
            "Epoch 187/300 | Train Loss: 1.3816, Approx Train Acc: 63.67% | Val Acc: 89.83%\n"
          ]
        },
        {
          "output_type": "stream",
          "name": "stderr",
          "text": []
        },
        {
          "output_type": "stream",
          "name": "stdout",
          "text": [
            "Epoch 188/300 | Train Loss: 1.3952, Approx Train Acc: 63.30% | Val Acc: 90.83%\n"
          ]
        },
        {
          "output_type": "stream",
          "name": "stderr",
          "text": []
        },
        {
          "output_type": "stream",
          "name": "stdout",
          "text": [
            "Epoch 189/300 | Train Loss: 1.3990, Approx Train Acc: 62.68% | Val Acc: 89.62%\n"
          ]
        },
        {
          "output_type": "stream",
          "name": "stderr",
          "text": []
        },
        {
          "output_type": "stream",
          "name": "stdout",
          "text": [
            "Epoch 190/300 | Train Loss: 1.3760, Approx Train Acc: 64.06% | Val Acc: 88.75%\n"
          ]
        },
        {
          "output_type": "stream",
          "name": "stderr",
          "text": []
        },
        {
          "output_type": "stream",
          "name": "stdout",
          "text": [
            "Epoch 191/300 | Train Loss: 1.3736, Approx Train Acc: 64.28% | Val Acc: 87.73%\n"
          ]
        },
        {
          "output_type": "stream",
          "name": "stderr",
          "text": []
        },
        {
          "output_type": "stream",
          "name": "stdout",
          "text": [
            "Epoch 192/300 | Train Loss: 1.3742, Approx Train Acc: 63.97% | Val Acc: 91.12%\n"
          ]
        },
        {
          "output_type": "stream",
          "name": "stderr",
          "text": []
        },
        {
          "output_type": "stream",
          "name": "stdout",
          "text": [
            "Epoch 193/300 | Train Loss: 1.3814, Approx Train Acc: 63.68% | Val Acc: 91.33%\n",
            "   [*] Saved new best model: Val Acc = 91.33%\n"
          ]
        },
        {
          "output_type": "stream",
          "name": "stderr",
          "text": []
        },
        {
          "output_type": "stream",
          "name": "stdout",
          "text": [
            "Epoch 194/300 | Train Loss: 1.3699, Approx Train Acc: 64.42% | Val Acc: 91.15%\n"
          ]
        },
        {
          "output_type": "stream",
          "name": "stderr",
          "text": []
        },
        {
          "output_type": "stream",
          "name": "stdout",
          "text": [
            "Epoch 195/300 | Train Loss: 1.3805, Approx Train Acc: 63.72% | Val Acc: 89.98%\n"
          ]
        },
        {
          "output_type": "stream",
          "name": "stderr",
          "text": []
        },
        {
          "output_type": "stream",
          "name": "stdout",
          "text": [
            "Epoch 196/300 | Train Loss: 1.3867, Approx Train Acc: 63.65% | Val Acc: 90.56%\n"
          ]
        },
        {
          "output_type": "stream",
          "name": "stderr",
          "text": []
        },
        {
          "output_type": "stream",
          "name": "stdout",
          "text": [
            "Epoch 197/300 | Train Loss: 1.3771, Approx Train Acc: 63.63% | Val Acc: 88.48%\n"
          ]
        },
        {
          "output_type": "stream",
          "name": "stderr",
          "text": []
        },
        {
          "output_type": "stream",
          "name": "stdout",
          "text": [
            "Epoch 198/300 | Train Loss: 1.3905, Approx Train Acc: 63.07% | Val Acc: 90.57%\n"
          ]
        },
        {
          "output_type": "stream",
          "name": "stderr",
          "text": []
        },
        {
          "output_type": "stream",
          "name": "stdout",
          "text": [
            "Epoch 199/300 | Train Loss: 1.3646, Approx Train Acc: 64.55% | Val Acc: 90.45%\n"
          ]
        },
        {
          "output_type": "stream",
          "name": "stderr",
          "text": []
        },
        {
          "output_type": "stream",
          "name": "stdout",
          "text": [
            "Epoch 200/300 | Train Loss: 1.3543, Approx Train Acc: 64.91% | Val Acc: 91.94%\n",
            "   [*] Saved new best model: Val Acc = 91.94%\n"
          ]
        },
        {
          "output_type": "stream",
          "name": "stderr",
          "text": []
        },
        {
          "output_type": "stream",
          "name": "stdout",
          "text": [
            "Epoch 201/300 | Train Loss: 1.3764, Approx Train Acc: 64.04% | Val Acc: 90.89%\n"
          ]
        },
        {
          "output_type": "stream",
          "name": "stderr",
          "text": []
        },
        {
          "output_type": "stream",
          "name": "stdout",
          "text": [
            "Epoch 202/300 | Train Loss: 1.3791, Approx Train Acc: 63.61% | Val Acc: 91.45%\n"
          ]
        },
        {
          "output_type": "stream",
          "name": "stderr",
          "text": []
        },
        {
          "output_type": "stream",
          "name": "stdout",
          "text": [
            "Epoch 203/300 | Train Loss: 1.3724, Approx Train Acc: 64.04% | Val Acc: 91.44%\n"
          ]
        },
        {
          "output_type": "stream",
          "name": "stderr",
          "text": []
        },
        {
          "output_type": "stream",
          "name": "stdout",
          "text": [
            "Epoch 204/300 | Train Loss: 1.3624, Approx Train Acc: 64.23% | Val Acc: 90.23%\n"
          ]
        },
        {
          "output_type": "stream",
          "name": "stderr",
          "text": []
        },
        {
          "output_type": "stream",
          "name": "stdout",
          "text": [
            "Epoch 205/300 | Train Loss: 1.3401, Approx Train Acc: 65.58% | Val Acc: 91.48%\n"
          ]
        },
        {
          "output_type": "stream",
          "name": "stderr",
          "text": []
        },
        {
          "output_type": "stream",
          "name": "stdout",
          "text": [
            "Epoch 206/300 | Train Loss: 1.3541, Approx Train Acc: 65.01% | Val Acc: 92.34%\n",
            "   [*] Saved new best model: Val Acc = 92.34%\n"
          ]
        },
        {
          "output_type": "stream",
          "name": "stderr",
          "text": []
        },
        {
          "output_type": "stream",
          "name": "stdout",
          "text": [
            "Epoch 207/300 | Train Loss: 1.3230, Approx Train Acc: 66.48% | Val Acc: 91.06%\n"
          ]
        },
        {
          "output_type": "stream",
          "name": "stderr",
          "text": []
        },
        {
          "output_type": "stream",
          "name": "stdout",
          "text": [
            "Epoch 208/300 | Train Loss: 1.3414, Approx Train Acc: 65.59% | Val Acc: 91.62%\n"
          ]
        },
        {
          "output_type": "stream",
          "name": "stderr",
          "text": []
        },
        {
          "output_type": "stream",
          "name": "stdout",
          "text": [
            "Epoch 209/300 | Train Loss: 1.3591, Approx Train Acc: 64.32% | Val Acc: 90.07%\n"
          ]
        },
        {
          "output_type": "stream",
          "name": "stderr",
          "text": []
        },
        {
          "output_type": "stream",
          "name": "stdout",
          "text": [
            "Epoch 210/300 | Train Loss: 1.3437, Approx Train Acc: 64.84% | Val Acc: 92.22%\n"
          ]
        },
        {
          "output_type": "stream",
          "name": "stderr",
          "text": []
        },
        {
          "output_type": "stream",
          "name": "stdout",
          "text": [
            "Epoch 211/300 | Train Loss: 1.3469, Approx Train Acc: 65.15% | Val Acc: 90.08%\n"
          ]
        },
        {
          "output_type": "stream",
          "name": "stderr",
          "text": []
        },
        {
          "output_type": "stream",
          "name": "stdout",
          "text": [
            "Epoch 212/300 | Train Loss: 1.3289, Approx Train Acc: 65.97% | Val Acc: 92.47%\n",
            "   [*] Saved new best model: Val Acc = 92.47%\n"
          ]
        },
        {
          "output_type": "stream",
          "name": "stderr",
          "text": []
        },
        {
          "output_type": "stream",
          "name": "stdout",
          "text": [
            "Epoch 213/300 | Train Loss: 1.3224, Approx Train Acc: 66.18% | Val Acc: 91.41%\n"
          ]
        },
        {
          "output_type": "stream",
          "name": "stderr",
          "text": []
        },
        {
          "output_type": "stream",
          "name": "stdout",
          "text": [
            "Epoch 214/300 | Train Loss: 1.3647, Approx Train Acc: 63.89% | Val Acc: 91.08%\n"
          ]
        },
        {
          "output_type": "stream",
          "name": "stderr",
          "text": []
        },
        {
          "output_type": "stream",
          "name": "stdout",
          "text": [
            "Epoch 215/300 | Train Loss: 1.3093, Approx Train Acc: 66.84% | Val Acc: 92.25%\n"
          ]
        },
        {
          "output_type": "stream",
          "name": "stderr",
          "text": []
        },
        {
          "output_type": "stream",
          "name": "stdout",
          "text": [
            "Epoch 216/300 | Train Loss: 1.3523, Approx Train Acc: 64.95% | Val Acc: 92.85%\n",
            "   [*] Saved new best model: Val Acc = 92.85%\n"
          ]
        },
        {
          "output_type": "stream",
          "name": "stderr",
          "text": []
        },
        {
          "output_type": "stream",
          "name": "stdout",
          "text": [
            "Epoch 217/300 | Train Loss: 1.3185, Approx Train Acc: 66.13% | Val Acc: 92.20%\n"
          ]
        },
        {
          "output_type": "stream",
          "name": "stderr",
          "text": []
        },
        {
          "output_type": "stream",
          "name": "stdout",
          "text": [
            "Epoch 218/300 | Train Loss: 1.3538, Approx Train Acc: 64.69% | Val Acc: 93.22%\n",
            "   [*] Saved new best model: Val Acc = 93.22%\n"
          ]
        },
        {
          "output_type": "stream",
          "name": "stderr",
          "text": []
        },
        {
          "output_type": "stream",
          "name": "stdout",
          "text": [
            "Epoch 219/300 | Train Loss: 1.3183, Approx Train Acc: 66.37% | Val Acc: 92.34%\n"
          ]
        },
        {
          "output_type": "stream",
          "name": "stderr",
          "text": []
        },
        {
          "output_type": "stream",
          "name": "stdout",
          "text": [
            "Epoch 220/300 | Train Loss: 1.3326, Approx Train Acc: 65.48% | Val Acc: 92.99%\n"
          ]
        },
        {
          "output_type": "stream",
          "name": "stderr",
          "text": []
        },
        {
          "output_type": "stream",
          "name": "stdout",
          "text": [
            "Epoch 221/300 | Train Loss: 1.3463, Approx Train Acc: 64.79% | Val Acc: 93.18%\n"
          ]
        },
        {
          "output_type": "stream",
          "name": "stderr",
          "text": []
        },
        {
          "output_type": "stream",
          "name": "stdout",
          "text": [
            "Epoch 222/300 | Train Loss: 1.3195, Approx Train Acc: 66.10% | Val Acc: 92.92%\n"
          ]
        },
        {
          "output_type": "stream",
          "name": "stderr",
          "text": []
        },
        {
          "output_type": "stream",
          "name": "stdout",
          "text": [
            "Epoch 223/300 | Train Loss: 1.3430, Approx Train Acc: 64.90% | Val Acc: 93.83%\n",
            "   [*] Saved new best model: Val Acc = 93.83%\n"
          ]
        },
        {
          "output_type": "stream",
          "name": "stderr",
          "text": []
        },
        {
          "output_type": "stream",
          "name": "stdout",
          "text": [
            "Epoch 224/300 | Train Loss: 1.3375, Approx Train Acc: 65.06% | Val Acc: 92.30%\n"
          ]
        },
        {
          "output_type": "stream",
          "name": "stderr",
          "text": []
        },
        {
          "output_type": "stream",
          "name": "stdout",
          "text": [
            "Epoch 225/300 | Train Loss: 1.3333, Approx Train Acc: 65.46% | Val Acc: 93.56%\n"
          ]
        },
        {
          "output_type": "stream",
          "name": "stderr",
          "text": []
        },
        {
          "output_type": "stream",
          "name": "stdout",
          "text": [
            "Epoch 226/300 | Train Loss: 1.3410, Approx Train Acc: 65.15% | Val Acc: 93.01%\n"
          ]
        },
        {
          "output_type": "stream",
          "name": "stderr",
          "text": []
        },
        {
          "output_type": "stream",
          "name": "stdout",
          "text": [
            "Epoch 227/300 | Train Loss: 1.3171, Approx Train Acc: 66.41% | Val Acc: 92.75%\n"
          ]
        },
        {
          "output_type": "stream",
          "name": "stderr",
          "text": []
        },
        {
          "output_type": "stream",
          "name": "stdout",
          "text": [
            "Epoch 228/300 | Train Loss: 1.3101, Approx Train Acc: 66.50% | Val Acc: 93.61%\n"
          ]
        },
        {
          "output_type": "stream",
          "name": "stderr",
          "text": []
        },
        {
          "output_type": "stream",
          "name": "stdout",
          "text": [
            "Epoch 229/300 | Train Loss: 1.3009, Approx Train Acc: 67.18% | Val Acc: 93.46%\n"
          ]
        },
        {
          "output_type": "stream",
          "name": "stderr",
          "text": []
        },
        {
          "output_type": "stream",
          "name": "stdout",
          "text": [
            "Epoch 230/300 | Train Loss: 1.3000, Approx Train Acc: 66.87% | Val Acc: 93.59%\n"
          ]
        },
        {
          "output_type": "stream",
          "name": "stderr",
          "text": []
        },
        {
          "output_type": "stream",
          "name": "stdout",
          "text": [
            "Epoch 231/300 | Train Loss: 1.3154, Approx Train Acc: 66.06% | Val Acc: 93.45%\n"
          ]
        },
        {
          "output_type": "stream",
          "name": "stderr",
          "text": []
        },
        {
          "output_type": "stream",
          "name": "stdout",
          "text": [
            "Epoch 232/300 | Train Loss: 1.3258, Approx Train Acc: 65.72% | Val Acc: 93.61%\n"
          ]
        },
        {
          "output_type": "stream",
          "name": "stderr",
          "text": []
        },
        {
          "output_type": "stream",
          "name": "stdout",
          "text": [
            "Epoch 233/300 | Train Loss: 1.2812, Approx Train Acc: 67.71% | Val Acc: 93.08%\n"
          ]
        },
        {
          "output_type": "stream",
          "name": "stderr",
          "text": []
        },
        {
          "output_type": "stream",
          "name": "stdout",
          "text": [
            "Epoch 234/300 | Train Loss: 1.3031, Approx Train Acc: 66.98% | Val Acc: 93.85%\n",
            "   [*] Saved new best model: Val Acc = 93.85%\n"
          ]
        },
        {
          "output_type": "stream",
          "name": "stderr",
          "text": []
        },
        {
          "output_type": "stream",
          "name": "stdout",
          "text": [
            "Epoch 235/300 | Train Loss: 1.2776, Approx Train Acc: 67.91% | Val Acc: 93.54%\n"
          ]
        },
        {
          "output_type": "stream",
          "name": "stderr",
          "text": []
        },
        {
          "output_type": "stream",
          "name": "stdout",
          "text": [
            "Epoch 236/300 | Train Loss: 1.2944, Approx Train Acc: 67.05% | Val Acc: 93.36%\n"
          ]
        },
        {
          "output_type": "stream",
          "name": "stderr",
          "text": []
        },
        {
          "output_type": "stream",
          "name": "stdout",
          "text": [
            "Epoch 237/300 | Train Loss: 1.2786, Approx Train Acc: 68.04% | Val Acc: 93.61%\n"
          ]
        },
        {
          "output_type": "stream",
          "name": "stderr",
          "text": []
        },
        {
          "output_type": "stream",
          "name": "stdout",
          "text": [
            "Epoch 238/300 | Train Loss: 1.3107, Approx Train Acc: 66.51% | Val Acc: 93.99%\n",
            "   [*] Saved new best model: Val Acc = 93.99%\n"
          ]
        },
        {
          "output_type": "stream",
          "name": "stderr",
          "text": []
        },
        {
          "output_type": "stream",
          "name": "stdout",
          "text": [
            "Epoch 239/300 | Train Loss: 1.3039, Approx Train Acc: 66.80% | Val Acc: 94.16%\n",
            "   [*] Saved new best model: Val Acc = 94.16%\n"
          ]
        },
        {
          "output_type": "stream",
          "name": "stderr",
          "text": []
        },
        {
          "output_type": "stream",
          "name": "stdout",
          "text": [
            "Epoch 240/300 | Train Loss: 1.3017, Approx Train Acc: 66.66% | Val Acc: 93.75%\n"
          ]
        },
        {
          "output_type": "stream",
          "name": "stderr",
          "text": []
        },
        {
          "output_type": "stream",
          "name": "stdout",
          "text": [
            "Epoch 241/300 | Train Loss: 1.2812, Approx Train Acc: 67.60% | Val Acc: 92.79%\n"
          ]
        },
        {
          "output_type": "stream",
          "name": "stderr",
          "text": []
        },
        {
          "output_type": "stream",
          "name": "stdout",
          "text": [
            "Epoch 242/300 | Train Loss: 1.2874, Approx Train Acc: 67.19% | Val Acc: 94.66%\n",
            "   [*] Saved new best model: Val Acc = 94.66%\n"
          ]
        },
        {
          "output_type": "stream",
          "name": "stderr",
          "text": []
        },
        {
          "output_type": "stream",
          "name": "stdout",
          "text": [
            "Epoch 243/300 | Train Loss: 1.2947, Approx Train Acc: 66.74% | Val Acc: 94.16%\n"
          ]
        },
        {
          "output_type": "stream",
          "name": "stderr",
          "text": []
        },
        {
          "output_type": "stream",
          "name": "stdout",
          "text": [
            "Epoch 244/300 | Train Loss: 1.2541, Approx Train Acc: 68.99% | Val Acc: 94.65%\n"
          ]
        },
        {
          "output_type": "stream",
          "name": "stderr",
          "text": []
        },
        {
          "output_type": "stream",
          "name": "stdout",
          "text": [
            "Epoch 245/300 | Train Loss: 1.2933, Approx Train Acc: 66.72% | Val Acc: 94.27%\n"
          ]
        },
        {
          "output_type": "stream",
          "name": "stderr",
          "text": []
        },
        {
          "output_type": "stream",
          "name": "stdout",
          "text": [
            "Epoch 246/300 | Train Loss: 1.2656, Approx Train Acc: 68.26% | Val Acc: 94.36%\n"
          ]
        },
        {
          "output_type": "stream",
          "name": "stderr",
          "text": []
        },
        {
          "output_type": "stream",
          "name": "stdout",
          "text": [
            "Epoch 247/300 | Train Loss: 1.2701, Approx Train Acc: 68.13% | Val Acc: 94.50%\n"
          ]
        },
        {
          "output_type": "stream",
          "name": "stderr",
          "text": []
        },
        {
          "output_type": "stream",
          "name": "stdout",
          "text": [
            "Epoch 248/300 | Train Loss: 1.2503, Approx Train Acc: 68.85% | Val Acc: 94.92%\n",
            "   [*] Saved new best model: Val Acc = 94.92%\n"
          ]
        },
        {
          "output_type": "stream",
          "name": "stderr",
          "text": []
        },
        {
          "output_type": "stream",
          "name": "stdout",
          "text": [
            "Epoch 249/300 | Train Loss: 1.2592, Approx Train Acc: 68.41% | Val Acc: 95.14%\n",
            "   [*] Saved new best model: Val Acc = 95.14%\n"
          ]
        },
        {
          "output_type": "stream",
          "name": "stderr",
          "text": []
        },
        {
          "output_type": "stream",
          "name": "stdout",
          "text": [
            "Epoch 250/300 | Train Loss: 1.2753, Approx Train Acc: 67.47% | Val Acc: 94.84%\n"
          ]
        },
        {
          "output_type": "stream",
          "name": "stderr",
          "text": []
        },
        {
          "output_type": "stream",
          "name": "stdout",
          "text": [
            "Epoch 251/300 | Train Loss: 1.2432, Approx Train Acc: 69.54% | Val Acc: 95.16%\n",
            "   [*] Saved new best model: Val Acc = 95.16%\n"
          ]
        },
        {
          "output_type": "stream",
          "name": "stderr",
          "text": []
        },
        {
          "output_type": "stream",
          "name": "stdout",
          "text": [
            "Epoch 252/300 | Train Loss: 1.2811, Approx Train Acc: 66.91% | Val Acc: 94.71%\n"
          ]
        },
        {
          "output_type": "stream",
          "name": "stderr",
          "text": []
        },
        {
          "output_type": "stream",
          "name": "stdout",
          "text": [
            "Epoch 253/300 | Train Loss: 1.2610, Approx Train Acc: 68.36% | Val Acc: 94.52%\n"
          ]
        },
        {
          "output_type": "stream",
          "name": "stderr",
          "text": []
        },
        {
          "output_type": "stream",
          "name": "stdout",
          "text": [
            "Epoch 254/300 | Train Loss: 1.2255, Approx Train Acc: 70.45% | Val Acc: 95.33%\n",
            "   [*] Saved new best model: Val Acc = 95.33%\n"
          ]
        },
        {
          "output_type": "stream",
          "name": "stderr",
          "text": []
        },
        {
          "output_type": "stream",
          "name": "stdout",
          "text": [
            "Epoch 255/300 | Train Loss: 1.2564, Approx Train Acc: 68.38% | Val Acc: 94.75%\n"
          ]
        },
        {
          "output_type": "stream",
          "name": "stderr",
          "text": []
        },
        {
          "output_type": "stream",
          "name": "stdout",
          "text": [
            "Epoch 256/300 | Train Loss: 1.2665, Approx Train Acc: 67.65% | Val Acc: 95.36%\n",
            "   [*] Saved new best model: Val Acc = 95.36%\n"
          ]
        },
        {
          "output_type": "stream",
          "name": "stderr",
          "text": []
        },
        {
          "output_type": "stream",
          "name": "stdout",
          "text": [
            "Epoch 257/300 | Train Loss: 1.2355, Approx Train Acc: 69.25% | Val Acc: 95.33%\n"
          ]
        },
        {
          "output_type": "stream",
          "name": "stderr",
          "text": []
        },
        {
          "output_type": "stream",
          "name": "stdout",
          "text": [
            "Epoch 258/300 | Train Loss: 1.2322, Approx Train Acc: 69.55% | Val Acc: 95.32%\n"
          ]
        },
        {
          "output_type": "stream",
          "name": "stderr",
          "text": []
        },
        {
          "output_type": "stream",
          "name": "stdout",
          "text": [
            "Epoch 259/300 | Train Loss: 1.2533, Approx Train Acc: 68.08% | Val Acc: 95.32%\n"
          ]
        },
        {
          "output_type": "stream",
          "name": "stderr",
          "text": []
        },
        {
          "output_type": "stream",
          "name": "stdout",
          "text": [
            "Epoch 260/300 | Train Loss: 1.2369, Approx Train Acc: 69.30% | Val Acc: 95.61%\n",
            "   [*] Saved new best model: Val Acc = 95.61%\n"
          ]
        },
        {
          "output_type": "stream",
          "name": "stderr",
          "text": []
        },
        {
          "output_type": "stream",
          "name": "stdout",
          "text": [
            "Epoch 261/300 | Train Loss: 1.2158, Approx Train Acc: 69.96% | Val Acc: 95.52%\n"
          ]
        },
        {
          "output_type": "stream",
          "name": "stderr",
          "text": []
        },
        {
          "output_type": "stream",
          "name": "stdout",
          "text": [
            "Epoch 262/300 | Train Loss: 1.2282, Approx Train Acc: 69.45% | Val Acc: 95.51%\n"
          ]
        },
        {
          "output_type": "stream",
          "name": "stderr",
          "text": []
        },
        {
          "output_type": "stream",
          "name": "stdout",
          "text": [
            "Epoch 263/300 | Train Loss: 1.2177, Approx Train Acc: 70.05% | Val Acc: 95.79%\n",
            "   [*] Saved new best model: Val Acc = 95.79%\n"
          ]
        },
        {
          "output_type": "stream",
          "name": "stderr",
          "text": []
        },
        {
          "output_type": "stream",
          "name": "stdout",
          "text": [
            "Epoch 264/300 | Train Loss: 1.2276, Approx Train Acc: 69.54% | Val Acc: 95.55%\n"
          ]
        },
        {
          "output_type": "stream",
          "name": "stderr",
          "text": []
        },
        {
          "output_type": "stream",
          "name": "stdout",
          "text": [
            "Epoch 265/300 | Train Loss: 1.2423, Approx Train Acc: 68.73% | Val Acc: 95.67%\n"
          ]
        },
        {
          "output_type": "stream",
          "name": "stderr",
          "text": []
        },
        {
          "output_type": "stream",
          "name": "stdout",
          "text": [
            "Epoch 266/300 | Train Loss: 1.2323, Approx Train Acc: 69.04% | Val Acc: 95.40%\n"
          ]
        },
        {
          "output_type": "stream",
          "name": "stderr",
          "text": []
        },
        {
          "output_type": "stream",
          "name": "stdout",
          "text": [
            "Epoch 267/300 | Train Loss: 1.2368, Approx Train Acc: 68.89% | Val Acc: 95.77%\n"
          ]
        },
        {
          "output_type": "stream",
          "name": "stderr",
          "text": []
        },
        {
          "output_type": "stream",
          "name": "stdout",
          "text": [
            "Epoch 268/300 | Train Loss: 1.1993, Approx Train Acc: 70.78% | Val Acc: 95.72%\n"
          ]
        },
        {
          "output_type": "stream",
          "name": "stderr",
          "text": []
        },
        {
          "output_type": "stream",
          "name": "stdout",
          "text": [
            "Epoch 269/300 | Train Loss: 1.2155, Approx Train Acc: 70.01% | Val Acc: 95.98%\n",
            "   [*] Saved new best model: Val Acc = 95.98%\n"
          ]
        },
        {
          "output_type": "stream",
          "name": "stderr",
          "text": []
        },
        {
          "output_type": "stream",
          "name": "stdout",
          "text": [
            "Epoch 270/300 | Train Loss: 1.1917, Approx Train Acc: 71.22% | Val Acc: 95.95%\n"
          ]
        },
        {
          "output_type": "stream",
          "name": "stderr",
          "text": []
        },
        {
          "output_type": "stream",
          "name": "stdout",
          "text": [
            "Epoch 271/300 | Train Loss: 1.1734, Approx Train Acc: 71.73% | Val Acc: 96.12%\n",
            "   [*] Saved new best model: Val Acc = 96.12%\n"
          ]
        },
        {
          "output_type": "stream",
          "name": "stderr",
          "text": []
        },
        {
          "output_type": "stream",
          "name": "stdout",
          "text": [
            "Epoch 272/300 | Train Loss: 1.1846, Approx Train Acc: 71.53% | Val Acc: 96.08%\n"
          ]
        },
        {
          "output_type": "stream",
          "name": "stderr",
          "text": []
        },
        {
          "output_type": "stream",
          "name": "stdout",
          "text": [
            "Epoch 273/300 | Train Loss: 1.1971, Approx Train Acc: 70.61% | Val Acc: 96.12%\n"
          ]
        },
        {
          "output_type": "stream",
          "name": "stderr",
          "text": []
        },
        {
          "output_type": "stream",
          "name": "stdout",
          "text": [
            "Epoch 274/300 | Train Loss: 1.2049, Approx Train Acc: 70.46% | Val Acc: 96.38%\n",
            "   [*] Saved new best model: Val Acc = 96.38%\n"
          ]
        },
        {
          "output_type": "stream",
          "name": "stderr",
          "text": []
        },
        {
          "output_type": "stream",
          "name": "stdout",
          "text": [
            "Epoch 275/300 | Train Loss: 1.1893, Approx Train Acc: 71.16% | Val Acc: 95.80%\n"
          ]
        },
        {
          "output_type": "stream",
          "name": "stderr",
          "text": []
        },
        {
          "output_type": "stream",
          "name": "stdout",
          "text": [
            "Epoch 276/300 | Train Loss: 1.2080, Approx Train Acc: 70.11% | Val Acc: 96.43%\n",
            "   [*] Saved new best model: Val Acc = 96.43%\n"
          ]
        },
        {
          "output_type": "stream",
          "name": "stderr",
          "text": []
        },
        {
          "output_type": "stream",
          "name": "stdout",
          "text": [
            "Epoch 277/300 | Train Loss: 1.1900, Approx Train Acc: 70.95% | Val Acc: 96.36%\n"
          ]
        },
        {
          "output_type": "stream",
          "name": "stderr",
          "text": []
        },
        {
          "output_type": "stream",
          "name": "stdout",
          "text": [
            "Epoch 278/300 | Train Loss: 1.2022, Approx Train Acc: 70.01% | Val Acc: 96.50%\n",
            "   [*] Saved new best model: Val Acc = 96.50%\n"
          ]
        },
        {
          "output_type": "stream",
          "name": "stderr",
          "text": []
        },
        {
          "output_type": "stream",
          "name": "stdout",
          "text": [
            "Epoch 279/300 | Train Loss: 1.2024, Approx Train Acc: 70.50% | Val Acc: 96.54%\n",
            "   [*] Saved new best model: Val Acc = 96.54%\n"
          ]
        },
        {
          "output_type": "stream",
          "name": "stderr",
          "text": []
        },
        {
          "output_type": "stream",
          "name": "stdout",
          "text": [
            "Epoch 280/300 | Train Loss: 1.1861, Approx Train Acc: 71.41% | Val Acc: 96.48%\n"
          ]
        },
        {
          "output_type": "stream",
          "name": "stderr",
          "text": []
        },
        {
          "output_type": "stream",
          "name": "stdout",
          "text": [
            "Epoch 281/300 | Train Loss: 1.1955, Approx Train Acc: 70.46% | Val Acc: 96.57%\n",
            "   [*] Saved new best model: Val Acc = 96.57%\n"
          ]
        },
        {
          "output_type": "stream",
          "name": "stderr",
          "text": []
        },
        {
          "output_type": "stream",
          "name": "stdout",
          "text": [
            "Epoch 282/300 | Train Loss: 1.1748, Approx Train Acc: 71.65% | Val Acc: 96.45%\n"
          ]
        },
        {
          "output_type": "stream",
          "name": "stderr",
          "text": []
        },
        {
          "output_type": "stream",
          "name": "stdout",
          "text": [
            "Epoch 283/300 | Train Loss: 1.1648, Approx Train Acc: 71.91% | Val Acc: 96.55%\n"
          ]
        },
        {
          "output_type": "stream",
          "name": "stderr",
          "text": []
        },
        {
          "output_type": "stream",
          "name": "stdout",
          "text": [
            "Epoch 284/300 | Train Loss: 1.1972, Approx Train Acc: 70.17% | Val Acc: 96.49%\n"
          ]
        },
        {
          "output_type": "stream",
          "name": "stderr",
          "text": []
        },
        {
          "output_type": "stream",
          "name": "stdout",
          "text": [
            "Epoch 285/300 | Train Loss: 1.1764, Approx Train Acc: 71.10% | Val Acc: 96.50%\n"
          ]
        },
        {
          "output_type": "stream",
          "name": "stderr",
          "text": []
        },
        {
          "output_type": "stream",
          "name": "stdout",
          "text": [
            "Epoch 286/300 | Train Loss: 1.1649, Approx Train Acc: 72.06% | Val Acc: 96.75%\n",
            "   [*] Saved new best model: Val Acc = 96.75%\n"
          ]
        },
        {
          "output_type": "stream",
          "name": "stderr",
          "text": []
        },
        {
          "output_type": "stream",
          "name": "stdout",
          "text": [
            "Epoch 287/300 | Train Loss: 1.1834, Approx Train Acc: 71.03% | Val Acc: 96.56%\n"
          ]
        },
        {
          "output_type": "stream",
          "name": "stderr",
          "text": []
        },
        {
          "output_type": "stream",
          "name": "stdout",
          "text": [
            "Epoch 288/300 | Train Loss: 1.1755, Approx Train Acc: 71.21% | Val Acc: 96.67%\n"
          ]
        },
        {
          "output_type": "stream",
          "name": "stderr",
          "text": []
        },
        {
          "output_type": "stream",
          "name": "stdout",
          "text": [
            "Epoch 289/300 | Train Loss: 1.1702, Approx Train Acc: 71.29% | Val Acc: 96.73%\n"
          ]
        },
        {
          "output_type": "stream",
          "name": "stderr",
          "text": []
        },
        {
          "output_type": "stream",
          "name": "stdout",
          "text": [
            "Epoch 290/300 | Train Loss: 1.1517, Approx Train Acc: 72.29% | Val Acc: 96.79%\n",
            "   [*] Saved new best model: Val Acc = 96.79%\n"
          ]
        },
        {
          "output_type": "stream",
          "name": "stderr",
          "text": []
        },
        {
          "output_type": "stream",
          "name": "stdout",
          "text": [
            "Epoch 291/300 | Train Loss: 1.1842, Approx Train Acc: 70.61% | Val Acc: 96.78%\n"
          ]
        },
        {
          "output_type": "stream",
          "name": "stderr",
          "text": []
        },
        {
          "output_type": "stream",
          "name": "stdout",
          "text": [
            "Epoch 292/300 | Train Loss: 1.1582, Approx Train Acc: 72.14% | Val Acc: 96.93%\n",
            "   [*] Saved new best model: Val Acc = 96.93%\n"
          ]
        },
        {
          "output_type": "stream",
          "name": "stderr",
          "text": []
        },
        {
          "output_type": "stream",
          "name": "stdout",
          "text": [
            "Epoch 293/300 | Train Loss: 1.1956, Approx Train Acc: 69.93% | Val Acc: 96.80%\n"
          ]
        },
        {
          "output_type": "stream",
          "name": "stderr",
          "text": []
        },
        {
          "output_type": "stream",
          "name": "stdout",
          "text": [
            "Epoch 294/300 | Train Loss: 1.1717, Approx Train Acc: 71.25% | Val Acc: 96.86%\n"
          ]
        },
        {
          "output_type": "stream",
          "name": "stderr",
          "text": []
        },
        {
          "output_type": "stream",
          "name": "stdout",
          "text": [
            "Epoch 295/300 | Train Loss: 1.1912, Approx Train Acc: 70.39% | Val Acc: 96.84%\n"
          ]
        },
        {
          "output_type": "stream",
          "name": "stderr",
          "text": []
        },
        {
          "output_type": "stream",
          "name": "stdout",
          "text": [
            "Epoch 296/300 | Train Loss: 1.1488, Approx Train Acc: 72.80% | Val Acc: 96.82%\n"
          ]
        },
        {
          "output_type": "stream",
          "name": "stderr",
          "text": []
        },
        {
          "output_type": "stream",
          "name": "stdout",
          "text": [
            "Epoch 297/300 | Train Loss: 1.1769, Approx Train Acc: 70.97% | Val Acc: 96.83%\n"
          ]
        },
        {
          "output_type": "stream",
          "name": "stderr",
          "text": []
        },
        {
          "output_type": "stream",
          "name": "stdout",
          "text": [
            "Epoch 298/300 | Train Loss: 1.1854, Approx Train Acc: 70.24% | Val Acc: 96.82%\n"
          ]
        },
        {
          "output_type": "stream",
          "name": "stderr",
          "text": []
        },
        {
          "output_type": "stream",
          "name": "stdout",
          "text": [
            "Epoch 299/300 | Train Loss: 1.1531, Approx Train Acc: 72.25% | Val Acc: 96.87%\n"
          ]
        },
        {
          "output_type": "stream",
          "name": "stderr",
          "text": []
        },
        {
          "output_type": "stream",
          "name": "stdout",
          "text": [
            "Epoch 300/300 | Train Loss: 1.1613, Approx Train Acc: 71.88% | Val Acc: 96.86%\n",
            "Training complete. Best validation accuracy: 96.93%\n",
            "Best model saved as best_model.pth\n"
          ]
        }
      ]
    },
    {
      "cell_type": "code",
      "source": [
        "import torch\n",
        "import torchvision.transforms as transforms\n",
        "from PIL import Image\n",
        "import pandas as pd\n",
        "import pickle\n",
        "import numpy as np\n",
        "from torch.utils.data import DataLoader, Dataset\n",
        "import torch.nn.functional as F\n",
        "\n",
        "# Load your RobustResNet64 model here or define it\n",
        "# from model import RobustResNet64\n",
        "\n",
        "def unpickle(file):\n",
        "    with open(file, 'rb') as fo:\n",
        "        data_dict = pickle.load(fo, encoding='bytes')\n",
        "    return data_dict\n",
        "\n",
        "class CIFARTestDataset(Dataset):\n",
        "    def __init__(self, data, ids, transform_augmentations=None):\n",
        "        self.data = data\n",
        "        self.ids = ids\n",
        "        self.transform_augmentations = transform_augmentations\n",
        "\n",
        "    def __len__(self):\n",
        "        return len(self.data)\n",
        "\n",
        "    def __getitem__(self, idx):\n",
        "        img = self.data[idx].astype(\"uint8\")\n",
        "        img = Image.fromarray(img)  # Convert to PIL Image\n",
        "        img_id = self.ids[idx]\n",
        "\n",
        "        all_crops = []\n",
        "        for transform in self.transform_augmentations:\n",
        "            augmented_img = transform(img)\n",
        "            crops = transforms.TenCrop(32)(augmented_img)\n",
        "            all_crops.extend(crops)\n",
        "\n",
        "        # Convert crops to tensors and normalize\n",
        "        tensor_crops = []\n",
        "        for crop in all_crops:\n",
        "            tensor = transforms.ToTensor()(crop)\n",
        "            tensor = transforms.Normalize((0.4914, 0.4822, 0.4465),\n",
        "                                         (0.2470, 0.2435, 0.2616))(tensor)\n",
        "            tensor_crops.append(tensor)\n",
        "\n",
        "        tensor_crops = torch.stack(tensor_crops)\n",
        "        return tensor_crops, img_id\n",
        "\n",
        "def inference():\n",
        "    device = 'cuda' if torch.cuda.is_available() else 'cpu'\n",
        "    print(f\"Using device: {device}\")\n",
        "\n",
        "    # Load model\n",
        "    model = RobustResNet64(num_blocks=10, base_channels=32, num_classes=10, drop_prob=0.1).to(device)\n",
        "    model.load_state_dict(torch.load(\"best_model.pth\", map_location=device))\n",
        "    model.eval()\n",
        "\n",
        "    # Load test data\n",
        "    test_file = \"/content/cifar_test_nolabel.pkl\"\n",
        "    test_dict = unpickle(test_file)\n",
        "    test_images = test_dict[b'data'].reshape(-1, 32, 32, 3)\n",
        "    test_ids = [str(i) for i in range(len(test_images))]\n",
        "\n",
        "    # Define multiple augmentation pipelines\n",
        "    augmentation_transforms = [\n",
        "        transforms.Compose([\n",
        "            transforms.Pad(4),\n",
        "        ]),\n",
        "        transforms.Compose([\n",
        "            transforms.Pad(4),\n",
        "            transforms.RandomHorizontalFlip(p=1.0),\n",
        "        ]),\n",
        "        transforms.Compose([\n",
        "            transforms.Pad(4),\n",
        "            transforms.ColorJitter(brightness=0.2, contrast=0.2, saturation=0.2),\n",
        "        ]),\n",
        "        transforms.Compose([\n",
        "            transforms.Pad(4),\n",
        "            transforms.RandomRotation(10),\n",
        "        ]),\n",
        "        transforms.Compose([\n",
        "            transforms.Pad(4),\n",
        "            transforms.RandomRotation(350),\n",
        "        ]),\n",
        "    ]\n",
        "\n",
        "    test_dataset = CIFARTestDataset(test_images, test_ids,\n",
        "                                   transform_augmentations=augmentation_transforms)\n",
        "    test_loader = DataLoader(test_dataset, batch_size=64, shuffle=False, num_workers=4)\n",
        "\n",
        "    predictions = []\n",
        "    image_ids = []\n",
        "    with torch.no_grad():\n",
        "        for imgs, ids in test_loader:\n",
        "            # imgs shape: (B, num_augmentations*10, C, H, W)\n",
        "            bs, num_crops, C, H, W = imgs.size()\n",
        "            imgs = imgs.view(-1, C, H, W).to(device)\n",
        "\n",
        "            outputs = model(imgs)\n",
        "            outputs = outputs.view(bs, num_crops, -1)\n",
        "            avg_outputs = outputs.mean(dim=1)\n",
        "            probs = F.softmax(avg_outputs, dim=1)\n",
        "            _, predicted = torch.max(probs, 1)\n",
        "\n",
        "            predictions.extend(predicted.cpu().numpy().tolist())\n",
        "            image_ids.extend(ids)\n",
        "\n",
        "    submission_df = pd.DataFrame({\"ID\": image_ids, \"Labels\": predictions})\n",
        "    submission_df.to_csv(\"submission.csv\", index=False)\n",
        "    print(\"Submission file saved as submission.csv\")\n",
        "\n",
        "if __name__ == \"__main__\":\n",
        "    inference()"
      ],
      "metadata": {
        "colab": {
          "base_uri": "https://localhost:8080/"
        },
        "id": "7vGfZi6Hflbk",
        "outputId": "1693df4e-fda5-441e-b6c0-669942bb429d"
      },
      "execution_count": 40,
      "outputs": [
        {
          "output_type": "stream",
          "name": "stdout",
          "text": [
            "Using device: cuda\n"
          ]
        },
        {
          "output_type": "stream",
          "name": "stderr",
          "text": [
            "<ipython-input-40-e42665737abd>:55: FutureWarning: You are using `torch.load` with `weights_only=False` (the current default value), which uses the default pickle module implicitly. It is possible to construct malicious pickle data which will execute arbitrary code during unpickling (See https://github.com/pytorch/pytorch/blob/main/SECURITY.md#untrusted-models for more details). In a future release, the default value for `weights_only` will be flipped to `True`. This limits the functions that could be executed during unpickling. Arbitrary objects will no longer be allowed to be loaded via this mode unless they are explicitly allowlisted by the user via `torch.serialization.add_safe_globals`. We recommend you start setting `weights_only=True` for any use case where you don't have full control of the loaded file. Please open an issue on GitHub for any issues related to this experimental feature.\n",
            "  model.load_state_dict(torch.load(\"best_model.pth\", map_location=device))\n",
            "/usr/local/lib/python3.11/dist-packages/torch/utils/data/dataloader.py:617: UserWarning: This DataLoader will create 4 worker processes in total. Our suggested max number of worker in current system is 2, which is smaller than what this DataLoader is going to create. Please be aware that excessive worker creation might get DataLoader running slow or even freeze, lower the worker number to avoid potential slowness/freeze if necessary.\n",
            "  warnings.warn(\n"
          ]
        },
        {
          "output_type": "stream",
          "name": "stdout",
          "text": [
            "Submission file saved as submission.csv\n"
          ]
        }
      ]
    },
    {
      "cell_type": "code",
      "source": [
        "import pandas as pd\n",
        "\n",
        "# Load and inspect submission file\n",
        "submission_df = pd.read_csv(\"submission.csv\")\n",
        "print(submission_df.head())  # Show first few rows\n",
        "print(submission_df[\"Labels\"].value_counts())  # Show label distribution\n"
      ],
      "metadata": {
        "id": "p9KKCKOR1g1Z",
        "colab": {
          "base_uri": "https://localhost:8080/"
        },
        "outputId": "e9931975-1e4a-4d7e-a705-5e085391d5b2"
      },
      "execution_count": 41,
      "outputs": [
        {
          "output_type": "stream",
          "name": "stdout",
          "text": [
            "   ID  Labels\n",
            "0   0       6\n",
            "1   1       1\n",
            "2   2       8\n",
            "3   3       6\n",
            "4   4       9\n",
            "Labels\n",
            "3    1077\n",
            "5    1040\n",
            "1    1035\n",
            "8    1025\n",
            "9    1016\n",
            "7    1016\n",
            "2     993\n",
            "6     958\n",
            "4     939\n",
            "0     901\n",
            "Name: count, dtype: int64\n"
          ]
        }
      ]
    }
  ]
}