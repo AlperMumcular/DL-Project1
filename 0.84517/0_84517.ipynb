{
  "nbformat": 4,
  "nbformat_minor": 0,
  "metadata": {
    "colab": {
      "provenance": [],
      "machine_shape": "hm",
      "gpuType": "T4"
    },
    "kernelspec": {
      "name": "python3",
      "display_name": "Python 3"
    },
    "language_info": {
      "name": "python"
    },
    "accelerator": "GPU"
  },
  "cells": [
    {
      "cell_type": "markdown",
      "source": [
        "This is our best scoring model, which got 0.84517 in public scoring"
      ],
      "metadata": {
        "id": "X1yMB-wEN6Uw"
      }
    },
    {
      "cell_type": "code",
      "source": [
        "# model.py\n",
        "import torch\n",
        "import torch.nn as nn\n",
        "import torch.nn.functional as F\n",
        "import math\n",
        "\n",
        "# ------------------------------------------------------------------------\n",
        "#                       Squeeze-and-Excitation Block\n",
        "# ------------------------------------------------------------------------\n",
        "class SEBlock(nn.Module):\n",
        "    \"\"\"\n",
        "    Squeeze-and-Excitation Block:\n",
        "    - Reduces channel dimensions for global information capture.\n",
        "    - Scales input features based on their importance.\n",
        "    \"\"\"\n",
        "    def __init__(self, channels, reduction=16):\n",
        "        super().__init__()\n",
        "        self.fc1 = nn.Linear(channels, channels // reduction)\n",
        "        self.fc2 = nn.Linear(channels // reduction, channels)\n",
        "\n",
        "    def forward(self, x):\n",
        "        b, c, _, _ = x.size()\n",
        "        # Squeeze: Global average pooling across spatial dimensions\n",
        "        squeeze = x.view(b, c, -1).mean(dim=2)\n",
        "        # Excitation: Fully connected layers with activation\n",
        "        excitation = F.relu(self.fc1(squeeze))\n",
        "        excitation = torch.sigmoid(self.fc2(excitation)).view(b, c, 1, 1)\n",
        "        return x * excitation  # Scale input features\n",
        "\n",
        "\n",
        "# ------------------------------------------------------------------------\n",
        "#                       Stochastic Depth\n",
        "# ------------------------------------------------------------------------\n",
        "class StochasticDepth(nn.Module):\n",
        "    \"\"\"\n",
        "    Stochastic Depth (also known as DropPath):\n",
        "    - Randomly drops residual branches during training for better regularization.\n",
        "    \"\"\"\n",
        "    def __init__(self, p: float = 0.1):\n",
        "        super().__init__()\n",
        "        self.p = p\n",
        "\n",
        "    def forward(self, x, residual):\n",
        "        if not self.training or self.p == 0.0:\n",
        "            return x + residual  # No drop during evaluation\n",
        "        if torch.rand(1).item() < self.p:\n",
        "            return x  # Drop residual branch\n",
        "        else:\n",
        "            return x + residual  # Keep residual branch\n",
        "\n",
        "\n",
        "# ------------------------------------------------------------------------\n",
        "#       Pre-Activation Residual Block with SE + Stochastic Depth\n",
        "# ------------------------------------------------------------------------\n",
        "class PreActBlock(nn.Module):\n",
        "    \"\"\"\n",
        "    Pre-Activation Residual Block:\n",
        "    - Uses BatchNorm and ReLU before convolution layers.\n",
        "    - Incorporates SE and Stochastic Depth for enhanced performance.\n",
        "    \"\"\"\n",
        "    def __init__(self, in_planes, out_planes, stride=1, drop_prob=0.0):\n",
        "        super().__init__()\n",
        "        self.bn1 = nn.BatchNorm2d(in_planes)\n",
        "        self.se = SEBlock(in_planes)\n",
        "        self.conv1 = nn.Conv2d(in_planes, out_planes, kernel_size=3,\n",
        "                               stride=stride, padding=1, bias=False)\n",
        "        self.bn2 = nn.BatchNorm2d(out_planes)\n",
        "        self.conv2 = nn.Conv2d(out_planes, out_planes, kernel_size=3,\n",
        "                               stride=1, padding=1, bias=False)\n",
        "\n",
        "        # Handle shortcut connections for downsampling\n",
        "        self.shortcut = None\n",
        "        if stride != 1 or in_planes != out_planes:\n",
        "            self.shortcut = nn.Conv2d(in_planes, out_planes, kernel_size=1,\n",
        "                                      stride=stride, padding=0, bias=False)\n",
        "\n",
        "        self.sd = StochasticDepth(p=drop_prob)  # Stochastic Depth probability\n",
        "\n",
        "    def forward(self, x):\n",
        "        out = F.relu(self.bn1(x))\n",
        "        out = self.se(out)  # Apply SE block\n",
        "        shortcut = x if self.shortcut is None else self.shortcut(out)\n",
        "        out = self.conv1(out)\n",
        "        out = F.relu(self.bn2(out))\n",
        "        out = self.conv2(out)\n",
        "        return self.sd(shortcut, out)  # Apply Stochastic Depth\n",
        "\n",
        "\n",
        "# ------------------------------------------------------------------------\n",
        "#       LightResNet-18 for CIFAR-10 (Initial Channels=32)\n",
        "# ------------------------------------------------------------------------\n",
        "class LightResNet18(nn.Module):\n",
        "    \"\"\"\n",
        "    A lightweight ResNet-18 architecture designed for CIFAR-10:\n",
        "    - Uses 32 initial channels instead of 64 for reduced parameters.\n",
        "    - Incorporates SE and Stochastic Depth for improved generalization.\n",
        "    \"\"\"\n",
        "    def __init__(self, num_classes=10, drop_prob=0.1):\n",
        "        super().__init__()\n",
        "        self.in_planes = 32\n",
        "        self.conv1 = nn.Conv2d(3, 32, kernel_size=3, stride=1,\n",
        "                               padding=1, bias=False)\n",
        "\n",
        "        # Create layers with increasing channels and dropout probability\n",
        "        self.layer1 = self._make_layer(32, 2, stride=1, base_p=drop_prob*1/4)\n",
        "        self.layer2 = self._make_layer(64, 2, stride=2, base_p=drop_prob*2/4)\n",
        "        self.layer3 = self._make_layer(128, 2, stride=2, base_p=drop_prob*3/4)\n",
        "        self.layer4 = self._make_layer(256, 2, stride=2, base_p=drop_prob*4/4)\n",
        "\n",
        "        self.bn = nn.BatchNorm2d(256)\n",
        "        self.linear = nn.Linear(256, num_classes)\n",
        "\n",
        "        # Weight Initialization for Convolution, BatchNorm, and Linear layers\n",
        "        for m in self.modules():\n",
        "            if isinstance(m, nn.Conv2d):\n",
        "                nn.init.kaiming_normal_(m.weight, mode='fan_out')\n",
        "            elif isinstance(m, nn.BatchNorm2d):\n",
        "                nn.init.constant_(m.weight, 1)\n",
        "                nn.init.constant_(m.bias, 0)\n",
        "            elif isinstance(m, nn.Linear):\n",
        "                nn.init.normal_(m.weight, 0, 0.01)\n",
        "                nn.init.constant_(m.bias, 0)\n",
        "\n",
        "    def _make_layer(self, out_planes, blocks, stride, base_p):\n",
        "        \"\"\"Creates a series of PreActBlocks with increasing dropout probability.\"\"\"\n",
        "        strides = [stride] + [1]*(blocks-1)\n",
        "        layers = []\n",
        "        for i in range(blocks):\n",
        "            block_p = base_p * (i+1)/blocks  # Gradually increase drop probability\n",
        "            layers.append(PreActBlock(self.in_planes, out_planes,\n",
        "                                      stride=strides[i],\n",
        "                                      drop_prob=block_p))\n",
        "            self.in_planes = out_planes  # Update channel size\n",
        "        return nn.Sequential(*layers)\n",
        "\n",
        "    def forward(self, x):\n",
        "        out = self.conv1(x)\n",
        "        out = self.layer1(out)\n",
        "        out = self.layer2(out)\n",
        "        out = self.layer3(out)\n",
        "        out = self.layer4(out)\n",
        "        out = F.relu(self.bn(out))\n",
        "        out = F.adaptive_avg_pool2d(out, 1).view(out.size(0), -1)\n",
        "        out = self.linear(out)\n",
        "        return out\n",
        "\n",
        "\n",
        "# Quick parameter check for debugging\n",
        "if __name__ == \"__main__\":\n",
        "    model = LightResNet18(num_classes=10, drop_prob=0.1)\n",
        "    x = torch.randn(2, 3, 32, 32)\n",
        "    y = model(x)\n",
        "    print(\"Output shape:\", y.shape)\n",
        "    total_params = sum(p.numel() for p in model.parameters() if p.requires_grad)\n",
        "    print(f\"Total trainable parameters: {total_params:,} (~{total_params/1e6:.2f}M)\")"
      ],
      "metadata": {
        "colab": {
          "base_uri": "https://localhost:8080/"
        },
        "id": "X70034zUlMmV",
        "outputId": "c2edeb03-2591-49ba-fab6-187bee5a50f1"
      },
      "execution_count": null,
      "outputs": [
        {
          "output_type": "stream",
          "name": "stdout",
          "text": [
            "Output shape: torch.Size([2, 10])\n",
            "Total trainable parameters: 2,811,192 (~2.81M)\n"
          ]
        }
      ]
    },
    {
      "cell_type": "code",
      "source": [
        "# train.py\n",
        "import torch\n",
        "import torch.nn as nn\n",
        "import torch.optim as optim\n",
        "import torchvision.transforms as transforms\n",
        "import numpy as np\n",
        "import pickle\n",
        "from torch.utils.data import DataLoader, Dataset\n",
        "from PIL import Image\n",
        "#from model import LightResNet18  # Assuming this model is defined elsewhere\n",
        "from tqdm import tqdm  # For progress bars\n",
        "\n",
        "# Helper function for CutMix to generate random bounding box coordinates\n",
        "def rand_bbox(size, lam):\n",
        "    \"\"\"Generate random bounding box coordinates for CutMix augmentation.\n",
        "    Args:\n",
        "        size: Tensor size [batch_size, channels, height, width]\n",
        "        lam: Lambda value from beta distribution\n",
        "    Returns:\n",
        "        Tuple of (bbx1, bby1, bbx2, bby2) coordinates\n",
        "    \"\"\"\n",
        "    W = size[3]\n",
        "    H = size[2]\n",
        "    cut_rat = np.sqrt(1. - lam)  # Calculate cut ratio\n",
        "    cut_w = int(W * cut_rat)\n",
        "    cut_h = int(H * cut_rat)\n",
        "\n",
        "    # Center coordinates\n",
        "    cx = np.random.randint(W)\n",
        "    cy = np.random.randint(H)\n",
        "\n",
        "    # Bounding box coordinates with clipping to stay within image dimensions\n",
        "    bbx1 = np.clip(cx - cut_w // 2, 0, W)\n",
        "    bby1 = np.clip(cy - cut_h // 2, 0, H)\n",
        "    bbx2 = np.clip(cx + cut_w // 2, 0, W)\n",
        "    bby2 = np.clip(cy + cut_h // 2, 0, H)\n",
        "    return bbx1, bby1, bbx2, bby2\n",
        "\n",
        "def mixup_data(x, y, alpha=1.0):\n",
        "    \"\"\"Applies MixUp augmentation to a batch of data.\n",
        "    Args:\n",
        "        x: Input images tensor\n",
        "        y: Target labels tensor\n",
        "        alpha: Parameter for beta distribution\n",
        "    Returns:\n",
        "        Mixed images, labels_a, labels_b, and lambda value\n",
        "    \"\"\"\n",
        "    lam = np.random.beta(alpha, alpha)\n",
        "    batch_size = x.size(0)\n",
        "    index = torch.randperm(batch_size)  # Random permutation of indices\n",
        "    mixed_x = lam * x + (1 - lam) * x[index, :]  # Linear combination of images\n",
        "    y_a, y_b = y, y[index]  # Original and permuted labels\n",
        "    return mixed_x, y_a, y_b, lam\n",
        "\n",
        "def cutmix_data(x, y, alpha=1.0):\n",
        "    \"\"\"Applies CutMix augmentation to a batch of data.\n",
        "    Args:\n",
        "        x: Input images tensor\n",
        "        y: Target labels tensor\n",
        "        alpha: Parameter for beta distribution\n",
        "    Returns:\n",
        "        Modified images, labels_a, labels_b, and adjusted lambda\n",
        "    \"\"\"\n",
        "    lam = np.random.beta(alpha, alpha)\n",
        "    batch_size = x.size(0)\n",
        "    index = torch.randperm(batch_size)\n",
        "\n",
        "    # Generate random bounding box coordinates\n",
        "    bbx1, bby1, bbx2, bby2 = rand_bbox(x.size(), lam)\n",
        "\n",
        "    # Replace selected region with another image's region\n",
        "    x[:, :, bby1:bby2, bbx1:bbx2] = x[index, :, bby1:bby2, bbx1:bbx2]\n",
        "\n",
        "    # Adjust lambda based on the area of the cut region\n",
        "    lam = 1 - ((bbx2 - bbx1) * (bby2 - bby1) / (x.size(-1) * x.size(-2)))\n",
        "    y_a, y_b = y, y[index]\n",
        "    return x, y_a, y_b, lam\n",
        "\n",
        "def mixup_cutmix_collate(batch, alpha=1.0, p=0.5):\n",
        "    \"\"\"Custom collate function that randomly applies MixUp or CutMix.\n",
        "    Args:\n",
        "        batch: Input batch from DataLoader\n",
        "        alpha: Beta distribution parameter\n",
        "        p: Probability of choosing MixUp vs CutMix\n",
        "    Returns:\n",
        "        Augmented batch with modified labels\n",
        "    \"\"\"\n",
        "    # Unpack the batch\n",
        "    images, labels = list(zip(*batch))\n",
        "    images = torch.stack(images, 0)\n",
        "    labels = torch.tensor(labels, dtype=torch.long)\n",
        "\n",
        "    # Randomly select between MixUp and CutMix\n",
        "    if np.random.rand() < p:\n",
        "        return mixup_data(images, labels, alpha) + ('mixup',)\n",
        "    else:\n",
        "        return cutmix_data(images, labels, alpha) + ('cutmix',)\n",
        "\n",
        "def unpickle(file):\n",
        "    \"\"\"Load CIFAR-10 data from pickle file.\"\"\"\n",
        "    with open(file, 'rb') as fo:\n",
        "        data_dict = pickle.load(fo, encoding='bytes')\n",
        "    return data_dict\n",
        "\n",
        "class CIFARDataset(Dataset):\n",
        "    \"\"\"Custom Dataset class for CIFAR-10 with optional transformations.\"\"\"\n",
        "    def __init__(self, data, labels, transform=None):\n",
        "        self.data = data.reshape(-1, 3, 32, 32).astype(\"float32\") / 255.0\n",
        "        self.labels = labels\n",
        "        self.transform = transform\n",
        "\n",
        "    def __len__(self):\n",
        "        return len(self.data)\n",
        "\n",
        "    def __getitem__(self, idx):\n",
        "        # Convert numpy array to PIL Image\n",
        "        img = self.data[idx]*255\n",
        "        img = img.astype(\"uint8\")\n",
        "        img = Image.fromarray(img.transpose(1,2,0))  # Change to HWC format\n",
        "        label = self.labels[idx]\n",
        "\n",
        "        if self.transform:\n",
        "            img = self.transform(img)\n",
        "        return img, label\n",
        "\n",
        "def load_cifar10_batches(root_dir):\n",
        "    \"\"\"Load and concatenate all CIFAR-10 training batches.\"\"\"\n",
        "    data_list, labels_list = [], []\n",
        "    for i in range(1, 6):  # Load all 5 training batches\n",
        "        batch_file = f\"{root_dir}/data_batch_{i}\"\n",
        "        batch = unpickle(batch_file)\n",
        "        data_list.append(batch[b'data'])\n",
        "        labels_list.extend(batch[b'labels'])\n",
        "    X = np.concatenate(data_list, axis=0)\n",
        "    y = np.array(labels_list)\n",
        "    return X, y\n",
        "\n",
        "def train():\n",
        "    # Device configuration\n",
        "    device = 'cuda' if torch.cuda.is_available() else 'cpu'\n",
        "    print(f\"Using device: {device}\")\n",
        "\n",
        "    # 1) Load and split CIFAR-10 dataset\n",
        "    root_dir = \"/content/cifar-10-python/cifar-10-batches-py\"\n",
        "    X, y = load_cifar10_batches(root_dir)\n",
        "\n",
        "    # Create train/validation split (5000 validation samples)\n",
        "    total_size = len(X)  # 50000 total samples\n",
        "    val_size = 5000\n",
        "    train_size = total_size - val_size\n",
        "    indices = np.arange(total_size)\n",
        "    np.random.shuffle(indices)\n",
        "    train_idx = indices[:train_size]\n",
        "    val_idx   = indices[train_size:]\n",
        "\n",
        "    X_train, y_train = X[train_idx], y[train_idx]\n",
        "    X_val,   y_val   = X[val_idx],   y[val_idx]\n",
        "\n",
        "    # 2) Define data transformations\n",
        "    transform_train = transforms.Compose([\n",
        "        transforms.RandomCrop(32, padding=4),\n",
        "        transforms.RandomHorizontalFlip(),\n",
        "        transforms.RandAugment(),  # Random augmentation policy\n",
        "        transforms.ToTensor(),\n",
        "        transforms.Normalize((0.4914, 0.4822, 0.4465),  # CIFAR-10 mean\n",
        "        (0.2470, 0.2435, 0.2616))   # CIFAR-10 std\n",
        "    ])\n",
        "    transform_val = transforms.Compose([\n",
        "        transforms.ToTensor(),\n",
        "        transforms.Normalize((0.4914, 0.4822, 0.4465),\n",
        "        (0.2470, 0.2435, 0.2616))\n",
        "    ])\n",
        "\n",
        "    # Create datasets\n",
        "    train_dataset = CIFARDataset(X_train, y_train, transform=transform_train)\n",
        "    val_dataset   = CIFARDataset(X_val,   y_val,   transform=transform_val)\n",
        "\n",
        "    # 3) Create data loaders with MixUp/CutMix augmentation\n",
        "    train_loader = DataLoader(\n",
        "        train_dataset, batch_size=128,\n",
        "        shuffle=True, num_workers=4,\n",
        "        collate_fn=lambda b: mixup_cutmix_collate(b, alpha=1.0, p=0.5)\n",
        "    )\n",
        "    val_loader   = DataLoader(val_dataset, batch_size=128, shuffle=False, num_workers=4)\n",
        "\n",
        "    # 4) Initialize model\n",
        "    model = LightResNet18(num_classes=10, drop_prob=0.1).to(device)\n",
        "\n",
        "    # 5) Define loss function, optimizer, and scheduler\n",
        "    base_criterion = nn.CrossEntropyLoss(label_smoothing=0.1)  # Regularization\n",
        "    optimizer = optim.SGD(\n",
        "        model.parameters(),\n",
        "        lr=0.1,\n",
        "        momentum=0.9,\n",
        "        nesterov=True,\n",
        "        weight_decay=5e-4  # L2 regularization\n",
        "    )\n",
        "    scheduler = optim.lr_scheduler.CosineAnnealingLR(optimizer, T_max=300)  # Cosine decay\n",
        "\n",
        "    best_acc = 0.0\n",
        "    num_epochs = 300\n",
        "\n",
        "    # Training loop\n",
        "    for epoch in range(num_epochs):\n",
        "        model.train()\n",
        "        running_loss = 0.0\n",
        "        correct_approx = 0.0\n",
        "        total_approx = 0\n",
        "\n",
        "        # Training phase with progress bar\n",
        "        train_pbar = tqdm(train_loader, desc=f\"Epoch [{epoch+1}/{num_epochs}]\", leave=False)\n",
        "        for images, label_info in train_pbar:\n",
        "            # Unpack MixUp/CutMix information\n",
        "            y_a, y_b, lam, method = label_info\n",
        "            images = images.to(device)\n",
        "            y_a = y_a.to(device)\n",
        "            y_b = y_b.to(device)\n",
        "\n",
        "            # Forward pass\n",
        "            optimizer.zero_grad()\n",
        "            outputs = model(images)\n",
        "\n",
        "            # Compute MixUp/CutMix loss\n",
        "            loss = lam * base_criterion(outputs, y_a) + (1 - lam) * base_criterion(outputs, y_b)\n",
        "\n",
        "            # Backward pass and optimize\n",
        "            loss.backward()\n",
        "            optimizer.step()\n",
        "\n",
        "            # Update statistics\n",
        "            running_loss += loss.item() * images.size(0)\n",
        "            _, preds = torch.max(outputs, 1)\n",
        "            # Calculate approximate accuracy (weighted by lambda)\n",
        "            correct_approx += (preds == y_a).sum().item() * lam + (preds == y_b).sum().item() * (1 - lam)\n",
        "            total_approx += images.size(0)\n",
        "\n",
        "            train_pbar.set_postfix(loss=f\"{loss.item():.3f}\")\n",
        "\n",
        "        # Update learning rate\n",
        "        scheduler.step()\n",
        "\n",
        "        # Calculate epoch metrics\n",
        "        epoch_loss = running_loss / len(train_loader.dataset)\n",
        "        epoch_acc  = 100.0 * correct_approx / total_approx\n",
        "\n",
        "        # Validation phase\n",
        "        model.eval()\n",
        "        val_correct = 0\n",
        "        val_total = 0\n",
        "        with torch.no_grad():\n",
        "            for imgs, labels in val_loader:\n",
        "                imgs, labels = imgs.to(device), labels.to(device)\n",
        "                outputs = model(imgs)\n",
        "                _, pred = torch.max(outputs, 1)\n",
        "                val_correct += (pred == labels).sum().item()\n",
        "                val_total += labels.size(0)\n",
        "        val_acc = 100.0 * val_correct / val_total\n",
        "\n",
        "        # Print epoch summary\n",
        "        print(f\"Epoch {epoch+1}/{num_epochs} | \"\n",
        "              f\"Train Loss: {epoch_loss:.4f}, Approx Train Acc: {epoch_acc:.2f}% | \"\n",
        "              f\"Val Acc: {val_acc:.2f}%\")\n",
        "\n",
        "        # Save best model\n",
        "        if val_acc > best_acc:\n",
        "            best_acc = val_acc\n",
        "            torch.save(model.state_dict(), \"best_model.pth\")\n",
        "            print(f\"   [*] Saved new best model: Val Acc = {val_acc:.2f}%\")\n",
        "\n",
        "    # Final output\n",
        "    print(f\"Training complete. Best validation accuracy: {best_acc:.2f}%\")\n",
        "    print(\"Best model saved as best_model.pth\")\n",
        "\n",
        "if __name__ == \"__main__\":\n",
        "    train()"
      ],
      "metadata": {
        "colab": {
          "base_uri": "https://localhost:8080/"
        },
        "id": "wZcL7rFHlO95",
        "outputId": "aa42fb91-3f58-4f63-8757-1cfecabce543"
      },
      "execution_count": null,
      "outputs": [
        {
          "output_type": "stream",
          "name": "stdout",
          "text": [
            "Using device: cuda\n"
          ]
        },
        {
          "output_type": "stream",
          "name": "stderr",
          "text": []
        },
        {
          "output_type": "stream",
          "name": "stdout",
          "text": [
            "Epoch 1/300 | Train Loss: 2.1250, Approx Train Acc: 23.84% | Val Acc: 39.90%\n",
            "   [*] Saved new best model: Val Acc = 39.90%\n"
          ]
        },
        {
          "output_type": "stream",
          "name": "stderr",
          "text": []
        },
        {
          "output_type": "stream",
          "name": "stdout",
          "text": [
            "Epoch 2/300 | Train Loss: 1.9533, Approx Train Acc: 34.79% | Val Acc: 50.34%\n",
            "   [*] Saved new best model: Val Acc = 50.34%\n"
          ]
        },
        {
          "output_type": "stream",
          "name": "stderr",
          "text": []
        },
        {
          "output_type": "stream",
          "name": "stdout",
          "text": [
            "Epoch 3/300 | Train Loss: 1.8435, Approx Train Acc: 41.25% | Val Acc: 59.78%\n",
            "   [*] Saved new best model: Val Acc = 59.78%\n"
          ]
        },
        {
          "output_type": "stream",
          "name": "stderr",
          "text": []
        },
        {
          "output_type": "stream",
          "name": "stdout",
          "text": [
            "Epoch 4/300 | Train Loss: 1.7906, Approx Train Acc: 44.13% | Val Acc: 67.26%\n",
            "   [*] Saved new best model: Val Acc = 67.26%\n"
          ]
        },
        {
          "output_type": "stream",
          "name": "stderr",
          "text": []
        },
        {
          "output_type": "stream",
          "name": "stdout",
          "text": [
            "Epoch 5/300 | Train Loss: 1.7532, Approx Train Acc: 46.17% | Val Acc: 61.60%\n"
          ]
        },
        {
          "output_type": "stream",
          "name": "stderr",
          "text": []
        },
        {
          "output_type": "stream",
          "name": "stdout",
          "text": [
            "Epoch 6/300 | Train Loss: 1.7188, Approx Train Acc: 48.07% | Val Acc: 70.34%\n",
            "   [*] Saved new best model: Val Acc = 70.34%\n"
          ]
        },
        {
          "output_type": "stream",
          "name": "stderr",
          "text": []
        },
        {
          "output_type": "stream",
          "name": "stdout",
          "text": [
            "Epoch 7/300 | Train Loss: 1.7157, Approx Train Acc: 48.40% | Val Acc: 74.14%\n",
            "   [*] Saved new best model: Val Acc = 74.14%\n"
          ]
        },
        {
          "output_type": "stream",
          "name": "stderr",
          "text": []
        },
        {
          "output_type": "stream",
          "name": "stdout",
          "text": [
            "Epoch 8/300 | Train Loss: 1.6761, Approx Train Acc: 50.28% | Val Acc: 66.10%\n"
          ]
        },
        {
          "output_type": "stream",
          "name": "stderr",
          "text": []
        },
        {
          "output_type": "stream",
          "name": "stdout",
          "text": [
            "Epoch 9/300 | Train Loss: 1.6816, Approx Train Acc: 50.16% | Val Acc: 70.46%\n"
          ]
        },
        {
          "output_type": "stream",
          "name": "stderr",
          "text": []
        },
        {
          "output_type": "stream",
          "name": "stdout",
          "text": [
            "Epoch 10/300 | Train Loss: 1.6709, Approx Train Acc: 50.76% | Val Acc: 75.10%\n",
            "   [*] Saved new best model: Val Acc = 75.10%\n"
          ]
        },
        {
          "output_type": "stream",
          "name": "stderr",
          "text": []
        },
        {
          "output_type": "stream",
          "name": "stdout",
          "text": [
            "Epoch 11/300 | Train Loss: 1.6889, Approx Train Acc: 49.79% | Val Acc: 71.34%\n"
          ]
        },
        {
          "output_type": "stream",
          "name": "stderr",
          "text": []
        },
        {
          "output_type": "stream",
          "name": "stdout",
          "text": [
            "Epoch 12/300 | Train Loss: 1.6689, Approx Train Acc: 50.80% | Val Acc: 74.88%\n"
          ]
        },
        {
          "output_type": "stream",
          "name": "stderr",
          "text": []
        },
        {
          "output_type": "stream",
          "name": "stdout",
          "text": [
            "Epoch 13/300 | Train Loss: 1.6261, Approx Train Acc: 52.91% | Val Acc: 76.36%\n",
            "   [*] Saved new best model: Val Acc = 76.36%\n"
          ]
        },
        {
          "output_type": "stream",
          "name": "stderr",
          "text": []
        },
        {
          "output_type": "stream",
          "name": "stdout",
          "text": [
            "Epoch 14/300 | Train Loss: 1.6341, Approx Train Acc: 52.58% | Val Acc: 75.04%\n"
          ]
        },
        {
          "output_type": "stream",
          "name": "stderr",
          "text": []
        },
        {
          "output_type": "stream",
          "name": "stdout",
          "text": [
            "Epoch 15/300 | Train Loss: 1.6174, Approx Train Acc: 53.46% | Val Acc: 74.06%\n"
          ]
        },
        {
          "output_type": "stream",
          "name": "stderr",
          "text": []
        },
        {
          "output_type": "stream",
          "name": "stdout",
          "text": [
            "Epoch 16/300 | Train Loss: 1.6213, Approx Train Acc: 53.18% | Val Acc: 75.58%\n"
          ]
        },
        {
          "output_type": "stream",
          "name": "stderr",
          "text": []
        },
        {
          "output_type": "stream",
          "name": "stdout",
          "text": [
            "Epoch 17/300 | Train Loss: 1.6176, Approx Train Acc: 53.53% | Val Acc: 77.26%\n",
            "   [*] Saved new best model: Val Acc = 77.26%\n"
          ]
        },
        {
          "output_type": "stream",
          "name": "stderr",
          "text": []
        },
        {
          "output_type": "stream",
          "name": "stdout",
          "text": [
            "Epoch 18/300 | Train Loss: 1.5979, Approx Train Acc: 54.43% | Val Acc: 73.72%\n"
          ]
        },
        {
          "output_type": "stream",
          "name": "stderr",
          "text": []
        },
        {
          "output_type": "stream",
          "name": "stdout",
          "text": [
            "Epoch 19/300 | Train Loss: 1.6278, Approx Train Acc: 53.12% | Val Acc: 70.22%\n"
          ]
        },
        {
          "output_type": "stream",
          "name": "stderr",
          "text": []
        },
        {
          "output_type": "stream",
          "name": "stdout",
          "text": [
            "Epoch 20/300 | Train Loss: 1.6168, Approx Train Acc: 53.40% | Val Acc: 79.38%\n",
            "   [*] Saved new best model: Val Acc = 79.38%\n"
          ]
        },
        {
          "output_type": "stream",
          "name": "stderr",
          "text": []
        },
        {
          "output_type": "stream",
          "name": "stdout",
          "text": [
            "Epoch 21/300 | Train Loss: 1.6257, Approx Train Acc: 52.86% | Val Acc: 78.56%\n"
          ]
        },
        {
          "output_type": "stream",
          "name": "stderr",
          "text": []
        },
        {
          "output_type": "stream",
          "name": "stdout",
          "text": [
            "Epoch 22/300 | Train Loss: 1.6128, Approx Train Acc: 53.86% | Val Acc: 77.60%\n"
          ]
        },
        {
          "output_type": "stream",
          "name": "stderr",
          "text": []
        },
        {
          "output_type": "stream",
          "name": "stdout",
          "text": [
            "Epoch 23/300 | Train Loss: 1.5950, Approx Train Acc: 54.72% | Val Acc: 79.44%\n",
            "   [*] Saved new best model: Val Acc = 79.44%\n"
          ]
        },
        {
          "output_type": "stream",
          "name": "stderr",
          "text": []
        },
        {
          "output_type": "stream",
          "name": "stdout",
          "text": [
            "Epoch 24/300 | Train Loss: 1.5937, Approx Train Acc: 54.80% | Val Acc: 73.38%\n"
          ]
        },
        {
          "output_type": "stream",
          "name": "stderr",
          "text": []
        },
        {
          "output_type": "stream",
          "name": "stdout",
          "text": [
            "Epoch 25/300 | Train Loss: 1.5959, Approx Train Acc: 54.74% | Val Acc: 78.78%\n"
          ]
        },
        {
          "output_type": "stream",
          "name": "stderr",
          "text": []
        },
        {
          "output_type": "stream",
          "name": "stdout",
          "text": [
            "Epoch 26/300 | Train Loss: 1.6017, Approx Train Acc: 54.52% | Val Acc: 78.84%\n"
          ]
        },
        {
          "output_type": "stream",
          "name": "stderr",
          "text": []
        },
        {
          "output_type": "stream",
          "name": "stdout",
          "text": [
            "Epoch 27/300 | Train Loss: 1.5936, Approx Train Acc: 54.81% | Val Acc: 79.00%\n"
          ]
        },
        {
          "output_type": "stream",
          "name": "stderr",
          "text": []
        },
        {
          "output_type": "stream",
          "name": "stdout",
          "text": [
            "Epoch 28/300 | Train Loss: 1.6002, Approx Train Acc: 54.19% | Val Acc: 79.12%\n"
          ]
        },
        {
          "output_type": "stream",
          "name": "stderr",
          "text": []
        },
        {
          "output_type": "stream",
          "name": "stdout",
          "text": [
            "Epoch 29/300 | Train Loss: 1.5800, Approx Train Acc: 55.33% | Val Acc: 72.96%\n"
          ]
        },
        {
          "output_type": "stream",
          "name": "stderr",
          "text": []
        },
        {
          "output_type": "stream",
          "name": "stdout",
          "text": [
            "Epoch 30/300 | Train Loss: 1.5948, Approx Train Acc: 54.73% | Val Acc: 81.16%\n",
            "   [*] Saved new best model: Val Acc = 81.16%\n"
          ]
        },
        {
          "output_type": "stream",
          "name": "stderr",
          "text": []
        },
        {
          "output_type": "stream",
          "name": "stdout",
          "text": [
            "Epoch 31/300 | Train Loss: 1.5784, Approx Train Acc: 55.58% | Val Acc: 76.78%\n"
          ]
        },
        {
          "output_type": "stream",
          "name": "stderr",
          "text": []
        },
        {
          "output_type": "stream",
          "name": "stdout",
          "text": [
            "Epoch 32/300 | Train Loss: 1.5636, Approx Train Acc: 56.27% | Val Acc: 72.84%\n"
          ]
        },
        {
          "output_type": "stream",
          "name": "stderr",
          "text": []
        },
        {
          "output_type": "stream",
          "name": "stdout",
          "text": [
            "Epoch 33/300 | Train Loss: 1.5789, Approx Train Acc: 55.50% | Val Acc: 80.72%\n"
          ]
        },
        {
          "output_type": "stream",
          "name": "stderr",
          "text": []
        },
        {
          "output_type": "stream",
          "name": "stdout",
          "text": [
            "Epoch 34/300 | Train Loss: 1.5895, Approx Train Acc: 54.87% | Val Acc: 74.10%\n"
          ]
        },
        {
          "output_type": "stream",
          "name": "stderr",
          "text": []
        },
        {
          "output_type": "stream",
          "name": "stdout",
          "text": [
            "Epoch 35/300 | Train Loss: 1.6025, Approx Train Acc: 54.37% | Val Acc: 80.94%\n"
          ]
        },
        {
          "output_type": "stream",
          "name": "stderr",
          "text": []
        },
        {
          "output_type": "stream",
          "name": "stdout",
          "text": [
            "Epoch 36/300 | Train Loss: 1.5858, Approx Train Acc: 55.27% | Val Acc: 80.06%\n"
          ]
        },
        {
          "output_type": "stream",
          "name": "stderr",
          "text": []
        },
        {
          "output_type": "stream",
          "name": "stdout",
          "text": [
            "Epoch 37/300 | Train Loss: 1.5835, Approx Train Acc: 55.36% | Val Acc: 75.14%\n"
          ]
        },
        {
          "output_type": "stream",
          "name": "stderr",
          "text": []
        },
        {
          "output_type": "stream",
          "name": "stdout",
          "text": [
            "Epoch 38/300 | Train Loss: 1.5839, Approx Train Acc: 55.06% | Val Acc: 79.96%\n"
          ]
        },
        {
          "output_type": "stream",
          "name": "stderr",
          "text": []
        },
        {
          "output_type": "stream",
          "name": "stdout",
          "text": [
            "Epoch 39/300 | Train Loss: 1.5670, Approx Train Acc: 55.98% | Val Acc: 78.08%\n"
          ]
        },
        {
          "output_type": "stream",
          "name": "stderr",
          "text": []
        },
        {
          "output_type": "stream",
          "name": "stdout",
          "text": [
            "Epoch 40/300 | Train Loss: 1.5866, Approx Train Acc: 55.04% | Val Acc: 80.82%\n"
          ]
        },
        {
          "output_type": "stream",
          "name": "stderr",
          "text": []
        },
        {
          "output_type": "stream",
          "name": "stdout",
          "text": [
            "Epoch 41/300 | Train Loss: 1.5805, Approx Train Acc: 55.26% | Val Acc: 79.56%\n"
          ]
        },
        {
          "output_type": "stream",
          "name": "stderr",
          "text": []
        },
        {
          "output_type": "stream",
          "name": "stdout",
          "text": [
            "Epoch 42/300 | Train Loss: 1.6004, Approx Train Acc: 54.18% | Val Acc: 77.50%\n"
          ]
        },
        {
          "output_type": "stream",
          "name": "stderr",
          "text": []
        },
        {
          "output_type": "stream",
          "name": "stdout",
          "text": [
            "Epoch 43/300 | Train Loss: 1.5672, Approx Train Acc: 56.06% | Val Acc: 79.68%\n"
          ]
        },
        {
          "output_type": "stream",
          "name": "stderr",
          "text": []
        },
        {
          "output_type": "stream",
          "name": "stdout",
          "text": [
            "Epoch 44/300 | Train Loss: 1.5773, Approx Train Acc: 55.50% | Val Acc: 77.60%\n"
          ]
        },
        {
          "output_type": "stream",
          "name": "stderr",
          "text": []
        },
        {
          "output_type": "stream",
          "name": "stdout",
          "text": [
            "Epoch 45/300 | Train Loss: 1.5648, Approx Train Acc: 56.05% | Val Acc: 78.22%\n"
          ]
        },
        {
          "output_type": "stream",
          "name": "stderr",
          "text": []
        },
        {
          "output_type": "stream",
          "name": "stdout",
          "text": [
            "Epoch 46/300 | Train Loss: 1.5721, Approx Train Acc: 55.77% | Val Acc: 81.36%\n",
            "   [*] Saved new best model: Val Acc = 81.36%\n"
          ]
        },
        {
          "output_type": "stream",
          "name": "stderr",
          "text": []
        },
        {
          "output_type": "stream",
          "name": "stdout",
          "text": [
            "Epoch 47/300 | Train Loss: 1.5916, Approx Train Acc: 54.88% | Val Acc: 79.64%\n"
          ]
        },
        {
          "output_type": "stream",
          "name": "stderr",
          "text": []
        },
        {
          "output_type": "stream",
          "name": "stdout",
          "text": [
            "Epoch 48/300 | Train Loss: 1.6080, Approx Train Acc: 53.87% | Val Acc: 78.02%\n"
          ]
        },
        {
          "output_type": "stream",
          "name": "stderr",
          "text": []
        },
        {
          "output_type": "stream",
          "name": "stdout",
          "text": [
            "Epoch 49/300 | Train Loss: 1.5593, Approx Train Acc: 56.12% | Val Acc: 77.56%\n"
          ]
        },
        {
          "output_type": "stream",
          "name": "stderr",
          "text": []
        },
        {
          "output_type": "stream",
          "name": "stdout",
          "text": [
            "Epoch 50/300 | Train Loss: 1.5485, Approx Train Acc: 57.04% | Val Acc: 79.36%\n"
          ]
        },
        {
          "output_type": "stream",
          "name": "stderr",
          "text": []
        },
        {
          "output_type": "stream",
          "name": "stdout",
          "text": [
            "Epoch 51/300 | Train Loss: 1.5712, Approx Train Acc: 55.50% | Val Acc: 81.38%\n",
            "   [*] Saved new best model: Val Acc = 81.38%\n"
          ]
        },
        {
          "output_type": "stream",
          "name": "stderr",
          "text": []
        },
        {
          "output_type": "stream",
          "name": "stdout",
          "text": [
            "Epoch 52/300 | Train Loss: 1.5496, Approx Train Acc: 56.78% | Val Acc: 80.32%\n"
          ]
        },
        {
          "output_type": "stream",
          "name": "stderr",
          "text": []
        },
        {
          "output_type": "stream",
          "name": "stdout",
          "text": [
            "Epoch 53/300 | Train Loss: 1.5616, Approx Train Acc: 56.01% | Val Acc: 83.76%\n",
            "   [*] Saved new best model: Val Acc = 83.76%\n"
          ]
        },
        {
          "output_type": "stream",
          "name": "stderr",
          "text": []
        },
        {
          "output_type": "stream",
          "name": "stdout",
          "text": [
            "Epoch 54/300 | Train Loss: 1.5847, Approx Train Acc: 55.00% | Val Acc: 77.96%\n"
          ]
        },
        {
          "output_type": "stream",
          "name": "stderr",
          "text": []
        },
        {
          "output_type": "stream",
          "name": "stdout",
          "text": [
            "Epoch 55/300 | Train Loss: 1.5631, Approx Train Acc: 56.37% | Val Acc: 79.46%\n"
          ]
        },
        {
          "output_type": "stream",
          "name": "stderr",
          "text": []
        },
        {
          "output_type": "stream",
          "name": "stdout",
          "text": [
            "Epoch 56/300 | Train Loss: 1.5530, Approx Train Acc: 56.62% | Val Acc: 65.50%\n"
          ]
        },
        {
          "output_type": "stream",
          "name": "stderr",
          "text": []
        },
        {
          "output_type": "stream",
          "name": "stdout",
          "text": [
            "Epoch 57/300 | Train Loss: 1.5656, Approx Train Acc: 56.17% | Val Acc: 81.92%\n"
          ]
        },
        {
          "output_type": "stream",
          "name": "stderr",
          "text": []
        },
        {
          "output_type": "stream",
          "name": "stdout",
          "text": [
            "Epoch 58/300 | Train Loss: 1.5495, Approx Train Acc: 56.79% | Val Acc: 83.62%\n"
          ]
        },
        {
          "output_type": "stream",
          "name": "stderr",
          "text": []
        },
        {
          "output_type": "stream",
          "name": "stdout",
          "text": [
            "Epoch 59/300 | Train Loss: 1.5749, Approx Train Acc: 55.66% | Val Acc: 74.94%\n"
          ]
        },
        {
          "output_type": "stream",
          "name": "stderr",
          "text": []
        },
        {
          "output_type": "stream",
          "name": "stdout",
          "text": [
            "Epoch 60/300 | Train Loss: 1.5592, Approx Train Acc: 56.48% | Val Acc: 79.32%\n"
          ]
        },
        {
          "output_type": "stream",
          "name": "stderr",
          "text": []
        },
        {
          "output_type": "stream",
          "name": "stdout",
          "text": [
            "Epoch 61/300 | Train Loss: 1.5537, Approx Train Acc: 56.48% | Val Acc: 81.10%\n"
          ]
        },
        {
          "output_type": "stream",
          "name": "stderr",
          "text": []
        },
        {
          "output_type": "stream",
          "name": "stdout",
          "text": [
            "Epoch 62/300 | Train Loss: 1.5490, Approx Train Acc: 57.07% | Val Acc: 83.56%\n"
          ]
        },
        {
          "output_type": "stream",
          "name": "stderr",
          "text": []
        },
        {
          "output_type": "stream",
          "name": "stdout",
          "text": [
            "Epoch 63/300 | Train Loss: 1.5530, Approx Train Acc: 56.51% | Val Acc: 79.40%\n"
          ]
        },
        {
          "output_type": "stream",
          "name": "stderr",
          "text": []
        },
        {
          "output_type": "stream",
          "name": "stdout",
          "text": [
            "Epoch 64/300 | Train Loss: 1.5385, Approx Train Acc: 57.48% | Val Acc: 82.08%\n"
          ]
        },
        {
          "output_type": "stream",
          "name": "stderr",
          "text": []
        },
        {
          "output_type": "stream",
          "name": "stdout",
          "text": [
            "Epoch 65/300 | Train Loss: 1.5451, Approx Train Acc: 56.87% | Val Acc: 77.18%\n"
          ]
        },
        {
          "output_type": "stream",
          "name": "stderr",
          "text": []
        },
        {
          "output_type": "stream",
          "name": "stdout",
          "text": [
            "Epoch 66/300 | Train Loss: 1.5533, Approx Train Acc: 56.76% | Val Acc: 79.30%\n"
          ]
        },
        {
          "output_type": "stream",
          "name": "stderr",
          "text": []
        },
        {
          "output_type": "stream",
          "name": "stdout",
          "text": [
            "Epoch 67/300 | Train Loss: 1.5683, Approx Train Acc: 56.08% | Val Acc: 83.30%\n"
          ]
        },
        {
          "output_type": "stream",
          "name": "stderr",
          "text": []
        },
        {
          "output_type": "stream",
          "name": "stdout",
          "text": [
            "Epoch 68/300 | Train Loss: 1.5693, Approx Train Acc: 55.70% | Val Acc: 80.32%\n"
          ]
        },
        {
          "output_type": "stream",
          "name": "stderr",
          "text": []
        },
        {
          "output_type": "stream",
          "name": "stdout",
          "text": [
            "Epoch 69/300 | Train Loss: 1.5688, Approx Train Acc: 56.05% | Val Acc: 76.74%\n"
          ]
        },
        {
          "output_type": "stream",
          "name": "stderr",
          "text": []
        },
        {
          "output_type": "stream",
          "name": "stdout",
          "text": [
            "Epoch 70/300 | Train Loss: 1.5523, Approx Train Acc: 56.71% | Val Acc: 82.10%\n"
          ]
        },
        {
          "output_type": "stream",
          "name": "stderr",
          "text": []
        },
        {
          "output_type": "stream",
          "name": "stdout",
          "text": [
            "Epoch 71/300 | Train Loss: 1.5875, Approx Train Acc: 55.05% | Val Acc: 79.96%\n"
          ]
        },
        {
          "output_type": "stream",
          "name": "stderr",
          "text": []
        },
        {
          "output_type": "stream",
          "name": "stdout",
          "text": [
            "Epoch 72/300 | Train Loss: 1.5380, Approx Train Acc: 57.52% | Val Acc: 82.70%\n"
          ]
        },
        {
          "output_type": "stream",
          "name": "stderr",
          "text": []
        },
        {
          "output_type": "stream",
          "name": "stdout",
          "text": [
            "Epoch 73/300 | Train Loss: 1.5449, Approx Train Acc: 57.05% | Val Acc: 79.22%\n"
          ]
        },
        {
          "output_type": "stream",
          "name": "stderr",
          "text": []
        },
        {
          "output_type": "stream",
          "name": "stdout",
          "text": [
            "Epoch 74/300 | Train Loss: 1.5374, Approx Train Acc: 57.47% | Val Acc: 82.88%\n"
          ]
        },
        {
          "output_type": "stream",
          "name": "stderr",
          "text": []
        },
        {
          "output_type": "stream",
          "name": "stdout",
          "text": [
            "Epoch 75/300 | Train Loss: 1.5623, Approx Train Acc: 56.13% | Val Acc: 77.24%\n"
          ]
        },
        {
          "output_type": "stream",
          "name": "stderr",
          "text": []
        },
        {
          "output_type": "stream",
          "name": "stdout",
          "text": [
            "Epoch 76/300 | Train Loss: 1.5613, Approx Train Acc: 56.34% | Val Acc: 80.30%\n"
          ]
        },
        {
          "output_type": "stream",
          "name": "stderr",
          "text": []
        },
        {
          "output_type": "stream",
          "name": "stdout",
          "text": [
            "Epoch 77/300 | Train Loss: 1.5428, Approx Train Acc: 57.02% | Val Acc: 78.88%\n"
          ]
        },
        {
          "output_type": "stream",
          "name": "stderr",
          "text": []
        },
        {
          "output_type": "stream",
          "name": "stdout",
          "text": [
            "Epoch 78/300 | Train Loss: 1.5686, Approx Train Acc: 55.77% | Val Acc: 83.96%\n",
            "   [*] Saved new best model: Val Acc = 83.96%\n"
          ]
        },
        {
          "output_type": "stream",
          "name": "stderr",
          "text": []
        },
        {
          "output_type": "stream",
          "name": "stdout",
          "text": [
            "Epoch 79/300 | Train Loss: 1.5614, Approx Train Acc: 56.17% | Val Acc: 81.90%\n"
          ]
        },
        {
          "output_type": "stream",
          "name": "stderr",
          "text": []
        },
        {
          "output_type": "stream",
          "name": "stdout",
          "text": [
            "Epoch 80/300 | Train Loss: 1.5294, Approx Train Acc: 57.57% | Val Acc: 81.08%\n"
          ]
        },
        {
          "output_type": "stream",
          "name": "stderr",
          "text": []
        },
        {
          "output_type": "stream",
          "name": "stdout",
          "text": [
            "Epoch 81/300 | Train Loss: 1.5407, Approx Train Acc: 56.89% | Val Acc: 75.04%\n"
          ]
        },
        {
          "output_type": "stream",
          "name": "stderr",
          "text": []
        },
        {
          "output_type": "stream",
          "name": "stdout",
          "text": [
            "Epoch 82/300 | Train Loss: 1.5467, Approx Train Acc: 56.89% | Val Acc: 82.38%\n"
          ]
        },
        {
          "output_type": "stream",
          "name": "stderr",
          "text": []
        },
        {
          "output_type": "stream",
          "name": "stdout",
          "text": [
            "Epoch 83/300 | Train Loss: 1.5467, Approx Train Acc: 57.09% | Val Acc: 83.34%\n"
          ]
        },
        {
          "output_type": "stream",
          "name": "stderr",
          "text": []
        },
        {
          "output_type": "stream",
          "name": "stdout",
          "text": [
            "Epoch 84/300 | Train Loss: 1.5353, Approx Train Acc: 57.56% | Val Acc: 78.68%\n"
          ]
        },
        {
          "output_type": "stream",
          "name": "stderr",
          "text": []
        },
        {
          "output_type": "stream",
          "name": "stdout",
          "text": [
            "Epoch 85/300 | Train Loss: 1.5364, Approx Train Acc: 57.60% | Val Acc: 82.84%\n"
          ]
        },
        {
          "output_type": "stream",
          "name": "stderr",
          "text": []
        },
        {
          "output_type": "stream",
          "name": "stdout",
          "text": [
            "Epoch 86/300 | Train Loss: 1.5513, Approx Train Acc: 56.80% | Val Acc: 83.54%\n"
          ]
        },
        {
          "output_type": "stream",
          "name": "stderr",
          "text": []
        },
        {
          "output_type": "stream",
          "name": "stdout",
          "text": [
            "Epoch 87/300 | Train Loss: 1.5209, Approx Train Acc: 58.03% | Val Acc: 80.74%\n"
          ]
        },
        {
          "output_type": "stream",
          "name": "stderr",
          "text": []
        },
        {
          "output_type": "stream",
          "name": "stdout",
          "text": [
            "Epoch 88/300 | Train Loss: 1.5359, Approx Train Acc: 57.69% | Val Acc: 83.42%\n"
          ]
        },
        {
          "output_type": "stream",
          "name": "stderr",
          "text": []
        },
        {
          "output_type": "stream",
          "name": "stdout",
          "text": [
            "Epoch 89/300 | Train Loss: 1.5527, Approx Train Acc: 56.82% | Val Acc: 81.98%\n"
          ]
        },
        {
          "output_type": "stream",
          "name": "stderr",
          "text": []
        },
        {
          "output_type": "stream",
          "name": "stdout",
          "text": [
            "Epoch 90/300 | Train Loss: 1.5410, Approx Train Acc: 57.07% | Val Acc: 84.14%\n",
            "   [*] Saved new best model: Val Acc = 84.14%\n"
          ]
        },
        {
          "output_type": "stream",
          "name": "stderr",
          "text": []
        },
        {
          "output_type": "stream",
          "name": "stdout",
          "text": [
            "Epoch 91/300 | Train Loss: 1.5532, Approx Train Acc: 56.31% | Val Acc: 80.72%\n"
          ]
        },
        {
          "output_type": "stream",
          "name": "stderr",
          "text": []
        },
        {
          "output_type": "stream",
          "name": "stdout",
          "text": [
            "Epoch 92/300 | Train Loss: 1.5328, Approx Train Acc: 57.48% | Val Acc: 81.62%\n"
          ]
        },
        {
          "output_type": "stream",
          "name": "stderr",
          "text": []
        },
        {
          "output_type": "stream",
          "name": "stdout",
          "text": [
            "Epoch 93/300 | Train Loss: 1.5440, Approx Train Acc: 56.92% | Val Acc: 81.34%\n"
          ]
        },
        {
          "output_type": "stream",
          "name": "stderr",
          "text": []
        },
        {
          "output_type": "stream",
          "name": "stdout",
          "text": [
            "Epoch 94/300 | Train Loss: 1.5419, Approx Train Acc: 57.02% | Val Acc: 81.40%\n"
          ]
        },
        {
          "output_type": "stream",
          "name": "stderr",
          "text": []
        },
        {
          "output_type": "stream",
          "name": "stdout",
          "text": [
            "Epoch 95/300 | Train Loss: 1.5676, Approx Train Acc: 55.87% | Val Acc: 80.98%\n"
          ]
        },
        {
          "output_type": "stream",
          "name": "stderr",
          "text": []
        },
        {
          "output_type": "stream",
          "name": "stdout",
          "text": [
            "Epoch 96/300 | Train Loss: 1.5471, Approx Train Acc: 56.90% | Val Acc: 82.06%\n"
          ]
        },
        {
          "output_type": "stream",
          "name": "stderr",
          "text": []
        },
        {
          "output_type": "stream",
          "name": "stdout",
          "text": [
            "Epoch 97/300 | Train Loss: 1.5324, Approx Train Acc: 57.48% | Val Acc: 81.34%\n"
          ]
        },
        {
          "output_type": "stream",
          "name": "stderr",
          "text": []
        },
        {
          "output_type": "stream",
          "name": "stdout",
          "text": [
            "Epoch 98/300 | Train Loss: 1.5425, Approx Train Acc: 57.11% | Val Acc: 84.56%\n",
            "   [*] Saved new best model: Val Acc = 84.56%\n"
          ]
        },
        {
          "output_type": "stream",
          "name": "stderr",
          "text": []
        },
        {
          "output_type": "stream",
          "name": "stdout",
          "text": [
            "Epoch 99/300 | Train Loss: 1.5156, Approx Train Acc: 58.43% | Val Acc: 84.14%\n"
          ]
        },
        {
          "output_type": "stream",
          "name": "stderr",
          "text": []
        },
        {
          "output_type": "stream",
          "name": "stdout",
          "text": [
            "Epoch 100/300 | Train Loss: 1.5284, Approx Train Acc: 57.72% | Val Acc: 79.90%\n"
          ]
        },
        {
          "output_type": "stream",
          "name": "stderr",
          "text": []
        },
        {
          "output_type": "stream",
          "name": "stdout",
          "text": [
            "Epoch 101/300 | Train Loss: 1.5501, Approx Train Acc: 56.80% | Val Acc: 82.82%\n"
          ]
        },
        {
          "output_type": "stream",
          "name": "stderr",
          "text": []
        },
        {
          "output_type": "stream",
          "name": "stdout",
          "text": [
            "Epoch 102/300 | Train Loss: 1.5254, Approx Train Acc: 57.88% | Val Acc: 83.78%\n"
          ]
        },
        {
          "output_type": "stream",
          "name": "stderr",
          "text": []
        },
        {
          "output_type": "stream",
          "name": "stdout",
          "text": [
            "Epoch 103/300 | Train Loss: 1.5283, Approx Train Acc: 57.40% | Val Acc: 79.66%\n"
          ]
        },
        {
          "output_type": "stream",
          "name": "stderr",
          "text": []
        },
        {
          "output_type": "stream",
          "name": "stdout",
          "text": [
            "Epoch 104/300 | Train Loss: 1.5316, Approx Train Acc: 57.66% | Val Acc: 80.60%\n"
          ]
        },
        {
          "output_type": "stream",
          "name": "stderr",
          "text": []
        },
        {
          "output_type": "stream",
          "name": "stdout",
          "text": [
            "Epoch 105/300 | Train Loss: 1.5559, Approx Train Acc: 56.18% | Val Acc: 81.64%\n"
          ]
        },
        {
          "output_type": "stream",
          "name": "stderr",
          "text": []
        },
        {
          "output_type": "stream",
          "name": "stdout",
          "text": [
            "Epoch 106/300 | Train Loss: 1.5052, Approx Train Acc: 58.81% | Val Acc: 85.00%\n",
            "   [*] Saved new best model: Val Acc = 85.00%\n"
          ]
        },
        {
          "output_type": "stream",
          "name": "stderr",
          "text": []
        },
        {
          "output_type": "stream",
          "name": "stdout",
          "text": [
            "Epoch 107/300 | Train Loss: 1.5160, Approx Train Acc: 58.39% | Val Acc: 79.14%\n"
          ]
        },
        {
          "output_type": "stream",
          "name": "stderr",
          "text": []
        },
        {
          "output_type": "stream",
          "name": "stdout",
          "text": [
            "Epoch 108/300 | Train Loss: 1.5270, Approx Train Acc: 57.63% | Val Acc: 81.58%\n"
          ]
        },
        {
          "output_type": "stream",
          "name": "stderr",
          "text": []
        },
        {
          "output_type": "stream",
          "name": "stdout",
          "text": [
            "Epoch 109/300 | Train Loss: 1.5134, Approx Train Acc: 58.47% | Val Acc: 84.04%\n"
          ]
        },
        {
          "output_type": "stream",
          "name": "stderr",
          "text": []
        },
        {
          "output_type": "stream",
          "name": "stdout",
          "text": [
            "Epoch 110/300 | Train Loss: 1.5271, Approx Train Acc: 57.73% | Val Acc: 81.60%\n"
          ]
        },
        {
          "output_type": "stream",
          "name": "stderr",
          "text": []
        },
        {
          "output_type": "stream",
          "name": "stdout",
          "text": [
            "Epoch 111/300 | Train Loss: 1.5192, Approx Train Acc: 57.98% | Val Acc: 81.72%\n"
          ]
        },
        {
          "output_type": "stream",
          "name": "stderr",
          "text": []
        },
        {
          "output_type": "stream",
          "name": "stdout",
          "text": [
            "Epoch 112/300 | Train Loss: 1.5261, Approx Train Acc: 57.61% | Val Acc: 83.62%\n"
          ]
        },
        {
          "output_type": "stream",
          "name": "stderr",
          "text": []
        },
        {
          "output_type": "stream",
          "name": "stdout",
          "text": [
            "Epoch 113/300 | Train Loss: 1.5252, Approx Train Acc: 58.15% | Val Acc: 84.38%\n"
          ]
        },
        {
          "output_type": "stream",
          "name": "stderr",
          "text": []
        },
        {
          "output_type": "stream",
          "name": "stdout",
          "text": [
            "Epoch 114/300 | Train Loss: 1.5164, Approx Train Acc: 58.12% | Val Acc: 85.18%\n",
            "   [*] Saved new best model: Val Acc = 85.18%\n"
          ]
        },
        {
          "output_type": "stream",
          "name": "stderr",
          "text": []
        },
        {
          "output_type": "stream",
          "name": "stdout",
          "text": [
            "Epoch 115/300 | Train Loss: 1.5289, Approx Train Acc: 57.67% | Val Acc: 85.34%\n",
            "   [*] Saved new best model: Val Acc = 85.34%\n"
          ]
        },
        {
          "output_type": "stream",
          "name": "stderr",
          "text": []
        },
        {
          "output_type": "stream",
          "name": "stdout",
          "text": [
            "Epoch 116/300 | Train Loss: 1.4907, Approx Train Acc: 59.70% | Val Acc: 78.78%\n"
          ]
        },
        {
          "output_type": "stream",
          "name": "stderr",
          "text": []
        },
        {
          "output_type": "stream",
          "name": "stdout",
          "text": [
            "Epoch 117/300 | Train Loss: 1.5326, Approx Train Acc: 57.58% | Val Acc: 82.42%\n"
          ]
        },
        {
          "output_type": "stream",
          "name": "stderr",
          "text": []
        },
        {
          "output_type": "stream",
          "name": "stdout",
          "text": [
            "Epoch 118/300 | Train Loss: 1.5049, Approx Train Acc: 58.77% | Val Acc: 85.44%\n",
            "   [*] Saved new best model: Val Acc = 85.44%\n"
          ]
        },
        {
          "output_type": "stream",
          "name": "stderr",
          "text": []
        },
        {
          "output_type": "stream",
          "name": "stdout",
          "text": [
            "Epoch 119/300 | Train Loss: 1.5381, Approx Train Acc: 57.04% | Val Acc: 85.72%\n",
            "   [*] Saved new best model: Val Acc = 85.72%\n"
          ]
        },
        {
          "output_type": "stream",
          "name": "stderr",
          "text": []
        },
        {
          "output_type": "stream",
          "name": "stdout",
          "text": [
            "Epoch 120/300 | Train Loss: 1.5218, Approx Train Acc: 58.19% | Val Acc: 83.92%\n"
          ]
        },
        {
          "output_type": "stream",
          "name": "stderr",
          "text": []
        },
        {
          "output_type": "stream",
          "name": "stdout",
          "text": [
            "Epoch 121/300 | Train Loss: 1.5229, Approx Train Acc: 57.75% | Val Acc: 82.72%\n"
          ]
        },
        {
          "output_type": "stream",
          "name": "stderr",
          "text": []
        },
        {
          "output_type": "stream",
          "name": "stdout",
          "text": [
            "Epoch 122/300 | Train Loss: 1.5171, Approx Train Acc: 58.20% | Val Acc: 79.70%\n"
          ]
        },
        {
          "output_type": "stream",
          "name": "stderr",
          "text": []
        },
        {
          "output_type": "stream",
          "name": "stdout",
          "text": [
            "Epoch 123/300 | Train Loss: 1.5100, Approx Train Acc: 58.70% | Val Acc: 82.92%\n"
          ]
        },
        {
          "output_type": "stream",
          "name": "stderr",
          "text": []
        },
        {
          "output_type": "stream",
          "name": "stdout",
          "text": [
            "Epoch 124/300 | Train Loss: 1.4838, Approx Train Acc: 59.86% | Val Acc: 81.86%\n"
          ]
        },
        {
          "output_type": "stream",
          "name": "stderr",
          "text": []
        },
        {
          "output_type": "stream",
          "name": "stdout",
          "text": [
            "Epoch 125/300 | Train Loss: 1.5335, Approx Train Acc: 57.38% | Val Acc: 84.00%\n"
          ]
        },
        {
          "output_type": "stream",
          "name": "stderr",
          "text": []
        },
        {
          "output_type": "stream",
          "name": "stdout",
          "text": [
            "Epoch 126/300 | Train Loss: 1.4956, Approx Train Acc: 59.33% | Val Acc: 84.50%\n"
          ]
        },
        {
          "output_type": "stream",
          "name": "stderr",
          "text": []
        },
        {
          "output_type": "stream",
          "name": "stdout",
          "text": [
            "Epoch 127/300 | Train Loss: 1.5043, Approx Train Acc: 58.69% | Val Acc: 84.86%\n"
          ]
        },
        {
          "output_type": "stream",
          "name": "stderr",
          "text": []
        },
        {
          "output_type": "stream",
          "name": "stdout",
          "text": [
            "Epoch 128/300 | Train Loss: 1.5054, Approx Train Acc: 58.73% | Val Acc: 85.80%\n",
            "   [*] Saved new best model: Val Acc = 85.80%\n"
          ]
        },
        {
          "output_type": "stream",
          "name": "stderr",
          "text": []
        },
        {
          "output_type": "stream",
          "name": "stdout",
          "text": [
            "Epoch 129/300 | Train Loss: 1.5124, Approx Train Acc: 58.36% | Val Acc: 80.24%\n"
          ]
        },
        {
          "output_type": "stream",
          "name": "stderr",
          "text": []
        },
        {
          "output_type": "stream",
          "name": "stdout",
          "text": [
            "Epoch 130/300 | Train Loss: 1.5114, Approx Train Acc: 58.51% | Val Acc: 83.00%\n"
          ]
        },
        {
          "output_type": "stream",
          "name": "stderr",
          "text": []
        },
        {
          "output_type": "stream",
          "name": "stdout",
          "text": [
            "Epoch 131/300 | Train Loss: 1.5109, Approx Train Acc: 58.11% | Val Acc: 84.92%\n"
          ]
        },
        {
          "output_type": "stream",
          "name": "stderr",
          "text": []
        },
        {
          "output_type": "stream",
          "name": "stdout",
          "text": [
            "Epoch 132/300 | Train Loss: 1.5070, Approx Train Acc: 58.44% | Val Acc: 86.18%\n",
            "   [*] Saved new best model: Val Acc = 86.18%\n"
          ]
        },
        {
          "output_type": "stream",
          "name": "stderr",
          "text": []
        },
        {
          "output_type": "stream",
          "name": "stdout",
          "text": [
            "Epoch 133/300 | Train Loss: 1.5105, Approx Train Acc: 58.22% | Val Acc: 84.80%\n"
          ]
        },
        {
          "output_type": "stream",
          "name": "stderr",
          "text": []
        },
        {
          "output_type": "stream",
          "name": "stdout",
          "text": [
            "Epoch 134/300 | Train Loss: 1.5104, Approx Train Acc: 58.45% | Val Acc: 84.58%\n"
          ]
        },
        {
          "output_type": "stream",
          "name": "stderr",
          "text": []
        },
        {
          "output_type": "stream",
          "name": "stdout",
          "text": [
            "Epoch 135/300 | Train Loss: 1.4961, Approx Train Acc: 59.16% | Val Acc: 85.94%\n"
          ]
        },
        {
          "output_type": "stream",
          "name": "stderr",
          "text": []
        },
        {
          "output_type": "stream",
          "name": "stdout",
          "text": [
            "Epoch 136/300 | Train Loss: 1.5244, Approx Train Acc: 57.54% | Val Acc: 83.34%\n"
          ]
        },
        {
          "output_type": "stream",
          "name": "stderr",
          "text": []
        },
        {
          "output_type": "stream",
          "name": "stdout",
          "text": [
            "Epoch 137/300 | Train Loss: 1.4918, Approx Train Acc: 59.53% | Val Acc: 80.96%\n"
          ]
        },
        {
          "output_type": "stream",
          "name": "stderr",
          "text": []
        },
        {
          "output_type": "stream",
          "name": "stdout",
          "text": [
            "Epoch 138/300 | Train Loss: 1.4835, Approx Train Acc: 59.58% | Val Acc: 82.14%\n"
          ]
        },
        {
          "output_type": "stream",
          "name": "stderr",
          "text": []
        },
        {
          "output_type": "stream",
          "name": "stdout",
          "text": [
            "Epoch 139/300 | Train Loss: 1.4781, Approx Train Acc: 60.10% | Val Acc: 86.22%\n",
            "   [*] Saved new best model: Val Acc = 86.22%\n"
          ]
        },
        {
          "output_type": "stream",
          "name": "stderr",
          "text": []
        },
        {
          "output_type": "stream",
          "name": "stdout",
          "text": [
            "Epoch 140/300 | Train Loss: 1.5005, Approx Train Acc: 59.30% | Val Acc: 86.12%\n"
          ]
        },
        {
          "output_type": "stream",
          "name": "stderr",
          "text": []
        },
        {
          "output_type": "stream",
          "name": "stdout",
          "text": [
            "Epoch 141/300 | Train Loss: 1.4959, Approx Train Acc: 59.09% | Val Acc: 84.68%\n"
          ]
        },
        {
          "output_type": "stream",
          "name": "stderr",
          "text": []
        },
        {
          "output_type": "stream",
          "name": "stdout",
          "text": [
            "Epoch 142/300 | Train Loss: 1.5100, Approx Train Acc: 58.43% | Val Acc: 85.60%\n"
          ]
        },
        {
          "output_type": "stream",
          "name": "stderr",
          "text": []
        },
        {
          "output_type": "stream",
          "name": "stdout",
          "text": [
            "Epoch 143/300 | Train Loss: 1.4949, Approx Train Acc: 59.01% | Val Acc: 85.58%\n"
          ]
        },
        {
          "output_type": "stream",
          "name": "stderr",
          "text": []
        },
        {
          "output_type": "stream",
          "name": "stdout",
          "text": [
            "Epoch 144/300 | Train Loss: 1.5241, Approx Train Acc: 57.69% | Val Acc: 84.96%\n"
          ]
        },
        {
          "output_type": "stream",
          "name": "stderr",
          "text": []
        },
        {
          "output_type": "stream",
          "name": "stdout",
          "text": [
            "Epoch 145/300 | Train Loss: 1.4840, Approx Train Acc: 59.61% | Val Acc: 86.04%\n"
          ]
        },
        {
          "output_type": "stream",
          "name": "stderr",
          "text": []
        },
        {
          "output_type": "stream",
          "name": "stdout",
          "text": [
            "Epoch 146/300 | Train Loss: 1.5135, Approx Train Acc: 58.13% | Val Acc: 85.92%\n"
          ]
        },
        {
          "output_type": "stream",
          "name": "stderr",
          "text": []
        },
        {
          "output_type": "stream",
          "name": "stdout",
          "text": [
            "Epoch 147/300 | Train Loss: 1.5139, Approx Train Acc: 58.05% | Val Acc: 85.96%\n"
          ]
        },
        {
          "output_type": "stream",
          "name": "stderr",
          "text": []
        },
        {
          "output_type": "stream",
          "name": "stdout",
          "text": [
            "Epoch 148/300 | Train Loss: 1.4892, Approx Train Acc: 59.43% | Val Acc: 86.16%\n"
          ]
        },
        {
          "output_type": "stream",
          "name": "stderr",
          "text": []
        },
        {
          "output_type": "stream",
          "name": "stdout",
          "text": [
            "Epoch 149/300 | Train Loss: 1.5173, Approx Train Acc: 58.10% | Val Acc: 84.14%\n"
          ]
        },
        {
          "output_type": "stream",
          "name": "stderr",
          "text": []
        },
        {
          "output_type": "stream",
          "name": "stdout",
          "text": [
            "Epoch 150/300 | Train Loss: 1.4719, Approx Train Acc: 60.28% | Val Acc: 85.32%\n"
          ]
        },
        {
          "output_type": "stream",
          "name": "stderr",
          "text": []
        },
        {
          "output_type": "stream",
          "name": "stdout",
          "text": [
            "Epoch 151/300 | Train Loss: 1.4673, Approx Train Acc: 60.36% | Val Acc: 80.58%\n"
          ]
        },
        {
          "output_type": "stream",
          "name": "stderr",
          "text": []
        },
        {
          "output_type": "stream",
          "name": "stdout",
          "text": [
            "Epoch 152/300 | Train Loss: 1.4796, Approx Train Acc: 59.77% | Val Acc: 86.74%\n",
            "   [*] Saved new best model: Val Acc = 86.74%\n"
          ]
        },
        {
          "output_type": "stream",
          "name": "stderr",
          "text": []
        },
        {
          "output_type": "stream",
          "name": "stdout",
          "text": [
            "Epoch 153/300 | Train Loss: 1.4595, Approx Train Acc: 60.80% | Val Acc: 87.30%\n",
            "   [*] Saved new best model: Val Acc = 87.30%\n"
          ]
        },
        {
          "output_type": "stream",
          "name": "stderr",
          "text": []
        },
        {
          "output_type": "stream",
          "name": "stdout",
          "text": [
            "Epoch 154/300 | Train Loss: 1.4662, Approx Train Acc: 60.62% | Val Acc: 86.94%\n"
          ]
        },
        {
          "output_type": "stream",
          "name": "stderr",
          "text": []
        },
        {
          "output_type": "stream",
          "name": "stdout",
          "text": [
            "Epoch 155/300 | Train Loss: 1.4893, Approx Train Acc: 59.20% | Val Acc: 85.26%\n"
          ]
        },
        {
          "output_type": "stream",
          "name": "stderr",
          "text": []
        },
        {
          "output_type": "stream",
          "name": "stdout",
          "text": [
            "Epoch 156/300 | Train Loss: 1.4552, Approx Train Acc: 61.03% | Val Acc: 87.70%\n",
            "   [*] Saved new best model: Val Acc = 87.70%\n"
          ]
        },
        {
          "output_type": "stream",
          "name": "stderr",
          "text": []
        },
        {
          "output_type": "stream",
          "name": "stdout",
          "text": [
            "Epoch 157/300 | Train Loss: 1.4823, Approx Train Acc: 59.74% | Val Acc: 87.94%\n",
            "   [*] Saved new best model: Val Acc = 87.94%\n"
          ]
        },
        {
          "output_type": "stream",
          "name": "stderr",
          "text": []
        },
        {
          "output_type": "stream",
          "name": "stdout",
          "text": [
            "Epoch 158/300 | Train Loss: 1.4882, Approx Train Acc: 59.21% | Val Acc: 88.44%\n",
            "   [*] Saved new best model: Val Acc = 88.44%\n"
          ]
        },
        {
          "output_type": "stream",
          "name": "stderr",
          "text": []
        },
        {
          "output_type": "stream",
          "name": "stdout",
          "text": [
            "Epoch 159/300 | Train Loss: 1.4847, Approx Train Acc: 59.42% | Val Acc: 85.30%\n"
          ]
        },
        {
          "output_type": "stream",
          "name": "stderr",
          "text": []
        },
        {
          "output_type": "stream",
          "name": "stdout",
          "text": [
            "Epoch 160/300 | Train Loss: 1.4551, Approx Train Acc: 61.20% | Val Acc: 83.54%\n"
          ]
        },
        {
          "output_type": "stream",
          "name": "stderr",
          "text": []
        },
        {
          "output_type": "stream",
          "name": "stdout",
          "text": [
            "Epoch 161/300 | Train Loss: 1.4704, Approx Train Acc: 60.46% | Val Acc: 86.54%\n"
          ]
        },
        {
          "output_type": "stream",
          "name": "stderr",
          "text": []
        },
        {
          "output_type": "stream",
          "name": "stdout",
          "text": [
            "Epoch 162/300 | Train Loss: 1.4741, Approx Train Acc: 59.80% | Val Acc: 86.90%\n"
          ]
        },
        {
          "output_type": "stream",
          "name": "stderr",
          "text": []
        },
        {
          "output_type": "stream",
          "name": "stdout",
          "text": [
            "Epoch 163/300 | Train Loss: 1.4674, Approx Train Acc: 60.30% | Val Acc: 87.44%\n"
          ]
        },
        {
          "output_type": "stream",
          "name": "stderr",
          "text": []
        },
        {
          "output_type": "stream",
          "name": "stdout",
          "text": [
            "Epoch 164/300 | Train Loss: 1.4845, Approx Train Acc: 59.48% | Val Acc: 82.76%\n"
          ]
        },
        {
          "output_type": "stream",
          "name": "stderr",
          "text": []
        },
        {
          "output_type": "stream",
          "name": "stdout",
          "text": [
            "Epoch 165/300 | Train Loss: 1.4785, Approx Train Acc: 59.74% | Val Acc: 87.12%\n"
          ]
        },
        {
          "output_type": "stream",
          "name": "stderr",
          "text": []
        },
        {
          "output_type": "stream",
          "name": "stdout",
          "text": [
            "Epoch 166/300 | Train Loss: 1.4268, Approx Train Acc: 62.09% | Val Acc: 86.56%\n"
          ]
        },
        {
          "output_type": "stream",
          "name": "stderr",
          "text": []
        },
        {
          "output_type": "stream",
          "name": "stdout",
          "text": [
            "Epoch 167/300 | Train Loss: 1.4602, Approx Train Acc: 61.01% | Val Acc: 82.82%\n"
          ]
        },
        {
          "output_type": "stream",
          "name": "stderr",
          "text": []
        },
        {
          "output_type": "stream",
          "name": "stdout",
          "text": [
            "Epoch 168/300 | Train Loss: 1.4290, Approx Train Acc: 62.21% | Val Acc: 88.08%\n"
          ]
        },
        {
          "output_type": "stream",
          "name": "stderr",
          "text": []
        },
        {
          "output_type": "stream",
          "name": "stdout",
          "text": [
            "Epoch 169/300 | Train Loss: 1.4658, Approx Train Acc: 60.32% | Val Acc: 86.46%\n"
          ]
        },
        {
          "output_type": "stream",
          "name": "stderr",
          "text": []
        },
        {
          "output_type": "stream",
          "name": "stdout",
          "text": [
            "Epoch 170/300 | Train Loss: 1.4789, Approx Train Acc: 59.52% | Val Acc: 87.46%\n"
          ]
        },
        {
          "output_type": "stream",
          "name": "stderr",
          "text": []
        },
        {
          "output_type": "stream",
          "name": "stdout",
          "text": [
            "Epoch 171/300 | Train Loss: 1.4697, Approx Train Acc: 60.45% | Val Acc: 87.82%\n"
          ]
        },
        {
          "output_type": "stream",
          "name": "stderr",
          "text": []
        },
        {
          "output_type": "stream",
          "name": "stdout",
          "text": [
            "Epoch 172/300 | Train Loss: 1.4604, Approx Train Acc: 60.47% | Val Acc: 86.62%\n"
          ]
        },
        {
          "output_type": "stream",
          "name": "stderr",
          "text": []
        },
        {
          "output_type": "stream",
          "name": "stdout",
          "text": [
            "Epoch 173/300 | Train Loss: 1.4855, Approx Train Acc: 59.54% | Val Acc: 88.78%\n",
            "   [*] Saved new best model: Val Acc = 88.78%\n"
          ]
        },
        {
          "output_type": "stream",
          "name": "stderr",
          "text": []
        },
        {
          "output_type": "stream",
          "name": "stdout",
          "text": [
            "Epoch 174/300 | Train Loss: 1.4690, Approx Train Acc: 60.30% | Val Acc: 86.24%\n"
          ]
        },
        {
          "output_type": "stream",
          "name": "stderr",
          "text": []
        },
        {
          "output_type": "stream",
          "name": "stdout",
          "text": [
            "Epoch 175/300 | Train Loss: 1.4530, Approx Train Acc: 60.80% | Val Acc: 88.84%\n",
            "   [*] Saved new best model: Val Acc = 88.84%\n"
          ]
        },
        {
          "output_type": "stream",
          "name": "stderr",
          "text": []
        },
        {
          "output_type": "stream",
          "name": "stdout",
          "text": [
            "Epoch 176/300 | Train Loss: 1.4641, Approx Train Acc: 60.36% | Val Acc: 85.82%\n"
          ]
        },
        {
          "output_type": "stream",
          "name": "stderr",
          "text": []
        },
        {
          "output_type": "stream",
          "name": "stdout",
          "text": [
            "Epoch 177/300 | Train Loss: 1.4565, Approx Train Acc: 60.67% | Val Acc: 87.62%\n"
          ]
        },
        {
          "output_type": "stream",
          "name": "stderr",
          "text": []
        },
        {
          "output_type": "stream",
          "name": "stdout",
          "text": [
            "Epoch 178/300 | Train Loss: 1.4686, Approx Train Acc: 60.14% | Val Acc: 88.86%\n",
            "   [*] Saved new best model: Val Acc = 88.86%\n"
          ]
        },
        {
          "output_type": "stream",
          "name": "stderr",
          "text": []
        },
        {
          "output_type": "stream",
          "name": "stdout",
          "text": [
            "Epoch 179/300 | Train Loss: 1.4684, Approx Train Acc: 60.27% | Val Acc: 87.96%\n"
          ]
        },
        {
          "output_type": "stream",
          "name": "stderr",
          "text": []
        },
        {
          "output_type": "stream",
          "name": "stdout",
          "text": [
            "Epoch 180/300 | Train Loss: 1.3862, Approx Train Acc: 64.31% | Val Acc: 87.40%\n"
          ]
        },
        {
          "output_type": "stream",
          "name": "stderr",
          "text": []
        },
        {
          "output_type": "stream",
          "name": "stdout",
          "text": [
            "Epoch 181/300 | Train Loss: 1.4461, Approx Train Acc: 61.44% | Val Acc: 88.26%\n"
          ]
        },
        {
          "output_type": "stream",
          "name": "stderr",
          "text": []
        },
        {
          "output_type": "stream",
          "name": "stdout",
          "text": [
            "Epoch 182/300 | Train Loss: 1.4261, Approx Train Acc: 62.12% | Val Acc: 85.68%\n"
          ]
        },
        {
          "output_type": "stream",
          "name": "stderr",
          "text": []
        },
        {
          "output_type": "stream",
          "name": "stdout",
          "text": [
            "Epoch 183/300 | Train Loss: 1.4443, Approx Train Acc: 60.99% | Val Acc: 86.56%\n"
          ]
        },
        {
          "output_type": "stream",
          "name": "stderr",
          "text": []
        },
        {
          "output_type": "stream",
          "name": "stdout",
          "text": [
            "Epoch 184/300 | Train Loss: 1.4506, Approx Train Acc: 60.79% | Val Acc: 86.52%\n"
          ]
        },
        {
          "output_type": "stream",
          "name": "stderr",
          "text": []
        },
        {
          "output_type": "stream",
          "name": "stdout",
          "text": [
            "Epoch 185/300 | Train Loss: 1.4308, Approx Train Acc: 62.20% | Val Acc: 89.12%\n",
            "   [*] Saved new best model: Val Acc = 89.12%\n"
          ]
        },
        {
          "output_type": "stream",
          "name": "stderr",
          "text": []
        },
        {
          "output_type": "stream",
          "name": "stdout",
          "text": [
            "Epoch 186/300 | Train Loss: 1.4587, Approx Train Acc: 60.61% | Val Acc: 86.52%\n"
          ]
        },
        {
          "output_type": "stream",
          "name": "stderr",
          "text": []
        },
        {
          "output_type": "stream",
          "name": "stdout",
          "text": [
            "Epoch 187/300 | Train Loss: 1.4494, Approx Train Acc: 60.92% | Val Acc: 87.26%\n"
          ]
        },
        {
          "output_type": "stream",
          "name": "stderr",
          "text": []
        },
        {
          "output_type": "stream",
          "name": "stdout",
          "text": [
            "Epoch 188/300 | Train Loss: 1.4545, Approx Train Acc: 60.58% | Val Acc: 89.88%\n",
            "   [*] Saved new best model: Val Acc = 89.88%\n"
          ]
        },
        {
          "output_type": "stream",
          "name": "stderr",
          "text": []
        },
        {
          "output_type": "stream",
          "name": "stdout",
          "text": [
            "Epoch 189/300 | Train Loss: 1.4456, Approx Train Acc: 61.31% | Val Acc: 87.08%\n"
          ]
        },
        {
          "output_type": "stream",
          "name": "stderr",
          "text": []
        },
        {
          "output_type": "stream",
          "name": "stdout",
          "text": [
            "Epoch 190/300 | Train Loss: 1.4550, Approx Train Acc: 60.92% | Val Acc: 89.30%\n"
          ]
        },
        {
          "output_type": "stream",
          "name": "stderr",
          "text": []
        },
        {
          "output_type": "stream",
          "name": "stdout",
          "text": [
            "Epoch 191/300 | Train Loss: 1.4116, Approx Train Acc: 62.94% | Val Acc: 89.20%\n"
          ]
        },
        {
          "output_type": "stream",
          "name": "stderr",
          "text": []
        },
        {
          "output_type": "stream",
          "name": "stdout",
          "text": [
            "Epoch 192/300 | Train Loss: 1.4526, Approx Train Acc: 60.73% | Val Acc: 89.06%\n"
          ]
        },
        {
          "output_type": "stream",
          "name": "stderr",
          "text": []
        },
        {
          "output_type": "stream",
          "name": "stdout",
          "text": [
            "Epoch 193/300 | Train Loss: 1.4536, Approx Train Acc: 60.59% | Val Acc: 88.34%\n"
          ]
        },
        {
          "output_type": "stream",
          "name": "stderr",
          "text": []
        },
        {
          "output_type": "stream",
          "name": "stdout",
          "text": [
            "Epoch 194/300 | Train Loss: 1.4426, Approx Train Acc: 61.21% | Val Acc: 89.56%\n"
          ]
        },
        {
          "output_type": "stream",
          "name": "stderr",
          "text": []
        },
        {
          "output_type": "stream",
          "name": "stdout",
          "text": [
            "Epoch 195/300 | Train Loss: 1.4422, Approx Train Acc: 61.14% | Val Acc: 87.58%\n"
          ]
        },
        {
          "output_type": "stream",
          "name": "stderr",
          "text": []
        },
        {
          "output_type": "stream",
          "name": "stdout",
          "text": [
            "Epoch 196/300 | Train Loss: 1.4295, Approx Train Acc: 62.19% | Val Acc: 87.06%\n"
          ]
        },
        {
          "output_type": "stream",
          "name": "stderr",
          "text": []
        },
        {
          "output_type": "stream",
          "name": "stdout",
          "text": [
            "Epoch 197/300 | Train Loss: 1.4426, Approx Train Acc: 61.45% | Val Acc: 90.18%\n",
            "   [*] Saved new best model: Val Acc = 90.18%\n"
          ]
        },
        {
          "output_type": "stream",
          "name": "stderr",
          "text": []
        },
        {
          "output_type": "stream",
          "name": "stdout",
          "text": [
            "Epoch 198/300 | Train Loss: 1.4157, Approx Train Acc: 62.81% | Val Acc: 89.90%\n"
          ]
        },
        {
          "output_type": "stream",
          "name": "stderr",
          "text": []
        },
        {
          "output_type": "stream",
          "name": "stdout",
          "text": [
            "Epoch 199/300 | Train Loss: 1.4269, Approx Train Acc: 62.08% | Val Acc: 89.70%\n"
          ]
        },
        {
          "output_type": "stream",
          "name": "stderr",
          "text": []
        },
        {
          "output_type": "stream",
          "name": "stdout",
          "text": [
            "Epoch 200/300 | Train Loss: 1.4592, Approx Train Acc: 60.59% | Val Acc: 90.34%\n",
            "   [*] Saved new best model: Val Acc = 90.34%\n"
          ]
        },
        {
          "output_type": "stream",
          "name": "stderr",
          "text": []
        },
        {
          "output_type": "stream",
          "name": "stdout",
          "text": [
            "Epoch 201/300 | Train Loss: 1.4098, Approx Train Acc: 63.14% | Val Acc: 89.40%\n"
          ]
        },
        {
          "output_type": "stream",
          "name": "stderr",
          "text": []
        },
        {
          "output_type": "stream",
          "name": "stdout",
          "text": [
            "Epoch 202/300 | Train Loss: 1.4130, Approx Train Acc: 62.75% | Val Acc: 88.94%\n"
          ]
        },
        {
          "output_type": "stream",
          "name": "stderr",
          "text": []
        },
        {
          "output_type": "stream",
          "name": "stdout",
          "text": [
            "Epoch 203/300 | Train Loss: 1.4127, Approx Train Acc: 62.52% | Val Acc: 90.46%\n",
            "   [*] Saved new best model: Val Acc = 90.46%\n"
          ]
        },
        {
          "output_type": "stream",
          "name": "stderr",
          "text": []
        },
        {
          "output_type": "stream",
          "name": "stdout",
          "text": [
            "Epoch 204/300 | Train Loss: 1.4202, Approx Train Acc: 62.00% | Val Acc: 89.74%\n"
          ]
        },
        {
          "output_type": "stream",
          "name": "stderr",
          "text": []
        },
        {
          "output_type": "stream",
          "name": "stdout",
          "text": [
            "Epoch 205/300 | Train Loss: 1.4129, Approx Train Acc: 62.50% | Val Acc: 91.06%\n",
            "   [*] Saved new best model: Val Acc = 91.06%\n"
          ]
        },
        {
          "output_type": "stream",
          "name": "stderr",
          "text": []
        },
        {
          "output_type": "stream",
          "name": "stdout",
          "text": [
            "Epoch 206/300 | Train Loss: 1.4372, Approx Train Acc: 61.21% | Val Acc: 89.30%\n"
          ]
        },
        {
          "output_type": "stream",
          "name": "stderr",
          "text": []
        },
        {
          "output_type": "stream",
          "name": "stdout",
          "text": [
            "Epoch 207/300 | Train Loss: 1.4262, Approx Train Acc: 62.04% | Val Acc: 89.54%\n"
          ]
        },
        {
          "output_type": "stream",
          "name": "stderr",
          "text": []
        },
        {
          "output_type": "stream",
          "name": "stdout",
          "text": [
            "Epoch 208/300 | Train Loss: 1.3993, Approx Train Acc: 63.27% | Val Acc: 89.90%\n"
          ]
        },
        {
          "output_type": "stream",
          "name": "stderr",
          "text": []
        },
        {
          "output_type": "stream",
          "name": "stdout",
          "text": [
            "Epoch 209/300 | Train Loss: 1.4230, Approx Train Acc: 62.19% | Val Acc: 89.18%\n"
          ]
        },
        {
          "output_type": "stream",
          "name": "stderr",
          "text": []
        },
        {
          "output_type": "stream",
          "name": "stdout",
          "text": [
            "Epoch 210/300 | Train Loss: 1.4063, Approx Train Acc: 62.92% | Val Acc: 90.70%\n"
          ]
        },
        {
          "output_type": "stream",
          "name": "stderr",
          "text": []
        },
        {
          "output_type": "stream",
          "name": "stdout",
          "text": [
            "Epoch 211/300 | Train Loss: 1.4064, Approx Train Acc: 62.86% | Val Acc: 90.18%\n"
          ]
        },
        {
          "output_type": "stream",
          "name": "stderr",
          "text": []
        },
        {
          "output_type": "stream",
          "name": "stdout",
          "text": [
            "Epoch 212/300 | Train Loss: 1.4491, Approx Train Acc: 60.67% | Val Acc: 89.34%\n"
          ]
        },
        {
          "output_type": "stream",
          "name": "stderr",
          "text": []
        },
        {
          "output_type": "stream",
          "name": "stdout",
          "text": [
            "Epoch 213/300 | Train Loss: 1.3919, Approx Train Acc: 63.50% | Val Acc: 90.92%\n"
          ]
        },
        {
          "output_type": "stream",
          "name": "stderr",
          "text": []
        },
        {
          "output_type": "stream",
          "name": "stdout",
          "text": [
            "Epoch 214/300 | Train Loss: 1.3963, Approx Train Acc: 63.40% | Val Acc: 89.28%\n"
          ]
        },
        {
          "output_type": "stream",
          "name": "stderr",
          "text": []
        },
        {
          "output_type": "stream",
          "name": "stdout",
          "text": [
            "Epoch 215/300 | Train Loss: 1.4281, Approx Train Acc: 61.85% | Val Acc: 90.82%\n"
          ]
        },
        {
          "output_type": "stream",
          "name": "stderr",
          "text": []
        },
        {
          "output_type": "stream",
          "name": "stdout",
          "text": [
            "Epoch 216/300 | Train Loss: 1.4161, Approx Train Acc: 62.42% | Val Acc: 89.82%\n"
          ]
        },
        {
          "output_type": "stream",
          "name": "stderr",
          "text": []
        },
        {
          "output_type": "stream",
          "name": "stdout",
          "text": [
            "Epoch 217/300 | Train Loss: 1.3855, Approx Train Acc: 63.99% | Val Acc: 91.52%\n",
            "   [*] Saved new best model: Val Acc = 91.52%\n"
          ]
        },
        {
          "output_type": "stream",
          "name": "stderr",
          "text": []
        },
        {
          "output_type": "stream",
          "name": "stdout",
          "text": [
            "Epoch 218/300 | Train Loss: 1.3946, Approx Train Acc: 63.15% | Val Acc: 89.32%\n"
          ]
        },
        {
          "output_type": "stream",
          "name": "stderr",
          "text": []
        },
        {
          "output_type": "stream",
          "name": "stdout",
          "text": [
            "Epoch 219/300 | Train Loss: 1.3968, Approx Train Acc: 63.45% | Val Acc: 91.18%\n"
          ]
        },
        {
          "output_type": "stream",
          "name": "stderr",
          "text": []
        },
        {
          "output_type": "stream",
          "name": "stdout",
          "text": [
            "Epoch 220/300 | Train Loss: 1.3999, Approx Train Acc: 63.19% | Val Acc: 91.12%\n"
          ]
        },
        {
          "output_type": "stream",
          "name": "stderr",
          "text": []
        },
        {
          "output_type": "stream",
          "name": "stdout",
          "text": [
            "Epoch 221/300 | Train Loss: 1.3977, Approx Train Acc: 63.02% | Val Acc: 90.06%\n"
          ]
        },
        {
          "output_type": "stream",
          "name": "stderr",
          "text": []
        },
        {
          "output_type": "stream",
          "name": "stdout",
          "text": [
            "Epoch 222/300 | Train Loss: 1.3744, Approx Train Acc: 64.07% | Val Acc: 91.36%\n"
          ]
        },
        {
          "output_type": "stream",
          "name": "stderr",
          "text": []
        },
        {
          "output_type": "stream",
          "name": "stdout",
          "text": [
            "Epoch 223/300 | Train Loss: 1.4032, Approx Train Acc: 62.99% | Val Acc: 90.58%\n"
          ]
        },
        {
          "output_type": "stream",
          "name": "stderr",
          "text": []
        },
        {
          "output_type": "stream",
          "name": "stdout",
          "text": [
            "Epoch 224/300 | Train Loss: 1.3927, Approx Train Acc: 63.21% | Val Acc: 91.66%\n",
            "   [*] Saved new best model: Val Acc = 91.66%\n"
          ]
        },
        {
          "output_type": "stream",
          "name": "stderr",
          "text": []
        },
        {
          "output_type": "stream",
          "name": "stdout",
          "text": [
            "Epoch 225/300 | Train Loss: 1.3823, Approx Train Acc: 63.68% | Val Acc: 90.80%\n"
          ]
        },
        {
          "output_type": "stream",
          "name": "stderr",
          "text": []
        },
        {
          "output_type": "stream",
          "name": "stdout",
          "text": [
            "Epoch 226/300 | Train Loss: 1.3915, Approx Train Acc: 63.87% | Val Acc: 92.64%\n",
            "   [*] Saved new best model: Val Acc = 92.64%\n"
          ]
        },
        {
          "output_type": "stream",
          "name": "stderr",
          "text": []
        },
        {
          "output_type": "stream",
          "name": "stdout",
          "text": [
            "Epoch 227/300 | Train Loss: 1.3783, Approx Train Acc: 64.00% | Val Acc: 90.24%\n"
          ]
        },
        {
          "output_type": "stream",
          "name": "stderr",
          "text": []
        },
        {
          "output_type": "stream",
          "name": "stdout",
          "text": [
            "Epoch 228/300 | Train Loss: 1.3752, Approx Train Acc: 64.24% | Val Acc: 91.50%\n"
          ]
        },
        {
          "output_type": "stream",
          "name": "stderr",
          "text": []
        },
        {
          "output_type": "stream",
          "name": "stdout",
          "text": [
            "Epoch 229/300 | Train Loss: 1.3681, Approx Train Acc: 64.61% | Val Acc: 92.58%\n"
          ]
        },
        {
          "output_type": "stream",
          "name": "stderr",
          "text": []
        },
        {
          "output_type": "stream",
          "name": "stdout",
          "text": [
            "Epoch 230/300 | Train Loss: 1.3683, Approx Train Acc: 64.29% | Val Acc: 91.04%\n"
          ]
        },
        {
          "output_type": "stream",
          "name": "stderr",
          "text": []
        },
        {
          "output_type": "stream",
          "name": "stdout",
          "text": [
            "Epoch 231/300 | Train Loss: 1.3835, Approx Train Acc: 64.01% | Val Acc: 90.38%\n"
          ]
        },
        {
          "output_type": "stream",
          "name": "stderr",
          "text": []
        },
        {
          "output_type": "stream",
          "name": "stdout",
          "text": [
            "Epoch 232/300 | Train Loss: 1.3795, Approx Train Acc: 63.99% | Val Acc: 92.38%\n"
          ]
        },
        {
          "output_type": "stream",
          "name": "stderr",
          "text": []
        },
        {
          "output_type": "stream",
          "name": "stdout",
          "text": [
            "Epoch 233/300 | Train Loss: 1.3652, Approx Train Acc: 64.62% | Val Acc: 92.10%\n"
          ]
        },
        {
          "output_type": "stream",
          "name": "stderr",
          "text": []
        },
        {
          "output_type": "stream",
          "name": "stdout",
          "text": [
            "Epoch 234/300 | Train Loss: 1.3690, Approx Train Acc: 64.50% | Val Acc: 91.66%\n"
          ]
        },
        {
          "output_type": "stream",
          "name": "stderr",
          "text": []
        },
        {
          "output_type": "stream",
          "name": "stdout",
          "text": [
            "Epoch 235/300 | Train Loss: 1.3446, Approx Train Acc: 65.40% | Val Acc: 92.38%\n"
          ]
        },
        {
          "output_type": "stream",
          "name": "stderr",
          "text": []
        },
        {
          "output_type": "stream",
          "name": "stdout",
          "text": [
            "Epoch 236/300 | Train Loss: 1.3868, Approx Train Acc: 63.37% | Val Acc: 91.86%\n"
          ]
        },
        {
          "output_type": "stream",
          "name": "stderr",
          "text": []
        },
        {
          "output_type": "stream",
          "name": "stdout",
          "text": [
            "Epoch 237/300 | Train Loss: 1.3790, Approx Train Acc: 63.90% | Val Acc: 93.14%\n",
            "   [*] Saved new best model: Val Acc = 93.14%\n"
          ]
        },
        {
          "output_type": "stream",
          "name": "stderr",
          "text": []
        },
        {
          "output_type": "stream",
          "name": "stdout",
          "text": [
            "Epoch 238/300 | Train Loss: 1.3417, Approx Train Acc: 65.85% | Val Acc: 91.52%\n"
          ]
        },
        {
          "output_type": "stream",
          "name": "stderr",
          "text": []
        },
        {
          "output_type": "stream",
          "name": "stdout",
          "text": [
            "Epoch 239/300 | Train Loss: 1.3856, Approx Train Acc: 63.52% | Val Acc: 92.36%\n"
          ]
        },
        {
          "output_type": "stream",
          "name": "stderr",
          "text": []
        },
        {
          "output_type": "stream",
          "name": "stdout",
          "text": [
            "Epoch 240/300 | Train Loss: 1.3311, Approx Train Acc: 66.14% | Val Acc: 92.38%\n"
          ]
        },
        {
          "output_type": "stream",
          "name": "stderr",
          "text": []
        },
        {
          "output_type": "stream",
          "name": "stdout",
          "text": [
            "Epoch 241/300 | Train Loss: 1.3558, Approx Train Acc: 65.16% | Val Acc: 92.92%\n"
          ]
        },
        {
          "output_type": "stream",
          "name": "stderr",
          "text": []
        },
        {
          "output_type": "stream",
          "name": "stdout",
          "text": [
            "Epoch 242/300 | Train Loss: 1.3515, Approx Train Acc: 65.43% | Val Acc: 93.36%\n",
            "   [*] Saved new best model: Val Acc = 93.36%\n"
          ]
        },
        {
          "output_type": "stream",
          "name": "stderr",
          "text": []
        },
        {
          "output_type": "stream",
          "name": "stdout",
          "text": [
            "Epoch 243/300 | Train Loss: 1.3377, Approx Train Acc: 66.05% | Val Acc: 92.86%\n"
          ]
        },
        {
          "output_type": "stream",
          "name": "stderr",
          "text": []
        },
        {
          "output_type": "stream",
          "name": "stdout",
          "text": [
            "Epoch 244/300 | Train Loss: 1.3355, Approx Train Acc: 65.98% | Val Acc: 93.06%\n"
          ]
        },
        {
          "output_type": "stream",
          "name": "stderr",
          "text": []
        },
        {
          "output_type": "stream",
          "name": "stdout",
          "text": [
            "Epoch 245/300 | Train Loss: 1.3409, Approx Train Acc: 65.67% | Val Acc: 92.96%\n"
          ]
        },
        {
          "output_type": "stream",
          "name": "stderr",
          "text": []
        },
        {
          "output_type": "stream",
          "name": "stdout",
          "text": [
            "Epoch 246/300 | Train Loss: 1.3270, Approx Train Acc: 66.29% | Val Acc: 92.92%\n"
          ]
        },
        {
          "output_type": "stream",
          "name": "stderr",
          "text": []
        },
        {
          "output_type": "stream",
          "name": "stdout",
          "text": [
            "Epoch 247/300 | Train Loss: 1.3341, Approx Train Acc: 65.83% | Val Acc: 91.96%\n"
          ]
        },
        {
          "output_type": "stream",
          "name": "stderr",
          "text": []
        },
        {
          "output_type": "stream",
          "name": "stdout",
          "text": [
            "Epoch 248/300 | Train Loss: 1.3439, Approx Train Acc: 65.07% | Val Acc: 93.12%\n"
          ]
        },
        {
          "output_type": "stream",
          "name": "stderr",
          "text": []
        },
        {
          "output_type": "stream",
          "name": "stdout",
          "text": [
            "Epoch 249/300 | Train Loss: 1.3274, Approx Train Acc: 66.19% | Val Acc: 93.12%\n"
          ]
        },
        {
          "output_type": "stream",
          "name": "stderr",
          "text": []
        },
        {
          "output_type": "stream",
          "name": "stdout",
          "text": [
            "Epoch 250/300 | Train Loss: 1.3424, Approx Train Acc: 65.09% | Val Acc: 93.14%\n"
          ]
        },
        {
          "output_type": "stream",
          "name": "stderr",
          "text": []
        },
        {
          "output_type": "stream",
          "name": "stdout",
          "text": [
            "Epoch 251/300 | Train Loss: 1.3369, Approx Train Acc: 65.71% | Val Acc: 91.64%\n"
          ]
        },
        {
          "output_type": "stream",
          "name": "stderr",
          "text": []
        },
        {
          "output_type": "stream",
          "name": "stdout",
          "text": [
            "Epoch 252/300 | Train Loss: 1.3065, Approx Train Acc: 67.07% | Val Acc: 92.78%\n"
          ]
        },
        {
          "output_type": "stream",
          "name": "stderr",
          "text": []
        },
        {
          "output_type": "stream",
          "name": "stdout",
          "text": [
            "Epoch 253/300 | Train Loss: 1.3331, Approx Train Acc: 65.63% | Val Acc: 93.46%\n",
            "   [*] Saved new best model: Val Acc = 93.46%\n"
          ]
        },
        {
          "output_type": "stream",
          "name": "stderr",
          "text": []
        },
        {
          "output_type": "stream",
          "name": "stdout",
          "text": [
            "Epoch 254/300 | Train Loss: 1.3339, Approx Train Acc: 65.87% | Val Acc: 93.46%\n"
          ]
        },
        {
          "output_type": "stream",
          "name": "stderr",
          "text": []
        },
        {
          "output_type": "stream",
          "name": "stdout",
          "text": [
            "Epoch 255/300 | Train Loss: 1.3422, Approx Train Acc: 65.26% | Val Acc: 93.48%\n",
            "   [*] Saved new best model: Val Acc = 93.48%\n"
          ]
        },
        {
          "output_type": "stream",
          "name": "stderr",
          "text": []
        },
        {
          "output_type": "stream",
          "name": "stdout",
          "text": [
            "Epoch 256/300 | Train Loss: 1.2906, Approx Train Acc: 67.75% | Val Acc: 93.14%\n"
          ]
        },
        {
          "output_type": "stream",
          "name": "stderr",
          "text": []
        },
        {
          "output_type": "stream",
          "name": "stdout",
          "text": [
            "Epoch 257/300 | Train Loss: 1.3262, Approx Train Acc: 65.96% | Val Acc: 94.06%\n",
            "   [*] Saved new best model: Val Acc = 94.06%\n"
          ]
        },
        {
          "output_type": "stream",
          "name": "stderr",
          "text": []
        },
        {
          "output_type": "stream",
          "name": "stdout",
          "text": [
            "Epoch 258/300 | Train Loss: 1.3131, Approx Train Acc: 66.48% | Val Acc: 93.36%\n"
          ]
        },
        {
          "output_type": "stream",
          "name": "stderr",
          "text": []
        },
        {
          "output_type": "stream",
          "name": "stdout",
          "text": [
            "Epoch 259/300 | Train Loss: 1.3101, Approx Train Acc: 66.62% | Val Acc: 93.86%\n"
          ]
        },
        {
          "output_type": "stream",
          "name": "stderr",
          "text": []
        },
        {
          "output_type": "stream",
          "name": "stdout",
          "text": [
            "Epoch 260/300 | Train Loss: 1.3329, Approx Train Acc: 65.35% | Val Acc: 93.98%\n"
          ]
        },
        {
          "output_type": "stream",
          "name": "stderr",
          "text": []
        },
        {
          "output_type": "stream",
          "name": "stdout",
          "text": [
            "Epoch 261/300 | Train Loss: 1.3219, Approx Train Acc: 65.75% | Val Acc: 93.88%\n"
          ]
        },
        {
          "output_type": "stream",
          "name": "stderr",
          "text": []
        },
        {
          "output_type": "stream",
          "name": "stdout",
          "text": [
            "Epoch 262/300 | Train Loss: 1.3231, Approx Train Acc: 65.84% | Val Acc: 93.82%\n"
          ]
        },
        {
          "output_type": "stream",
          "name": "stderr",
          "text": []
        },
        {
          "output_type": "stream",
          "name": "stdout",
          "text": [
            "Epoch 263/300 | Train Loss: 1.3062, Approx Train Acc: 66.88% | Val Acc: 93.80%\n"
          ]
        },
        {
          "output_type": "stream",
          "name": "stderr",
          "text": []
        },
        {
          "output_type": "stream",
          "name": "stdout",
          "text": [
            "Epoch 264/300 | Train Loss: 1.3288, Approx Train Acc: 65.50% | Val Acc: 93.86%\n"
          ]
        },
        {
          "output_type": "stream",
          "name": "stderr",
          "text": []
        },
        {
          "output_type": "stream",
          "name": "stdout",
          "text": [
            "Epoch 265/300 | Train Loss: 1.3055, Approx Train Acc: 66.89% | Val Acc: 94.32%\n",
            "   [*] Saved new best model: Val Acc = 94.32%\n"
          ]
        },
        {
          "output_type": "stream",
          "name": "stderr",
          "text": []
        },
        {
          "output_type": "stream",
          "name": "stdout",
          "text": [
            "Epoch 266/300 | Train Loss: 1.2904, Approx Train Acc: 67.83% | Val Acc: 93.88%\n"
          ]
        },
        {
          "output_type": "stream",
          "name": "stderr",
          "text": []
        },
        {
          "output_type": "stream",
          "name": "stdout",
          "text": [
            "Epoch 267/300 | Train Loss: 1.2975, Approx Train Acc: 67.21% | Val Acc: 93.88%\n"
          ]
        },
        {
          "output_type": "stream",
          "name": "stderr",
          "text": []
        },
        {
          "output_type": "stream",
          "name": "stdout",
          "text": [
            "Epoch 268/300 | Train Loss: 1.2876, Approx Train Acc: 67.87% | Val Acc: 94.38%\n",
            "   [*] Saved new best model: Val Acc = 94.38%\n"
          ]
        },
        {
          "output_type": "stream",
          "name": "stderr",
          "text": []
        },
        {
          "output_type": "stream",
          "name": "stdout",
          "text": [
            "Epoch 269/300 | Train Loss: 1.3006, Approx Train Acc: 66.79% | Val Acc: 93.98%\n"
          ]
        },
        {
          "output_type": "stream",
          "name": "stderr",
          "text": []
        },
        {
          "output_type": "stream",
          "name": "stdout",
          "text": [
            "Epoch 270/300 | Train Loss: 1.2699, Approx Train Acc: 68.69% | Val Acc: 94.24%\n"
          ]
        },
        {
          "output_type": "stream",
          "name": "stderr",
          "text": []
        },
        {
          "output_type": "stream",
          "name": "stdout",
          "text": [
            "Epoch 271/300 | Train Loss: 1.2761, Approx Train Acc: 68.43% | Val Acc: 94.42%\n",
            "   [*] Saved new best model: Val Acc = 94.42%\n"
          ]
        },
        {
          "output_type": "stream",
          "name": "stderr",
          "text": []
        },
        {
          "output_type": "stream",
          "name": "stdout",
          "text": [
            "Epoch 272/300 | Train Loss: 1.2845, Approx Train Acc: 67.88% | Val Acc: 94.52%\n",
            "   [*] Saved new best model: Val Acc = 94.52%\n"
          ]
        },
        {
          "output_type": "stream",
          "name": "stderr",
          "text": []
        },
        {
          "output_type": "stream",
          "name": "stdout",
          "text": [
            "Epoch 273/300 | Train Loss: 1.3037, Approx Train Acc: 66.86% | Val Acc: 94.96%\n",
            "   [*] Saved new best model: Val Acc = 94.96%\n"
          ]
        },
        {
          "output_type": "stream",
          "name": "stderr",
          "text": []
        },
        {
          "output_type": "stream",
          "name": "stdout",
          "text": [
            "Epoch 274/300 | Train Loss: 1.2812, Approx Train Acc: 68.07% | Val Acc: 94.38%\n"
          ]
        },
        {
          "output_type": "stream",
          "name": "stderr",
          "text": []
        },
        {
          "output_type": "stream",
          "name": "stdout",
          "text": [
            "Epoch 275/300 | Train Loss: 1.2730, Approx Train Acc: 68.27% | Val Acc: 94.52%\n"
          ]
        },
        {
          "output_type": "stream",
          "name": "stderr",
          "text": []
        },
        {
          "output_type": "stream",
          "name": "stdout",
          "text": [
            "Epoch 276/300 | Train Loss: 1.2828, Approx Train Acc: 67.51% | Val Acc: 94.74%\n"
          ]
        },
        {
          "output_type": "stream",
          "name": "stderr",
          "text": []
        },
        {
          "output_type": "stream",
          "name": "stdout",
          "text": [
            "Epoch 277/300 | Train Loss: 1.2706, Approx Train Acc: 68.17% | Val Acc: 94.56%\n"
          ]
        },
        {
          "output_type": "stream",
          "name": "stderr",
          "text": []
        },
        {
          "output_type": "stream",
          "name": "stdout",
          "text": [
            "Epoch 278/300 | Train Loss: 1.2559, Approx Train Acc: 69.01% | Val Acc: 94.60%\n"
          ]
        },
        {
          "output_type": "stream",
          "name": "stderr",
          "text": []
        },
        {
          "output_type": "stream",
          "name": "stdout",
          "text": [
            "Epoch 279/300 | Train Loss: 1.2820, Approx Train Acc: 67.57% | Val Acc: 94.74%\n"
          ]
        },
        {
          "output_type": "stream",
          "name": "stderr",
          "text": []
        },
        {
          "output_type": "stream",
          "name": "stdout",
          "text": [
            "Epoch 280/300 | Train Loss: 1.2743, Approx Train Acc: 68.21% | Val Acc: 94.54%\n"
          ]
        },
        {
          "output_type": "stream",
          "name": "stderr",
          "text": []
        },
        {
          "output_type": "stream",
          "name": "stdout",
          "text": [
            "Epoch 281/300 | Train Loss: 1.2620, Approx Train Acc: 68.48% | Val Acc: 94.84%\n"
          ]
        },
        {
          "output_type": "stream",
          "name": "stderr",
          "text": []
        },
        {
          "output_type": "stream",
          "name": "stdout",
          "text": [
            "Epoch 282/300 | Train Loss: 1.2695, Approx Train Acc: 68.35% | Val Acc: 95.12%\n",
            "   [*] Saved new best model: Val Acc = 95.12%\n"
          ]
        },
        {
          "output_type": "stream",
          "name": "stderr",
          "text": []
        },
        {
          "output_type": "stream",
          "name": "stdout",
          "text": [
            "Epoch 283/300 | Train Loss: 1.2722, Approx Train Acc: 67.75% | Val Acc: 94.90%\n"
          ]
        },
        {
          "output_type": "stream",
          "name": "stderr",
          "text": []
        },
        {
          "output_type": "stream",
          "name": "stdout",
          "text": [
            "Epoch 284/300 | Train Loss: 1.2680, Approx Train Acc: 68.32% | Val Acc: 94.94%\n"
          ]
        },
        {
          "output_type": "stream",
          "name": "stderr",
          "text": []
        },
        {
          "output_type": "stream",
          "name": "stdout",
          "text": [
            "Epoch 285/300 | Train Loss: 1.2495, Approx Train Acc: 69.58% | Val Acc: 95.08%\n"
          ]
        },
        {
          "output_type": "stream",
          "name": "stderr",
          "text": []
        },
        {
          "output_type": "stream",
          "name": "stdout",
          "text": [
            "Epoch 286/300 | Train Loss: 1.2657, Approx Train Acc: 68.17% | Val Acc: 95.00%\n"
          ]
        },
        {
          "output_type": "stream",
          "name": "stderr",
          "text": []
        },
        {
          "output_type": "stream",
          "name": "stdout",
          "text": [
            "Epoch 287/300 | Train Loss: 1.2636, Approx Train Acc: 68.22% | Val Acc: 94.74%\n"
          ]
        },
        {
          "output_type": "stream",
          "name": "stderr",
          "text": []
        },
        {
          "output_type": "stream",
          "name": "stdout",
          "text": [
            "Epoch 288/300 | Train Loss: 1.2456, Approx Train Acc: 69.41% | Val Acc: 94.94%\n"
          ]
        },
        {
          "output_type": "stream",
          "name": "stderr",
          "text": []
        },
        {
          "output_type": "stream",
          "name": "stdout",
          "text": [
            "Epoch 289/300 | Train Loss: 1.2587, Approx Train Acc: 68.69% | Val Acc: 94.86%\n"
          ]
        },
        {
          "output_type": "stream",
          "name": "stderr",
          "text": []
        },
        {
          "output_type": "stream",
          "name": "stdout",
          "text": [
            "Epoch 290/300 | Train Loss: 1.2489, Approx Train Acc: 69.45% | Val Acc: 94.74%\n"
          ]
        },
        {
          "output_type": "stream",
          "name": "stderr",
          "text": []
        },
        {
          "output_type": "stream",
          "name": "stdout",
          "text": [
            "Epoch 291/300 | Train Loss: 1.2571, Approx Train Acc: 68.66% | Val Acc: 94.96%\n"
          ]
        },
        {
          "output_type": "stream",
          "name": "stderr",
          "text": []
        },
        {
          "output_type": "stream",
          "name": "stdout",
          "text": [
            "Epoch 292/300 | Train Loss: 1.2691, Approx Train Acc: 68.04% | Val Acc: 95.04%\n"
          ]
        },
        {
          "output_type": "stream",
          "name": "stderr",
          "text": []
        },
        {
          "output_type": "stream",
          "name": "stdout",
          "text": [
            "Epoch 293/300 | Train Loss: 1.2524, Approx Train Acc: 69.23% | Val Acc: 94.96%\n"
          ]
        },
        {
          "output_type": "stream",
          "name": "stderr",
          "text": []
        },
        {
          "output_type": "stream",
          "name": "stdout",
          "text": [
            "Epoch 294/300 | Train Loss: 1.2649, Approx Train Acc: 68.22% | Val Acc: 94.78%\n"
          ]
        },
        {
          "output_type": "stream",
          "name": "stderr",
          "text": []
        },
        {
          "output_type": "stream",
          "name": "stdout",
          "text": [
            "Epoch 295/300 | Train Loss: 1.2452, Approx Train Acc: 69.22% | Val Acc: 94.88%\n"
          ]
        },
        {
          "output_type": "stream",
          "name": "stderr",
          "text": []
        },
        {
          "output_type": "stream",
          "name": "stdout",
          "text": [
            "Epoch 296/300 | Train Loss: 1.2474, Approx Train Acc: 69.38% | Val Acc: 94.88%\n"
          ]
        },
        {
          "output_type": "stream",
          "name": "stderr",
          "text": []
        },
        {
          "output_type": "stream",
          "name": "stdout",
          "text": [
            "Epoch 297/300 | Train Loss: 1.2466, Approx Train Acc: 69.03% | Val Acc: 94.92%\n"
          ]
        },
        {
          "output_type": "stream",
          "name": "stderr",
          "text": []
        },
        {
          "output_type": "stream",
          "name": "stdout",
          "text": [
            "Epoch 298/300 | Train Loss: 1.2715, Approx Train Acc: 67.95% | Val Acc: 94.70%\n"
          ]
        },
        {
          "output_type": "stream",
          "name": "stderr",
          "text": []
        },
        {
          "output_type": "stream",
          "name": "stdout",
          "text": [
            "Epoch 299/300 | Train Loss: 1.2799, Approx Train Acc: 67.47% | Val Acc: 94.88%\n"
          ]
        },
        {
          "output_type": "stream",
          "name": "stderr",
          "text": []
        },
        {
          "output_type": "stream",
          "name": "stdout",
          "text": [
            "Epoch 300/300 | Train Loss: 1.2737, Approx Train Acc: 67.95% | Val Acc: 94.98%\n",
            "Training complete. Best validation accuracy: 95.12%\n",
            "Best model saved as best_model.pth\n"
          ]
        }
      ]
    },
    {
      "cell_type": "code",
      "source": [
        "# inference.py\n",
        "import torch\n",
        "import torchvision.transforms as transforms\n",
        "import pandas as pd\n",
        "import pickle\n",
        "import numpy as np\n",
        "from torch.utils.data import DataLoader, Dataset\n",
        "#from model import LightResNet18\n",
        "import torch.nn.functional as F\n",
        "\n",
        "def unpickle(file):\n",
        "    with open(file, 'rb') as fo:\n",
        "        data_dict = pickle.load(fo, encoding='bytes')\n",
        "    return data_dict\n",
        "\n",
        "class CIFARTestDataset(Dataset):\n",
        "    def __init__(self, data, ids, transform=None):\n",
        "        \"\"\"\n",
        "        data: shape (N, 32, 32, 3)\n",
        "        ids: array/list of image IDs\n",
        "        transform: transforms to apply\n",
        "        \"\"\"\n",
        "        self.data = data\n",
        "        self.ids = ids\n",
        "        self.transform = transform\n",
        "\n",
        "    def __len__(self):\n",
        "        return len(self.data)\n",
        "\n",
        "    def __getitem__(self, idx):\n",
        "        img = self.data[idx].astype(\"uint8\")  # ensure 0..255\n",
        "        img_id = self.ids[idx]\n",
        "        if self.transform:\n",
        "            img = self.transform(img)\n",
        "        return img, img_id\n",
        "\n",
        "def inference():\n",
        "    device = 'cuda' if torch.cuda.is_available() else 'cpu'\n",
        "    print(f\"Using device: {device}\")\n",
        "\n",
        "    # 1) Load the best model\n",
        "    model = LightResNet18(num_classes=10, drop_prob=0.1).to(device)\n",
        "    model.load_state_dict(torch.load(\"best_model.pth\", map_location=device))\n",
        "    model.eval()\n",
        "\n",
        "    # 2) Load custom test set .pkl\n",
        "    test_file = \"/content/cifar_test_nolabel.pkl\"\n",
        "    test_dict = unpickle(test_file)\n",
        "    print(\"Keys in test_dict:\", test_dict.keys())\n",
        "\n",
        "    # Reshape if it's (N, 3072). If it's already (N, 32,32,3), remove reshape\n",
        "    test_images = test_dict[b'data'].reshape(-1, 32, 32, 3)\n",
        "    test_ids = [str(i) for i in range(len(test_images))]\n",
        "\n",
        "    # 3) Define test transforms\n",
        "    transform_test = transforms.Compose([\n",
        "        transforms.ToPILImage(),\n",
        "        transforms.ToTensor(),\n",
        "        transforms.Normalize((0.4914, 0.4822, 0.4465),\n",
        "                             (0.2470, 0.2435, 0.2616))\n",
        "    ])\n",
        "\n",
        "    test_dataset = CIFARTestDataset(test_images, test_ids, transform=transform_test)\n",
        "    test_loader = DataLoader(test_dataset, batch_size=128, shuffle=False, num_workers=4)\n",
        "\n",
        "    # 4) Inference with 2-pass TTA\n",
        "    predictions = []\n",
        "    image_ids = []\n",
        "    with torch.no_grad():\n",
        "        for imgs, ids in test_loader:\n",
        "            imgs = imgs.to(device)\n",
        "\n",
        "            # Pass 1: Normal\n",
        "            out_normal = model(imgs)\n",
        "            probs_normal = F.softmax(out_normal, dim=1)\n",
        "\n",
        "            # Pass 2: Horizontal flip\n",
        "            imgs_flipped = torch.flip(imgs, dims=[3])  # flip W dimension\n",
        "            out_flipped = model(imgs_flipped)\n",
        "            probs_flipped = F.softmax(out_flipped, dim=1)\n",
        "\n",
        "            # Average probabilities\n",
        "            final_probs = (probs_normal + probs_flipped) / 2.0\n",
        "            _, predicted = torch.max(final_probs, 1)\n",
        "\n",
        "            predictions.extend(predicted.cpu().numpy().tolist())\n",
        "            image_ids.extend(ids)\n",
        "\n",
        "    # 5) Save submission\n",
        "    submission_df = pd.DataFrame({\"ID\": image_ids, \"Labels\": predictions})\n",
        "    submission_df.to_csv(\"submission.csv\", index=False)\n",
        "    print(\"Submission file saved as submission.csv\")\n",
        "\n",
        "if __name__ == \"__main__\":\n",
        "    inference()\n"
      ],
      "metadata": {
        "colab": {
          "base_uri": "https://localhost:8080/"
        },
        "id": "jQ7SyXrHlT9f",
        "outputId": "eb137a0a-4879-4486-df57-7fac12e26856"
      },
      "execution_count": null,
      "outputs": [
        {
          "output_type": "stream",
          "name": "stdout",
          "text": [
            "Using device: cuda\n",
            "Keys in test_dict: dict_keys([b'data', b'ids'])\n"
          ]
        },
        {
          "output_type": "stream",
          "name": "stderr",
          "text": [
            "<ipython-input-5-6365ab4560f6>:43: FutureWarning: You are using `torch.load` with `weights_only=False` (the current default value), which uses the default pickle module implicitly. It is possible to construct malicious pickle data which will execute arbitrary code during unpickling (See https://github.com/pytorch/pytorch/blob/main/SECURITY.md#untrusted-models for more details). In a future release, the default value for `weights_only` will be flipped to `True`. This limits the functions that could be executed during unpickling. Arbitrary objects will no longer be allowed to be loaded via this mode unless they are explicitly allowlisted by the user via `torch.serialization.add_safe_globals`. We recommend you start setting `weights_only=True` for any use case where you don't have full control of the loaded file. Please open an issue on GitHub for any issues related to this experimental feature.\n",
            "  model.load_state_dict(torch.load(\"best_model.pth\", map_location=device))\n"
          ]
        },
        {
          "output_type": "stream",
          "name": "stdout",
          "text": [
            "Submission file saved as submission.csv\n"
          ]
        }
      ]
    },
    {
      "cell_type": "code",
      "source": [
        "import pandas as pd\n",
        "\n",
        "# Load and inspect submission file\n",
        "submission_df = pd.read_csv(\"submission.csv\")\n",
        "print(submission_df.head())  # Show first few rows\n",
        "print(submission_df[\"Labels\"].value_counts())  # Show label distribution\n"
      ],
      "metadata": {
        "colab": {
          "base_uri": "https://localhost:8080/"
        },
        "id": "p9KKCKOR1g1Z",
        "outputId": "15b75c61-0a4a-498d-b7a9-6792a0bc7e69"
      },
      "execution_count": null,
      "outputs": [
        {
          "output_type": "stream",
          "name": "stdout",
          "text": [
            "   ID  Labels\n",
            "0   0       6\n",
            "1   1       1\n",
            "2   2       8\n",
            "3   3       6\n",
            "4   4       9\n",
            "Labels\n",
            "3    1127\n",
            "5    1119\n",
            "1    1040\n",
            "8    1021\n",
            "9    1018\n",
            "7     969\n",
            "2     958\n",
            "4     940\n",
            "0     912\n",
            "6     896\n",
            "Name: count, dtype: int64\n"
          ]
        }
      ]
    }
  ]
}